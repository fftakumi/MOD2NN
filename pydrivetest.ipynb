{
 "cells": [
  {
   "cell_type": "code",
   "execution_count": 1,
   "metadata": {
    "collapsed": true
   },
   "outputs": [],
   "source": [
    "from pydrive.auth import GoogleAuth\n",
    "from pydrive.drive import GoogleDrive\n",
    "from oauth2client.service_account import ServiceAccountCredentials\n",
    "\n",
    "JSON_FILE = \"key/pydrive-345703-2e32d00f040d.json\"\n",
    "ID = \"1-HRx3AH-mHSVarcX28_hMQzu9bDFGEuo\"\n",
    "\n",
    "gauth = GoogleAuth()\n",
    "scope = [\"https://www.googleapis.com/auth/drive\"]\n",
    "gauth.credentials = ServiceAccountCredentials.from_json_keyfile_name(JSON_FILE, scope)\n",
    "drive = GoogleDrive(gauth)\n",
    "\n",
    "file = drive.CreateFile({\"title\": \"test.txt\", \"parents\": [{\"id\": ID}]})\n",
    "file.SetContentString(\"テスト\")\n",
    "file.Upload()"
   ]
  }
 ],
 "metadata": {
  "kernelspec": {
   "display_name": "Python 3",
   "language": "python",
   "name": "python3"
  },
  "language_info": {
   "codemirror_mode": {
    "name": "ipython",
    "version": 2
   },
   "file_extension": ".py",
   "mimetype": "text/x-python",
   "name": "python",
   "nbconvert_exporter": "python",
   "pygments_lexer": "ipython2",
   "version": "2.7.6"
  }
 },
 "nbformat": 4,
 "nbformat_minor": 0
}