{
 "cells": [
  {
   "cell_type": "code",
   "execution_count": 1,
   "outputs": [],
   "source": [
    "import numpy as np\n",
    "from matplotlib import pyplot as plt\n",
    "import ipywidgets as widgets\n",
    "import tensorflow as tf\n",
    "import cv2\n"
   ],
   "metadata": {
    "collapsed": false,
    "pycharm": {
     "name": "#%%\n"
    }
   }
  },
  {
   "cell_type": "code",
   "execution_count": 8,
   "outputs": [],
   "source": [
    "class MyDenseLayer(tf.keras.layers.Layer):\n",
    "  def __init__(self, num_outputs):\n",
    "    super(MyDenseLayer, self).__init__()\n",
    "    self.num_outputs = num_outputs\n",
    "\n",
    "  def build(self, input_shape):\n",
    "    self.kernel = self.add_variable(\"kernel\",\n",
    "                                    shape=[int(input_shape[-1]),\n",
    "                                           self.num_outputs])\n",
    "\n",
    "  def call(self, input):\n",
    "    return tf.matmul(input, self.kernel)"
   ],
   "metadata": {
    "collapsed": false,
    "pycharm": {
     "name": "#%%\n"
    }
   }
  },
  {
   "cell_type": "code",
   "execution_count": 9,
   "outputs": [
    {
     "name": "stdout",
     "output_type": "stream",
     "text": [
      "WARNING:tensorflow:From <ipython-input-8-295bdff2556b>:9: Layer.add_variable (from tensorflow.python.keras.engine.base_layer) is deprecated and will be removed in a future version.\n",
      "Instructions for updating:\n",
      "Please use `layer.add_weight` method instead.\n",
      "tf.Tensor(\n",
      "[[0. 0. 0. 0. 0. 0. 0. 0. 0. 0.]\n",
      " [0. 0. 0. 0. 0. 0. 0. 0. 0. 0.]\n",
      " [0. 0. 0. 0. 0. 0. 0. 0. 0. 0.]\n",
      " [0. 0. 0. 0. 0. 0. 0. 0. 0. 0.]\n",
      " [0. 0. 0. 0. 0. 0. 0. 0. 0. 0.]\n",
      " [0. 0. 0. 0. 0. 0. 0. 0. 0. 0.]\n",
      " [0. 0. 0. 0. 0. 0. 0. 0. 0. 0.]\n",
      " [0. 0. 0. 0. 0. 0. 0. 0. 0. 0.]\n",
      " [0. 0. 0. 0. 0. 0. 0. 0. 0. 0.]\n",
      " [0. 0. 0. 0. 0. 0. 0. 0. 0. 0.]], shape=(10, 10), dtype=float32)\n",
      "[<tf.Variable 'my_dense_layer/kernel:0' shape=(5, 10) dtype=float32, numpy=\n",
      "array([[ 0.27940702, -0.0935185 , -0.40345687,  0.0896666 , -0.09473616,\n",
      "        -0.56032944, -0.4388228 , -0.17537156, -0.53281903, -0.11914891],\n",
      "       [ 0.15512401,  0.31326157,  0.3228491 ,  0.5446457 , -0.04062986,\n",
      "        -0.10492331, -0.10741496,  0.622472  , -0.3152505 ,  0.11353219],\n",
      "       [ 0.03874904, -0.6035432 ,  0.561742  , -0.3990659 , -0.03816158,\n",
      "        -0.50459146, -0.21395653,  0.41864496, -0.4892007 ,  0.03045398],\n",
      "       [ 0.29590046, -0.24804816,  0.27794963,  0.1411246 ,  0.09244233,\n",
      "        -0.2732494 ,  0.08531499, -0.01193404, -0.5631073 ,  0.08975303],\n",
      "       [ 0.2288028 , -0.08561552, -0.03564686, -0.14607126, -0.47853705,\n",
      "        -0.42338473,  0.19061708, -0.22474429, -0.12798893,  0.14881378]],\n",
      "      dtype=float32)>]\n"
     ]
    }
   ],
   "source": [
    "layer = MyDenseLayer(10)\n",
    "print(layer(tf.zeros([10, 5])))\n",
    "print(layer.trainable_variables)"
   ],
   "metadata": {
    "collapsed": false,
    "pycharm": {
     "name": "#%%\n"
    }
   }
  },
  {
   "cell_type": "code",
   "execution_count": 10,
   "outputs": [],
   "source": [
    "class FreeSpacePropagation(tf.keras.layers.Layer):\n",
    "    def __init__(self, output_dim, pitch_size, z, k):\n",
    "        super(FreeSpacePropagation, self).__init__()\n",
    "        self.output_dim = output_dim\n",
    "        self.pitch_size = pitch_size\n",
    "        self.z = z\n",
    "        self.k = k\n",
    "\n",
    "    def build(self, input_shape):\n",
    "        x1 = np.arange(0, self.input_shape[1], 1)\n",
    "        y1 = np.arange(0, self.input_shape[0], 1)\n",
    "        xx1, yy1 = np.meshgrid(x1, y1)\n",
    "        xx1 = xx1.reshape(1, -1)\n",
    "        yy1 = yy1.reshape(1, -1)\n",
    "\n",
    "        x2 = np.arange(0, self.output_shape[1] * 2, 0.5)\n",
    "        y2 = np.arange(0, self.output_shape[0] * 2, 0.5)\n",
    "        xx2, yy2 = np.meshgrid(x2, y2)\n",
    "        xx2 = xx2.reshape(-1, 1)\n",
    "        yy2 = yy2.reshape(-1, 1)\n",
    "\n",
    "        dx = self.pitch_size*(xx1 - xx2)\n",
    "        dy = self.pitch_size*(yy1 - yy2)\n",
    "        r = np.sqrt(dx**2 + dy**2 + self.z**2)\n",
    "        w = 1/(2*np.pi) * self.z / r * (1/r - 1j*self.k) * np.exp(1j * self.k * r)\n",
    "        self.propagation_matrix = tf.Variable(initial_value=w,\n",
    "                                              trainable=False)\n",
    "\n",
    "    def call(self, inputs, **kwargs):\n",
    "        _input = tf.reshape(inputs, (-1,1))\n",
    "        _out = tf.matmul(inputs, self.kernel)\n",
    "        return tf.reshape(_out, self.output_shape)"
   ],
   "metadata": {
    "collapsed": false,
    "pycharm": {
     "name": "#%%\n"
    }
   }
  }
 ],
 "metadata": {
  "kernelspec": {
   "display_name": "Python 3",
   "language": "python",
   "name": "python3"
  },
  "language_info": {
   "codemirror_mode": {
    "name": "ipython",
    "version": 2
   },
   "file_extension": ".py",
   "mimetype": "text/x-python",
   "name": "python",
   "nbconvert_exporter": "python",
   "pygments_lexer": "ipython2",
   "version": "2.7.6"
  }
 },
 "nbformat": 4,
 "nbformat_minor": 0
}