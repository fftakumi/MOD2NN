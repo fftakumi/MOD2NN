{
 "cells": [
  {
   "cell_type": "markdown",
   "source": [
    "# signswishで2値トレーニング"
   ],
   "metadata": {
    "collapsed": false
   }
  },
  {
   "cell_type": "code",
   "execution_count": 10,
   "metadata": {
    "collapsed": true
   },
   "outputs": [
    {
     "name": "stdout",
     "output_type": "stream",
     "text": [
      "Cloning into 'MOD2NN'...\r\n",
      "warning: redirecting to https://github.com/konnitiha3/MOD2NN.git/\r\n",
      "remote: Enumerating objects: 1480, done.\u001B[K\r\n",
      "remote: Counting objects: 100% (245/245), done.\u001B[K\r\n",
      "remote: Compressing objects: 100% (142/142), done.\u001B[K\r\n",
      "remote: Total 1480 (delta 134), reused 170 (delta 83), pack-reused 1235\u001B[K\r\n",
      "Receiving objects: 100% (1480/1480), 42.07 MiB | 19.93 MiB/s, done.\r\n",
      "Resolving deltas: 100% (839/839), done.\r\n"
     ]
    }
   ],
   "source": [
    "# paperspace gradient用\n",
    "! rm -rf MOD2NN\n",
    "! git clone https://$$TOKEN@github.com/konnitiha3/MOD2NN.git\n",
    "\n",
    "import sys\n",
    "sys.path.append('/notebooks/MOD2NN')"
   ]
  },
  {
   "cell_type": "code",
   "execution_count": 11,
   "outputs": [
    {
     "name": "stdout",
     "output_type": "stream",
     "text": [
      "TensorFlow: 2.9.1\n",
      "Python: 3.9.13 (main, May 23 2022, 22:01:06) \n",
      "[GCC 9.4.0]\n"
     ]
    }
   ],
   "source": [
    "import time\n",
    "import os\n",
    "import json\n",
    "import sys\n",
    "import re\n",
    "import glob\n",
    "import tensorflow as tf\n",
    "from tensorflow import keras\n",
    "import numpy as np\n",
    "import matplotlib.pyplot as plt\n",
    "import pandas as pd\n",
    "\n",
    "from Faraday.two_dim.module.lib.layers import *\n",
    "from Faraday.two_dim.module.lib import regularizer\n",
    "\n",
    "tf.random.set_seed(1)\n",
    "\n",
    "print(\"TensorFlow:\", tf.__version__)\n",
    "print(\"Python:\", sys.version)\n",
    "\n",
    "plt.rcParams['font.size'] = 18"
   ],
   "metadata": {
    "collapsed": false
   }
  },
  {
   "cell_type": "code",
   "execution_count": 13,
   "outputs": [
    {
     "name": "stdout",
     "output_type": "stream",
     "text": [
      "Downloading data from https://storage.googleapis.com/tensorflow/tf-keras-datasets/mnist.npz\n",
      "11490434/11490434 [==============================] - 0s 0us/step\n"
     ]
    }
   ],
   "source": [
    "mnist = tf.keras.datasets.mnist\n",
    "\n",
    "(x_train, y_train), (x_test, y_test) = mnist.load_data()\n",
    "x_train = x_train.astype(\"float32\") / 255.0\n",
    "x_test = x_test.astype(\"float32\") / 255.0\n",
    "\n",
    "y_train = y_train.astype(\"float32\")\n",
    "y_test = y_test.astype(\"float32\")\n",
    "\n",
    "# Reserve 10,000 samples for validation\n",
    "x_val = x_train[-5000:]\n",
    "y_val = y_train[-5000:]\n",
    "x_train = x_train[:-5000]\n",
    "y_train = y_train[:-5000]"
   ],
   "metadata": {
    "collapsed": false
   }
  },
  {
   "cell_type": "code",
   "execution_count": null,
   "outputs": [],
   "source": [
    "#@title デフォルトのタイトル テキスト\n",
    "wavelength = 633.0e-9 #@param {type:\"number\"}\n",
    "d = 1.0e-6 #@param {type:\"number\"}\n",
    "n = 1.5 #@param {type:\"number\"}\n",
    "z = 0.7e-3 #@param {type:\"number\"}"
   ],
   "metadata": {
    "collapsed": false
   }
  },
  {
   "cell_type": "code",
   "execution_count": 15,
   "outputs": [],
   "source": [
    "def create_model(**kwargs):\n",
    "    shape = (100, 100)\n",
    "    theta = kwargs[\"theta\"]\n",
    "    eta = 0.\n",
    "    tf.random.set_seed(kwargs[\"seed\"])\n",
    "    inputs = tf.keras.Input((28, 28))\n",
    "    x = ImageResizing(shape)(inputs)\n",
    "    x = IntensityToElectricField(shape)(x)\n",
    "    x = (shape, limitation='sin', theta=theta, eta=eta)(x)\n",
    "    x = AngularSpectrum(shape, wavelength=wavelength, z=z, d=d, n=n, method='expand', normalization=\"max\")(x)\n",
    "    x = MO(shape, limitation='sin', theta=theta, eta=eta)(x)\n",
    "    x = AngularSpectrum(shape, wavelength=wavelength, z=z, d=d, n=n, method='expand', normalization=\"max\")(x)\n",
    "    x = MO(shape, limitation='sin', theta=theta, eta=eta)(x)\n",
    "    x = AngularSpectrum(shape, wavelength=wavelength, z=z, d=d, n=n, method='expand', normalization=\"max\")(x)\n",
    "    x = MO(shape, limitation='sin', theta=theta, eta=eta)(x)\n",
    "    x = AngularSpectrum(shape, wavelength=wavelength, z=z, d=d, n=n, method='expand', normalization=\"max\")(x)\n",
    "    x = MO(shape, limitation='sin', theta=theta, eta=eta)(x)\n",
    "    x = AngularSpectrum(shape, wavelength=wavelength, z=z, d=d, n=n, method='expand', normalization=\"max\")(x)\n",
    "    x = FaradayRotationByStokes(shape)(x)\n",
    "    x = MNISTDetector(shape)(x)\n",
    "    x = tf.keras.layers.Softmax()(x)\n",
    "    model = tf.keras.Model(inputs, x)\n",
    "    return model"
   ],
   "metadata": {
    "collapsed": false
   }
  },
  {
   "cell_type": "code",
   "execution_count": null,
   "outputs": [],
   "source": [],
   "metadata": {
    "collapsed": false
   }
  },
  {
   "cell_type": "code",
   "execution_count": null,
   "outputs": [],
   "source": [
    "def train(seed, theta, num):\n",
    "    model_name = \"20221013_\" + str(num)\n",
    "    cholab_path = \"/content/drive/MyDrive/D2NN/\"\n",
    "    checkpoint_path = cholab_path + \"checkpoint/\" + model_name + \"/cp-{epoch:04d}.ckpt\"\n",
    "    checkpoint_dir = os.path.dirname(checkpoint_path)\n",
    "    path = cholab_path + \"trained_model/\"+ model_name\n",
    "\n",
    "    model = create_model(seed=seed, theta=theta)\n",
    "    model.summary()\n",
    "    model.compile(optimizer=tf.keras.optimizers.Adam(),\n",
    "                  loss=tf.keras.losses.sparse_categorical_crossentropy,  # category: sparse_categorical_crossentropy\n",
    "                  metrics=[\"accuracy\"]\n",
    "                  )\n",
    "\n",
    "    epochs = 50\n",
    "    early_stopping = tf.keras.callbacks.EarlyStopping(\n",
    "            monitor='loss',\n",
    "            min_delta=0.0002,\n",
    "            patience=2,\n",
    "        )\n",
    "\n",
    "    def lr_schedule(epoch):\n",
    "      \"\"\"\n",
    "      Returns a custom learning rate that decreases as epochs progress.\n",
    "      \"\"\"\n",
    "      start = 0.2\n",
    "      end = 0.0001\n",
    "      n = 50\n",
    "      a = -1/(n-1) * np.log(end/start)\n",
    "      return np.exp(-a*(epoch)) * start\n",
    "    lr_callback = tf.keras.callbacks.LearningRateScheduler(lr_schedule)\n",
    "\n",
    "    # チェックポイントコールバックを作る\n",
    "    cp_callback = tf.keras.callbacks.ModelCheckpoint(checkpoint_path,\n",
    "                                                     save_weights_only=True,\n",
    "                                                     verbose=1)\n",
    "\n",
    "    logdir = os.path.join(cholab_path +\"logs\", model_name)\n",
    "    tensorboard_callback = tf.keras.callbacks.TensorBoard(logdir, histogram_freq=1)\n",
    "\n",
    "    result = model.fit(x_train,\n",
    "                       y_train,\n",
    "                       batch_size=64,\n",
    "                       epochs=epochs,\n",
    "                       validation_data=(x_val, y_val),\n",
    "                       callbacks=[lr_callback, cp_callback, tensorboard_callback]\n",
    "                       )\n",
    "\n",
    "    model.save(path)\n",
    "\n",
    "    df = pd.DataFrame(result.history)\n",
    "    df.to_csv(path + \"/history.csv\")\n",
    "\n",
    "\n",
    "\n",
    "    with open(path + \"/config.json\", 'w') as f:\n",
    "        json.dump(model.get_config(), f, indent=4)"
   ],
   "metadata": {
    "collapsed": false
   }
  }
 ],
 "metadata": {
  "kernelspec": {
   "display_name": "Python 3",
   "language": "python",
   "name": "python3"
  },
  "language_info": {
   "codemirror_mode": {
    "name": "ipython",
    "version": 2
   },
   "file_extension": ".py",
   "mimetype": "text/x-python",
   "name": "python",
   "nbconvert_exporter": "python",
   "pygments_lexer": "ipython2",
   "version": "2.7.6"
  }
 },
 "nbformat": 4,
 "nbformat_minor": 0
}
