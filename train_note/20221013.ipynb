{
 "cells": [
  {
   "cell_type": "markdown",
   "source": [
    "# 学習率を指数減衰させて学習"
   ],
   "metadata": {
    "collapsed": false,
    "id": "PeAHIe_8pala"
   }
  },
  {
   "cell_type": "code",
   "execution_count": 1,
   "outputs": [
    {
     "output_type": "stream",
     "name": "stdout",
     "text": [
      "env: TOKEN=*************************************\n",
      "fatal: destination path 'MOD2NN' already exists and is not an empty directory.\n",
      "Drive already mounted at /content/drive; to attempt to forcibly remount, call drive.mount(\"/content/drive\", force_remount=True).\n"
     ]
    }
   ],
   "source": [
    "#------------------------\n",
    "# Google Colab上でのみ実行\n",
    "#------------------------\n",
    "import time\n",
    "%env TOKEN=*************************************\n",
    "! git clone https://$$TOKEN@github.com/konnitiha3/MOD2NN.git\n",
    "\n",
    "import sys\n",
    "sys.path.append('/content/MOD2NN')\n",
    "\n",
    "from google.colab import drive\n",
    "drive.mount('/content/drive')"
   ],
   "metadata": {
    "id": "Wd-4IJ5gpalc",
    "outputId": "55681431-fbe5-4cbf-d7bd-e0b4b8e426e8",
    "colab": {
     "base_uri": "https://localhost:8080/"
    }
   }
  },
  {
   "cell_type": "code",
   "execution_count": 2,
   "outputs": [
    {
     "output_type": "stream",
     "name": "stdout",
     "text": [
      "TensorFlow: 2.8.2\n",
      "Python: 3.7.14 (default, Sep  8 2022, 00:06:44) \n",
      "[GCC 7.5.0]\n"
     ]
    }
   ],
   "source": [
    "import time\n",
    "import os\n",
    "import json\n",
    "import sys\n",
    "import re\n",
    "import glob\n",
    "import tensorflow as tf\n",
    "from tensorflow import keras\n",
    "import numpy as np\n",
    "import matplotlib.pyplot as plt\n",
    "import pandas as pd\n",
    "\n",
    "from Faraday.two_dim.module.lib.layers import *\n",
    "from Faraday.two_dim.module.lib import regularizer\n",
    "\n",
    "tf.random.set_seed(1)\n",
    "\n",
    "print(\"TensorFlow:\", tf.__version__)\n",
    "print(\"Python:\", sys.version)\n",
    "\n",
    "plt.rcParams['font.size'] = 18"
   ],
   "metadata": {
    "id": "tgfs0e9Wpald",
    "outputId": "4f10fd55-3e8c-435c-e84a-bc24916a88c7",
    "colab": {
     "base_uri": "https://localhost:8080/"
    }
   }
  },
  {
   "cell_type": "code",
   "execution_count": 3,
   "outputs": [],
   "source": [
    "mnist = tf.keras.datasets.mnist\n",
    "\n",
    "(x_train, y_train), (x_test, y_test) = mnist.load_data()\n",
    "x_train = x_train.astype(\"float32\") / 255.0\n",
    "x_test = x_test.astype(\"float32\") / 255.0\n",
    "\n",
    "y_train = y_train.astype(\"float32\")\n",
    "y_test = y_test.astype(\"float32\")\n",
    "\n",
    "# Reserve 10,000 samples for validation\n",
    "x_val = x_train[-5000:]\n",
    "y_val = y_train[-5000:]\n",
    "x_train = x_train[:-5000]\n",
    "y_train = y_train[:-5000]"
   ],
   "metadata": {
    "id": "EtBBEipopale"
   }
  },
  {
   "cell_type": "code",
   "source": [
    "x_resized_train = tf.image.resize(tf.expand_dims(x_train, -1), (100, 100))\n",
    "x_resized_train = tf.keras.layers.Lambda(lambda x: x[:, :, :, 0])(x_resized_train)\n",
    "\n",
    "x_resized_val = tf.image.resize(tf.expand_dims(x_val, -1), (100, 100))\n",
    "x_resized_val = tf.keras.layers.Lambda(lambda x: x[:, :, :, 0])(x_resized_val)"
   ],
   "metadata": {
    "id": "J9kqV2fDuiR3"
   },
   "execution_count": 4,
   "outputs": []
  },
  {
   "cell_type": "code",
   "execution_count": 5,
   "outputs": [],
   "source": [
    "#@title デフォルトのタイトル テキスト\n",
    "wavelength = 633.0e-9 #@param {type:\"number\"}\n",
    "d = 1.0e-6 #@param {type:\"number\"}\n",
    "n = 1.5 #@param {type:\"number\"}\n",
    "z = 0.3e-3 #@param {type:\"number\"}"
   ],
   "metadata": {
    "id": "axNlG879pale"
   }
  },
  {
   "cell_type": "code",
   "execution_count": 6,
   "outputs": [],
   "source": [
    "def create_model(**kwargs):\n",
    "    shape = (100, 100)\n",
    "    theta = kwargs[\"theta\"]\n",
    "    eta = 0.\n",
    "    tf.random.set_seed(kwargs[\"seed\"])\n",
    "    inputs = tf.keras.Input((28, 28))\n",
    "    x = ImageResizing(shape)(inputs)\n",
    "    x = IntensityToElectricField(shape)(x)\n",
    "    x = AngularSpectrum(shape, wavelength=wavelength, z=z, d=d, n=n, method='expand', normalization=\"max\")(x)\n",
    "    x = MO(shape, limitation='sin', theta=theta, eta=eta)(x)\n",
    "    x = AngularSpectrum(shape, wavelength=wavelength, z=z, d=d, n=n, method='expand', normalization=\"max\")(x)\n",
    "    x = MO(shape, limitation='sin', theta=theta, eta=eta)(x)\n",
    "    x = AngularSpectrum(shape, wavelength=wavelength, z=z, d=d, n=n, method='expand', normalization=\"max\")(x)\n",
    "    x = MO(shape, limitation='sin', theta=theta, eta=eta)(x)\n",
    "    x = AngularSpectrum(shape, wavelength=wavelength, z=z, d=d, n=n, method='expand', normalization=\"max\")(x)\n",
    "    x = MO(shape, limitation='sin', theta=theta, eta=eta)(x)\n",
    "    x = AngularSpectrum(shape, wavelength=wavelength, z=z, d=d, n=n, method='expand', normalization=\"max\")(x)\n",
    "    x = MO(shape, limitation='sin', theta=theta, eta=eta)(x)\n",
    "    x = AngularSpectrum(shape, wavelength=wavelength, z=z, d=d, n=n, method='expand', normalization=\"max\")(x)\n",
    "    x = Polarizer(shape, trainable=True)(x)\n",
    "    x = ElectricFieldToIntensity(shape)(x)\n",
    "    x = MNISTDetector(shape)(x)\n",
    "    x = tf.keras.layers.Softmax()(x)\n",
    "    model = tf.keras.Model(inputs, x)\n",
    "    return model"
   ],
   "metadata": {
    "id": "Z3DoHc-gpale"
   }
  },
  {
   "cell_type": "code",
   "execution_count": null,
   "outputs": [
    {
     "output_type": "stream",
     "name": "stdout",
     "text": [
      "Model: \"model\"\n"
     ]
    }
   ],
   "source": [
    "def train(seed, theta, num):\n",
    "    model_name = \"20221013_\" + str(num)\n",
    "    cholab_path = \"/content/drive/MyDrive/D2NN/\"\n",
    "    checkpoint_path = cholab_path + \"checkpoint/\" + model_name + \"/cp-{epoch:04d}.ckpt\"\n",
    "    checkpoint_dir = os.path.dirname(checkpoint_path)\n",
    "    path = cholab_path + \"trained_model/\"+ model_name\n",
    "\n",
    "    model = create_model(seed=seed, theta=theta)\n",
    "    model.summary()\n",
    "    model.compile(optimizer=tf.keras.optimizers.Adam(),\n",
    "                  loss=tf.keras.losses.sparse_categorical_crossentropy,  # category: sparse_categorical_crossentropy\n",
    "                  metrics=[\"accuracy\"]\n",
    "                  )\n",
    "\n",
    "    epochs = 50\n",
    "    early_stopping = tf.keras.callbacks.EarlyStopping(\n",
    "            monitor='loss',\n",
    "            min_delta=0.0002,\n",
    "            patience=2,\n",
    "        )\n",
    "\n",
    "    def lr_schedule(epoch):\n",
    "      \"\"\"\n",
    "      Returns a custom learning rate that decreases as epochs progress.\n",
    "      \"\"\"\n",
    "      start = 0.2\n",
    "      end = 0.0001\n",
    "      n = 50\n",
    "      a = -1/(n-1) * np.log(end/start)\n",
    "      return np.exp(-a*(epoch-1)) * start\n",
    "    lr_callback = tf.keras.callbacks.LearningRateScheduler(lr_schedule)\n",
    "\n",
    "    # チェックポイントコールバックを作る\n",
    "    cp_callback = tf.keras.callbacks.ModelCheckpoint(checkpoint_path,\n",
    "                                                     save_weights_only=True,\n",
    "                                                     verbose=1)\n",
    "\n",
    "    logdir = os.path.join(cholab_path +\"logs\", model_name)\n",
    "    tensorboard_callback = tf.keras.callbacks.TensorBoard(logdir, histogram_freq=1)\n",
    "\n",
    "    result = model.fit(x_train,\n",
    "                       x_train,\n",
    "                       batch_size=64,\n",
    "                       epochs=epochs,\n",
    "                       validation_data=(x_val, x_resized_val),\n",
    "                       callbacks=[lr_callback, cp_callback, tensorboard_callback]\n",
    "                       )\n",
    "\n",
    "    model.save(path)\n",
    "\n",
    "    df = pd.DataFrame(result.history)\n",
    "    df.to_csv(path + \"/history.csv\")\n",
    "\n",
    "\n",
    "\n",
    "    with open(path + \"/config.json\", 'w') as f:\n",
    "        json.dump(model.get_config(), f, indent=4)"
   ],
   "metadata": {
    "id": "rlZTWQltpale",
    "outputId": "f1513952-59f8-4606-85d3-699045394e28",
    "colab": {
     "base_uri": "https://localhost:8080/"
    }
   }
  },
  {
   "cell_type": "code",
   "source": [
    "theta_list =[np.pi, np.pi/5, np.pi/10, np.pi/100]\n",
    "for i, theta in enumerate(theta_list):\n",
    "    train(seed=1, theta=theta, num=1)"
   ],
   "metadata": {
    "id": "BAHyu-sY9QB4"
   },
   "execution_count": 1,
   "outputs": [
    {
     "ename": "NameError",
     "evalue": "name 'np' is not defined",
     "output_type": "error",
     "traceback": [
      "\u001B[0;31m---------------------------------------------------------------------------\u001B[0m",
      "\u001B[0;31mNameError\u001B[0m                                 Traceback (most recent call last)",
      "Input \u001B[0;32mIn [1]\u001B[0m, in \u001B[0;36m<cell line: 1>\u001B[0;34m()\u001B[0m\n\u001B[0;32m----> 1\u001B[0m theta_list \u001B[38;5;241m=\u001B[39m[\u001B[43mnp\u001B[49m\u001B[38;5;241m.\u001B[39mpi, np\u001B[38;5;241m.\u001B[39mpi\u001B[38;5;241m/\u001B[39m\u001B[38;5;241m5\u001B[39m, np\u001B[38;5;241m.\u001B[39mpi\u001B[38;5;241m/\u001B[39m\u001B[38;5;241m10\u001B[39m, np\u001B[38;5;241m.\u001B[39mpi\u001B[38;5;241m/\u001B[39m\u001B[38;5;241m100\u001B[39m]\n\u001B[1;32m      2\u001B[0m \u001B[38;5;28;01mfor\u001B[39;00m i, theta \u001B[38;5;129;01min\u001B[39;00m \u001B[38;5;28menumerate\u001B[39m(theta_list):\n\u001B[1;32m      3\u001B[0m     train(seed\u001B[38;5;241m=\u001B[39m\u001B[38;5;241m1\u001B[39m, theta\u001B[38;5;241m=\u001B[39mtheta, num\u001B[38;5;241m=\u001B[39m\u001B[38;5;241m1\u001B[39m)\n",
      "\u001B[0;31mNameError\u001B[0m: name 'np' is not defined"
     ]
    }
   ]
  }
 ],
 "metadata": {
  "kernelspec": {
   "display_name": "Python 3",
   "language": "python",
   "name": "python3"
  },
  "language_info": {
   "codemirror_mode": {
    "name": "ipython",
    "version": 2
   },
   "file_extension": ".py",
   "mimetype": "text/x-python",
   "name": "python",
   "nbconvert_exporter": "python",
   "pygments_lexer": "ipython2",
   "version": "2.7.6"
  },
  "colab": {
   "provenance": [],
   "machine_shape": "hm"
  },
  "accelerator": "GPU",
  "gpuClass": "standard"
 },
 "nbformat": 4,
 "nbformat_minor": 0
}
