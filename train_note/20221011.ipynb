{
  "cells": [
    {
      "cell_type": "markdown",
      "source": [
        "# 書き込み誤差検討"
      ],
      "metadata": {
        "collapsed": false,
        "id": "X0-doAeSooxe"
      }
    },
    {
      "cell_type": "code",
      "execution_count": 17,
      "outputs": [
        {
          "output_type": "stream",
          "name": "stdout",
          "text": [
            "env: TOKEN=*************************************\n",
            "fatal: destination path 'MOD2NN' already exists and is not an empty directory.\n",
            "Drive already mounted at /content/drive; to attempt to forcibly remount, call drive.mount(\"/content/drive\", force_remount=True).\n"
          ]
        }
      ],
      "source": [
        "#------------------------\n",
        "# Google Colab上でのみ実行\n",
        "#------------------------\n",
        "import time\n",
        "%env TOKEN=*************************************\n",
        "! git clone https://$$TOKEN@github.com/konnitiha3/MOD2NN.git\n",
        "\n",
        "import sys\n",
        "sys.path.append('/content/MOD2NN')\n",
        "\n",
        "from google.colab import drive\n",
        "drive.mount('/content/drive')"
      ],
      "metadata": {
        "id": "xpY8ra8Mooxg",
        "outputId": "0083ab86-fa69-4f96-d7a2-e389acc0752c",
        "colab": {
          "base_uri": "https://localhost:8080/"
        }
      }
    },
    {
      "cell_type": "code",
      "execution_count": 18,
      "outputs": [
        {
          "output_type": "stream",
          "name": "stdout",
          "text": [
            "TensorFlow: 2.8.2\n",
            "Python: 3.7.14 (default, Sep  8 2022, 00:06:44) \n",
            "[GCC 7.5.0]\n"
          ]
        }
      ],
      "source": [
        "import sys\n",
        "import re\n",
        "import tensorflow as tf\n",
        "from tensorflow import keras\n",
        "import numpy as np\n",
        "import matplotlib.pyplot as plt\n",
        "import pandas as pd\n",
        "import scipy\n",
        "from scipy import stats\n",
        "\n",
        "from Faraday.two_dim.module.lib.layers import *\n",
        "from Faraday.two_dim.module.lib import regularizer\n",
        "\n",
        "tf.random.set_seed(1)\n",
        "\n",
        "print(\"TensorFlow:\", tf.__version__)\n",
        "print(\"Python:\", sys.version)\n",
        "\n",
        "plt.rcParams['font.size'] = 18"
      ],
      "metadata": {
        "id": "tHY3G5YHooxh",
        "outputId": "28142b48-ff4d-45a8-e900-6f5ebb3e31e4",
        "colab": {
          "base_uri": "https://localhost:8080/"
        }
      }
    },
    {
      "cell_type": "code",
      "execution_count": 19,
      "outputs": [],
      "source": [
        "mnist = tf.keras.datasets.mnist\n",
        "\n",
        "(x_train, y_train), (x_test, y_test) = mnist.load_data()\n",
        "x_train = x_train.astype(\"float32\") / 255.0\n",
        "x_test = x_test.astype(\"float32\") / 255.0\n",
        "\n",
        "y_train = y_train.astype(\"float32\")\n",
        "y_test = y_test.astype(\"float32\")\n",
        "\n",
        "# Reserve 10,000 samples for validation\n",
        "x_val = x_train[-5000:]\n",
        "y_val = y_train[-5000:]\n",
        "x_train = x_train[:-5000]\n",
        "y_train = y_train[:-5000]"
      ],
      "metadata": {
        "id": "TE3DNp6iooxi"
      }
    },
    {
      "cell_type": "code",
      "execution_count": 21,
      "outputs": [
        {
          "output_type": "stream",
          "name": "stdout",
          "text": [
            "313/313 [==============================] - 4s 13ms/step - loss: 0.4724 - accuracy: 0.8684\n",
            "313/313 [==============================] - 4s 13ms/step - loss: 0.6414 - accuracy: 0.8106\n"
          ]
        }
      ],
      "source": [
        "model_path = \"/content/drive/MyDrive/D2NN/trained_model/20220824/l1_0.000000e+00/seed_1\"\n",
        "model = tf.keras.models.load_model(model_path)\n",
        "eval = model.evaluate(x_test, y_test)"
      ],
      "metadata": {
        "id": "08P_IerDooxi",
        "outputId": "7d673fd7-42be-4800-e99f-2ef2751867d9",
        "colab": {
          "base_uri": "https://localhost:8080/"
        }
      }
    },
    {
      "cell_type": "code",
      "source": [
        "pattern = r'mo'\n",
        "\n",
        "mo_layers = []\n",
        "bi_weights = []\n",
        "error_weights = []\n",
        "\n",
        "for layer in model.layers:\n",
        "  result = re.match(pattern, layer.name)\n",
        "  if result:\n",
        "      mo_layers.append(layer)\n",
        "      w = layer.get_weights()\n",
        "      bi_w = np.where(w[0]>0, np.pi/2, -np.pi/2)\n",
        "      bi_weights.append(bi_w)"
      ],
      "metadata": {
        "id": "lZ7cgLGEp6Sq"
      },
      "execution_count": 22,
      "outputs": []
    },
    {
      "cell_type": "code",
      "source": [
        "seeds = np.arange(1, 11)\n",
        "p = np.arange(0, 1.1, 0.1)\n",
        "acc_table = np.zeros((len(seeds), len(p)))\n",
        "loss_table = np.zeros((len(seeds), len(p)))\n",
        "\n",
        "for j, _p in enumerate(p):\n",
        "  for k, seed in enumerate(seeds):\n",
        "    for i, layer in enumerate(mo_layers):\n",
        "        np.random.seed(seed)\n",
        "        bi_dist = stats.bernoulli.rvs(p=_p, size=(100,100)) * 2 - 1\n",
        "        w = layer.get_weights()\n",
        "        w[0] = bi_weights[i] * bi_dist\n",
        "        layer.set_weights(w)\n",
        "\n",
        "    bi_eval = model.evaluate(x_test, y_test)\n",
        "    acc_table[k, j] = bi_eval[1]\n",
        "    loss_table[k, j] = bi_eval[0]"
      ],
      "metadata": {
        "id": "d1RuJaNSp-3d",
        "outputId": "58196d18-63de-4cfe-f523-f773593240ff",
        "colab": {
          "base_uri": "https://localhost:8080/"
        }
      },
      "execution_count": 28,
      "outputs": [
        {
          "output_type": "stream",
          "name": "stdout",
          "text": [
            "313/313 [==============================] - 4s 13ms/step - loss: 9.8644 - accuracy: 0.0014\n",
            "313/313 [==============================] - 4s 13ms/step - loss: 9.8644 - accuracy: 0.0014\n",
            "313/313 [==============================] - 5s 14ms/step - loss: 9.8644 - accuracy: 0.0014\n",
            "313/313 [==============================] - 4s 14ms/step - loss: 9.8644 - accuracy: 0.0014\n",
            "313/313 [==============================] - 4s 13ms/step - loss: 9.8644 - accuracy: 0.0014\n",
            "313/313 [==============================] - 4s 13ms/step - loss: 9.8644 - accuracy: 0.0014\n",
            "313/313 [==============================] - 4s 13ms/step - loss: 9.8644 - accuracy: 0.0014\n",
            "313/313 [==============================] - 4s 13ms/step - loss: 9.8644 - accuracy: 0.0014\n",
            "313/313 [==============================] - 4s 14ms/step - loss: 9.8644 - accuracy: 0.0014\n",
            "313/313 [==============================] - 4s 14ms/step - loss: 9.8644 - accuracy: 0.0014\n",
            "313/313 [==============================] - 4s 13ms/step - loss: 11.7833 - accuracy: 0.0013\n",
            "313/313 [==============================] - 4s 13ms/step - loss: 8.3473 - accuracy: 0.0022\n",
            "313/313 [==============================] - 4s 13ms/step - loss: 7.9714 - accuracy: 0.0028\n",
            "313/313 [==============================] - 4s 13ms/step - loss: 8.7159 - accuracy: 0.0019\n",
            "313/313 [==============================] - 4s 13ms/step - loss: 8.2645 - accuracy: 0.0013\n",
            "313/313 [==============================] - 4s 13ms/step - loss: 8.4060 - accuracy: 0.0017\n",
            "313/313 [==============================] - 4s 14ms/step - loss: 7.9396 - accuracy: 0.0033\n",
            "313/313 [==============================] - 4s 13ms/step - loss: 8.1476 - accuracy: 0.0019\n",
            "313/313 [==============================] - 4s 13ms/step - loss: 8.0150 - accuracy: 0.0023\n",
            "313/313 [==============================] - 4s 13ms/step - loss: 8.3011 - accuracy: 0.0021\n",
            "313/313 [==============================] - 4s 13ms/step - loss: 9.8014 - accuracy: 0.0019\n",
            "313/313 [==============================] - 4s 13ms/step - loss: 6.9521 - accuracy: 0.0033\n",
            "313/313 [==============================] - 4s 13ms/step - loss: 6.4477 - accuracy: 0.0036\n",
            "313/313 [==============================] - 4s 13ms/step - loss: 7.0830 - accuracy: 0.0020\n",
            "313/313 [==============================] - 4s 13ms/step - loss: 6.8046 - accuracy: 0.0016\n",
            "313/313 [==============================] - 4s 13ms/step - loss: 6.7330 - accuracy: 0.0025\n",
            "313/313 [==============================] - 4s 13ms/step - loss: 6.4672 - accuracy: 0.0051\n",
            "313/313 [==============================] - 4s 13ms/step - loss: 6.6994 - accuracy: 0.0017\n",
            "313/313 [==============================] - 4s 13ms/step - loss: 6.7654 - accuracy: 0.0040\n",
            "313/313 [==============================] - 4s 13ms/step - loss: 6.6625 - accuracy: 0.0030\n",
            "313/313 [==============================] - 4s 13ms/step - loss: 7.8635 - accuracy: 0.0016\n",
            "313/313 [==============================] - 4s 13ms/step - loss: 5.3729 - accuracy: 0.0053\n",
            "313/313 [==============================] - 4s 13ms/step - loss: 5.0575 - accuracy: 0.0056\n",
            "313/313 [==============================] - 4s 13ms/step - loss: 5.5349 - accuracy: 0.0015\n",
            "313/313 [==============================] - 4s 13ms/step - loss: 5.2893 - accuracy: 0.0034\n",
            "313/313 [==============================] - 4s 13ms/step - loss: 4.8783 - accuracy: 0.0055\n",
            "313/313 [==============================] - 4s 13ms/step - loss: 4.8610 - accuracy: 0.0116\n",
            "313/313 [==============================] - 4s 14ms/step - loss: 5.2472 - accuracy: 0.0064\n",
            "313/313 [==============================] - 4s 13ms/step - loss: 5.7582 - accuracy: 0.0049\n",
            "313/313 [==============================] - 4s 13ms/step - loss: 5.5817 - accuracy: 0.0058\n",
            "313/313 [==============================] - 4s 13ms/step - loss: 5.9961 - accuracy: 0.0028\n",
            "313/313 [==============================] - 4s 13ms/step - loss: 3.9120 - accuracy: 0.0086\n",
            "313/313 [==============================] - 4s 13ms/step - loss: 3.9167 - accuracy: 0.0113\n",
            "313/313 [==============================] - 4s 13ms/step - loss: 3.8598 - accuracy: 0.0068\n",
            "313/313 [==============================] - 4s 13ms/step - loss: 3.8223 - accuracy: 0.0088\n",
            "313/313 [==============================] - 4s 13ms/step - loss: 3.6922 - accuracy: 0.0206\n",
            "313/313 [==============================] - 4s 13ms/step - loss: 3.6197 - accuracy: 0.0429\n",
            "313/313 [==============================] - 4s 13ms/step - loss: 3.9807 - accuracy: 0.0156\n",
            "313/313 [==============================] - 4s 13ms/step - loss: 4.3633 - accuracy: 0.0127\n",
            "313/313 [==============================] - 4s 13ms/step - loss: 4.1204 - accuracy: 0.0305\n",
            "313/313 [==============================] - 4s 13ms/step - loss: 4.3603 - accuracy: 0.0108\n",
            "313/313 [==============================] - 5s 15ms/step - loss: 2.7648 - accuracy: 0.1166\n",
            "313/313 [==============================] - 4s 13ms/step - loss: 2.8042 - accuracy: 0.0801\n",
            "313/313 [==============================] - 4s 13ms/step - loss: 2.7667 - accuracy: 0.0766\n",
            "313/313 [==============================] - 4s 13ms/step - loss: 2.8273 - accuracy: 0.1106\n",
            "313/313 [==============================] - 4s 13ms/step - loss: 2.7686 - accuracy: 0.0933\n",
            "313/313 [==============================] - 4s 13ms/step - loss: 2.7354 - accuracy: 0.1160\n",
            "313/313 [==============================] - 4s 13ms/step - loss: 2.9967 - accuracy: 0.0669\n",
            "313/313 [==============================] - 4s 13ms/step - loss: 3.2974 - accuracy: 0.0533\n",
            "313/313 [==============================] - 4s 13ms/step - loss: 2.9068 - accuracy: 0.0846\n",
            "313/313 [==============================] - 4s 13ms/step - loss: 1.2337 - accuracy: 0.5974\n",
            "313/313 [==============================] - 4s 13ms/step - loss: 1.7798 - accuracy: 0.3515\n",
            "313/313 [==============================] - 4s 13ms/step - loss: 1.9848 - accuracy: 0.3634\n",
            "313/313 [==============================] - 4s 13ms/step - loss: 1.7110 - accuracy: 0.4670\n",
            "313/313 [==============================] - 4s 13ms/step - loss: 1.9465 - accuracy: 0.3167\n",
            "313/313 [==============================] - 4s 13ms/step - loss: 2.0280 - accuracy: 0.2943\n",
            "313/313 [==============================] - 4s 13ms/step - loss: 2.1103 - accuracy: 0.2813\n",
            "313/313 [==============================] - 4s 13ms/step - loss: 2.2034 - accuracy: 0.2781\n",
            "313/313 [==============================] - 4s 13ms/step - loss: 2.0462 - accuracy: 0.3147\n",
            "313/313 [==============================] - 4s 13ms/step - loss: 1.9628 - accuracy: 0.3361\n",
            "313/313 [==============================] - 4s 13ms/step - loss: 0.8240 - accuracy: 0.7609\n",
            "313/313 [==============================] - 4s 13ms/step - loss: 1.3998 - accuracy: 0.5000\n",
            "313/313 [==============================] - 4s 13ms/step - loss: 1.3464 - accuracy: 0.5676\n",
            "313/313 [==============================] - 4s 13ms/step - loss: 1.2709 - accuracy: 0.5664\n",
            "313/313 [==============================] - 4s 13ms/step - loss: 1.3924 - accuracy: 0.5572\n",
            "313/313 [==============================] - 4s 13ms/step - loss: 1.2969 - accuracy: 0.6370\n",
            "313/313 [==============================] - 4s 13ms/step - loss: 1.4396 - accuracy: 0.5648\n",
            "313/313 [==============================] - 4s 13ms/step - loss: 1.3089 - accuracy: 0.6119\n",
            "313/313 [==============================] - 4s 13ms/step - loss: 1.3666 - accuracy: 0.5855\n",
            "313/313 [==============================] - 4s 13ms/step - loss: 1.3222 - accuracy: 0.5791\n",
            "313/313 [==============================] - 4s 13ms/step - loss: 0.6359 - accuracy: 0.8120\n",
            "313/313 [==============================] - 4s 13ms/step - loss: 0.9591 - accuracy: 0.7142\n",
            "313/313 [==============================] - 4s 13ms/step - loss: 0.9176 - accuracy: 0.7496\n",
            "313/313 [==============================] - 4s 13ms/step - loss: 0.9223 - accuracy: 0.7335\n",
            "313/313 [==============================] - 4s 13ms/step - loss: 1.0180 - accuracy: 0.7105\n",
            "313/313 [==============================] - 4s 13ms/step - loss: 1.0068 - accuracy: 0.7024\n",
            "313/313 [==============================] - 4s 13ms/step - loss: 1.0432 - accuracy: 0.7031\n",
            "313/313 [==============================] - 4s 13ms/step - loss: 0.9471 - accuracy: 0.7184\n",
            "313/313 [==============================] - 4s 13ms/step - loss: 1.0593 - accuracy: 0.6854\n",
            "313/313 [==============================] - 4s 13ms/step - loss: 0.9563 - accuracy: 0.7227\n",
            "313/313 [==============================] - 4s 13ms/step - loss: 0.5537 - accuracy: 0.8356\n",
            "313/313 [==============================] - 4s 13ms/step - loss: 0.7546 - accuracy: 0.7718\n",
            "313/313 [==============================] - 4s 13ms/step - loss: 0.7216 - accuracy: 0.8077\n",
            "313/313 [==============================] - 4s 13ms/step - loss: 0.8176 - accuracy: 0.7533\n",
            "313/313 [==============================] - 5s 14ms/step - loss: 0.8751 - accuracy: 0.7364\n",
            "313/313 [==============================] - 4s 13ms/step - loss: 0.7733 - accuracy: 0.7656\n",
            "313/313 [==============================] - 4s 13ms/step - loss: 0.7734 - accuracy: 0.7737\n",
            "313/313 [==============================] - 4s 13ms/step - loss: 0.7762 - accuracy: 0.7790\n",
            "313/313 [==============================] - 4s 13ms/step - loss: 0.7851 - accuracy: 0.7774\n",
            "313/313 [==============================] - 4s 14ms/step - loss: 0.7499 - accuracy: 0.7759\n",
            "313/313 [==============================] - 4s 13ms/step - loss: 0.6414 - accuracy: 0.8106\n",
            "313/313 [==============================] - 4s 13ms/step - loss: 0.6414 - accuracy: 0.8106\n",
            "313/313 [==============================] - 4s 13ms/step - loss: 0.6414 - accuracy: 0.8106\n",
            "313/313 [==============================] - 4s 13ms/step - loss: 0.6414 - accuracy: 0.8106\n",
            "313/313 [==============================] - 4s 13ms/step - loss: 0.6414 - accuracy: 0.8106\n",
            "313/313 [==============================] - 4s 13ms/step - loss: 0.6414 - accuracy: 0.8106\n",
            "313/313 [==============================] - 4s 13ms/step - loss: 0.6414 - accuracy: 0.8106\n",
            "313/313 [==============================] - 4s 13ms/step - loss: 0.6414 - accuracy: 0.8106\n",
            "313/313 [==============================] - 4s 13ms/step - loss: 0.6414 - accuracy: 0.8106\n",
            "313/313 [==============================] - 4s 13ms/step - loss: 0.6414 - accuracy: 0.8106\n"
          ]
        }
      ]
    },
    {
      "cell_type": "code",
      "source": [
        "acc_df = pd.DataFrame(acc_table, columns=[\"{:.1f}\".format(t) for t in p])\n",
        "loss_df = pd.DataFrame(loss_table, columns=[\"{:.1f}\".format(t)  for t in p])"
      ],
      "metadata": {
        "id": "Ua0eKIFatZzL"
      },
      "execution_count": 35,
      "outputs": []
    },
    {
      "cell_type": "code",
      "source": [
        "acc_df.to_csv(\"acc.csv\")\n",
        "loss_df.to_csv(\"loss.csv\")"
      ],
      "metadata": {
        "id": "65IZIWHKuChM"
      },
      "execution_count": 36,
      "outputs": []
    }
  ],
  "metadata": {
    "kernelspec": {
      "display_name": "Python 3",
      "language": "python",
      "name": "python3"
    },
    "language_info": {
      "codemirror_mode": {
        "name": "ipython",
        "version": 2
      },
      "file_extension": ".py",
      "mimetype": "text/x-python",
      "name": "python",
      "nbconvert_exporter": "python",
      "pygments_lexer": "ipython2",
      "version": "2.7.6"
    },
    "colab": {
      "provenance": []
    },
    "accelerator": "GPU",
    "gpuClass": "standard"
  },
  "nbformat": 4,
  "nbformat_minor": 0
}