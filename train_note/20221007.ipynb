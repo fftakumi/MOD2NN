{
 "cells": [
  {
   "cell_type": "markdown",
   "source": [
    "# オートエンコーダ"
   ],
   "metadata": {
    "collapsed": false
   }
  },
  {
   "cell_type": "code",
   "execution_count": null,
   "outputs": [],
   "source": [
    "#------------------------\n",
    "# Google Colab上でのみ実行\n",
    "#------------------------\n",
    "import time\n",
    "%env TOKEN=*************************************\n",
    "! git clone https://$$TOKEN@github.com/konnitiha3/MOD2NN.git\n",
    "\n",
    "import sys\n",
    "sys.path.append('/content/MOD2NN')\n",
    "\n",
    "from google.colab import drive\n",
    "drive.mount('/content/drive')"
   ],
   "metadata": {
    "collapsed": false
   }
  },
  {
   "cell_type": "code",
   "execution_count": 4,
   "outputs": [
    {
     "name": "stdout",
     "output_type": "stream",
     "text": [
      "TensorFlow: 2.8.0\n",
      "Python: 3.8.11 (default, Aug 16 2021, 12:04:33) \n",
      "[Clang 12.0.0 ]\n"
     ]
    }
   ],
   "source": [
    "import time\n",
    "import os\n",
    "import json\n",
    "import sys\n",
    "import re\n",
    "import glob\n",
    "import tensorflow as tf\n",
    "from tensorflow import keras\n",
    "import numpy as np\n",
    "import matplotlib.pyplot as plt\n",
    "import pandas as pd\n",
    "\n",
    "from Faraday.two_dim.module.lib.layers import *\n",
    "from Faraday.two_dim.module.lib import regularizer\n",
    "\n",
    "tf.random.set_seed(1)\n",
    "\n",
    "print(\"TensorFlow:\", tf.__version__)\n",
    "print(\"Python:\", sys.version)\n",
    "\n",
    "plt.rcParams['font.size'] = 18"
   ],
   "metadata": {
    "collapsed": false
   }
  },
  {
   "cell_type": "code",
   "execution_count": null,
   "outputs": [],
   "source": [
    "mnist = tf.keras.datasets.mnist\n",
    "\n",
    "(x_train, y_train), (x_test, y_test) = mnist.load_data()\n",
    "x_train = x_train.astype(\"float32\") / 255.0\n",
    "x_test = x_test.astype(\"float32\") / 255.0\n",
    "\n",
    "y_train = y_train.astype(\"float32\")\n",
    "y_test = y_test.astype(\"float32\")\n",
    "\n",
    "# Reserve 10,000 samples for validation\n",
    "x_val = x_train[-5000:]\n",
    "y_val = y_train[-5000:]\n",
    "x_train = x_train[:-5000]\n",
    "y_train = y_train[:-5000]"
   ],
   "metadata": {
    "collapsed": false
   }
  },
  {
   "cell_type": "code",
   "execution_count": 8,
   "outputs": [],
   "source": [
    "#@title デフォルトのタイトル テキスト\n",
    "wavelength = 633.0e-9 #@param {type:\"number\"}\n",
    "d = 1.0e-6 #@param {type:\"number\"}\n",
    "n = 1.5 #@param {type:\"number\"}\n",
    "z = 0.7e-3 #@param {type:\"number\"}"
   ],
   "metadata": {
    "collapsed": false
   }
  },
  {
   "cell_type": "code",
   "execution_count": 13,
   "outputs": [],
   "source": [
    "class Polarizer(tf.keras.layers.Layer):\n",
    "    def __init__(self, output_dim, phi=0.0, trainable=False):\n",
    "        super(Polarizer, self).__init__()\n",
    "        self.output_dim = output_dim\n",
    "        self.phi = tf.Variable(phi, name=\"phi\", trainable=trainable)\n",
    "        self.trainable = trainable\n",
    "\n",
    "    def get_config(self):\n",
    "        config = super().get_config()\n",
    "        config.update({\n",
    "            \"output_dim\": self.output_dim,\n",
    "            \"phi\": float(self.phi.numpy()),\n",
    "            \"trainable\": self.trainable\n",
    "        })\n",
    "        return config\n",
    "\n",
    "    @classmethod\n",
    "    def from_config(cls, config):\n",
    "        return cls(**config)\n",
    "\n",
    "    def build(self, input_dim):\n",
    "        self.input_dim = input_dim\n",
    "        super(Polarizer, self).build(input_dim)\n",
    "\n",
    "\n",
    "    def call(self, x):\n",
    "        rcp_x = tf.keras.layers.Lambda(lambda x: x[:, 0, :, :])(x)\n",
    "        rcp_y = 1.0j * rcp_x\n",
    "        lcp_x = tf.keras.layers.Lambda(lambda x: x[:, 1, :, :])(x)\n",
    "        lcp_y = -1.0j * lcp_x\n",
    "\n",
    "        # Ercp = T@Ercp\n",
    "\n",
    "        # Tr00 = Tr[0,0]\n",
    "        tr00 = tf.complex(tf.cos(self.phi) ** 2, -tf.sin(2 * self.phi) / 2) / 2.0\n",
    "        tr01 = tf.complex(tf.sin(2 * self.phi) / 2, -tf.sin(self.phi) ** 2) / 2.0\n",
    "\n",
    "        tl00 = tf.complex(tf.cos(self.phi) ** 2, tf.sin(2 * self.phi) / 2) / 2.0\n",
    "        tl01 = tf.complex(tf.sin(2 * self.phi) / 2, tf.sin(self.phi) ** 2) / 2.0\n",
    "\n",
    "        rcp_x_pol = tr00 * (rcp_x + lcp_x) + tr01 * (rcp_y + lcp_y)\n",
    "        lcp_x_pol = tl00 * (rcp_x + lcp_x) + tl01 * (rcp_y + lcp_y)\n",
    "\n",
    "        return tf.stack([rcp_x_pol, lcp_x_pol], axis=1)"
   ],
   "metadata": {
    "collapsed": false
   }
  },
  {
   "cell_type": "code",
   "execution_count": 16,
   "outputs": [],
   "source": [
    "def create_model(**kwargs):\n",
    "    shape = (100, 100)\n",
    "    inputs = tf.keras.Input((28, 28))\n",
    "    theta = np.pi / 20.\n",
    "    eta = 0.\n",
    "    tf.random.set_seed(kwargs[\"seed\"])\n",
    "    x = ImageResizing(shape)(inputs)\n",
    "    x = IntensityToElectricField(shape)(x)\n",
    "    x = AngularSpectrum(shape, wavelength=wavelength, z=z, d=d, n=n, method='expand', normalization=\"max\")(x)\n",
    "    x = MO(shape, limitation='sin', theta=theta, eta=eta)(x)\n",
    "    x = AngularSpectrum(shape, wavelength=wavelength, z=z, d=d, n=n, method='expand', normalization=\"max\")(x)\n",
    "    x = MO(shape, limitation='sin', theta=theta, eta=eta)(x)\n",
    "    x = AngularSpectrum(shape, wavelength=wavelength, z=z, d=d, n=n, method='expand', normalization=\"max\")(x)\n",
    "    x = MO(shape, limitation='sin', theta=theta, eta=eta)(x)\n",
    "    x = AngularSpectrum(shape, wavelength=wavelength, z=z, d=d, n=n, method='expand', normalization=\"max\")(x)\n",
    "    x = MO(shape, limitation='sin', theta=theta, eta=eta)(x)\n",
    "    x = AngularSpectrum(shape, wavelength=wavelength, z=z, d=d, n=n, method='expand', normalization=\"max\")(x)\n",
    "    x = MO(shape, limitation='sin', theta=theta, eta=eta)(x)\n",
    "    x = AngularSpectrum(shape, wavelength=wavelength, z=z, d=d, n=n, method='expand', normalization=\"max\")(x)\n",
    "    x = Polarizer(shape, trainable=True)(x)\n",
    "    x = ElectricFieldToIntensity(shape)(x)\n",
    "    model = tf.keras.Model(inputs, x)\n",
    "    return model"
   ],
   "metadata": {
    "collapsed": false
   }
  },
  {
   "cell_type": "code",
   "execution_count": 17,
   "outputs": [
    {
     "data": {
      "text/plain": "<keras.engine.functional.Functional at 0x154cdb0a0>"
     },
     "execution_count": 17,
     "metadata": {},
     "output_type": "execute_result"
    }
   ],
   "source": [
    "create_model(seed=1)"
   ],
   "metadata": {
    "collapsed": false
   }
  },
  {
   "cell_type": "code",
   "execution_count": null,
   "outputs": [],
   "source": [
    "model_name = \"20221007_1\"\n",
    "cholab_path = \"/content/drive/MyDrive/D2NN/\"\n",
    "checkpoint_path = cholab_path + \"checkpoint/\" + model_name + \"/cp-{epoch:04d}.ckpt\"\n",
    "checkpoint_dir = os.path.dirname(checkpoint_path)\n",
    "path = cholab_path + \"trained_model/\"+ model_name\n",
    "\n",
    "model = create_model()\n",
    "model.summary()\n",
    "model.compile(optimizer=tf.keras.optimizers.Adam(lr=0.1),\n",
    "              loss=tf.keras.losses.BinaryCrossentropy(from_logits=True),  # category: sparse_categorical_crossentropy\n",
    "              metrics=[tf.keras.metrics.BinaryCrossentropy(from_logits=True)]\n",
    "              )\n",
    "\n",
    "epochs = 50\n",
    "\n",
    "def lr_schedule(epoch):\n",
    "  \"\"\"\n",
    "  Returns a custom learning rate that decreases as epochs progress.\n",
    "  \"\"\"\n",
    "  learning_rate = 0.2\n",
    "  if epoch > 10:\n",
    "    learning_rate = 0.02\n",
    "  if epoch > 20:\n",
    "    learning_rate = 0.01\n",
    "  if epoch > 30:\n",
    "    learning_rate = 0.005\n",
    "\n",
    "  tf.summary.scalar('learning rate', data=learning_rate, step=epoch)\n",
    "  return learning_rate\n",
    "\n",
    "lr_callback = tf.keras.callbacks.LearningRateScheduler(lr_schedule)\n",
    "\n",
    "# チェックポイントコールバックを作る\n",
    "cp_callback = tf.keras.callbacks.ModelCheckpoint(checkpoint_path,\n",
    "                                                 save_weights_only=True,\n",
    "                                                 verbose=1)\n",
    "\n",
    "logdir = os.path.join(cholab_path +\"logs\", model_name)\n",
    "tensorboard_callback = tf.keras.callbacks.TensorBoard(logdir, histogram_freq=1)\n",
    "\n",
    "result = model.fit(x_train,\n",
    "                   y_train,\n",
    "                   batch_size=64,\n",
    "                   epochs=epochs,\n",
    "                   validation_data=(x_val, y_val),\n",
    "                   callbacks=[lr_callback, cp_callback, tensorboard_callback]\n",
    "                   )\n",
    "\n",
    "model.save(path)\n",
    "\n",
    "df = pd.DataFrame(result.history)\n",
    "df.to_csv(path + \"/history.csv\")\n",
    "\n",
    "\n",
    "\n",
    "with open(path + \"/config.json\", 'w') as f:\n",
    "    json.dump(model.get_config(), f, indent=4)"
   ],
   "metadata": {
    "collapsed": false
   }
  }
 ],
 "metadata": {
  "kernelspec": {
   "display_name": "Python 3",
   "language": "python",
   "name": "python3"
  },
  "language_info": {
   "codemirror_mode": {
    "name": "ipython",
    "version": 2
   },
   "file_extension": ".py",
   "mimetype": "text/x-python",
   "name": "python",
   "nbconvert_exporter": "python",
   "pygments_lexer": "ipython2",
   "version": "2.7.6"
  }
 },
 "nbformat": 4,
 "nbformat_minor": 0
}
