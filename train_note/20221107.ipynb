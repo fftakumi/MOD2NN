{
 "cells": [
  {
   "cell_type": "markdown",
   "source": [
    "# オートエンコーダ"
   ],
   "metadata": {
    "collapsed": false
   }
  },
  {
   "cell_type": "code",
   "execution_count": 1,
   "outputs": [],
   "source": [
    "import sys\n",
    "sys.path.append('/notebooks/MOD2NN')"
   ],
   "metadata": {
    "collapsed": false
   }
  },
  {
   "cell_type": "code",
   "execution_count": 9,
   "metadata": {
    "collapsed": true
   },
   "outputs": [
    {
     "name": "stdout",
     "output_type": "stream",
     "text": [
      "TensorFlow: 2.9.1\n",
      "Python: 3.9.13 (main, May 23 2022, 22:01:06) \n",
      "[GCC 9.4.0]\n"
     ]
    }
   ],
   "source": [
    "import time\n",
    "import sys\n",
    "import os\n",
    "\n",
    "from Faraday.two_dim.module.lib.layers import *\n",
    "\n",
    "tf.random.set_seed(1)\n",
    "\n",
    "print(\"TensorFlow:\", tf.__version__)\n",
    "print(\"Python:\", sys.version)\n",
    "\n",
    "plt.rcParams['font.size'] = 18"
   ]
  },
  {
   "cell_type": "code",
   "execution_count": 3,
   "outputs": [],
   "source": [
    "mnist = tf.keras.datasets.mnist\n",
    "\n",
    "(x_train, y_train), (x_test, y_test) = mnist.load_data()\n",
    "x_train = x_train.astype(\"float32\") / 255.0\n",
    "x_test = x_test.astype(\"float32\") / 255.0\n",
    "\n",
    "y_train = y_train.astype(\"float32\")\n",
    "y_test = y_test.astype(\"float32\")\n",
    "\n",
    "# Reserve 10,000 samples for validation\n",
    "x_val = x_train[-5000:]\n",
    "y_val = y_train[-5000:]\n",
    "x_train = x_train[:-5000]\n",
    "y_train = y_train[:-5000]"
   ],
   "metadata": {
    "collapsed": false
   }
  },
  {
   "cell_type": "code",
   "execution_count": 4,
   "outputs": [],
   "source": [
    "#@title デフォルトのタイトル テキスト\n",
    "wavelength = 633.0e-9 #@param {type:\"number\"}\n",
    "d = 1.0e-6 #@param {type:\"number\"}\n",
    "n = 1.5 #@param {type:\"number\"}\n",
    "z = 0.7e-3 #@param {type:\"number\"}"
   ],
   "metadata": {
    "collapsed": false
   }
  },
  {
   "cell_type": "code",
   "execution_count": 10,
   "outputs": [
    {
     "name": "stderr",
     "output_type": "stream",
     "text": [
      "2022-11-09 05:23:04.595584: W tensorflow/core/common_runtime/bfc_allocator.cc:479] Allocator (GPU_0_bfc) ran out of memory trying to allocate 164.49MiB (rounded to 172480000)requested by op _EagerConst\n",
      "If the cause is memory fragmentation maybe the environment variable 'TF_GPU_ALLOCATOR=cuda_malloc_async' will improve the situation. \n",
      "Current allocation summary follows.\n",
      "Current allocation summary follows.\n",
      "2022-11-09 05:23:04.595732: W tensorflow/core/common_runtime/bfc_allocator.cc:491] <allocator contains no memory>\n"
     ]
    },
    {
     "ename": "InternalError",
     "evalue": "Failed copying input tensor from /job:localhost/replica:0/task:0/device:CPU:0 to /job:localhost/replica:0/task:0/device:GPU:0 in order to run _EagerConst: Dst tensor is not initialized.",
     "output_type": "error",
     "traceback": [
      "\u001B[0;31m---------------------------------------------------------------------------\u001B[0m",
      "\u001B[0;31mInternalError\u001B[0m                             Traceback (most recent call last)",
      "Input \u001B[0;32mIn [10]\u001B[0m, in \u001B[0;36m<cell line: 1>\u001B[0;34m()\u001B[0m\n\u001B[0;32m----> 1\u001B[0m x_resized_train \u001B[38;5;241m=\u001B[39m tf\u001B[38;5;241m.\u001B[39mimage\u001B[38;5;241m.\u001B[39mresize(\u001B[43mtf\u001B[49m\u001B[38;5;241;43m.\u001B[39;49m\u001B[43mexpand_dims\u001B[49m\u001B[43m(\u001B[49m\u001B[43mx_train\u001B[49m\u001B[43m,\u001B[49m\u001B[43m \u001B[49m\u001B[38;5;241;43m-\u001B[39;49m\u001B[38;5;241;43m1\u001B[39;49m\u001B[43m)\u001B[49m, (\u001B[38;5;241m100\u001B[39m, \u001B[38;5;241m100\u001B[39m))\n\u001B[1;32m      2\u001B[0m x_resized_train \u001B[38;5;241m=\u001B[39m tf\u001B[38;5;241m.\u001B[39mkeras\u001B[38;5;241m.\u001B[39mlayers\u001B[38;5;241m.\u001B[39mLambda(\u001B[38;5;28;01mlambda\u001B[39;00m x: x[:, :, :, \u001B[38;5;241m0\u001B[39m])(x_resized_train)\n\u001B[1;32m      4\u001B[0m x_resized_val \u001B[38;5;241m=\u001B[39m tf\u001B[38;5;241m.\u001B[39mimage\u001B[38;5;241m.\u001B[39mresize(tf\u001B[38;5;241m.\u001B[39mexpand_dims(x_val, \u001B[38;5;241m-\u001B[39m\u001B[38;5;241m1\u001B[39m), (\u001B[38;5;241m100\u001B[39m, \u001B[38;5;241m100\u001B[39m))\n",
      "File \u001B[0;32m/usr/local/lib/python3.9/dist-packages/tensorflow/python/util/traceback_utils.py:153\u001B[0m, in \u001B[0;36mfilter_traceback.<locals>.error_handler\u001B[0;34m(*args, **kwargs)\u001B[0m\n\u001B[1;32m    151\u001B[0m \u001B[38;5;28;01mexcept\u001B[39;00m \u001B[38;5;167;01mException\u001B[39;00m \u001B[38;5;28;01mas\u001B[39;00m e:\n\u001B[1;32m    152\u001B[0m   filtered_tb \u001B[38;5;241m=\u001B[39m _process_traceback_frames(e\u001B[38;5;241m.\u001B[39m__traceback__)\n\u001B[0;32m--> 153\u001B[0m   \u001B[38;5;28;01mraise\u001B[39;00m e\u001B[38;5;241m.\u001B[39mwith_traceback(filtered_tb) \u001B[38;5;28;01mfrom\u001B[39;00m \u001B[38;5;28mNone\u001B[39m\n\u001B[1;32m    154\u001B[0m \u001B[38;5;28;01mfinally\u001B[39;00m:\n\u001B[1;32m    155\u001B[0m   \u001B[38;5;28;01mdel\u001B[39;00m filtered_tb\n",
      "File \u001B[0;32m/usr/local/lib/python3.9/dist-packages/tensorflow/python/framework/constant_op.py:102\u001B[0m, in \u001B[0;36mconvert_to_eager_tensor\u001B[0;34m(value, ctx, dtype)\u001B[0m\n\u001B[1;32m    100\u001B[0m     dtype \u001B[38;5;241m=\u001B[39m dtypes\u001B[38;5;241m.\u001B[39mas_dtype(dtype)\u001B[38;5;241m.\u001B[39mas_datatype_enum\n\u001B[1;32m    101\u001B[0m ctx\u001B[38;5;241m.\u001B[39mensure_initialized()\n\u001B[0;32m--> 102\u001B[0m \u001B[38;5;28;01mreturn\u001B[39;00m \u001B[43mops\u001B[49m\u001B[38;5;241;43m.\u001B[39;49m\u001B[43mEagerTensor\u001B[49m\u001B[43m(\u001B[49m\u001B[43mvalue\u001B[49m\u001B[43m,\u001B[49m\u001B[43m \u001B[49m\u001B[43mctx\u001B[49m\u001B[38;5;241;43m.\u001B[39;49m\u001B[43mdevice_name\u001B[49m\u001B[43m,\u001B[49m\u001B[43m \u001B[49m\u001B[43mdtype\u001B[49m\u001B[43m)\u001B[49m\n",
      "\u001B[0;31mInternalError\u001B[0m: Failed copying input tensor from /job:localhost/replica:0/task:0/device:CPU:0 to /job:localhost/replica:0/task:0/device:GPU:0 in order to run _EagerConst: Dst tensor is not initialized."
     ]
    }
   ],
   "source": [
    "x_resized_train = tf.image.resize(tf.expand_dims(x_train, -1), (100, 100))\n",
    "x_resized_train = tf.keras.layers.Lambda(lambda x: x[:, :, :, 0])(x_resized_train)\n",
    "\n",
    "x_resized_val = tf.image.resize(tf.expand_dims(x_val, -1), (100, 100))\n",
    "x_resized_val = tf.keras.layers.Lambda(lambda x: x[:, :, :, 0])(x_resized_val)"
   ],
   "metadata": {
    "collapsed": false
   }
  },
  {
   "cell_type": "code",
   "execution_count": 8,
   "outputs": [],
   "source": [
    "def create_model(**kwargs):\n",
    "    shape = (100, 100)\n",
    "    inputs = tf.keras.Input((28, 28))\n",
    "    theta = np.pi/2.\n",
    "    eta = 0.\n",
    "    tf.random.set_seed(kwargs[\"seed\"])\n",
    "    x_resized = ImageResizing(shape)(inputs)\n",
    "    x = IntensityToElectricField(shape)(x_resized)\n",
    "    x = AngularSpectrum(shape, wavelength=wavelength, z=z, d=d, n=n, method='expand', normalization=\"max\")(x)\n",
    "    x = MO(shape, limitation='sin', theta=theta, eta=eta)(x)\n",
    "    x = AngularSpectrum(shape, wavelength=wavelength, z=z, d=d, n=n, method='expand', normalization=\"max\")(x)\n",
    "    x = MO(shape, limitation='sin', theta=theta, eta=eta)(x)\n",
    "    x = AngularSpectrum(shape, wavelength=wavelength, z=z, d=d, n=n, method='expand', normalization=\"max\")(x)\n",
    "    x = MO(shape, limitation='sin', theta=theta, eta=eta)(x)\n",
    "    x = AngularSpectrum(shape, wavelength=wavelength, z=z, d=d, n=n, method='expand', normalization=\"max\")(x)\n",
    "    x = MO(shape, limitation='sin', theta=theta, eta=eta)(x)\n",
    "    x = AngularSpectrum(shape, wavelength=wavelength, z=z, d=d, n=n, method='expand', normalization=\"max\")(x)\n",
    "    x = MO(shape, limitation='sin', theta=theta, eta=eta)(x)\n",
    "    x = AngularSpectrum(shape, wavelength=wavelength, z=z, d=d, n=n, method='expand', normalization=\"max\")(x)\n",
    "    x = PhotoMask(shape, row=3, col=3, width=10, height=10)(x)\n",
    "    x = AngularSpectrum(shape, wavelength=wavelength, z=z, d=d, n=n, method='expand', normalization=\"max\")(x)\n",
    "    x = MO(shape, limitation='sin', theta=theta, eta=eta)(x)\n",
    "    x = AngularSpectrum(shape, wavelength=wavelength, z=z, d=d, n=n, method='expand', normalization=\"max\")(x)\n",
    "    x = MO(shape, limitation='sin', theta=theta, eta=eta)(x)\n",
    "    x = AngularSpectrum(shape, wavelength=wavelength, z=z, d=d, n=n, method='expand', normalization=\"max\")(x)\n",
    "    x = MO(shape, limitation='sin', theta=theta, eta=eta)(x)\n",
    "    x = AngularSpectrum(shape, wavelength=wavelength, z=z, d=d, n=n, method='expand', normalization=\"max\")(x)\n",
    "    x = MO(shape, limitation='sin', theta=theta, eta=eta)(x)\n",
    "    x = AngularSpectrum(shape, wavelength=wavelength, z=z, d=d, n=n, method='expand', normalization=\"max\")(x)\n",
    "    x = MO(shape, limitation='sin', theta=theta, eta=eta)(x)\n",
    "    x = AngularSpectrum(shape, wavelength=wavelength, z=z, d=d, n=n, method='expand', normalization=\"max\")(x)\n",
    "    x = ElectricFieldToIntensity(shape)(x)\n",
    "    model = tf.keras.Model(inputs, x)\n",
    "    return model"
   ],
   "metadata": {
    "collapsed": false
   }
  },
  {
   "cell_type": "code",
   "execution_count": null,
   "outputs": [],
   "source": [
    "model_name = \"20221107_1\"\n",
    "cholab_path = \"/content/drive/MyDrive/D2NN/\"\n",
    "checkpoint_path = cholab_path + \"checkpoint/\" + model_name + \"/cp-{epoch:04d}.ckpt\"\n",
    "checkpoint_dir = os.path.dirname(checkpoint_path)\n",
    "path = cholab_path + \"trained_model/\"+ model_name\n",
    "\n",
    "model = create_model(seed=1)\n",
    "model.summary()\n",
    "model.compile(optimizer=tf.keras.optimizers.Adam(lr=0.1),\n",
    "              loss=tf.keras.losses.BinaryCrossentropy(from_logits=True),  # category: sparse_categorical_crossentropy\n",
    "              metrics=[tf.keras.metrics.BinaryCrossentropy(from_logits=True)]\n",
    "              )\n",
    "\n",
    "epochs = 50\n",
    "early_stopping = tf.keras.callbacks.EarlyStopping(\n",
    "        monitor='loss',\n",
    "        min_delta=0.0002,\n",
    "        patience=2,\n",
    "    )\n",
    "\n",
    "def lr_schedule(epoch):\n",
    "  \"\"\"\n",
    "  Returns a custom learning rate that decreases as epochs progress.\n",
    "  \"\"\"\n",
    "  start = 0.2\n",
    "  end = 0.0001\n",
    "  n = 50\n",
    "  a = -1/(n-1) * np.log(end/start)\n",
    "  x = np.arange(n)\n",
    "  return np.exp(-a*(epoch-1)) * start\n",
    "lr_callback = tf.keras.callbacks.LearningRateScheduler(lr_schedule)\n",
    "\n",
    "# チェックポイントコールバックを作る\n",
    "cp_callback = tf.keras.callbacks.ModelCheckpoint(checkpoint_path,\n",
    "                                                 save_weights_only=True,\n",
    "                                                 verbose=1)\n",
    "\n",
    "logdir = os.path.join(cholab_path +\"logs\", model_name)\n",
    "tensorboard_callback = tf.keras.callbacks.TensorBoard(logdir, histogram_freq=1)\n",
    "\n",
    "result = model.fit(x_train,\n",
    "                   x_train,\n",
    "                   batch_size=64,\n",
    "                   epochs=epochs,\n",
    "                   validation_data=(x_val, x_resized_val),\n",
    "                   callbacks=[lr_callback, cp_callback, tensorboard_callback, early_stopping]\n",
    "                   )\n",
    "\n",
    "model.save(path)\n",
    "\n",
    "df = pd.DataFrame(result.history)\n",
    "df.to_csv(path + \"/history.csv\")\n",
    "\n",
    "\n",
    "\n",
    "with open(path + \"/config.json\", 'w') as f:\n",
    "    json.dump(model.get_config(), f, indent=4)"
   ],
   "metadata": {
    "collapsed": false
   }
  }
 ],
 "metadata": {
  "kernelspec": {
   "display_name": "Python 3",
   "language": "python",
   "name": "python3"
  },
  "language_info": {
   "codemirror_mode": {
    "name": "ipython",
    "version": 2
   },
   "file_extension": ".py",
   "mimetype": "text/x-python",
   "name": "python",
   "nbconvert_exporter": "python",
   "pygments_lexer": "ipython2",
   "version": "2.7.6"
  }
 },
 "nbformat": 4,
 "nbformat_minor": 0
}
