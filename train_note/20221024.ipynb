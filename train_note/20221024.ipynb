{
 "cells": [
  {
   "cell_type": "markdown",
   "source": [
    "# GAN テスト"
   ],
   "metadata": {
    "collapsed": false
   }
  },
  {
   "cell_type": "code",
   "execution_count": 1,
   "outputs": [],
   "source": [
    "import tensorflow as tf"
   ],
   "metadata": {
    "collapsed": false
   }
  },
  {
   "cell_type": "code",
   "execution_count": 2,
   "outputs": [],
   "source": [
    "import glob\n",
    "import imageio\n",
    "import matplotlib.pyplot as plt\n",
    "import numpy as np\n",
    "import os\n",
    "import PIL\n",
    "from tensorflow.keras import layers\n",
    "import time\n",
    "\n",
    "from IPython import display"
   ],
   "metadata": {
    "collapsed": false
   }
  },
  {
   "cell_type": "code",
   "execution_count": 3,
   "outputs": [
    {
     "name": "stdout",
     "output_type": "stream",
     "text": [
      "Downloading data from https://storage.googleapis.com/tensorflow/tf-keras-datasets/train-labels-idx1-ubyte.gz\n",
      "29515/29515 [==============================] - 0s 0us/step\n",
      "Downloading data from https://storage.googleapis.com/tensorflow/tf-keras-datasets/train-images-idx3-ubyte.gz\n",
      "26421880/26421880 [==============================] - 0s 0us/step\n",
      "Downloading data from https://storage.googleapis.com/tensorflow/tf-keras-datasets/t10k-labels-idx1-ubyte.gz\n",
      "5148/5148 [==============================] - 0s 0us/step\n",
      "Downloading data from https://storage.googleapis.com/tensorflow/tf-keras-datasets/t10k-images-idx3-ubyte.gz\n",
      "4422102/4422102 [==============================] - 0s 0us/step\n"
     ]
    }
   ],
   "source": [
    "(train_images, train_labels), (_, _) = tf.keras.datasets.fashion_mnist.load_data()"
   ],
   "metadata": {
    "collapsed": false
   }
  },
  {
   "cell_type": "code",
   "execution_count": 4,
   "outputs": [],
   "source": [
    "#train_images = train_images[np.where((train_labels==8) | (train_labels==9))]\n",
    "#train_labels = train_labels[np.where(train_labels==8 | (train_labels==9))]"
   ],
   "metadata": {
    "collapsed": false
   }
  },
  {
   "cell_type": "code",
   "execution_count": 5,
   "outputs": [],
   "source": [
    "train_images = train_images.reshape(train_images.shape[0], 28, 28, 1).astype('float32')\n",
    "train_images = train_images / 256.0   # Normalize the images to [0, 1]"
   ],
   "metadata": {
    "collapsed": false
   }
  },
  {
   "cell_type": "code",
   "execution_count": 6,
   "outputs": [],
   "source": [
    "BUFFER_SIZE = len(train_labels)\n",
    "BATCH_SIZE = 255"
   ],
   "metadata": {
    "collapsed": false
   }
  },
  {
   "cell_type": "code",
   "execution_count": 7,
   "outputs": [],
   "source": [
    "# Batch and shuffle the data\n",
    "train_dataset = tf.data.Dataset.from_tensor_slices(train_images).shuffle(BUFFER_SIZE).batch(BATCH_SIZE)"
   ],
   "metadata": {
    "collapsed": false
   }
  },
  {
   "cell_type": "code",
   "execution_count": 8,
   "outputs": [],
   "source": [
    "class ComplexDense(tf.keras.layers.Layer):\n",
    "\n",
    "  def __init__(self, units=32):\n",
    "      super(ComplexDense, self).__init__()\n",
    "      self.units = units\n",
    "\n",
    "  def build(self, input_shape):\n",
    "      self.w_real = self.add_weight(shape=(input_shape[-1], self.units),\n",
    "                               initializer='random_normal',\n",
    "                               trainable=True)\n",
    "      self.w_imag = self.add_weight(shape=(input_shape[-1], self.units),\n",
    "                               initializer='random_normal',\n",
    "                               trainable=True)\n",
    "\n",
    "      #self.b_real = self.add_weight(shape=(self.units,), initializer='random_normal', trainable=True)\n",
    "      #self.b_imag = self.add_weight(shape=(self.units,), initializer='random_normal', trainable=True)\n",
    "\n",
    "  def call(self, inputs):\n",
    "      return tf.matmul(inputs, tf.complex(self.w_real, self.w_imag))# + tf.complex(self.b_real, self.b_imag)"
   ],
   "metadata": {
    "collapsed": false
   }
  },
  {
   "cell_type": "code",
   "execution_count": 9,
   "outputs": [],
   "source": [
    "def make_generator_model():\n",
    "    model = tf.keras.Sequential()\n",
    "    model.add(layers.Dense(7*7*256, use_bias=False, input_shape=(100,)))\n",
    "    model.add(layers.BatchNormalization())\n",
    "    model.add(layers.LeakyReLU())\n",
    "\n",
    "    model.add(layers.Reshape((7, 7, 256)))\n",
    "    assert model.output_shape == (None, 7, 7, 256)  # Note: None is the batch size\n",
    "\n",
    "    model.add(layers.Conv2DTranspose(128, (5, 5), strides=(1, 1), padding='same', use_bias=False))\n",
    "    assert model.output_shape == (None, 7, 7, 128)\n",
    "    model.add(layers.BatchNormalization())\n",
    "    model.add(layers.LeakyReLU())\n",
    "\n",
    "    model.add(layers.Conv2DTranspose(64, (5, 5), strides=(2, 2), padding='same', use_bias=False))\n",
    "    assert model.output_shape == (None, 14, 14, 64)\n",
    "    model.add(layers.BatchNormalization())\n",
    "    model.add(layers.LeakyReLU())\n",
    "\n",
    "    model.add(layers.Conv2DTranspose(1, (5, 5), strides=(2, 2), padding='same', use_bias=False, activation='tanh'))\n",
    "    assert model.output_shape == (None, 28, 28, 1)\n",
    "\n",
    "    return model"
   ],
   "metadata": {
    "collapsed": false
   }
  },
  {
   "cell_type": "code",
   "execution_count": 10,
   "outputs": [],
   "source": [
    "def make_complex_generator_model():\n",
    "    model = tf.keras.Sequential()\n",
    "    model.add(layers.Lambda(lambda x: tf.complex(tf.cos(x), tf.sin(x))))\n",
    "    model.add(ComplexDense(200*200))\n",
    "    model.add(layers.Lambda(lambda x:tf.abs(x)**2))\n",
    "    model.add(layers.Reshape((200, 200)))\n",
    "    model.add(layers.Lambda(lambda x: tf.expand_dims(x, axis=-1)))\n",
    "    return model"
   ],
   "metadata": {
    "collapsed": false
   }
  },
  {
   "cell_type": "code",
   "execution_count": 11,
   "outputs": [
    {
     "data": {
      "text/plain": "(None, 100)"
     },
     "execution_count": 11,
     "metadata": {},
     "output_type": "execute_result"
    }
   ],
   "source": [
    "generator = make_generator_model()\n",
    "generator.input_shape"
   ],
   "metadata": {
    "collapsed": false
   }
  },
  {
   "cell_type": "code",
   "execution_count": 12,
   "outputs": [
    {
     "data": {
      "text/plain": "<matplotlib.image.AxesImage at 0x7f45d87bff70>"
     },
     "execution_count": 12,
     "metadata": {},
     "output_type": "execute_result"
    },
    {
     "data": {
      "text/plain": "<Figure size 432x288 with 1 Axes>",
      "image/png": "[encoded data removed]"
     },
     "metadata": {
      "needs_background": "light"
     },
     "output_type": "display_data"
    }
   ],
   "source": [
    "generator = make_generator_model()\n",
    "\n",
    "noise = tf.random.normal([1, 100], dtype=tf.float32)\n",
    "generated_image = generator(noise, training=False)\n",
    "\n",
    "#plt.imshow(generated_image[0, :, :, 0], cmap='gray')\n",
    "plt.imshow(tf.reshape(noise, (10,10)), cmap='gray')"
   ],
   "metadata": {
    "collapsed": false
   }
  },
  {
   "cell_type": "code",
   "execution_count": 13,
   "outputs": [],
   "source": [
    "def make_discriminator_model():\n",
    "    model = tf.keras.Sequential()\n",
    "    model.add(layers.Lambda(lambda x: tf.image.resize(x, (28, 28))))\n",
    "    model.add(layers.Conv2D(64, (5, 5), strides=(2, 2), padding='same',\n",
    "                                     input_shape=[28, 28, 1]))\n",
    "    model.add(layers.LeakyReLU())\n",
    "    model.add(layers.Dropout(0.3))\n",
    "\n",
    "    model.add(layers.Conv2D(128, (5, 5), strides=(2, 2), padding='same'))\n",
    "    model.add(layers.LeakyReLU())\n",
    "    model.add(layers.Dropout(0.3))\n",
    "\n",
    "    model.add(layers.Flatten())\n",
    "    model.add(layers.Dense(1))\n",
    "\n",
    "    return model"
   ],
   "metadata": {
    "collapsed": false
   }
  },
  {
   "cell_type": "code",
   "execution_count": 14,
   "outputs": [
    {
     "name": "stdout",
     "output_type": "stream",
     "text": [
      "tf.Tensor([[0.00105911]], shape=(1, 1), dtype=float32)\n"
     ]
    }
   ],
   "source": [
    "discriminator = make_discriminator_model()\n",
    "decision = discriminator(generated_image)\n",
    "print (decision)"
   ],
   "metadata": {
    "collapsed": false
   }
  },
  {
   "cell_type": "code",
   "execution_count": 15,
   "outputs": [],
   "source": [
    "# This method returns a helper function to compute cross entropy loss\n",
    "cross_entropy = tf.keras.losses.BinaryCrossentropy(from_logits=True)"
   ],
   "metadata": {
    "collapsed": false
   }
  },
  {
   "cell_type": "code",
   "execution_count": 16,
   "outputs": [],
   "source": [
    "def discriminator_loss(real_output, fake_output):\n",
    "    real_loss = cross_entropy(tf.ones_like(real_output), real_output)\n",
    "    fake_loss = cross_entropy(tf.zeros_like(fake_output), fake_output)\n",
    "    total_loss = real_loss + fake_loss\n",
    "    return total_loss"
   ],
   "metadata": {
    "collapsed": false
   }
  },
  {
   "cell_type": "code",
   "execution_count": 17,
   "outputs": [],
   "source": [
    "def generator_loss(fake_output):\n",
    "    return cross_entropy(tf.ones_like(fake_output), fake_output)"
   ],
   "metadata": {
    "collapsed": false
   }
  },
  {
   "cell_type": "code",
   "execution_count": 18,
   "outputs": [],
   "source": [
    "generator_optimizer = tf.keras.optimizers.Adam(1e-4)\n",
    "discriminator_optimizer = tf.keras.optimizers.Adam(1e-4)"
   ],
   "metadata": {
    "collapsed": false
   }
  },
  {
   "cell_type": "code",
   "execution_count": 19,
   "outputs": [],
   "source": [
    "model_name = \"20221024_1\"\n",
    "checkpoint_dir = \"checkpoint/\" + model_name\n",
    "checkpoint_prefix = os.path.join(checkpoint_dir, \"ckpt\")\n",
    "checkpoint = tf.train.Checkpoint(generator_optimizer=generator_optimizer,\n",
    "                                 discriminator_optimizer=discriminator_optimizer,\n",
    "                                 generator=generator,\n",
    "                                 discriminator=discriminator)"
   ],
   "metadata": {
    "collapsed": false
   }
  },
  {
   "cell_type": "code",
   "execution_count": 20,
   "outputs": [],
   "source": [
    "EPOCHS = 100\n",
    "noise_dim = 100\n",
    "num_examples_to_generate = 16\n",
    "\n",
    "# You will reuse this seed overtime (so it's easier)\n",
    "# to visualize progress in the animated GIF)\n",
    "seed = tf.random.normal([num_examples_to_generate, noise_dim])"
   ],
   "metadata": {
    "collapsed": false
   }
  },
  {
   "cell_type": "code",
   "execution_count": 21,
   "outputs": [],
   "source": [
    "# Notice the use of `tf.function`\n",
    "# This annotation causes the function to be \"compiled\".\n",
    "@tf.function\n",
    "def train_step(images):\n",
    "    #noise = tf.random.normal([BATCH_SIZE, noise_dim])\n",
    "    noise = tf.random.uniform([BATCH_SIZE, noise_dim], -np.pi, np.pi)\n",
    "    with tf.GradientTape() as gen_tape, tf.GradientTape() as disc_tape:\n",
    "      generated_images = generator(noise, training=True)\n",
    "\n",
    "      real_output = discriminator(images, training=True)\n",
    "      fake_output = discriminator(generated_images, training=True)\n",
    "\n",
    "      gen_loss = generator_loss(fake_output)\n",
    "      disc_loss = discriminator_loss(real_output, fake_output)\n",
    "\n",
    "    gradients_of_generator = gen_tape.gradient(gen_loss, generator.trainable_variables)\n",
    "    gradients_of_discriminator = disc_tape.gradient(disc_loss, discriminator.trainable_variables)\n",
    "\n",
    "    generator_optimizer.apply_gradients(zip(gradients_of_generator, generator.trainable_variables))\n",
    "    discriminator_optimizer.apply_gradients(zip(gradients_of_discriminator, discriminator.trainable_variables))"
   ],
   "metadata": {
    "collapsed": false
   }
  },
  {
   "cell_type": "code",
   "execution_count": 22,
   "outputs": [],
   "source": [
    "def train(dataset, epochs):\n",
    "  for epoch in range(epochs):\n",
    "    start = time.time()\n",
    "\n",
    "    for image_batch in dataset:\n",
    "      train_step(image_batch)\n",
    "\n",
    "    # Produce images for the GIF as you go\n",
    "    display.clear_output(wait=True)\n",
    "    generate_and_save_images(generator,\n",
    "                             epoch + 1,\n",
    "                             seed)\n",
    "\n",
    "    # Save the model every 15 epochs\n",
    "    #if (epoch + 1) % 15 == 0:\n",
    "      #checkpoint.save(file_prefix = checkpoint_prefix)\n",
    "\n",
    "    print ('Time for epoch {} is {} sec'.format(epoch + 1, time.time()-start))\n",
    "\n",
    "  # Generate after the final epoch\n",
    "  display.clear_output(wait=True)\n",
    "  generate_and_save_images(generator,\n",
    "                           epochs,\n",
    "                           seed)"
   ],
   "metadata": {
    "collapsed": false
   }
  },
  {
   "cell_type": "code",
   "execution_count": 23,
   "outputs": [],
   "source": [
    "def generate_and_save_images(model, epoch, test_input):\n",
    "  # Notice `training` is set to False.\n",
    "  # This is so all layers run in inference mode (batchnorm).\n",
    "  predictions = model(test_input, training=False)\n",
    "\n",
    "  fig = plt.figure(figsize=(4, 4))\n",
    "\n",
    "  for i in range(predictions.shape[0]):\n",
    "      plt.subplot(4, 4, i+1)\n",
    "      plt.imshow(predictions[i, :, :, 0] * 127.5 + 127.5, cmap='gray')\n",
    "      plt.axis('off')\n",
    "\n",
    "  plt.savefig('images/gan-fasion/image_at_epoch_{:04d}.png'.format(epoch), dpi=200)\n",
    "  plt.show()"
   ],
   "metadata": {
    "collapsed": false
   }
  },
  {
   "cell_type": "code",
   "execution_count": 24,
   "outputs": [
    {
     "data": {
      "text/plain": "<Figure size 288x288 with 16 Axes>",
      "image/png": "[encoded data removed]"
     },
     "metadata": {
      "needs_background": "light"
     },
     "output_type": "display_data"
    }
   ],
   "source": [
    "train(train_dataset, EPOCHS)"
   ],
   "metadata": {
    "collapsed": false
   }
  },
  {
   "cell_type": "code",
   "execution_count": 25,
   "outputs": [
    {
     "name": "stderr",
     "output_type": "stream",
     "text": [
      "/tmp/ipykernel_50/1529122979.py:7: DeprecationWarning: Starting with ImageIO v3 the behavior of this function will switch to that of iio.v3.imread. To keep the current behavior (and make this warning dissapear) use `import imageio.v2 as imageio` or call `imageio.v2.imread` directly.\n",
      "  image = imageio.imread(filename)\n",
      "/tmp/ipykernel_50/1529122979.py:9: DeprecationWarning: Starting with ImageIO v3 the behavior of this function will switch to that of iio.v3.imread. To keep the current behavior (and make this warning dissapear) use `import imageio.v2 as imageio` or call `imageio.v2.imread` directly.\n",
      "  image = imageio.imread(filename)\n"
     ]
    }
   ],
   "source": [
    "anim_file = 'gan-fashion.gif'\n",
    "\n",
    "with imageio.get_writer(anim_file, mode='I') as writer:\n",
    "  filenames = glob.glob('images/gan-fasion/*.png')\n",
    "  filenames = sorted(filenames)\n",
    "  for filename in filenames:\n",
    "    image = imageio.imread(filename)\n",
    "    writer.append_data(image)\n",
    "  image = imageio.imread(filename)\n",
    "  writer.append_data(image)"
   ],
   "metadata": {
    "collapsed": false
   }
  },
  {
   "cell_type": "markdown",
   "source": [
    "# MO-GAN"
   ],
   "metadata": {
    "collapsed": false
   }
  },
  {
   "cell_type": "code",
   "execution_count": 1,
   "outputs": [
    {
     "name": "stdout",
     "output_type": "stream",
     "text": [
      "Cloning into 'MOD2NN'...\r\n",
      "warning: redirecting to https://github.com/konnitiha3/MOD2NN.git/\r\n",
      "remote: Enumerating objects: 1504, done.\u001B[K\r\n",
      "remote: Counting objects: 100% (269/269), done.\u001B[K\r\n",
      "remote: Compressing objects: 100% (155/155), done.\u001B[K\r\n",
      "remote: Total 1504 (delta 147), reused 189 (delta 91), pack-reused 1235\u001B[K\r\n",
      "Receiving objects: 100% (1504/1504), 42.40 MiB | 24.18 MiB/s, done.\r\n",
      "Resolving deltas: 100% (852/852), done.\r\n"
     ]
    }
   ],
   "source": [
    "# paperspace gradient用\n",
    "! rm -rf MOD2NN\n",
    "! git clone https://$$TOKEN@github.com/konnitiha3/MOD2NN.git\n",
    "\n",
    "import sys\n",
    "sys.path.append('/notebooks/MOD2NN')"
   ],
   "metadata": {
    "collapsed": false
   }
  },
  {
   "cell_type": "code",
   "execution_count": 3,
   "outputs": [],
   "source": [
    "import sys\n",
    "sys.path.append('/notebooks/MOD2NN')"
   ],
   "metadata": {
    "collapsed": false
   }
  },
  {
   "cell_type": "code",
   "execution_count": 4,
   "outputs": [
    {
     "name": "stdout",
     "output_type": "stream",
     "text": [
      "TensorFlow: 2.9.1\n",
      "Python: 3.9.13 (main, May 23 2022, 22:01:06) \n",
      "[GCC 9.4.0]\n"
     ]
    }
   ],
   "source": [
    "import time\n",
    "import sys\n",
    "import os\n",
    "\n",
    "from tensorflow.keras import layers\n",
    "from Faraday.two_dim.module.lib.layers import *\n",
    "\n",
    "tf.random.set_seed(1)\n",
    "\n",
    "print(\"TensorFlow:\", tf.__version__)\n",
    "print(\"Python:\", sys.version)\n",
    "\n",
    "plt.rcParams['font.size'] = 18"
   ],
   "metadata": {
    "collapsed": false
   }
  },
  {
   "cell_type": "code",
   "execution_count": 46,
   "outputs": [
    {
     "name": "stdout",
     "output_type": "stream",
     "text": [
      "Downloading data from https://storage.googleapis.com/tensorflow/tf-keras-datasets/train-labels-idx1-ubyte.gz\n",
      "29515/29515 [==============================] - 0s 0us/step\n",
      "Downloading data from https://storage.googleapis.com/tensorflow/tf-keras-datasets/train-images-idx3-ubyte.gz\n",
      "26421880/26421880 [==============================] - 0s 0us/step\n",
      "Downloading data from https://storage.googleapis.com/tensorflow/tf-keras-datasets/t10k-labels-idx1-ubyte.gz\n",
      "5148/5148 [==============================] - 0s 0us/step\n",
      "Downloading data from https://storage.googleapis.com/tensorflow/tf-keras-datasets/t10k-images-idx3-ubyte.gz\n",
      "4422102/4422102 [==============================] - 0s 0us/step\n"
     ]
    }
   ],
   "source": [
    "(train_images, train_labels), (_, _) = tf.keras.datasets.fashion_mnist.load_data()\n",
    "\n",
    "train_images = train_images[np.where((train_labels != 1))]\n",
    "train_labels = train_labels[np.where((train_labels != 1))]\n",
    "\n",
    "train_images = train_images.reshape(train_images.shape[0], 28, 28, 1).astype('float32')\n",
    "train_images = train_images / 256.0  # Normalize the images to [0, 1]\n",
    "\n",
    "BUFFER_SIZE = len(train_labels)\n",
    "BATCH_SIZE = 256\n",
    "# Batch and shuffle the data\n",
    "train_dataset = tf.data.Dataset.from_tensor_slices(train_images).shuffle(BUFFER_SIZE).batch(BATCH_SIZE)"
   ],
   "metadata": {
    "collapsed": false
   }
  },
  {
   "cell_type": "code",
   "execution_count": 47,
   "outputs": [],
   "source": [
    "class RandomPolarization(tf.keras.layers.Layer):\n",
    "    def __init__(self, input_dist=None, trainable=False, name=None, dtype=tf.float32, **kwargs):\n",
    "        self.input_dist = None # input light distribution. if it is None, uniform distribution\n",
    "        super(RandomPolarization, self).__init__(\n",
    "            trainable=trainable,\n",
    "            name=name,\n",
    "            dtype=dtype,\n",
    "            **kwargs\n",
    "        )\n",
    "\n",
    "    def build(self, input_dim):\n",
    "        E0 = tf.constant(self.input_dist) if self.input_dist is not None else tf.ones((input_dim[-2], input_dim[-1]))\n",
    "        self.rcp_x = tf.complex(tf.sqrt(E0 / 2.0), 0.0 * E0)\n",
    "        self.lcp_x = tf.complex(tf.sqrt(E0 / 2.0), 0.0 * E0)\n",
    "        super(RandomPolarization, self).build(input_dim)\n",
    "\n",
    "    @classmethod\n",
    "    def from_config(cls, config):\n",
    "        return cls(**config)\n",
    "\n",
    "    def call(self, x):\n",
    "        phi = tf.complex(x, 0.0*x)\n",
    "\n",
    "        rcp_x_mo = self.rcp_x * tf.exp(-1.j * phi)\n",
    "        lcp_x_mo = self.lcp_x * tf.exp(1.j* phi)\n",
    "        return tf.stack([rcp_x_mo, lcp_x_mo], axis=1)"
   ],
   "metadata": {
    "collapsed": false
   }
  },
  {
   "cell_type": "code",
   "execution_count": 48,
   "outputs": [],
   "source": [
    "inputs = tf.keras.Input((28,28))\n",
    "x = RandomPolarization()(inputs)\n",
    "x = MO((28, 28))(x)\n",
    "model = tf.keras.Model(inputs, x)"
   ],
   "metadata": {
    "collapsed": false
   }
  },
  {
   "cell_type": "code",
   "execution_count": 49,
   "outputs": [],
   "source": [
    "wavelength = 633e-9\n",
    "d = 1.0e-6\n",
    "n = 1.0"
   ],
   "metadata": {
    "collapsed": false
   }
  },
  {
   "cell_type": "code",
   "execution_count": 50,
   "outputs": [],
   "source": [
    "def make_generator_model(out_shape):\n",
    "    model = tf.keras.Sequential()\n",
    "    model.add(ImageResizing(out_shape))\n",
    "    model.add(RandomPolarization())\n",
    "    model.add(AngularSpectrum(out_shape, wavelength=wavelength, z=0.5e-3, d=d, n=1.0, normalization=\"max\"))\n",
    "    model.add(MO(out_shape, limitation=\"sin\", theta=np.pi, eta=0.))\n",
    "    model.add(AngularSpectrum(out_shape, wavelength=wavelength, z=0.5e-3, d=d, n=1.0, normalization=\"max\"))\n",
    "    model.add(MO(out_shape, limitation=\"sin\", theta=np.pi, eta=0.))\n",
    "    model.add(AngularSpectrum(out_shape, wavelength=wavelength, z=0.5e-3, d=d, n=1.0, normalization=\"max\"))\n",
    "    model.add(MO(out_shape, limitation=\"sin\", theta=np.pi, eta=0.))\n",
    "    model.add(AngularSpectrum(out_shape, wavelength=wavelength, z=0.5e-3, d=d, n=1.0, normalization=\"max\"))\n",
    "    model.add(MO(out_shape, limitation=\"sin\", theta=np.pi, eta=0.))\n",
    "    model.add(AngularSpectrum(out_shape, wavelength=wavelength, z=0.5e-3, d=d, n=1.0, normalization=\"max\"))\n",
    "    model.add(MO(out_shape, limitation=\"sin\", theta=np.pi, eta=0.))\n",
    "    model.add(AngularSpectrum(out_shape, wavelength=wavelength, z=0.5e-3, d=d, n=1.0, normalization=\"max\"))\n",
    "    model.add(ElectricFieldToIntensity(out_shape))\n",
    "    model.add(tf.keras.layers.Lambda(lambda x: tf.expand_dims(x, axis=-1)))\n",
    "    return model"
   ],
   "metadata": {
    "collapsed": false
   }
  },
  {
   "cell_type": "code",
   "execution_count": 51,
   "outputs": [],
   "source": [
    "noise = tf.random.categorical(tf.math.log([[0.5, 0.5]]), 10*10)\n",
    "noise = tf.reshape(noise, (10,10))"
   ],
   "metadata": {
    "collapsed": false
   }
  },
  {
   "cell_type": "code",
   "execution_count": 52,
   "outputs": [
    {
     "data": {
      "text/plain": "<matplotlib.colorbar.Colorbar at 0x7f04ac48b130>"
     },
     "execution_count": 52,
     "metadata": {},
     "output_type": "execute_result"
    },
    {
     "data": {
      "text/plain": "<Figure size 432x288 with 2 Axes>",
      "image/png": "[encoded data removed]"
     },
     "metadata": {
      "needs_background": "light"
     },
     "output_type": "display_data"
    }
   ],
   "source": [
    "generator = make_generator_model((100, 100))\n",
    "\n",
    "noise = 2*(tf.random.categorical(tf.math.log([[0.5, 0.5]]), 10*10))-1\n",
    "noise = tf.reshape(tf.cast(noise, tf.float32), (1,10,10)) * np.pi/2.\n",
    "#noise = tf.random.uniform([1, 10, 10], -np.pi, np.pi)\n",
    "generated_image = generator(noise)\n",
    "\n",
    "plt.imshow(generated_image[0, :, :, 0], cmap='gray')\n",
    "plt.colorbar()"
   ],
   "metadata": {
    "collapsed": false
   }
  },
  {
   "cell_type": "code",
   "execution_count": 53,
   "outputs": [],
   "source": [
    "def make_discriminator_model():\n",
    "    model = tf.keras.Sequential()\n",
    "    #model.add(layers.Lambda(lambda x: tf.image.resize(x, (28, 28))))\n",
    "    model.add(layers.Conv2D(64, (5, 5), strides=(2, 2), padding='same',\n",
    "                                     input_shape=[100, 100, 1]))\n",
    "    model.add(layers.LeakyReLU())\n",
    "    model.add(layers.Dropout(0.3))\n",
    "\n",
    "    model.add(layers.Conv2D(128, (5, 5), strides=(2, 2), padding='same'))\n",
    "    model.add(layers.LeakyReLU())\n",
    "    model.add(layers.Dropout(0.3))\n",
    "\n",
    "    model.add(layers.Flatten())\n",
    "    model.add(layers.Dense(1))\n",
    "\n",
    "    return model"
   ],
   "metadata": {
    "collapsed": false
   }
  },
  {
   "cell_type": "code",
   "execution_count": 54,
   "outputs": [
    {
     "name": "stdout",
     "output_type": "stream",
     "text": [
      "tf.Tensor([[-0.00657254]], shape=(1, 1), dtype=float32)\n"
     ]
    }
   ],
   "source": [
    "discriminator = make_discriminator_model()\n",
    "decision = discriminator(generated_image)\n",
    "print (decision)"
   ],
   "metadata": {
    "collapsed": false
   }
  },
  {
   "cell_type": "code",
   "execution_count": 55,
   "outputs": [],
   "source": [
    "# This method returns a helper function to compute cross entropy loss\n",
    "cross_entropy = tf.keras.losses.BinaryCrossentropy(from_logits=True)\n",
    "\n",
    "\n",
    "def discriminator_loss(real_output, fake_output):\n",
    "    real_loss = cross_entropy(tf.ones_like(real_output), real_output)\n",
    "    fake_loss = cross_entropy(tf.zeros_like(fake_output), fake_output)\n",
    "    total_loss = real_loss + fake_loss\n",
    "    return total_loss\n",
    "\n",
    "\n",
    "def generator_loss(fake_output):\n",
    "    return cross_entropy(tf.ones_like(fake_output), fake_output)\n",
    "\n",
    "\n",
    "generator_optimizer = tf.keras.optimizers.Adam(1e-4)\n",
    "discriminator_optimizer = tf.keras.optimizers.Adam(1e-4)\n",
    "\n",
    "model_name = \"20221024_2\"\n",
    "checkpoint_dir = \"checkpoint/\" + model_name\n",
    "checkpoint_prefix = os.path.join(checkpoint_dir, \"ckpt\")\n",
    "checkpoint = tf.train.Checkpoint(generator_optimizer=generator_optimizer,\n",
    "                                 discriminator_optimizer=discriminator_optimizer,\n",
    "                                 generator=generator,\n",
    "                                 discriminator=discriminator)"
   ],
   "metadata": {
    "collapsed": false
   }
  },
  {
   "cell_type": "code",
   "execution_count": 56,
   "outputs": [],
   "source": [
    "EPOCHS = 50\n",
    "noise_dim = [10, 10]\n",
    "num_examples_to_generate = 16\n",
    "\n",
    "# You will reuse this seed overtime (so it's easier)\n",
    "# to visualize progress in the animated GIF)\n",
    "#seed = tf.random.normal([num_examples_to_generate, *noise_dim])\n",
    "seed = tf.random.uniform([num_examples_to_generate, *noise_dim], -np.pi/2, np.pi/2)\n",
    "\n",
    "#seed = 2*(tf.random.categorical(tf.math.log([[0.5, 0.5]]), num_examples_to_generate * 10*10))-1\n",
    "#seed = tf.reshape(tf.cast(seed, tf.float32), (num_examples_to_generate,10,10)) * np.pi/2."
   ],
   "metadata": {
    "collapsed": false
   }
  },
  {
   "cell_type": "code",
   "execution_count": 57,
   "outputs": [],
   "source": [
    "# Notice the use of `tf.function`\n",
    "# This annotation causes the function to be \"compiled\".\n",
    "@tf.function\n",
    "def train_step(images):\n",
    "    noise = tf.random.uniform([BATCH_SIZE, *noise_dim], -np.pi/2, np.pi/2)\n",
    "    #noise = 2*(tf.random.categorical(tf.math.log([[0.5, 0.5]]), 10*10))-1\n",
    "    #noise = tf.reshape(tf.cast(noise, tf.float32), (1,10,10)) * np.pi/2.\n",
    "\n",
    "    with tf.GradientTape() as gen_tape, tf.GradientTape() as disc_tape:\n",
    "      generated_images = generator(noise, training=True)\n",
    "\n",
    "      real_output = discriminator(images, training=True)\n",
    "      fake_output = discriminator(generated_images, training=True)\n",
    "\n",
    "      gen_loss = generator_loss(fake_output)\n",
    "      disc_loss = discriminator_loss(real_output, fake_output)\n",
    "\n",
    "    gradients_of_generator = gen_tape.gradient(gen_loss, generator.trainable_variables)\n",
    "    gradients_of_discriminator = disc_tape.gradient(disc_loss, discriminator.trainable_variables)\n",
    "\n",
    "    generator_optimizer.apply_gradients(zip(gradients_of_generator, generator.trainable_variables))\n",
    "    discriminator_optimizer.apply_gradients(zip(gradients_of_discriminator, discriminator.trainable_variables))"
   ],
   "metadata": {
    "collapsed": false
   }
  },
  {
   "cell_type": "code",
   "execution_count": 58,
   "outputs": [],
   "source": [
    "def train(dataset, epochs):\n",
    "  for epoch in range(epochs):\n",
    "    start = time.time()\n",
    "\n",
    "    for image_batch in dataset:\n",
    "        resized_image = tf.image.resize(image_batch, (100, 100))\n",
    "        train_step(resized_image[:,:,:,0])\n",
    "\n",
    "    # Produce images for the GIF as you go\n",
    "    display.clear_output(wait=True)\n",
    "    generate_and_save_images(generator,\n",
    "                             epoch + 1,\n",
    "                             seed)\n",
    "\n",
    "    # evaluate loss\n",
    "    fake_output = generator(seed, training=False)\n",
    "    gen_loss = generator_loss(fake_output)\n",
    "\n",
    "    # Save the model every 15 epochs\n",
    "    if (epoch + 1) % 15 == 0:\n",
    "      checkpoint.save(file_prefix = checkpoint_prefix)\n",
    "\n",
    "    print ('Time for epoch {} is {} sec'.format(epoch + 1, time.time()-start), f'{gen_loss=}')\n",
    "\n",
    "  # Generate after the final epoch\n",
    "  display.clear_output(wait=True)\n",
    "  generate_and_save_images(generator,\n",
    "                           epochs,\n",
    "                           seed)"
   ],
   "metadata": {
    "collapsed": false
   }
  },
  {
   "cell_type": "code",
   "execution_count": 59,
   "outputs": [],
   "source": [
    "def generate_and_save_images(model, epoch, test_input):\n",
    "    # Notice `training` is set to False.\n",
    "    # This is so all layers run in inference mode (batchnorm).\n",
    "    predictions = model(test_input, training=False)\n",
    "\n",
    "    fig = plt.figure(figsize=(4, 4))\n",
    "\n",
    "    for i in range(predictions.shape[0]):\n",
    "        plt.subplot(4, 4, i + 1)\n",
    "        plt.imshow(predictions[i, :, :, 0], cmap='gray')\n",
    "        plt.axis('off')\n",
    "\n",
    "    plt.savefig('images/mod2nn-5layer2/image_at_epoch_{:04d}.png'.format(epoch))\n",
    "    plt.show()"
   ],
   "metadata": {
    "collapsed": false
   }
  },
  {
   "cell_type": "code",
   "execution_count": 62,
   "outputs": [
    {
     "name": "stdout",
     "output_type": "stream",
     "text": [
      "Model: \"sequential_7\"\n",
      "_________________________________________________________________\n",
      " Layer (type)                Output Shape              Param #   \n",
      "=================================================================\n",
      " conv2d_6 (Conv2D)           (None, 50, 50, 64)        6464      \n",
      "                                                                 \n",
      " leaky_re_lu_6 (LeakyReLU)   (None, 50, 50, 64)        0         \n",
      "                                                                 \n",
      " dropout_5 (Dropout)         (None, 50, 50, 64)        0         \n",
      "                                                                 \n",
      " conv2d_7 (Conv2D)           (None, 25, 25, 128)       204928    \n",
      "                                                                 \n",
      " leaky_re_lu_7 (LeakyReLU)   (None, 25, 25, 128)       0         \n",
      "                                                                 \n",
      " dropout_6 (Dropout)         (None, 25, 25, 128)       0         \n",
      "                                                                 \n",
      " flatten_4 (Flatten)         (None, 80000)             0         \n",
      "                                                                 \n",
      " dense_4 (Dense)             (None, 1)                 80001     \n",
      "                                                                 \n",
      "=================================================================\n",
      "Total params: 291,393\n",
      "Trainable params: 291,393\n",
      "Non-trainable params: 0\n",
      "_________________________________________________________________\n"
     ]
    }
   ],
   "source": [
    "discriminator.summary()"
   ],
   "metadata": {
    "collapsed": false
   }
  },
  {
   "cell_type": "code",
   "execution_count": 60,
   "outputs": [
    {
     "data": {
      "text/plain": "<Figure size 288x288 with 16 Axes>",
      "image/png": "[encoded data removed]"
     },
     "metadata": {
      "needs_background": "light"
     },
     "output_type": "display_data"
    }
   ],
   "source": [
    "train(train_dataset, EPOCHS)"
   ],
   "metadata": {
    "collapsed": false
   }
  },
  {
   "cell_type": "code",
   "execution_count": 63,
   "outputs": [
    {
     "name": "stderr",
     "output_type": "stream",
     "text": [
      "/tmp/ipykernel_50/2393548276.py:7: DeprecationWarning: Starting with ImageIO v3 the behavior of this function will switch to that of iio.v3.imread. To keep the current behavior (and make this warning dissapear) use `import imageio.v2 as imageio` or call `imageio.v2.imread` directly.\n",
      "  image = imageio.imread(filename)\n",
      "/tmp/ipykernel_50/2393548276.py:9: DeprecationWarning: Starting with ImageIO v3 the behavior of this function will switch to that of iio.v3.imread. To keep the current behavior (and make this warning dissapear) use `import imageio.v2 as imageio` or call `imageio.v2.imread` directly.\n",
      "  image = imageio.imread(filename)\n"
     ]
    }
   ],
   "source": [
    "anim_file = 'mod2nn-fasion1.gif'\n",
    "\n",
    "with imageio.get_writer(anim_file, mode='I') as writer:\n",
    "  filenames = glob.glob('images/mod2nn-5layer/*.png')\n",
    "  filenames = sorted(filenames)\n",
    "  for filename in filenames:\n",
    "    image = imageio.imread(filename)\n",
    "    writer.append_data(image)\n",
    "  image = imageio.imread(filename)\n",
    "  writer.append_data(image)"
   ],
   "metadata": {
    "collapsed": false
   }
  },
  {
   "cell_type": "markdown",
   "source": [
    "# ComplexNNテスト"
   ],
   "metadata": {
    "collapsed": false
   }
  },
  {
   "cell_type": "code",
   "execution_count": 20,
   "outputs": [],
   "source": [
    "import sys\n",
    "sys.path.append('/notebooks/MOD2NN')"
   ],
   "metadata": {
    "collapsed": false
   }
  },
  {
   "cell_type": "code",
   "execution_count": 22,
   "outputs": [],
   "source": [
    "from Faraday.two_dim.module.lib.layers import *"
   ],
   "metadata": {
    "collapsed": false
   }
  },
  {
   "cell_type": "code",
   "execution_count": 4,
   "outputs": [
    {
     "name": "stdout",
     "output_type": "stream",
     "text": [
      "Downloading data from https://storage.googleapis.com/tensorflow/tf-keras-datasets/mnist.npz\n",
      "11490434/11490434 [==============================] - 0s 0us/step\n"
     ]
    }
   ],
   "source": [
    "mnist = tf.keras.datasets.mnist\n",
    "\n",
    "(x_train, y_train), (x_test, y_test) = mnist.load_data()\n",
    "x_train = x_train.astype(\"float32\") / 255.0\n",
    "x_test = x_test.astype(\"float32\") / 255.0\n",
    "\n",
    "y_train = y_train.astype(\"float32\")\n",
    "y_test = y_test.astype(\"float32\")\n",
    "\n",
    "# Reserve 10,000 samples for validation\n",
    "x_val = x_train[-5000:]\n",
    "y_val = y_train[-5000:]\n",
    "x_train = x_train[:-5000]\n",
    "y_train = y_train[:-5000]"
   ],
   "metadata": {
    "collapsed": false
   }
  },
  {
   "cell_type": "code",
   "execution_count": 50,
   "outputs": [],
   "source": [
    "class ComplexDense(tf.keras.layers.Layer):\n",
    "\n",
    "  def __init__(self, units=32):\n",
    "      super(ComplexDense, self).__init__()\n",
    "      self.units = units\n",
    "\n",
    "  def build(self, input_shape):\n",
    "      self.w_real = self.add_weight(shape=(input_shape[-1], self.units),\n",
    "                               initializer='random_normal',\n",
    "                               trainable=True)\n",
    "      self.w_imag = self.add_weight(shape=(input_shape[-1], self.units),\n",
    "                               initializer='random_normal',\n",
    "                               trainable=True)\n",
    "\n",
    "      #self.b_real = self.add_weight(shape=(self.units,), initializer='random_normal', trainable=True)\n",
    "      #self.b_imag = self.add_weight(shape=(self.units,), initializer='random_normal', trainable=True)\n",
    "\n",
    "  def call(self, inputs):\n",
    "      return tf.matmul(inputs, tf.complex(self.w_real, self.w_imag))# + tf.complex(self.b_real, self.b_imag)"
   ],
   "metadata": {
    "collapsed": false
   }
  },
  {
   "cell_type": "code",
   "execution_count": 6,
   "outputs": [],
   "source": [
    "class SimpleDense(tf.keras.layers.Layer):\n",
    "\n",
    "  def __init__(self, units=32):\n",
    "      super(SimpleDense, self).__init__()\n",
    "      self.units = units\n",
    "\n",
    "  def build(self, input_shape):\n",
    "      self.w = self.add_weight(shape=(input_shape[-1], self.units),\n",
    "                               initializer='random_normal',\n",
    "                               trainable=True)\n",
    "      self.b = self.add_weight(shape=(self.units,),\n",
    "                               initializer='random_normal',\n",
    "                               trainable=True)\n",
    "\n",
    "  def call(self, inputs):\n",
    "      return tf.matmul(inputs, self.w) + self.b"
   ],
   "metadata": {
    "collapsed": false
   }
  },
  {
   "cell_type": "code",
   "execution_count": 17,
   "outputs": [
    {
     "data": {
      "text/plain": "25000"
     },
     "execution_count": 17,
     "metadata": {},
     "output_type": "execute_result"
    }
   ],
   "source": [
    "50**2 * 10"
   ],
   "metadata": {
    "collapsed": false
   }
  },
  {
   "cell_type": "code",
   "execution_count": 51,
   "outputs": [],
   "source": [
    "model = tf.keras.Sequential()\n",
    "#model.add(ImageResizing((28, 50)))\n",
    "model.add(tf.keras.layers.Flatten())\n",
    "model.add(tf.keras.layers.Lambda(lambda x: tf.complex(x, 0.*x)))\n",
    "model.add(ComplexDense(units=10))\n",
    "#model.add(SimpleDense(10))\n",
    "model.add(tf.keras.layers.Lambda(lambda x: tf.abs(x)**2))\n",
    "#model.add(tf.keras.layers.Lambda(lambda x: tf.sigmoid(x)))"
   ],
   "metadata": {
    "collapsed": false
   }
  },
  {
   "cell_type": "code",
   "execution_count": 52,
   "outputs": [],
   "source": [
    "model.compile(optimizer=tf.keras.optimizers.Adam(),\n",
    "              loss=tf.keras.losses.SparseCategoricalCrossentropy(from_logits=True),  # category: sparse_categorical_crossentropy\n",
    "              metrics=[\"accuracy\"]\n",
    "              )"
   ],
   "metadata": {
    "collapsed": false
   }
  },
  {
   "cell_type": "code",
   "execution_count": 53,
   "outputs": [],
   "source": [
    "def lr_schedule(epoch):\n",
    "      \"\"\"\n",
    "      Returns a custom learning rate that decreases as epochs progress.\n",
    "      \"\"\"\n",
    "      start = 0.1\n",
    "      end = 0.00001\n",
    "      n = 30\n",
    "      a = -1/(n-1) * np.log(end/start)\n",
    "      return np.exp(-a*(epoch)) * start\n",
    "\n",
    "lr_callback = tf.keras.callbacks.LearningRateScheduler(lr_schedule)"
   ],
   "metadata": {
    "collapsed": false
   }
  },
  {
   "cell_type": "code",
   "execution_count": 54,
   "outputs": [
    {
     "name": "stdout",
     "output_type": "stream",
     "text": [
      "Epoch 1/30\n",
      "1719/1719 [==============================] - 3s 1ms/step - loss: 158.3474 - accuracy: 0.8240 - lr: 0.1000\n",
      "Epoch 2/30\n",
      "1719/1719 [==============================] - 3s 1ms/step - loss: 101.9792 - accuracy: 0.8798 - lr: 0.0728\n",
      "Epoch 3/30\n",
      "1719/1719 [==============================] - 3s 2ms/step - loss: 59.0959 - accuracy: 0.8920 - lr: 0.0530\n",
      "Epoch 4/30\n",
      "1719/1719 [==============================] - 3s 1ms/step - loss: 34.8145 - accuracy: 0.9035 - lr: 0.0386\n",
      "Epoch 5/30\n",
      "1719/1719 [==============================] - 3s 1ms/step - loss: 22.7851 - accuracy: 0.9096 - lr: 0.0281\n",
      "Epoch 6/30\n",
      "1719/1719 [==============================] - 3s 1ms/step - loss: 14.3294 - accuracy: 0.9196 - lr: 0.0204\n",
      "Epoch 7/30\n",
      "1719/1719 [==============================] - 3s 1ms/step - loss: 9.6582 - accuracy: 0.9253 - lr: 0.0149\n",
      "Epoch 8/30\n",
      "1719/1719 [==============================] - 3s 1ms/step - loss: 6.5304 - accuracy: 0.9326 - lr: 0.0108\n",
      "Epoch 9/30\n",
      "1719/1719 [==============================] - 3s 1ms/step - loss: 4.7740 - accuracy: 0.9364 - lr: 0.0079\n",
      "Epoch 10/30\n",
      "1719/1719 [==============================] - 3s 1ms/step - loss: 3.5320 - accuracy: 0.9434 - lr: 0.0057\n",
      "Epoch 11/30\n",
      "1719/1719 [==============================] - 3s 1ms/step - loss: 2.7097 - accuracy: 0.9484 - lr: 0.0042\n",
      "Epoch 12/30\n",
      "1719/1719 [==============================] - 3s 1ms/step - loss: 2.1722 - accuracy: 0.9507 - lr: 0.0030\n",
      "Epoch 13/30\n",
      "1719/1719 [==============================] - 3s 2ms/step - loss: 1.7822 - accuracy: 0.9538 - lr: 0.0022\n",
      "Epoch 14/30\n",
      "1719/1719 [==============================] - 3s 1ms/step - loss: 1.4853 - accuracy: 0.9567 - lr: 0.0016\n",
      "Epoch 15/30\n",
      "1719/1719 [==============================] - 3s 1ms/step - loss: 1.3034 - accuracy: 0.9588 - lr: 0.0012\n",
      "Epoch 16/30\n",
      "1719/1719 [==============================] - 3s 2ms/step - loss: 1.1691 - accuracy: 0.9601 - lr: 8.5317e-04\n",
      "Epoch 17/30\n",
      "1719/1719 [==============================] - 3s 2ms/step - loss: 1.0641 - accuracy: 0.9612 - lr: 6.2102e-04\n",
      "Epoch 18/30\n",
      "1719/1719 [==============================] - 3s 1ms/step - loss: 0.9900 - accuracy: 0.9626 - lr: 4.5204e-04\n",
      "Epoch 19/30\n",
      "1719/1719 [==============================] - 3s 1ms/step - loss: 0.9429 - accuracy: 0.9636 - lr: 3.2903e-04\n",
      "Epoch 20/30\n",
      "1719/1719 [==============================] - 3s 1ms/step - loss: 0.8965 - accuracy: 0.9649 - lr: 2.3950e-04\n",
      "Epoch 21/30\n",
      "1719/1719 [==============================] - 3s 2ms/step - loss: 0.8652 - accuracy: 0.9650 - lr: 1.7433e-04\n",
      "Epoch 22/30\n",
      "1719/1719 [==============================] - 3s 2ms/step - loss: 0.8434 - accuracy: 0.9648 - lr: 1.2690e-04\n",
      "Epoch 23/30\n",
      "1719/1719 [==============================] - 3s 1ms/step - loss: 0.8271 - accuracy: 0.9660 - lr: 9.2367e-05\n",
      "Epoch 24/30\n",
      "1719/1719 [==============================] - 3s 1ms/step - loss: 0.8151 - accuracy: 0.9659 - lr: 6.7234e-05\n",
      "Epoch 25/30\n",
      "1719/1719 [==============================] - 3s 2ms/step - loss: 0.8074 - accuracy: 0.9662 - lr: 4.8939e-05\n",
      "Epoch 26/30\n",
      "1719/1719 [==============================] - 3s 1ms/step - loss: 0.7999 - accuracy: 0.9663 - lr: 3.5622e-05\n",
      "Epoch 27/30\n",
      "1719/1719 [==============================] - 3s 2ms/step - loss: 0.7952 - accuracy: 0.9663 - lr: 2.5929e-05\n",
      "Epoch 28/30\n",
      "1719/1719 [==============================] - 3s 2ms/step - loss: 0.7919 - accuracy: 0.9665 - lr: 1.8874e-05\n",
      "Epoch 29/30\n",
      "1719/1719 [==============================] - 3s 2ms/step - loss: 0.7894 - accuracy: 0.9671 - lr: 1.3738e-05\n",
      "Epoch 30/30\n",
      "1719/1719 [==============================] - 3s 2ms/step - loss: 0.7874 - accuracy: 0.9669 - lr: 1.0000e-05\n"
     ]
    },
    {
     "data": {
      "text/plain": "<keras.callbacks.History at 0x7fe379fb22e0>"
     },
     "execution_count": 54,
     "metadata": {},
     "output_type": "execute_result"
    }
   ],
   "source": [
    "model.fit(x_train, y_train, epochs=30, callbacks=[lr_callback])"
   ],
   "metadata": {
    "collapsed": false
   }
  },
  {
   "cell_type": "code",
   "execution_count": 55,
   "outputs": [
    {
     "name": "stdout",
     "output_type": "stream",
     "text": [
      "313/313 [==============================] - 0s 1ms/step - loss: 6.4288 - accuracy: 0.9168\n"
     ]
    },
    {
     "data": {
      "text/plain": "[6.428838729858398, 0.9168000221252441]"
     },
     "execution_count": 55,
     "metadata": {},
     "output_type": "execute_result"
    }
   ],
   "source": [
    "model.evaluate(x_test, y_test)"
   ],
   "metadata": {
    "collapsed": false
   }
  },
  {
   "cell_type": "code",
   "execution_count": 61,
   "outputs": [
    {
     "data": {
      "text/plain": "[array([[ 0.04568601,  0.03427659,  0.03381527, ...,  0.00731467,\n          0.08431601,  0.02293192],\n        [ 0.11410806,  0.01412422,  0.09056266, ...,  0.03858967,\n         -0.06895169,  0.04204023],\n        [-0.10380021,  0.00204712, -0.04724472, ..., -0.06379018,\n         -0.01843596, -0.12895113],\n        ...,\n        [ 0.01317674, -0.01081405,  0.02922334, ..., -0.02723098,\n          0.04176488,  0.0316489 ],\n        [ 0.02658234,  0.03337771, -0.05996325, ...,  0.03713467,\n         -0.08201798,  0.01755194],\n        [-0.02405796, -0.08599885, -0.02721875, ...,  0.02780491,\n          0.01435385, -0.0384368 ]], dtype=float32),\n array([[ 0.03699511, -0.01557664, -0.02356968, ..., -0.04544824,\n         -0.03963709,  0.00880465],\n        [-0.04862733, -0.0321048 ,  0.03814552, ...,  0.04857035,\n         -0.05459888,  0.0028072 ],\n        [ 0.04008314,  0.04534229,  0.05137369, ..., -0.00734491,\n         -0.03729443,  0.10663991],\n        ...,\n        [ 0.04459393, -0.06723332, -0.07781934, ..., -0.01028877,\n         -0.04599006,  0.05876965],\n        [ 0.04361549,  0.01274493,  0.08544616, ...,  0.00437299,\n          0.00558258,  0.02330238],\n        [-0.00778601, -0.08124373,  0.01224614, ...,  0.00431597,\n         -0.025229  ,  0.00970464]], dtype=float32)]"
     },
     "execution_count": 61,
     "metadata": {},
     "output_type": "execute_result"
    }
   ],
   "source": [
    "weight = model.get_weights()\n",
    "weight"
   ],
   "metadata": {
    "collapsed": false
   }
  },
  {
   "cell_type": "code",
   "execution_count": 64,
   "outputs": [
    {
     "data": {
      "text/plain": "<matplotlib.image.AxesImage at 0x7fe7416500d0>"
     },
     "execution_count": 64,
     "metadata": {},
     "output_type": "execute_result"
    },
    {
     "data": {
      "text/plain": "<Figure size 288x720 with 2 Axes>",
      "image/png": "[encoded data removed]"
     },
     "metadata": {
      "needs_background": "light"
     },
     "output_type": "display_data"
    }
   ],
   "source": [
    "fig = plt.figure(figsize=(4,10))\n",
    "\n",
    "plt.subplot(1,2,1)\n",
    "plt.imshow(weight[0])\n",
    "\n",
    "plt.subplot(1,2,2)\n",
    "plt.imshow(weight[1])"
   ],
   "metadata": {
    "collapsed": false
   }
  },
  {
   "cell_type": "code",
   "execution_count": 508,
   "outputs": [],
   "source": [
    "import numpy as np\n",
    "import matplotlib.pyplot as plt\n",
    "\n",
    "#線形補間と連続性を生み出す子たち\n",
    "def fade(t):return 6*t**5-15*t**4+10*t**3\n",
    "def lerp(a,b,t):return a+fade(t)*(b-a)\n",
    "\n",
    "def perlin(r,seed=np.random.randint(0,100)):\n",
    "    np.random.seed(seed)\n",
    "\n",
    "    ri = np.floor(r).astype(int) #整数部、インデックスとして使用\n",
    "    ri[0] -= ri[0].min()         #\n",
    "    ri[1] -= ri[1].min()         #インデックスとして使用するための準備\n",
    "    rf = np.array(r) % 1         #小数部\n",
    "    g = 2 * np.random.rand(ri[0].max()+2,ri[1].max()+2,2) - 1 #格子点の勾配\n",
    "    e = np.array([[[[0,0],[0,1],[1,0],[1,1]]]])                       #四隅\n",
    "    er = (np.array([rf]).transpose(2,3,0,1) - e).reshape(r.shape[1],r.shape[2],4,1,2) #四隅の各点から見た位置ベクトル\n",
    "    gr = np.r_[\"3,4,0\",g[ri[0],ri[1]],g[ri[0],ri[1]+1],g[ri[0]+1,ri[1]],g[ri[0]+1,ri[1]+1]].transpose(0,1,3,2).reshape(r.shape[1],r.shape[2],4,2,1) #おなじみファンシーソートで四隅の勾配をまとめて内積計算できる形に加工\n",
    "    p = (er@gr).reshape(r.shape[1],r.shape[2],4).transpose(2,0,1) #全点まとめて勾配との内積計算\n",
    "\n",
    "    return lerp(lerp(p[0],p[2],rf[0]),lerp(p[1],p[3],rf[0]),rf[1]) #補間して返す"
   ],
   "metadata": {
    "collapsed": false
   }
  },
  {
   "cell_type": "code",
   "execution_count": 510,
   "outputs": [
    {
     "data": {
      "text/plain": "<Figure size 432x288 with 1 Axes>",
      "image/png": "[encoded data removed]"
     },
     "metadata": {
      "needs_background": "light"
     },
     "output_type": "display_data"
    }
   ],
   "source": [
    "N = 100\n",
    "y = np.zeros((N,N))\n",
    "for i in np.random.rand(1):         #パーリンノイズは周波数を変えて何枚か重ねると本領を発揮するらしいのでループして加算（好きなだけどうぞ）\n",
    "    x = np.linspace(0,8*i,N)\n",
    "    r = np.array(np.meshgrid(x,x))\n",
    "    y += perlin(r)                  #meshgridの形(2,N,N)で渡す\n",
    "\n",
    "plt.imshow(y)\n",
    "plt.show()"
   ],
   "metadata": {
    "collapsed": false
   }
  }
 ],
 "metadata": {
  "kernelspec": {
   "display_name": "Python 3",
   "language": "python",
   "name": "python3"
  },
  "language_info": {
   "codemirror_mode": {
    "name": "ipython",
    "version": 2
   },
   "file_extension": ".py",
   "mimetype": "text/x-python",
   "name": "python",
   "nbconvert_exporter": "python",
   "pygments_lexer": "ipython2",
   "version": "2.7.6"
  }
 },
 "nbformat": 4,
 "nbformat_minor": 0
}
