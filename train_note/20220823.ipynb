{
 "cells": [
  {
   "cell_type": "markdown",
   "source": [
    "# 5層で正則化を試す\n",
    "物性値は\n",
    "$\\theta_F = \\pi/100$,$\\eta_F=1\\degree$とする。"
   ],
   "metadata": {
    "collapsed": false,
    "pycharm": {
     "name": "#%% md\n"
    },
    "id": "5wu4uaT1uVqm"
   }
  },
  {
   "cell_type": "code",
   "execution_count": 1,
   "outputs": [
    {
     "output_type": "stream",
     "name": "stdout",
     "text": [
      "env: TOKEN=*************************************\n",
      "Cloning into 'MOD2NN'...\n",
      "remote: Enumerating objects: 1122, done.\u001B[K\n",
      "remote: Counting objects: 100% (293/293), done.\u001B[K\n",
      "remote: Compressing objects: 100% (169/169), done.\u001B[K\n",
      "remote: Total 1122 (delta 138), reused 217 (delta 91), pack-reused 829\u001B[K\n",
      "Receiving objects: 100% (1122/1122), 37.21 MiB | 21.45 MiB/s, done.\n",
      "Resolving deltas: 100% (617/617), done.\n",
      "Mounted at /content/drive\n"
     ]
    }
   ],
   "source": [
    "#------------------------\n",
    "# Google Colab上でのみ実行\n",
    "#------------------------\n",
    "import time\n",
    "%env TOKEN=*************************************\n",
    "! git clone https://$$TOKEN@github.com/konnitiha3/MOD2NN.git\n",
    "\n",
    "import sys\n",
    "sys.path.append('/content/MOD2NN')\n",
    "\n",
    "from google.colab import drive\n",
    "drive.mount('/content/drive')"
   ],
   "metadata": {
    "pycharm": {
     "name": "#%%\n"
    },
    "id": "9_WqiATquVqo",
    "outputId": "26c1972b-1ebc-418e-f2d4-199f80213fd4",
    "colab": {
     "base_uri": "https://localhost:8080/"
    }
   }
  },
  {
   "cell_type": "code",
   "execution_count": 2,
   "outputs": [
    {
     "output_type": "stream",
     "name": "stdout",
     "text": [
      "TensorFlow: 2.8.2\n",
      "Python: 3.7.13 (default, Apr 24 2022, 01:04:09) \n",
      "[GCC 7.5.0]\n"
     ]
    }
   ],
   "source": [
    "import time\n",
    "import os\n",
    "import json\n",
    "import sys\n",
    "import re\n",
    "import glob\n",
    "import tensorflow as tf\n",
    "from tensorflow import keras\n",
    "import numpy as np\n",
    "import matplotlib.pyplot as plt\n",
    "import pandas as pd\n",
    "\n",
    "from Faraday.two_dim.module.lib.layers import *\n",
    "from Faraday.two_dim.module.lib import regularizer\n",
    "\n",
    "tf.random.set_seed(1)\n",
    "\n",
    "print(\"TensorFlow:\", tf.__version__)\n",
    "print(\"Python:\", sys.version)\n",
    "\n",
    "plt.rcParams['font.size'] = 18"
   ],
   "metadata": {
    "pycharm": {
     "name": "#%%\n"
    },
    "id": "PyvrW_IruVqp",
    "outputId": "de2c2a4b-45a7-47d2-e71a-4723998d68ec",
    "colab": {
     "base_uri": "https://localhost:8080/"
    }
   }
  },
  {
   "cell_type": "code",
   "execution_count": 3,
   "outputs": [
    {
     "output_type": "stream",
     "name": "stdout",
     "text": [
      "Downloading data from https://storage.googleapis.com/tensorflow/tf-keras-datasets/mnist.npz\n",
      "11493376/11490434 [==============================] - 0s 0us/step\n",
      "11501568/11490434 [==============================] - 0s 0us/step\n"
     ]
    }
   ],
   "source": [
    "mnist = tf.keras.datasets.mnist\n",
    "\n",
    "(x_train, y_train), (x_test, y_test) = mnist.load_data()\n",
    "x_train = x_train.astype(\"float32\") / 255.0\n",
    "x_test = x_test.astype(\"float32\") / 255.0\n",
    "\n",
    "y_train = y_train.astype(\"float32\")\n",
    "y_test = y_test.astype(\"float32\")\n",
    "\n",
    "# Reserve 10,000 samples for validation\n",
    "x_val = x_train[-5000:]\n",
    "y_val = y_train[-5000:]\n",
    "x_train = x_train[:-5000]\n",
    "y_train = y_train[:-5000]"
   ],
   "metadata": {
    "pycharm": {
     "name": "#%%\n"
    },
    "id": "mbCzee_wuVqp",
    "outputId": "e1789341-9eeb-4f3f-bf43-c218f3b5bd51",
    "colab": {
     "base_uri": "https://localhost:8080/"
    }
   }
  },
  {
   "cell_type": "code",
   "execution_count": 4,
   "outputs": [],
   "source": [
    "#@title デフォルトのタイトル テキスト\n",
    "wavelength = 633.0e-9 #@param {type:\"number\"}\n",
    "d = 1.0e-6 #@param {type:\"number\"}\n",
    "n = 1.5 #@param {type:\"number\"}\n",
    "z = 0.7e-3 #@param {type:\"number\"}"
   ],
   "metadata": {
    "pycharm": {
     "name": "#%%\n"
    },
    "id": "r9uni5KLuVqq"
   }
  },
  {
   "cell_type": "code",
   "execution_count": 5,
   "outputs": [],
   "source": [
    "def create_model(**kwargs):\n",
    "    shape = (100, 100)\n",
    "    inputs = tf.keras.Input((28, 28))\n",
    "    theta = np.pi / 100\n",
    "    eta = np.arctan(1.0*np.pi/100)\n",
    "    l1 = kwargs[\"l1\"]\n",
    "    x = ImageResizing(shape)(inputs)\n",
    "    x = IntensityToElectricField(shape)(x)\n",
    "    x = MO(shape, limitation='sin', theta=theta, eta=eta, kernel_regularizer=regularizer.SymmetricShiftL1Regularizer(l1, np.pi/2))(x)\n",
    "    x = AngularSpectrum(shape, wavelength=wavelength, z=z, d=d, n=n, method='expand')(x)\n",
    "    x = MO(shape, limitation='sin', theta=theta, eta=eta, kernel_regularizer=regularizer.SymmetricShiftL1Regularizer(l1, np.pi/2))(x)\n",
    "    x = AngularSpectrum(shape, wavelength=wavelength, z=z, d=d, n=n, method='expand')(x)\n",
    "    x = MO(shape, limitation='sin', theta=theta, eta=eta, kernel_regularizer=regularizer.SymmetricShiftL1Regularizer(l1, np.pi/2))(x)\n",
    "    x = AngularSpectrum(shape, wavelength=wavelength, z=z, d=d, n=n, method='expand')(x)\n",
    "    x = MO(shape, limitation='sin', theta=theta, eta=eta, kernel_regularizer=regularizer.SymmetricShiftL1Regularizer(l1, np.pi/2))(x)\n",
    "    x = AngularSpectrum(shape, wavelength=wavelength, z=z, d=d, n=n, method='expand')(x)\n",
    "    x = MO(shape, limitation='sin', theta=theta, eta=eta, kernel_regularizer=regularizer.SymmetricShiftL1Regularizer(l1, np.pi/2))(x)\n",
    "    x = AngularSpectrum(shape, wavelength=wavelength, z=z, d=d, n=n, method='expand')(x)\n",
    "    x = FaradayRotationByStokes(shape)(x)\n",
    "    x = MNISTDetector(10)(x)\n",
    "    x = tf.keras.layers.Softmax()(x)\n",
    "    model = tf.keras.Model(inputs, x)\n",
    "    return model"
   ],
   "metadata": {
    "pycharm": {
     "name": "#%%\n"
    },
    "id": "RLBKlsNauVqq"
   }
  },
  {
   "cell_type": "code",
   "execution_count": null,
   "outputs": [],
   "source": [
    "l1_list = np.array([1.0, 1.0e-1, 1.0e-2, 1.0e-3, 1.0e-4,1.0e-5,1.0e-6,1.0e-7,1.0e-9,1.0e-9, 0])\n",
    "for i, l1 in enumerate(l1_list):\n",
    "    model = create_model(l1=l1)\n",
    "    model.summary()\n",
    "    model.compile(optimizer=tf.keras.optimizers.Adam(),\n",
    "                  loss=tf.keras.losses.sparse_categorical_crossentropy,  # category: sparse_categorical_crossentropy\n",
    "                  metrics=['accuracy'])\n",
    "\n",
    "    epochs = 50\n",
    "    early_stopping = tf.keras.callbacks.EarlyStopping(\n",
    "        monitor='accuracy',\n",
    "        min_delta=0.05,\n",
    "        patience=2,\n",
    "    )\n",
    "\n",
    "    model_name = \"20220823_\" + str(i+1)\n",
    "    cholab_path = \"/content/drive/MyDrive/D2NN/\"\n",
    "    checkpoint_path = cholab_path + \"checkpoint/\" + model_name + \"/cp-{epoch:04d}.ckpt\"\n",
    "    checkpoint_dir = os.path.dirname(checkpoint_path)\n",
    "\n",
    "    # チェックポイントコールバックを作る\n",
    "    cp_callback = tf.keras.callbacks.ModelCheckpoint(checkpoint_path,\n",
    "                                                     save_weights_only=True,\n",
    "                                                     verbose=1)\n",
    "\n",
    "    logdir = os.path.join(cholab_path +\"logs\", model_name)\n",
    "    tensorboard_callback = tf.keras.callbacks.TensorBoard(logdir, histogram_freq=1)\n",
    "\n",
    "    result = model.fit(x_train,\n",
    "                       y_train,\n",
    "                       batch_size=64,\n",
    "                       epochs=epochs,\n",
    "                       validation_data=(x_val, y_val),\n",
    "                       callbacks=[cp_callback, tensorboard_callback]\n",
    "                       )\n",
    "\n",
    "    path = cholab_path + \"trained_model/\"+ model_name\n",
    "    model.save(path)\n",
    "\n",
    "    df = pd.DataFrame(result.history)\n",
    "    df.to_csv(path + \"/history.csv\")\n",
    "\n",
    "    with open(path + \"/config.json\", 'w') as f:\n",
    "        json.dump(model.get_config(), f, indent=4)"
   ],
   "metadata": {
    "collapsed": false,
    "pycharm": {
     "name": "#%%\n"
    }
   }
  },
  {
   "cell_type": "code",
   "execution_count": null,
   "outputs": [],
   "source": [
    "path = '/content/drive/MyDrive/D2NN/trained_model/20220823_*'\n",
    "files = glob.glob(path)\n",
    "p = re.compile(r'\\d+_\\d+')\n",
    "files.sort(reverse=False, key=lambda s: int(p.search(s).group()))\n",
    "acc_list = []\n",
    "for path in files:\n",
    "  model = tf.keras.models.load_model(path)\n",
    "  acc = model.evaluate(x_test, y_test)\n",
    "\n",
    "  bi_model = tf.keras.models.load_model(path)\n",
    "  pattern = r'mo'\n",
    "  mo_layers = []\n",
    "  save = False\n",
    "  each_save = False\n",
    "  for layer in bi_model.layers:\n",
    "      result = re.match(pattern, layer.name)\n",
    "      if result:\n",
    "          mo_layers.append(layer)\n",
    "\n",
    "  for layer in mo_layers:\n",
    "      w = layer.get_weights()\n",
    "      bi_w = np.where(w[0]>0, np.pi/2, -np.pi/2)\n",
    "      w[0] = bi_w\n",
    "      layer.set_weights(w)\n",
    "\n",
    "  bi_acc = bi_model.evaluate(x_test, y_test)\n",
    "  acc_list.append([acc[1], bi_acc[1]])"
   ],
   "metadata": {
    "collapsed": false,
    "pycharm": {
     "name": "#%%\n"
    }
   }
  },
  {
   "cell_type": "code",
   "execution_count": null,
   "outputs": [],
   "source": [
    "acc = np.array(acc_list)\n",
    "plt.plot(acc[:,0])\n",
    "plt.plot(acc[:,1])\n",
    "plt.plot(acc[:,0]-acc[:,1])"
   ],
   "metadata": {
    "collapsed": false,
    "pycharm": {
     "name": "#%%\n"
    }
   }
  },
  {
   "cell_type": "markdown",
   "source": [
    "あんまり違いが出ないので、seed値変えて試してみる。"
   ],
   "metadata": {
    "collapsed": false,
    "pycharm": {
     "name": "#%% md\n"
    }
   }
  },
  {
   "cell_type": "code",
   "source": [
    "path = '/content/drive/MyDrive/D2NN/trained_model/20220823_*'\n",
    "files = glob.glob(path)\n",
    "p = re.compile(r'\\d+_\\d+')\n",
    "files.sort(reverse=False, key=lambda s: int(p.search(s).group()))\n",
    "acc_list = []\n",
    "for path in files:\n",
    "  model = tf.keras.models.load_model(path)\n",
    "  acc = model.evaluate(x_test, y_test)\n",
    "\n",
    "  bi_model = tf.keras.models.load_model(path)\n",
    "  pattern = r'mo'\n",
    "  mo_layers = []\n",
    "  save = False\n",
    "  each_save = False\n",
    "  for layer in bi_model.layers:\n",
    "      result = re.match(pattern, layer.name)\n",
    "      if result:\n",
    "          mo_layers.append(layer)\n",
    "\n",
    "  for layer in mo_layers:\n",
    "      w = layer.get_weights()\n",
    "      bi_w = np.where(w[0]>0, np.pi/2, -np.pi/2)\n",
    "      w[0] = bi_w\n",
    "      layer.set_weights(w)\n",
    "\n",
    "  bi_acc = bi_model.evaluate(x_test, y_test)\n",
    "  acc_list.append([acc[1], bi_acc[1]])"
   ],
   "metadata": {
    "id": "rpWnjuUmsN6M",
    "outputId": "3a5fe368-6e56-49aa-8bc3-36635550863d",
    "colab": {
     "base_uri": "https://localhost:8080/"
    }
   },
   "execution_count": 8,
   "outputs": [
    {
     "output_type": "stream",
     "name": "stdout",
     "text": [
      "313/313 [==============================] - 4s 10ms/step - loss: 8.8789 - accuracy: 0.1039\n",
      "313/313 [==============================] - 3s 9ms/step - loss: 2.6748 - accuracy: 0.1039\n",
      "313/313 [==============================] - 3s 10ms/step - loss: 3.5882 - accuracy: 0.0831\n",
      "313/313 [==============================] - 3s 9ms/step - loss: 2.9716 - accuracy: 0.0831\n",
      "313/313 [==============================] - 3s 9ms/step - loss: 2.6869 - accuracy: 0.1368\n",
      "313/313 [==============================] - 3s 9ms/step - loss: 2.6262 - accuracy: 0.1368\n",
      "313/313 [==============================] - 3s 9ms/step - loss: 1.9357 - accuracy: 0.4135\n",
      "313/313 [==============================] - 4s 11ms/step - loss: 1.9298 - accuracy: 0.4135\n",
      "313/313 [==============================] - 3s 9ms/step - loss: 0.8943 - accuracy: 0.7746\n",
      "313/313 [==============================] - 3s 9ms/step - loss: 0.8441 - accuracy: 0.7549\n",
      "313/313 [==============================] - 3s 9ms/step - loss: 0.5609 - accuracy: 0.8572\n",
      "313/313 [==============================] - 3s 9ms/step - loss: 0.5718 - accuracy: 0.8338\n",
      "313/313 [==============================] - 4s 11ms/step - loss: 0.4923 - accuracy: 0.8687\n",
      "313/313 [==============================] - 3s 9ms/step - loss: 0.5465 - accuracy: 0.8392\n",
      "313/313 [==============================] - 3s 9ms/step - loss: 0.4751 - accuracy: 0.8685\n",
      "313/313 [==============================] - 3s 9ms/step - loss: 0.5459 - accuracy: 0.8372\n",
      "313/313 [==============================] - 3s 9ms/step - loss: 0.4725 - accuracy: 0.8683\n",
      "313/313 [==============================] - 3s 9ms/step - loss: 0.5383 - accuracy: 0.8410\n",
      "313/313 [==============================] - 3s 9ms/step - loss: 0.4725 - accuracy: 0.8686\n",
      "313/313 [==============================] - 3s 9ms/step - loss: 0.5500 - accuracy: 0.8419\n",
      "313/313 [==============================] - 3s 9ms/step - loss: 0.4735 - accuracy: 0.8678\n",
      "313/313 [==============================] - 3s 9ms/step - loss: 0.5400 - accuracy: 0.8427\n"
     ]
    }
   ]
  },
  {
   "cell_type": "code",
   "source": [
    "acc = np.array(acc_list)\n",
    "plt.plot(acc[:,0])\n",
    "plt.plot(acc[:,1])\n",
    "plt.plot(acc[:,0]-acc[:,1])"
   ],
   "metadata": {
    "id": "BvMhmgJItoEX",
    "outputId": "2a8dd320-fc21-4f2b-ccf7-9e4cc4e8853b",
    "colab": {
     "base_uri": "https://localhost:8080/",
     "height": 290
    }
   },
   "execution_count": 18,
   "outputs": [
    {
     "output_type": "execute_result",
     "data": {
      "text/plain": [
       "[<matplotlib.lines.Line2D at 0x7fe8bfde0350>]"
      ]
     },
     "metadata": {},
     "execution_count": 18
    },
    {
     "output_type": "display_data",
     "data": {
      "text/plain": [
       "<Figure size 432x288 with 1 Axes>"
      ],
      "image/png": "[encoded data removed]"
     },
     "metadata": {
      "needs_background": "light"
     }
    }
   ]
  }
 ],
 "metadata": {
  "kernelspec": {
   "display_name": "Python 3",
   "language": "python",
   "name": "python3"
  },
  "language_info": {
   "codemirror_mode": {
    "name": "ipython",
    "version": 2
   },
   "file_extension": ".py",
   "mimetype": "text/x-python",
   "name": "python",
   "nbconvert_exporter": "python",
   "pygments_lexer": "ipython2",
   "version": "2.7.6"
  },
  "colab": {
   "provenance": []
  },
  "accelerator": "GPU",
  "gpuClass": "standard"
 },
 "nbformat": 4,
 "nbformat_minor": 0
}