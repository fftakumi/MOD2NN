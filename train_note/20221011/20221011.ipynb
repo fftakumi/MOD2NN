{
  "cells": [
    {
      "cell_type": "markdown",
      "source": [
        "# 書き込み誤差検討\n",
        "## 反対に磁化"
      ],
      "metadata": {
        "collapsed": false,
        "id": "X0-doAeSooxe"
      }
    },
    {
      "cell_type": "code",
      "execution_count": 1,
      "outputs": [
        {
          "output_type": "stream",
          "name": "stdout",
          "text": [
            "env: TOKEN=*************************************\n",
            "Cloning into 'MOD2NN'...\n",
            "remote: Enumerating objects: 1406, done.\u001b[K\n",
            "remote: Counting objects: 100% (171/171), done.\u001b[K\n",
            "remote: Compressing objects: 100% (97/97), done.\u001b[K\n",
            "remote: Total 1406 (delta 91), reused 123 (delta 60), pack-reused 1235\u001b[K\n",
            "Receiving objects: 100% (1406/1406), 40.95 MiB | 6.77 MiB/s, done.\n",
            "Resolving deltas: 100% (796/796), done.\n",
            "Mounted at /content/drive\n"
          ]
        }
      ],
      "source": [
        "#------------------------\n",
        "# Google Colab上でのみ実行\n",
        "#------------------------\n",
        "import time\n",
        "%env TOKEN=*************************************\n",
        "! git clone https://$$TOKEN@github.com/konnitiha3/MOD2NN.git\n",
        "\n",
        "import sys\n",
        "sys.path.append('/content/MOD2NN')\n",
        "\n",
        "from google.colab import drive\n",
        "drive.mount('/content/drive')"
      ],
      "metadata": {
        "id": "xpY8ra8Mooxg",
        "outputId": "9b9a9e84-1bf2-4e25-c8d6-0ef9a480031e",
        "colab": {
          "base_uri": "https://localhost:8080/"
        }
      }
    },
    {
      "cell_type": "code",
      "execution_count": 2,
      "outputs": [
        {
          "output_type": "stream",
          "name": "stdout",
          "text": [
            "TensorFlow: 2.8.2\n",
            "Python: 3.7.14 (default, Sep  8 2022, 00:06:44) \n",
            "[GCC 7.5.0]\n"
          ]
        }
      ],
      "source": [
        "import sys\n",
        "import re\n",
        "import tensorflow as tf\n",
        "from tensorflow import keras\n",
        "import numpy as np\n",
        "import matplotlib.pyplot as plt\n",
        "import pandas as pd\n",
        "import scipy\n",
        "from scipy import stats\n",
        "\n",
        "from Faraday.two_dim.module.lib.layers import *\n",
        "from Faraday.two_dim.module.lib import regularizer\n",
        "\n",
        "tf.random.set_seed(1)\n",
        "\n",
        "print(\"TensorFlow:\", tf.__version__)\n",
        "print(\"Python:\", sys.version)\n",
        "\n",
        "plt.rcParams['font.size'] = 18"
      ],
      "metadata": {
        "id": "tHY3G5YHooxh",
        "outputId": "1a77c613-73b8-4c61-d65c-1a81855a2c7e",
        "colab": {
          "base_uri": "https://localhost:8080/"
        }
      }
    },
    {
      "cell_type": "code",
      "execution_count": 3,
      "outputs": [
        {
          "output_type": "stream",
          "name": "stdout",
          "text": [
            "Downloading data from https://storage.googleapis.com/tensorflow/tf-keras-datasets/mnist.npz\n",
            "11493376/11490434 [==============================] - 0s 0us/step\n",
            "11501568/11490434 [==============================] - 0s 0us/step\n"
          ]
        }
      ],
      "source": [
        "mnist = tf.keras.datasets.mnist\n",
        "\n",
        "(x_train, y_train), (x_test, y_test) = mnist.load_data()\n",
        "x_train = x_train.astype(\"float32\") / 255.0\n",
        "x_test = x_test.astype(\"float32\") / 255.0\n",
        "\n",
        "y_train = y_train.astype(\"float32\")\n",
        "y_test = y_test.astype(\"float32\")\n",
        "\n",
        "# Reserve 10,000 samples for validation\n",
        "x_val = x_train[-5000:]\n",
        "y_val = y_train[-5000:]\n",
        "x_train = x_train[:-5000]\n",
        "y_train = y_train[:-5000]"
      ],
      "metadata": {
        "id": "TE3DNp6iooxi",
        "colab": {
          "base_uri": "https://localhost:8080/"
        },
        "outputId": "fb39cdc7-f8d5-469b-bf7d-e8ad74a8fc35"
      }
    },
    {
      "cell_type": "code",
      "execution_count": 4,
      "outputs": [
        {
          "output_type": "stream",
          "name": "stdout",
          "text": [
            "313/313 [==============================] - 8s 13ms/step - loss: 0.4724 - accuracy: 0.8684\n"
          ]
        }
      ],
      "source": [
        "model_path = \"/content/drive/MyDrive/D2NN/trained_model/20220824/l1_0.000000e+00/seed_1\"\n",
        "model = tf.keras.models.load_model(model_path)\n",
        "eval = model.evaluate(x_test, y_test)"
      ],
      "metadata": {
        "id": "08P_IerDooxi",
        "outputId": "d5b4d0ba-b65a-4223-b535-8f6a373404ef",
        "colab": {
          "base_uri": "https://localhost:8080/"
        }
      }
    },
    {
      "cell_type": "code",
      "source": [
        "pattern = r'mo'\n",
        "\n",
        "mo_layers = []\n",
        "bi_weights = []\n",
        "error_weights = []\n",
        "\n",
        "for layer in model.layers:\n",
        "  result = re.match(pattern, layer.name)\n",
        "  if result:\n",
        "      mo_layers.append(layer)\n",
        "      w = layer.get_weights()\n",
        "      bi_w = np.where(w[0]>0, np.pi/2, -np.pi/2)\n",
        "      bi_weights.append(bi_w)"
      ],
      "metadata": {
        "id": "lZ7cgLGEp6Sq"
      },
      "execution_count": 5,
      "outputs": []
    },
    {
      "cell_type": "code",
      "source": [
        "seeds = np.arange(1, 11)\n",
        "p = np.arange(0, 1.1, 0.1)\n",
        "acc_table = np.zeros((len(seeds), len(p)))\n",
        "loss_table = np.zeros((len(seeds), len(p)))\n",
        "\n",
        "for j, _p in enumerate(p):\n",
        "  for k, seed in enumerate(seeds):\n",
        "    for i, layer in enumerate(mo_layers):\n",
        "        np.random.seed(seed)\n",
        "        bi_dist = stats.bernoulli.rvs(p=_p, size=(100,100)) * 2 - 1\n",
        "        w = layer.get_weights()\n",
        "        w[0] = bi_weights[i] * bi_dist\n",
        "        layer.set_weights(w)\n",
        "\n",
        "    bi_eval = model.evaluate(x_test, y_test)\n",
        "    acc_table[k, j] = bi_eval[1]\n",
        "    loss_table[k, j] = bi_eval[0]"
      ],
      "metadata": {
        "id": "d1RuJaNSp-3d",
        "outputId": "58196d18-63de-4cfe-f523-f773593240ff",
        "colab": {
          "base_uri": "https://localhost:8080/"
        }
      },
      "execution_count": null,
      "outputs": [
        {
          "output_type": "stream",
          "name": "stdout",
          "text": [
            "313/313 [==============================] - 4s 13ms/step - loss: 9.8644 - accuracy: 0.0014\n",
            "313/313 [==============================] - 4s 13ms/step - loss: 9.8644 - accuracy: 0.0014\n",
            "313/313 [==============================] - 5s 14ms/step - loss: 9.8644 - accuracy: 0.0014\n",
            "313/313 [==============================] - 4s 14ms/step - loss: 9.8644 - accuracy: 0.0014\n",
            "313/313 [==============================] - 4s 13ms/step - loss: 9.8644 - accuracy: 0.0014\n",
            "313/313 [==============================] - 4s 13ms/step - loss: 9.8644 - accuracy: 0.0014\n",
            "313/313 [==============================] - 4s 13ms/step - loss: 9.8644 - accuracy: 0.0014\n",
            "313/313 [==============================] - 4s 13ms/step - loss: 9.8644 - accuracy: 0.0014\n",
            "313/313 [==============================] - 4s 14ms/step - loss: 9.8644 - accuracy: 0.0014\n",
            "313/313 [==============================] - 4s 14ms/step - loss: 9.8644 - accuracy: 0.0014\n",
            "313/313 [==============================] - 4s 13ms/step - loss: 11.7833 - accuracy: 0.0013\n",
            "313/313 [==============================] - 4s 13ms/step - loss: 8.3473 - accuracy: 0.0022\n",
            "313/313 [==============================] - 4s 13ms/step - loss: 7.9714 - accuracy: 0.0028\n",
            "313/313 [==============================] - 4s 13ms/step - loss: 8.7159 - accuracy: 0.0019\n",
            "313/313 [==============================] - 4s 13ms/step - loss: 8.2645 - accuracy: 0.0013\n",
            "313/313 [==============================] - 4s 13ms/step - loss: 8.4060 - accuracy: 0.0017\n",
            "313/313 [==============================] - 4s 14ms/step - loss: 7.9396 - accuracy: 0.0033\n",
            "313/313 [==============================] - 4s 13ms/step - loss: 8.1476 - accuracy: 0.0019\n",
            "313/313 [==============================] - 4s 13ms/step - loss: 8.0150 - accuracy: 0.0023\n",
            "313/313 [==============================] - 4s 13ms/step - loss: 8.3011 - accuracy: 0.0021\n",
            "313/313 [==============================] - 4s 13ms/step - loss: 9.8014 - accuracy: 0.0019\n",
            "313/313 [==============================] - 4s 13ms/step - loss: 6.9521 - accuracy: 0.0033\n",
            "313/313 [==============================] - 4s 13ms/step - loss: 6.4477 - accuracy: 0.0036\n",
            "313/313 [==============================] - 4s 13ms/step - loss: 7.0830 - accuracy: 0.0020\n",
            "313/313 [==============================] - 4s 13ms/step - loss: 6.8046 - accuracy: 0.0016\n",
            "313/313 [==============================] - 4s 13ms/step - loss: 6.7330 - accuracy: 0.0025\n",
            "313/313 [==============================] - 4s 13ms/step - loss: 6.4672 - accuracy: 0.0051\n",
            "313/313 [==============================] - 4s 13ms/step - loss: 6.6994 - accuracy: 0.0017\n",
            "313/313 [==============================] - 4s 13ms/step - loss: 6.7654 - accuracy: 0.0040\n",
            "313/313 [==============================] - 4s 13ms/step - loss: 6.6625 - accuracy: 0.0030\n",
            "313/313 [==============================] - 4s 13ms/step - loss: 7.8635 - accuracy: 0.0016\n",
            "313/313 [==============================] - 4s 13ms/step - loss: 5.3729 - accuracy: 0.0053\n",
            "313/313 [==============================] - 4s 13ms/step - loss: 5.0575 - accuracy: 0.0056\n",
            "313/313 [==============================] - 4s 13ms/step - loss: 5.5349 - accuracy: 0.0015\n",
            "313/313 [==============================] - 4s 13ms/step - loss: 5.2893 - accuracy: 0.0034\n",
            "313/313 [==============================] - 4s 13ms/step - loss: 4.8783 - accuracy: 0.0055\n",
            "313/313 [==============================] - 4s 13ms/step - loss: 4.8610 - accuracy: 0.0116\n",
            "313/313 [==============================] - 4s 14ms/step - loss: 5.2472 - accuracy: 0.0064\n",
            "313/313 [==============================] - 4s 13ms/step - loss: 5.7582 - accuracy: 0.0049\n",
            "313/313 [==============================] - 4s 13ms/step - loss: 5.5817 - accuracy: 0.0058\n",
            "313/313 [==============================] - 4s 13ms/step - loss: 5.9961 - accuracy: 0.0028\n",
            "313/313 [==============================] - 4s 13ms/step - loss: 3.9120 - accuracy: 0.0086\n",
            "313/313 [==============================] - 4s 13ms/step - loss: 3.9167 - accuracy: 0.0113\n",
            "313/313 [==============================] - 4s 13ms/step - loss: 3.8598 - accuracy: 0.0068\n",
            "313/313 [==============================] - 4s 13ms/step - loss: 3.8223 - accuracy: 0.0088\n",
            "313/313 [==============================] - 4s 13ms/step - loss: 3.6922 - accuracy: 0.0206\n",
            "313/313 [==============================] - 4s 13ms/step - loss: 3.6197 - accuracy: 0.0429\n",
            "313/313 [==============================] - 4s 13ms/step - loss: 3.9807 - accuracy: 0.0156\n",
            "313/313 [==============================] - 4s 13ms/step - loss: 4.3633 - accuracy: 0.0127\n",
            "313/313 [==============================] - 4s 13ms/step - loss: 4.1204 - accuracy: 0.0305\n",
            "313/313 [==============================] - 4s 13ms/step - loss: 4.3603 - accuracy: 0.0108\n",
            "313/313 [==============================] - 5s 15ms/step - loss: 2.7648 - accuracy: 0.1166\n",
            "313/313 [==============================] - 4s 13ms/step - loss: 2.8042 - accuracy: 0.0801\n",
            "313/313 [==============================] - 4s 13ms/step - loss: 2.7667 - accuracy: 0.0766\n",
            "313/313 [==============================] - 4s 13ms/step - loss: 2.8273 - accuracy: 0.1106\n",
            "313/313 [==============================] - 4s 13ms/step - loss: 2.7686 - accuracy: 0.0933\n",
            "313/313 [==============================] - 4s 13ms/step - loss: 2.7354 - accuracy: 0.1160\n",
            "313/313 [==============================] - 4s 13ms/step - loss: 2.9967 - accuracy: 0.0669\n",
            "313/313 [==============================] - 4s 13ms/step - loss: 3.2974 - accuracy: 0.0533\n",
            "313/313 [==============================] - 4s 13ms/step - loss: 2.9068 - accuracy: 0.0846\n",
            "313/313 [==============================] - 4s 13ms/step - loss: 1.2337 - accuracy: 0.5974\n",
            "313/313 [==============================] - 4s 13ms/step - loss: 1.7798 - accuracy: 0.3515\n",
            "313/313 [==============================] - 4s 13ms/step - loss: 1.9848 - accuracy: 0.3634\n",
            "313/313 [==============================] - 4s 13ms/step - loss: 1.7110 - accuracy: 0.4670\n",
            "313/313 [==============================] - 4s 13ms/step - loss: 1.9465 - accuracy: 0.3167\n",
            "313/313 [==============================] - 4s 13ms/step - loss: 2.0280 - accuracy: 0.2943\n",
            "313/313 [==============================] - 4s 13ms/step - loss: 2.1103 - accuracy: 0.2813\n",
            "313/313 [==============================] - 4s 13ms/step - loss: 2.2034 - accuracy: 0.2781\n",
            "313/313 [==============================] - 4s 13ms/step - loss: 2.0462 - accuracy: 0.3147\n",
            "313/313 [==============================] - 4s 13ms/step - loss: 1.9628 - accuracy: 0.3361\n",
            "313/313 [==============================] - 4s 13ms/step - loss: 0.8240 - accuracy: 0.7609\n",
            "313/313 [==============================] - 4s 13ms/step - loss: 1.3998 - accuracy: 0.5000\n",
            "313/313 [==============================] - 4s 13ms/step - loss: 1.3464 - accuracy: 0.5676\n",
            "313/313 [==============================] - 4s 13ms/step - loss: 1.2709 - accuracy: 0.5664\n",
            "313/313 [==============================] - 4s 13ms/step - loss: 1.3924 - accuracy: 0.5572\n",
            "313/313 [==============================] - 4s 13ms/step - loss: 1.2969 - accuracy: 0.6370\n",
            "313/313 [==============================] - 4s 13ms/step - loss: 1.4396 - accuracy: 0.5648\n",
            "313/313 [==============================] - 4s 13ms/step - loss: 1.3089 - accuracy: 0.6119\n",
            "313/313 [==============================] - 4s 13ms/step - loss: 1.3666 - accuracy: 0.5855\n",
            "313/313 [==============================] - 4s 13ms/step - loss: 1.3222 - accuracy: 0.5791\n",
            "313/313 [==============================] - 4s 13ms/step - loss: 0.6359 - accuracy: 0.8120\n",
            "313/313 [==============================] - 4s 13ms/step - loss: 0.9591 - accuracy: 0.7142\n",
            "313/313 [==============================] - 4s 13ms/step - loss: 0.9176 - accuracy: 0.7496\n",
            "313/313 [==============================] - 4s 13ms/step - loss: 0.9223 - accuracy: 0.7335\n",
            "313/313 [==============================] - 4s 13ms/step - loss: 1.0180 - accuracy: 0.7105\n",
            "313/313 [==============================] - 4s 13ms/step - loss: 1.0068 - accuracy: 0.7024\n",
            "313/313 [==============================] - 4s 13ms/step - loss: 1.0432 - accuracy: 0.7031\n",
            "313/313 [==============================] - 4s 13ms/step - loss: 0.9471 - accuracy: 0.7184\n",
            "313/313 [==============================] - 4s 13ms/step - loss: 1.0593 - accuracy: 0.6854\n",
            "313/313 [==============================] - 4s 13ms/step - loss: 0.9563 - accuracy: 0.7227\n",
            "313/313 [==============================] - 4s 13ms/step - loss: 0.5537 - accuracy: 0.8356\n",
            "313/313 [==============================] - 4s 13ms/step - loss: 0.7546 - accuracy: 0.7718\n",
            "313/313 [==============================] - 4s 13ms/step - loss: 0.7216 - accuracy: 0.8077\n",
            "313/313 [==============================] - 4s 13ms/step - loss: 0.8176 - accuracy: 0.7533\n",
            "313/313 [==============================] - 5s 14ms/step - loss: 0.8751 - accuracy: 0.7364\n",
            "313/313 [==============================] - 4s 13ms/step - loss: 0.7733 - accuracy: 0.7656\n",
            "313/313 [==============================] - 4s 13ms/step - loss: 0.7734 - accuracy: 0.7737\n",
            "313/313 [==============================] - 4s 13ms/step - loss: 0.7762 - accuracy: 0.7790\n",
            "313/313 [==============================] - 4s 13ms/step - loss: 0.7851 - accuracy: 0.7774\n",
            "313/313 [==============================] - 4s 14ms/step - loss: 0.7499 - accuracy: 0.7759\n",
            "313/313 [==============================] - 4s 13ms/step - loss: 0.6414 - accuracy: 0.8106\n",
            "313/313 [==============================] - 4s 13ms/step - loss: 0.6414 - accuracy: 0.8106\n",
            "313/313 [==============================] - 4s 13ms/step - loss: 0.6414 - accuracy: 0.8106\n",
            "313/313 [==============================] - 4s 13ms/step - loss: 0.6414 - accuracy: 0.8106\n",
            "313/313 [==============================] - 4s 13ms/step - loss: 0.6414 - accuracy: 0.8106\n",
            "313/313 [==============================] - 4s 13ms/step - loss: 0.6414 - accuracy: 0.8106\n",
            "313/313 [==============================] - 4s 13ms/step - loss: 0.6414 - accuracy: 0.8106\n",
            "313/313 [==============================] - 4s 13ms/step - loss: 0.6414 - accuracy: 0.8106\n",
            "313/313 [==============================] - 4s 13ms/step - loss: 0.6414 - accuracy: 0.8106\n",
            "313/313 [==============================] - 4s 13ms/step - loss: 0.6414 - accuracy: 0.8106\n"
          ]
        }
      ]
    },
    {
      "cell_type": "code",
      "source": [
        "acc_df = pd.DataFrame(acc_table, columns=[\"{:.1f}\".format(t) for t in p])\n",
        "loss_df = pd.DataFrame(loss_table, columns=[\"{:.1f}\".format(t)  for t in p])"
      ],
      "metadata": {
        "id": "Ua0eKIFatZzL"
      },
      "execution_count": null,
      "outputs": []
    },
    {
      "cell_type": "code",
      "source": [
        "acc_df.to_csv(\"acc.csv\")\n",
        "loss_df.to_csv(\"loss.csv\")"
      ],
      "metadata": {
        "id": "65IZIWHKuChM"
      },
      "execution_count": null,
      "outputs": []
    },
    {
      "cell_type": "code",
      "execution_count": null,
      "outputs": [],
      "source": [
        "acc_df = pd.read_csv(\"acc.csv\", index_col=0)\n",
        "loss_df = pd.read_csv(\"loss.csv\", index_col=0)"
      ],
      "metadata": {
        "id": "IXBzvEtW5Hz6"
      }
    },
    {
      "cell_type": "code",
      "execution_count": null,
      "outputs": [
        {
          "data": {
            "text/plain": "0.0"
          },
          "execution_count": 23,
          "metadata": {},
          "output_type": "execute_result"
        }
      ],
      "source": [
        "float(acc_df.columns[0])"
      ],
      "metadata": {
        "id": "sfKPYt1V5Hz6",
        "outputId": "858fa286-f6bc-4d6c-b035-88f8af5d69bc"
      }
    },
    {
      "cell_type": "code",
      "execution_count": null,
      "outputs": [
        {
          "data": {
            "text/plain": "<matplotlib.legend.Legend at 0x161958b80>"
          },
          "execution_count": 31,
          "metadata": {},
          "output_type": "execute_result"
        },
        {
          "data": {
            "text/plain": "<Figure size 432x288 with 1 Axes>",
            "image/png": "[encoded data removed]"
          },
          "metadata": {
            "needs_background": "light"
          },
          "output_type": "display_data"
        }
      ],
      "source": [
        "ave = np.average(acc_df.values, axis=0)\n",
        "for i in range(acc_df.shape[1]):\n",
        "    x = np.ones_like(acc_df.values[:,i]) * float(acc_df.columns[i])\n",
        "    y = acc_df.values[:,i]\n",
        "    plt.scatter(x, y, label=r\"$p={:.1f}$\".format(float(acc_df.columns[i])))\n",
        "\n",
        "plt.plot([float(_p) for _p in acc_df.columns], ave, label=\"average\")\n",
        "plt.legend()"
      ],
      "metadata": {
        "id": "Qo4ScXhq5Hz6",
        "outputId": "6665db37-3ee2-4517-dc98-6a7a616beadf"
      }
    },
    {
      "cell_type": "markdown",
      "source": [
        "## 消磁"
      ],
      "metadata": {
        "id": "rjlhYNvB5TNG"
      }
    },
    {
      "cell_type": "code",
      "source": [
        "seeds = np.arange(1, 11)\n",
        "p = np.arange(0, 1.1, 0.1)\n",
        "acc_table = np.zeros((len(seeds), len(p)))\n",
        "loss_table = np.zeros((len(seeds), len(p)))\n",
        "\n",
        "for j, _p in enumerate(p):\n",
        "  for k, seed in enumerate(seeds):\n",
        "    for i, layer in enumerate(mo_layers):\n",
        "        np.random.seed(seed)\n",
        "        bi_dist = stats.bernoulli.rvs(p=_p, size=(100,100))\n",
        "        w = layer.get_weights()\n",
        "        w[0] = bi_weights[i] * bi_dist\n",
        "        layer.set_weights(w)\n",
        "\n",
        "    bi_eval = model.evaluate(x_test, y_test)\n",
        "    acc_table[k, j] = bi_eval[1]\n",
        "    loss_table[k, j] = bi_eval[0]"
      ],
      "metadata": {
        "colab": {
          "base_uri": "https://localhost:8080/"
        },
        "id": "HTRxNGl95YrU",
        "outputId": "927a2f91-49b0-45b6-eea9-4f2e9a88c416"
      },
      "execution_count": 6,
      "outputs": [
        {
          "output_type": "stream",
          "name": "stdout",
          "text": [
            "313/313 [==============================] - 4s 13ms/step - loss: 2.3026 - accuracy: 0.0994\n",
            "313/313 [==============================] - 4s 13ms/step - loss: 2.3026 - accuracy: 0.0994\n",
            "313/313 [==============================] - 4s 13ms/step - loss: 2.3026 - accuracy: 0.0994\n",
            "313/313 [==============================] - 4s 13ms/step - loss: 2.3026 - accuracy: 0.0994\n",
            "313/313 [==============================] - 4s 13ms/step - loss: 2.3026 - accuracy: 0.0994\n",
            "313/313 [==============================] - 4s 13ms/step - loss: 2.3026 - accuracy: 0.0994\n",
            "313/313 [==============================] - 5s 15ms/step - loss: 2.3026 - accuracy: 0.0994\n",
            "313/313 [==============================] - 4s 13ms/step - loss: 2.3026 - accuracy: 0.0994\n",
            "313/313 [==============================] - 4s 13ms/step - loss: 2.3026 - accuracy: 0.0994\n",
            "313/313 [==============================] - 4s 13ms/step - loss: 2.3026 - accuracy: 0.0994\n",
            "313/313 [==============================] - 4s 13ms/step - loss: 1.8360 - accuracy: 0.5393\n",
            "313/313 [==============================] - 4s 13ms/step - loss: 1.8727 - accuracy: 0.5725\n",
            "313/313 [==============================] - 4s 14ms/step - loss: 1.8367 - accuracy: 0.5175\n",
            "313/313 [==============================] - 4s 13ms/step - loss: 1.8435 - accuracy: 0.5228\n",
            "313/313 [==============================] - 4s 13ms/step - loss: 1.7810 - accuracy: 0.5765\n",
            "313/313 [==============================] - 4s 13ms/step - loss: 1.8287 - accuracy: 0.6183\n",
            "313/313 [==============================] - 4s 13ms/step - loss: 1.8326 - accuracy: 0.4674\n",
            "313/313 [==============================] - 4s 13ms/step - loss: 1.8212 - accuracy: 0.6339\n",
            "313/313 [==============================] - 4s 13ms/step - loss: 1.8255 - accuracy: 0.6287\n",
            "313/313 [==============================] - 4s 13ms/step - loss: 1.8513 - accuracy: 0.4246\n",
            "313/313 [==============================] - 4s 13ms/step - loss: 1.4574 - accuracy: 0.6949\n",
            "313/313 [==============================] - 5s 14ms/step - loss: 1.5382 - accuracy: 0.6100\n",
            "313/313 [==============================] - 4s 13ms/step - loss: 1.4621 - accuracy: 0.7073\n",
            "313/313 [==============================] - 4s 13ms/step - loss: 1.4294 - accuracy: 0.7150\n",
            "313/313 [==============================] - 4s 13ms/step - loss: 1.4224 - accuracy: 0.6988\n",
            "313/313 [==============================] - 4s 13ms/step - loss: 1.4237 - accuracy: 0.7077\n",
            "313/313 [==============================] - 4s 13ms/step - loss: 1.4489 - accuracy: 0.6567\n",
            "313/313 [==============================] - 4s 13ms/step - loss: 1.4969 - accuracy: 0.6753\n",
            "313/313 [==============================] - 4s 13ms/step - loss: 1.4732 - accuracy: 0.6922\n",
            "313/313 [==============================] - 4s 13ms/step - loss: 1.4474 - accuracy: 0.6885\n",
            "313/313 [==============================] - 4s 13ms/step - loss: 1.1538 - accuracy: 0.7558\n",
            "313/313 [==============================] - 4s 13ms/step - loss: 1.2251 - accuracy: 0.6798\n",
            "313/313 [==============================] - 4s 13ms/step - loss: 1.2433 - accuracy: 0.7066\n",
            "313/313 [==============================] - 4s 13ms/step - loss: 1.1310 - accuracy: 0.7894\n",
            "313/313 [==============================] - 4s 13ms/step - loss: 1.1250 - accuracy: 0.7621\n",
            "313/313 [==============================] - 4s 13ms/step - loss: 1.1547 - accuracy: 0.7357\n",
            "313/313 [==============================] - 4s 13ms/step - loss: 1.1459 - accuracy: 0.7314\n",
            "313/313 [==============================] - 4s 13ms/step - loss: 1.2203 - accuracy: 0.6776\n",
            "313/313 [==============================] - 4s 13ms/step - loss: 1.1873 - accuracy: 0.7577\n",
            "313/313 [==============================] - 4s 13ms/step - loss: 1.1681 - accuracy: 0.7510\n",
            "313/313 [==============================] - 4s 13ms/step - loss: 0.9634 - accuracy: 0.7754\n",
            "313/313 [==============================] - 4s 13ms/step - loss: 1.0125 - accuracy: 0.7223\n",
            "313/313 [==============================] - 4s 13ms/step - loss: 1.0207 - accuracy: 0.7524\n",
            "313/313 [==============================] - 4s 13ms/step - loss: 0.9443 - accuracy: 0.8065\n",
            "313/313 [==============================] - 4s 13ms/step - loss: 0.9135 - accuracy: 0.8006\n",
            "313/313 [==============================] - 4s 13ms/step - loss: 0.9641 - accuracy: 0.7761\n",
            "313/313 [==============================] - 4s 13ms/step - loss: 0.9510 - accuracy: 0.7729\n",
            "313/313 [==============================] - 4s 13ms/step - loss: 1.0038 - accuracy: 0.7140\n",
            "313/313 [==============================] - 4s 13ms/step - loss: 0.9807 - accuracy: 0.7862\n",
            "313/313 [==============================] - 4s 13ms/step - loss: 0.9815 - accuracy: 0.7621\n",
            "313/313 [==============================] - 4s 14ms/step - loss: 0.8309 - accuracy: 0.7852\n",
            "313/313 [==============================] - 4s 13ms/step - loss: 0.8404 - accuracy: 0.7809\n",
            "313/313 [==============================] - 4s 13ms/step - loss: 0.8276 - accuracy: 0.8045\n",
            "313/313 [==============================] - 4s 13ms/step - loss: 0.8269 - accuracy: 0.8093\n",
            "313/313 [==============================] - 4s 13ms/step - loss: 0.7916 - accuracy: 0.8064\n",
            "313/313 [==============================] - 4s 13ms/step - loss: 0.8063 - accuracy: 0.8058\n",
            "313/313 [==============================] - 4s 13ms/step - loss: 0.8386 - accuracy: 0.7754\n",
            "313/313 [==============================] - 4s 13ms/step - loss: 0.8137 - accuracy: 0.7925\n",
            "313/313 [==============================] - 4s 13ms/step - loss: 0.8182 - accuracy: 0.8109\n",
            "313/313 [==============================] - 4s 13ms/step - loss: 0.8341 - accuracy: 0.7920\n",
            "313/313 [==============================] - 4s 13ms/step - loss: 0.7342 - accuracy: 0.7962\n",
            "313/313 [==============================] - 4s 13ms/step - loss: 0.7331 - accuracy: 0.7818\n",
            "313/313 [==============================] - 4s 13ms/step - loss: 0.6940 - accuracy: 0.8209\n",
            "313/313 [==============================] - 4s 13ms/step - loss: 0.7241 - accuracy: 0.8005\n",
            "313/313 [==============================] - 4s 13ms/step - loss: 0.7098 - accuracy: 0.8194\n",
            "313/313 [==============================] - 4s 13ms/step - loss: 0.7361 - accuracy: 0.7993\n",
            "313/313 [==============================] - 4s 13ms/step - loss: 0.7137 - accuracy: 0.8159\n",
            "313/313 [==============================] - 4s 13ms/step - loss: 0.8192 - accuracy: 0.7506\n",
            "313/313 [==============================] - 4s 13ms/step - loss: 0.7544 - accuracy: 0.7880\n",
            "313/313 [==============================] - 4s 13ms/step - loss: 0.7087 - accuracy: 0.8095\n",
            "313/313 [==============================] - 4s 13ms/step - loss: 0.6597 - accuracy: 0.8128\n",
            "313/313 [==============================] - 4s 13ms/step - loss: 0.7053 - accuracy: 0.7811\n",
            "313/313 [==============================] - 4s 13ms/step - loss: 0.6236 - accuracy: 0.8298\n",
            "313/313 [==============================] - 4s 13ms/step - loss: 0.6639 - accuracy: 0.8043\n",
            "313/313 [==============================] - 4s 13ms/step - loss: 0.6488 - accuracy: 0.8189\n",
            "313/313 [==============================] - 4s 13ms/step - loss: 0.6675 - accuracy: 0.8054\n",
            "313/313 [==============================] - 4s 13ms/step - loss: 0.6306 - accuracy: 0.8301\n",
            "313/313 [==============================] - 4s 13ms/step - loss: 0.6500 - accuracy: 0.8153\n",
            "313/313 [==============================] - 4s 13ms/step - loss: 0.6701 - accuracy: 0.8107\n",
            "313/313 [==============================] - 5s 16ms/step - loss: 0.6443 - accuracy: 0.8174\n",
            "313/313 [==============================] - 4s 13ms/step - loss: 0.6088 - accuracy: 0.8229\n",
            "313/313 [==============================] - 5s 16ms/step - loss: 0.6394 - accuracy: 0.8080\n",
            "313/313 [==============================] - 4s 13ms/step - loss: 0.5811 - accuracy: 0.8359\n",
            "313/313 [==============================] - 5s 14ms/step - loss: 0.6010 - accuracy: 0.8272\n",
            "313/313 [==============================] - 5s 15ms/step - loss: 0.6041 - accuracy: 0.8268\n",
            "313/313 [==============================] - 5s 15ms/step - loss: 0.6107 - accuracy: 0.8210\n",
            "313/313 [==============================] - 5s 14ms/step - loss: 0.6105 - accuracy: 0.8271\n",
            "313/313 [==============================] - 5s 14ms/step - loss: 0.5970 - accuracy: 0.8276\n",
            "313/313 [==============================] - 5s 16ms/step - loss: 0.6045 - accuracy: 0.8258\n",
            "313/313 [==============================] - 5s 15ms/step - loss: 0.5923 - accuracy: 0.8277\n",
            "313/313 [==============================] - 4s 13ms/step - loss: 0.5783 - accuracy: 0.8287\n",
            "313/313 [==============================] - 4s 13ms/step - loss: 0.5899 - accuracy: 0.8243\n",
            "313/313 [==============================] - 4s 13ms/step - loss: 0.5672 - accuracy: 0.8375\n",
            "313/313 [==============================] - 4s 13ms/step - loss: 0.5814 - accuracy: 0.8316\n",
            "313/313 [==============================] - 4s 14ms/step - loss: 0.5770 - accuracy: 0.8284\n",
            "313/313 [==============================] - 4s 13ms/step - loss: 0.5846 - accuracy: 0.8240\n",
            "313/313 [==============================] - 4s 13ms/step - loss: 0.5627 - accuracy: 0.8375\n",
            "313/313 [==============================] - 4s 13ms/step - loss: 0.5715 - accuracy: 0.8340\n",
            "313/313 [==============================] - 4s 13ms/step - loss: 0.5781 - accuracy: 0.8304\n",
            "313/313 [==============================] - 4s 13ms/step - loss: 0.5645 - accuracy: 0.8330\n",
            "313/313 [==============================] - 4s 13ms/step - loss: 0.5537 - accuracy: 0.8356\n",
            "313/313 [==============================] - 4s 13ms/step - loss: 0.5537 - accuracy: 0.8356\n",
            "313/313 [==============================] - 4s 13ms/step - loss: 0.5537 - accuracy: 0.8356\n",
            "313/313 [==============================] - 4s 13ms/step - loss: 0.5537 - accuracy: 0.8356\n",
            "313/313 [==============================] - 4s 13ms/step - loss: 0.5537 - accuracy: 0.8356\n",
            "313/313 [==============================] - 4s 13ms/step - loss: 0.5537 - accuracy: 0.8356\n",
            "313/313 [==============================] - 4s 13ms/step - loss: 0.5537 - accuracy: 0.8356\n",
            "313/313 [==============================] - 4s 13ms/step - loss: 0.5537 - accuracy: 0.8356\n",
            "313/313 [==============================] - 5s 15ms/step - loss: 0.5537 - accuracy: 0.8356\n",
            "313/313 [==============================] - 4s 13ms/step - loss: 0.5537 - accuracy: 0.8356\n"
          ]
        }
      ]
    },
    {
      "cell_type": "code",
      "source": [
        "acc_df = pd.DataFrame(acc_table, columns=[\"{:.1f}\".format(t) for t in p])\n",
        "loss_df = pd.DataFrame(loss_table, columns=[\"{:.1f}\".format(t)  for t in p])"
      ],
      "metadata": {
        "id": "t02w-crf7Cka"
      },
      "execution_count": 7,
      "outputs": []
    },
    {
      "cell_type": "code",
      "source": [
        "acc_df.to_csv(\"acc_demag.csv\")\n",
        "loss_df.to_csv(\"loss_demag.csv\")"
      ],
      "metadata": {
        "id": "CjejoO9A7EXi"
      },
      "execution_count": 8,
      "outputs": []
    },
    {
      "cell_type": "code",
      "source": [
        "acc_df = pd.read_csv(\"acc_demag.csv\", index_col=0)\n",
        "loss_df = pd.read_csv(\"loss_demag.csv\", index_col=0)"
      ],
      "metadata": {
        "id": "D8ZOgzOP7Gfr"
      },
      "execution_count": 9,
      "outputs": []
    },
    {
      "cell_type": "code",
      "source": [
        "ave = np.average(acc_df.values, axis=0)\n",
        "for i in range(acc_df.shape[1]):\n",
        "    x = np.ones_like(acc_df.values[:,i]) * float(acc_df.columns[i])\n",
        "    y = acc_df.values[:,i]\n",
        "    plt.scatter(x, y, label=r\"$p={:.1f}$\".format(float(acc_df.columns[i])))\n",
        "\n",
        "plt.plot([float(_p) for _p in acc_df.columns], ave, label=\"average\")\n",
        "plt.legend()"
      ],
      "metadata": {
        "colab": {
          "base_uri": "https://localhost:8080/",
          "height": 419
        },
        "id": "aKFLc68R7Itb",
        "outputId": "6be90dd5-a9a9-44cb-b744-e7c9d2799a66"
      },
      "execution_count": 10,
      "outputs": [
        {
          "output_type": "execute_result",
          "data": {
            "text/plain": [
              "<matplotlib.legend.Legend at 0x7fdde0fe4b10>"
            ]
          },
          "metadata": {},
          "execution_count": 10
        },
        {
          "output_type": "display_data",
          "data": {
            "text/plain": [
              "<Figure size 432x288 with 1 Axes>"
            ],
            "image/png": "[encoded data removed]"
          },
          "metadata": {
            "needs_background": "light"
          }
        }
      ]
    }
  ],
  "metadata": {
    "kernelspec": {
      "display_name": "Python 3",
      "language": "python",
      "name": "python3"
    },
    "language_info": {
      "codemirror_mode": {
        "name": "ipython",
        "version": 2
      },
      "file_extension": ".py",
      "mimetype": "text/x-python",
      "name": "python",
      "nbconvert_exporter": "python",
      "pygments_lexer": "ipython2",
      "version": "2.7.6"
    },
    "colab": {
      "provenance": []
    },
    "accelerator": "GPU",
    "gpuClass": "standard"
  },
  "nbformat": 4,
  "nbformat_minor": 0
}