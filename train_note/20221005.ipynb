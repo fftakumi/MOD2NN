{
 "cells": [
  {
   "cell_type": "markdown",
   "source": [
    "# 20220831の評価"
   ],
   "metadata": {
    "collapsed": false
   }
  },
  {
   "cell_type": "code",
   "execution_count": null,
   "outputs": [],
   "source": [
    "#------------------------\n",
    "# Google Colab上でのみ実行\n",
    "#------------------------\n",
    "import time\n",
    "%env TOKEN=*************************************\n",
    "! git clone https://$$TOKEN@github.com/konnitiha3/MOD2NN.git\n",
    "\n",
    "import sys\n",
    "sys.path.append('/content/MOD2NN')\n",
    "\n",
    "from google.colab import drive\n",
    "drive.mount('/content/drive')"
   ],
   "metadata": {
    "collapsed": false
   }
  }
 ],
 "metadata": {
  "kernelspec": {
   "display_name": "Python 3",
   "language": "python",
   "name": "python3"
  },
  "language_info": {
   "codemirror_mode": {
    "name": "ipython",
    "version": 2
   },
   "file_extension": ".py",
   "mimetype": "text/x-python",
   "name": "python",
   "nbconvert_exporter": "python",
   "pygments_lexer": "ipython2",
   "version": "2.7.6"
  }
 },
 "nbformat": 4,
 "nbformat_minor": 0
}
