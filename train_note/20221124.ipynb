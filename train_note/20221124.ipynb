{
 "cells": [
  {
   "cell_type": "markdown",
   "source": [
    "# CNN"
   ],
   "metadata": {
    "collapsed": false
   }
  },
  {
   "cell_type": "code",
   "execution_count": 1,
   "outputs": [],
   "source": [
    "import sys\n",
    "sys.path.append('/notebooks/MOD2NN')"
   ],
   "metadata": {
    "collapsed": false
   }
  },
  {
   "cell_type": "code",
   "execution_count": 49,
   "outputs": [
    {
     "name": "stdout",
     "output_type": "stream",
     "text": [
      "TensorFlow: 2.8.0\n",
      "Python: 3.8.11 (default, Aug 16 2021, 12:04:33) \n",
      "[Clang 12.0.0 ]\n"
     ]
    }
   ],
   "source": [
    "import os\n",
    "import json\n",
    "\n",
    "import pandas as pd\n",
    "import matplotlib.pyplot as plt\n",
    "import numpy as np\n",
    "import tensorflow as tf\n",
    "from tensorflow.keras import layers\n",
    "\n",
    "from CNN.module.lib.layers import *\n",
    "from Faraday.two_dim.module.lib.layers import *\n",
    "tf.random.set_seed(1)\n",
    "\n",
    "print(\"TensorFlow:\", tf.__version__)\n",
    "print(\"Python:\", sys.version)\n",
    "\n",
    "plt.rcParams['font.size'] = 18"
   ],
   "metadata": {
    "collapsed": false
   }
  },
  {
   "cell_type": "code",
   "execution_count": 48,
   "outputs": [],
   "source": [
    "mnist = tf.keras.datasets.mnist\n",
    "\n",
    "(x_train, y_train), (x_test, y_test) = mnist.load_data()\n",
    "x_train = np.sqrt(x_train.astype(\"float32\") / 255.0)\n",
    "x_test = np.sqrt(x_test.astype(\"float32\") / 255.0)\n",
    "y_train_onehot = tf.one_hot(y_train, 10)\n",
    "\n",
    "y_train = y_train.astype(\"float32\")\n",
    "y_test = y_test.astype(\"float32\")\n",
    "y_test_onehot = tf.one_hot(y_test, 10)\n",
    "\n",
    "# Reserve 10,000 samples for validation\n",
    "x_val = x_train[-5000:]\n",
    "y_val = y_train[-5000:]\n",
    "x_train = x_train[:-5000]\n",
    "y_train = y_train[:-5000]"
   ],
   "metadata": {
    "collapsed": false
   }
  },
  {
   "cell_type": "code",
   "execution_count": 43,
   "outputs": [],
   "source": [
    "def create_model(shape):\n",
    "    inputs = tf.keras.Input((28,28))\n",
    "    x = ImageResizing(inputs)\n",
    "    x = layers.Flatten()(x)\n",
    "    x = Real2Complex()(x)\n",
    "    x = ComplexDense(10)(x)\n",
    "    x = MulConjugate()(x)\n",
    "    x = Real()(x)\n",
    "\n",
    "    return tf.keras.Model(inputs, x)"
   ],
   "metadata": {
    "collapsed": false
   }
  },
  {
   "cell_type": "code",
   "execution_count": 34,
   "outputs": [],
   "source": [
    "def train(i,seed):\n",
    "    shape = (28*i, 28*i)\n",
    "    tf.random.set_seed(seed)\n",
    "    model_name = \"20221124_{:d}_seed_{:d}_shape({:d}_{:d})\".format(i, seed, *shape)\n",
    "    path = \"../../\"\n",
    "    checkpoint_path = path + \"checkpoint/\" + model_name + \"/cp-{epoch:04d}.ckpt\"\n",
    "    checkpoint_dir = os.path.dirname(checkpoint_path)\n",
    "    path = path + \"trained_model/\"+ model_name\n",
    "\n",
    "    model = create_model((28*i, 28*i))\n",
    "    model.summary()\n",
    "    model.compile(optimizer=tf.keras.optimizers.Adam(),\n",
    "                  loss=tf.keras.losses.SparseCategoricalCrossentropy(from_logits=False),  # category: sparse_categorical_crossentropy\n",
    "                  metrics=[tf.keras.metrics.BinaryCrossentropy(from_logits=True)]\n",
    "                  )\n",
    "\n",
    "    epochs = 50\n",
    "    early_stopping = tf.keras.callbacks.EarlyStopping(\n",
    "            monitor='loss',\n",
    "            min_delta=0.0002,\n",
    "            patience=2,\n",
    "        )\n",
    "\n",
    "    def lr_schedule(epoch):\n",
    "      \"\"\"\n",
    "      Returns a custom learning rate that decreases as epochs progress.\n",
    "      \"\"\"\n",
    "      start = 0.2\n",
    "      end = 0.0001\n",
    "      n = 50\n",
    "      a = -1/(n-1) * np.log(end/start)\n",
    "      x = np.arange(n)\n",
    "      return np.exp(-a*(epoch-1)) * start\n",
    "    lr_callback = tf.keras.callbacks.LearningRateScheduler(lr_schedule)\n",
    "\n",
    "    # チェックポイントコールバックを作る\n",
    "    cp_callback = tf.keras.callbacks.ModelCheckpoint(checkpoint_path,\n",
    "                                                     save_weights_only=True,\n",
    "                                                     verbose=1)\n",
    "\n",
    "    logdir = os.path.join(path +\"logs\", model_name)\n",
    "    tensorboard_callback = tf.keras.callbacks.TensorBoard(logdir, histogram_freq=1)\n",
    "\n",
    "    result = model.fit(x_train,\n",
    "                       y_train_onehot,\n",
    "                       batch_size=64,\n",
    "                       epochs=epochs,\n",
    "                       validation_data=(x_val, y_val),\n",
    "                       callbacks=[cp_callback]\n",
    "                       )\n",
    "\n",
    "    model.save(path)\n",
    "\n",
    "    df = pd.DataFrame(result.history)\n",
    "    df.to_csv(path + \"/history.csv\")\n",
    "\n",
    "\n",
    "\n",
    "    with open(path + \"/config.json\", 'w') as f:\n",
    "        json.dump(model.get_config(), f, indent=4)"
   ],
   "metadata": {
    "collapsed": false
   }
  },
  {
   "cell_type": "code",
   "execution_count": null,
   "outputs": [],
   "source": [
    "index = [1, 2, 3]\n",
    "seeds = [1,2,3,4,5]\n",
    "\n",
    "for i in index:\n",
    "    for seed in seeds:\n",
    "        train(i, seed)"
   ],
   "metadata": {
    "collapsed": false
   }
  }
 ],
 "metadata": {
  "kernelspec": {
   "display_name": "Python 3",
   "language": "python",
   "name": "python3"
  },
  "language_info": {
   "codemirror_mode": {
    "name": "ipython",
    "version": 2
   },
   "file_extension": ".py",
   "mimetype": "text/x-python",
   "name": "python",
   "nbconvert_exporter": "python",
   "pygments_lexer": "ipython2",
   "version": "2.7.6"
  }
 },
 "nbformat": 4,
 "nbformat_minor": 0
}
