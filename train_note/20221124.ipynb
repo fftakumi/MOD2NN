{
 "cells": [
  {
   "cell_type": "markdown",
   "source": [
    "# CNN"
   ],
   "metadata": {
    "collapsed": false
   }
  },
  {
   "cell_type": "code",
   "execution_count": 1,
   "outputs": [],
   "source": [
    "import sys\n",
    "sys.path.append('/notebooks/MOD2NN')"
   ],
   "metadata": {
    "collapsed": false
   }
  },
  {
   "cell_type": "code",
   "execution_count": 47,
   "outputs": [
    {
     "name": "stdout",
     "output_type": "stream",
     "text": [
      "TensorFlow: 2.8.0\n",
      "Python: 3.8.11 (default, Aug 16 2021, 12:04:33) \n",
      "[Clang 12.0.0 ]\n"
     ]
    }
   ],
   "source": [
    "import os\n",
    "import json\n",
    "\n",
    "import pandas as pd\n",
    "import matplotlib.pyplot as plt\n",
    "import numpy as np\n",
    "import tensorflow as tf\n",
    "from tensorflow.keras import layers\n",
    "\n",
    "from CNN.module.lib.layers import *\n",
    "tf.random.set_seed(1)\n",
    "\n",
    "print(\"TensorFlow:\", tf.__version__)\n",
    "print(\"Python:\", sys.version)\n",
    "\n",
    "plt.rcParams['font.size'] = 18"
   ],
   "metadata": {
    "collapsed": false
   }
  },
  {
   "cell_type": "code",
   "execution_count": 37,
   "outputs": [],
   "source": [
    "class Real2Complex(tf.keras.layers.Layer):\n",
    "    def __init__(self, phase=0.):\n",
    "        super(Real2Complex, self).__init__()\n",
    "        self.phase = tf.constant(phase, dtype=tf.float32)\n",
    "\n",
    "    def get_config(self):\n",
    "        config = super().get_config()\n",
    "        config.update({\n",
    "            \"phase\": self.phase.numpy()\n",
    "        })\n",
    "        return config\n",
    "\n",
    "    @classmethod\n",
    "    def from_config(cls, config):\n",
    "        return cls(**config)\n",
    "\n",
    "    def call(self, inputs):\n",
    "        return tf.complex(inputs, 0.) * tf.complex(tf.cos(self.phase), tf.sin(self.phase))"
   ],
   "metadata": {
    "collapsed": false
   }
  },
  {
   "cell_type": "code",
   "execution_count": 38,
   "outputs": [],
   "source": [
    "mnist = tf.keras.datasets.mnist\n",
    "\n",
    "(x_train, y_train), (x_test, y_test) = mnist.load_data()\n",
    "x_train = np.sqrt(x_train.astype(\"float32\") / 255.0)\n",
    "x_test = np.sqrt(x_test.astype(\"float32\") / 255.0)\n",
    "\n",
    "y_train = y_train.astype(\"float32\")\n",
    "y_test = y_test.astype(\"float32\")\n",
    "\n",
    "# Reserve 10,000 samples for validation\n",
    "x_val = x_train[-5000:]\n",
    "y_val = y_train[-5000:]\n",
    "x_train = x_train[:-5000]\n",
    "y_train = y_train[:-5000]"
   ],
   "metadata": {
    "collapsed": false
   }
  },
  {
   "cell_type": "code",
   "execution_count": 43,
   "outputs": [],
   "source": [
    "def create_model():\n",
    "    inputs = tf.keras.Input((28,28))\n",
    "    x = layers.Flatten()(inputs)\n",
    "    x = Real2Complex()(x)\n",
    "    x = ComplexDense(10)(x)\n",
    "    x = MulConjugate()(x)\n",
    "    x = Real()(x)\n",
    "\n",
    "    return tf.keras.Model(inputs, x)"
   ],
   "metadata": {
    "collapsed": false
   }
  },
  {
   "cell_type": "code",
   "execution_count": 44,
   "outputs": [
    {
     "data": {
      "text/plain": "{'name': 'model_5',\n 'layers': [{'class_name': 'InputLayer',\n   'config': {'batch_input_shape': (None, 28, 28),\n    'dtype': 'float32',\n    'sparse': False,\n    'ragged': False,\n    'name': 'input_12'},\n   'name': 'input_12',\n   'inbound_nodes': []},\n  {'class_name': 'Flatten',\n   'config': {'name': 'flatten_11',\n    'trainable': True,\n    'dtype': 'float32',\n    'data_format': 'channels_last'},\n   'name': 'flatten_11',\n   'inbound_nodes': [[['input_12', 0, 0, {}]]]},\n  {'class_name': 'Real2Complex',\n   'config': {'name': 'real2_complex_9',\n    'trainable': True,\n    'dtype': 'float32',\n    'phase': 0.0},\n   'name': 'real2_complex_9',\n   'inbound_nodes': [[['flatten_11', 0, 0, {}]]]},\n  {'class_name': 'ComplexDense',\n   'config': {'name': 'complex_dense_6',\n    'trainable': True,\n    'dtype': 'float32',\n    'units': 10,\n    'use_bias': False},\n   'name': 'complex_dense_6',\n   'inbound_nodes': [[['real2_complex_9', 0, 0, {}]]]},\n  {'class_name': 'MulConjugate',\n   'config': {'name': 'mul_conjugate_5',\n    'trainable': True,\n    'dtype': 'float32'},\n   'name': 'mul_conjugate_5',\n   'inbound_nodes': [[['complex_dense_6', 0, 0, {}]]]},\n  {'class_name': 'Real',\n   'config': {'name': 'real_5', 'trainable': True, 'dtype': 'float32'},\n   'name': 'real_5',\n   'inbound_nodes': [[['mul_conjugate_5', 0, 0, {}]]]}],\n 'input_layers': [['input_12', 0, 0]],\n 'output_layers': [['real_5', 0, 0]]}"
     },
     "execution_count": 44,
     "metadata": {},
     "output_type": "execute_result"
    }
   ],
   "source": [
    "model = create_model()\n",
    "model.get_config()"
   ],
   "metadata": {
    "collapsed": false
   }
  },
  {
   "cell_type": "code",
   "execution_count": 34,
   "outputs": [],
   "source": [
    "model_name = \"20221124_1\"\n",
    "path = \"/notebooks/\"\n",
    "checkpoint_path = path + \"checkpoint/\" + model_name + \"/cp-{epoch:04d}.ckpt\"\n",
    "checkpoint_dir = os.path.dirname(checkpoint_path)\n",
    "path = path + \"trained_model/\"+ model_name\n",
    "\n",
    "model = create_model()\n",
    "model.summary()\n",
    "model.compile(optimizer=tf.keras.optimizers.Adam(),\n",
    "              loss=tf.keras.losses.BinaryCrossentropy(from_logits=True),  # category: sparse_categorical_crossentropy\n",
    "              metrics=[tf.keras.metrics.BinaryCrossentropy(from_logits=True)]\n",
    "              )\n",
    "\n",
    "epochs = 50\n",
    "early_stopping = tf.keras.callbacks.EarlyStopping(\n",
    "        monitor='loss',\n",
    "        min_delta=0.0002,\n",
    "        patience=2,\n",
    "    )\n",
    "\n",
    "def lr_schedule(epoch):\n",
    "  \"\"\"\n",
    "  Returns a custom learning rate that decreases as epochs progress.\n",
    "  \"\"\"\n",
    "  start = 0.2\n",
    "  end = 0.0001\n",
    "  n = 50\n",
    "  a = -1/(n-1) * np.log(end/start)\n",
    "  x = np.arange(n)\n",
    "  return np.exp(-a*(epoch-1)) * start\n",
    "lr_callback = tf.keras.callbacks.LearningRateScheduler(lr_schedule)\n",
    "\n",
    "# チェックポイントコールバックを作る\n",
    "cp_callback = tf.keras.callbacks.ModelCheckpoint(checkpoint_path,\n",
    "                                                 save_weights_only=True,\n",
    "                                                 verbose=1)\n",
    "\n",
    "logdir = os.path.join(path +\"logs\", model_name)\n",
    "tensorboard_callback = tf.keras.callbacks.TensorBoard(logdir, histogram_freq=1)\n",
    "\n",
    "result = model.fit(x_train,\n",
    "                   x_train,\n",
    "                   batch_size=64,\n",
    "                   epochs=epochs,\n",
    "                   validation_data=(x_val, y_val),\n",
    "                   callbacks=[cp_callback, tensorboard_callback]\n",
    "                   )\n",
    "\n",
    "model.save(path)\n",
    "\n",
    "df = pd.DataFrame(result.history)\n",
    "df.to_csv(path + \"/history.csv\")\n",
    "\n",
    "\n",
    "\n",
    "with open(path + \"/config.json\", 'w') as f:\n",
    "    json.dump(model.get_config(), f, indent=4)"
   ],
   "metadata": {
    "collapsed": false
   }
  }
 ],
 "metadata": {
  "kernelspec": {
   "display_name": "Python 3",
   "language": "python",
   "name": "python3"
  },
  "language_info": {
   "codemirror_mode": {
    "name": "ipython",
    "version": 2
   },
   "file_extension": ".py",
   "mimetype": "text/x-python",
   "name": "python",
   "nbconvert_exporter": "python",
   "pygments_lexer": "ipython2",
   "version": "2.7.6"
  }
 },
 "nbformat": 4,
 "nbformat_minor": 0
}
