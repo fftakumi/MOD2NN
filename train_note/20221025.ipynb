{
 "cells": [
  {
   "cell_type": "markdown",
   "source": [
    "# D2NN表現力チェック"
   ],
   "metadata": {
    "collapsed": false
   }
  },
  {
   "cell_type": "code",
   "execution_count": null,
   "metadata": {
    "collapsed": true
   },
   "outputs": [],
   "source": [
    "import numpy as np\n",
    "import matplotlib.pyplot as plt"
   ]
  },
  {
   "cell_type": "markdown",
   "source": [
    "回折の計算は十分細かく離散化され、積分を行列積で表せるとする。"
   ],
   "metadata": {
    "collapsed": false
   }
  },
  {
   "cell_type": "code",
   "execution_count": null,
   "outputs": [],
   "source": [
    "l = 633e-9\n",
    "k = 2 * np.pi/l\n",
    "c = 299792458\n",
    "w = 2 * np.pi * c / l"
   ],
   "metadata": {
    "collapsed": false
   }
  },
  {
   "cell_type": "code",
   "execution_count": null,
   "outputs": [],
   "source": [
    "def reyleigh_sommerfeld(x, y, z):\n",
    "  r = np.sqrt(x**2 + y**2 + z**2)\n",
    "  h = 1/(2*np.pi) * z / r * (1/r - 1j*k) * np.exp(1j * k * r) / r\n",
    "  return h"
   ],
   "metadata": {
    "collapsed": false
   }
  },
  {
   "cell_type": "code",
   "execution_count": null,
   "outputs": [],
   "source": [
    "N = 100\n",
    "M = 2*N+1\n",
    "d = l/3\n",
    "#sorce\n",
    "sy = np.arange(-N*d, N*d + d/2, d)\n",
    "y = sy.copy()\n",
    "y_each = np.ones((M,1)) * y - sy.reshape((-1,1)) # um\n",
    "z = 0.5e-3 # cm\n",
    "x = 0\n",
    "\n",
    "H = reyleigh_sommerfeld(x, y_each, z)\n",
    "\n",
    "E0 = np.ones_like(sy)\n",
    "mod = np.random.random(sy.shape) * np.exp(1.0j*np.random.random(sy.shape))\n",
    "E0_mod = E0 * mod\n",
    "E1 = H @ E0_mod\n",
    "I = np.abs(E1)**2\n",
    "plt.plot(I)"
   ],
   "metadata": {
    "collapsed": false
   }
  },
  {
   "cell_type": "code",
   "execution_count": null,
   "outputs": [],
   "source": [
    "fig = plt.figure()\n",
    "\n",
    "plt.subplot(1,2,1)\n",
    "plt.imshow(H.real)\n",
    "plt.subplot(1,2,2)\n",
    "plt.imshow(H.imag)"
   ],
   "metadata": {
    "collapsed": false
   }
  },
  {
   "cell_type": "markdown",
   "source": [
    "$$\n",
    "\\begin{align}\n",
    "    E&=\n",
    "    \\begin{pmatrix}\n",
    "      e^{iN_1^1} h_1^1 & e^{iN_2^1} h_2^1 \\\\\n",
    "      e^{iN_1^1} h_3^1 & e^{iN_2^1} h_4^1\n",
    "   \\end{pmatrix}\n",
    "    \\begin{pmatrix}\n",
    "      E_1 \\\\\n",
    "      E_2\n",
    "   \\end{pmatrix} \\\\\n",
    "\n",
    "   E&=\n",
    "    \\begin{pmatrix}\n",
    "      e^{iN_1^2} h_1^2 & e^{iN_2^2} h_2^2 \\\\\n",
    "      e^{iN_1^2} h_3^2 & e^{iN_2^2} h_4^2\n",
    "   \\end{pmatrix}\n",
    "    \\begin{pmatrix}\n",
    "      e^{iN_1^1} h_1^1 & e^{iN_2^1} h_2^1 \\\\\n",
    "      e^{iN_1^1} h_3^1 & e^{iN_2^1} h_4^1\n",
    "   \\end{pmatrix}\n",
    "    \\begin{pmatrix}\n",
    "      E_1 \\\\\n",
    "      E_2\n",
    "   \\end{pmatrix} \\\\\n",
    "\\end{align}\n",
    "$$"
   ],
   "metadata": {
    "collapsed": false
   }
  },
  {
   "cell_type": "markdown",
   "source": [
    "$$\n",
    "\\begin{align}\n",
    "   E&=\n",
    "    \\begin{pmatrix}\n",
    "      e^{iN_1^2} h_1^2 e^{iN_1^1} h_1^1 + e^{iN_2^2} h_2^2 e^{iN_1^1} h_3^1 & e^{iN_1^2} h_1^2 e^{iN_2^2} h_2^2 + e^{iN_2^2} h_2^2 e^{iN_2^1} h_4^1 \\\\\n",
    "      e^{iN_1^2} h_3^2 e^{iN_1^1} h_1^1 + e^{iN_2^2} h_4^2 e^{iN_1^1} h_3^1 & e^{iN_1^2} h_3^2 e^{iN_2^1} h_2^1 +e^{iN_2^2} h_4^2 e^{iN_2^1} h_4^1\n",
    "   \\end{pmatrix}\n",
    "    \\begin{pmatrix}\n",
    "      E_1 \\\\\n",
    "      E_2\n",
    "   \\end{pmatrix}\n",
    "\\end{align}\n",
    "$$"
   ],
   "metadata": {
    "collapsed": false
   }
  },
  {
   "cell_type": "markdown",
   "source": [
    "$$\n",
    "N^2_1 + N^1_1 = N^{21}_{11} \\\\\n",
    "N^2_2 + N^1_1 = N^{21}_{21} \\\\\n",
    "N^2_1 + N^2_2 = N^{22}_{12} \\\\\n",
    "N^2_2 + N^1_2 = N^{21}_{22} \\\\\n",
    "$$"
   ],
   "metadata": {
    "collapsed": false
   }
  },
  {
   "cell_type": "markdown",
   "source": [
    "$$\n",
    "\\begin{align}\n",
    "   E&=\n",
    "    \\begin{pmatrix}\n",
    "      e^{iN^{21}_{11}} h_1^2 h_1^1 + e^{iN^{21}_{21}} h_2^2 h_3^1 & e^{iN^{22}_{12}} h_1^2 h_2^2 + e^{iN^{21}_{22}} h_2^2  h_4^1 \\\\\n",
    "      e^{iN^{21}_{11}} h_3^2 h_1^1 + e^{iN^{21}_{21}} h_4^2 h_3^1 & e^{iN^{21}_{22}} h_3^2 h_2^1 +e^{iN^{22}_{12}} h_4^2 h_4^1\n",
    "   \\end{pmatrix}\n",
    "    \\begin{pmatrix}\n",
    "      E_1 \\\\\n",
    "      E_2\n",
    "   \\end{pmatrix}\n",
    "\\end{align}\n",
    "$$"
   ],
   "metadata": {
    "collapsed": false
   }
  },
  {
   "cell_type": "markdown",
   "source": [
    "$$\n",
    "\\begin{align}\n",
    "    \\begin{pmatrix}\n",
    "      e^{iN^{21}_{11}} h_1^2 h_1^1 + e^{iN^{21}_{21}} h_2^2 h_3^1 & e^{iN^{22}_{12}} h_1^2 h_2^2 + e^{iN^{21}_{22}} h_2^2  h_4^1 \\\\\n",
    "      e^{iN^{21}_{11}} h_3^2 h_1^1 + e^{iN^{21}_{21}} h_4^2 h_3^1 & e^{iN^{21}_{22}} h_3^2 h_2^1 +e^{iN^{22}_{12}} h_4^2 h_4^1\n",
    "   \\end{pmatrix}\n",
    "   =\n",
    "    \\begin{pmatrix}\n",
    "      c_1 & c_2 \\\\\n",
    "      c_3 & c_4\n",
    "   \\end{pmatrix}\n",
    "\\end{align}\n",
    "$$"
   ],
   "metadata": {
    "collapsed": false
   }
  },
  {
   "cell_type": "markdown",
   "source": [
    "$$\n",
    "c_1 = e^{iN^{21}_{11}} h_1^2 h_1^1 + e^{iN^{21}_{21}} h_2^2 h_3^1 \\\\\n",
    "c_2 = e^{iN^{22}_{12}} h_1^2 h_2^2 + e^{iN^{21}_{22}} h_2^2  h_4^1 \\\\\n",
    "c_3 = e^{iN^{21}_{11}} h_3^2 h_1^1 + e^{iN^{21}_{21}} h_4^2 h_3^1 \\\\\n",
    "c_4 = e^{iN^{21}_{22}} h_3^2 h_2^1 +e^{iN^{22}_{12}} h_4^2 h_4^1\n",
    "$$"
   ],
   "metadata": {
    "collapsed": false
   }
  },
  {
   "cell_type": "markdown",
   "source": [
    "$$\n",
    "c_1 = e^{iN^{21}_{11}} h_1^2 h_1^1 + e^{iN^{21}_{21}} h_2^2 h_3^1 \\\\\n",
    "e^{iN^{21}_{11}} = \\dfrac{c_1 - e^{iN^{21}_{21}} h_2^2 h_3^1}{h_1^2 h_1^1}\n",
    "$$\n",
    "より、\n",
    "$$\n",
    "c_3 = \\dfrac{c_1 - e^{iN^{21}_{21}} h_2^2 h_3^1}{h_1^2 h_1^1} h_3^2 h_1^1 + e^{iN^{21}_{21}} h_4^2 h_3^1 \\\\\n",
    "=\\dfrac{c_1}{h_1^2 h_1^1}h_2^2 h_3^1- \\dfrac{e^{iN^{21}_{21}}}{h_1^2 h_1^1}h_2^2 h_3^1 + e^{iN^{21}_{21}} h_4^2 h_3^1 \\\\\n",
    "=\\dfrac{c_1}{h_1^2 h_1^1}h_2^2 h_3^1 - e^{iN^{21}_{21}}\\left( \\dfrac{h_2^2 h_3^1}{h_1^2 h_1^1}- h_4^2 h_3^1 \\right) \\\\\n",
    "e^{iN^{21}_{21}}=\\dfrac{\\dfrac{c_1}{h_1^2 h_1^1}h_2^2 h_3^1 - c_3}{\\dfrac{h_2^2 h_3^1}{h_1^2 h_1^1}- h_4^2 h_3^1} \\\\\n",
    "=\\dfrac{c_1h_2^2 h_3^1 - c_3 h_1^2 h_1^1}{h_2^2 h_3^1- h_4^2 h_3^1 h_1^2 h_1^1} \\\\\n",
    "$$"
   ],
   "metadata": {
    "collapsed": false
   }
  },
  {
   "cell_type": "markdown",
   "source": [
    "つまり、$e^{iN}$は他の$e^{iN}$に依存しない。よって層数を増やすことで、行列の表現力を高めており、層の出力層のノード数分の回折層があれば十分である。"
   ],
   "metadata": {
    "collapsed": false
   }
  },
  {
   "cell_type": "markdown",
   "source": [
    "$$\n",
    "\\begin{align}\n",
    "    E&=\n",
    "    \\begin{pmatrix}\n",
    "      e^{iN_1^1} h_1^1 & e^{iN_1^1} h_2^1 \\\\\n",
    "      e^{iN_2^1} h_3^1 & e^{iN_2^1} h_4^1\n",
    "   \\end{pmatrix}\n",
    "    \\begin{pmatrix}\n",
    "      E_1 \\\\\n",
    "      E_2\n",
    "   \\end{pmatrix} \\\\\n",
    "   &=\n",
    "   \\begin{pmatrix}\n",
    "      e^{N^1_1} & 0 \\\\\n",
    "      0 & e^{N^1_1}\n",
    "   \\end{pmatrix}\n",
    "   \\begin{pmatrix}\n",
    "      h_1^1 & h_2^1 \\\\\n",
    "      h_3^1 & h_4^1\n",
    "   \\end{pmatrix}\n",
    "    \\begin{pmatrix}\n",
    "      E_1 \\\\\n",
    "      E_2\n",
    "   \\end{pmatrix}\n",
    "\\end{align}\n",
    "$$"
   ],
   "metadata": {
    "collapsed": false
   }
  },
  {
   "cell_type": "code",
   "execution_count": null,
   "outputs": [],
   "source": [],
   "metadata": {
    "collapsed": false
   }
  }
 ],
 "metadata": {
  "kernelspec": {
   "display_name": "Python 3",
   "language": "python",
   "name": "python3"
  },
  "language_info": {
   "codemirror_mode": {
    "name": "ipython",
    "version": 2
   },
   "file_extension": ".py",
   "mimetype": "text/x-python",
   "name": "python",
   "nbconvert_exporter": "python",
   "pygments_lexer": "ipython2",
   "version": "2.7.6"
  }
 },
 "nbformat": 4,
 "nbformat_minor": 0
}
