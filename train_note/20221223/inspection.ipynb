{
 "cells": [
  {
   "cell_type": "code",
   "execution_count": 8,
   "metadata": {
    "collapsed": true
   },
   "outputs": [],
   "source": [
    "import os\n",
    "import glob\n",
    "\n",
    "import tensorflow as tf\n",
    "import numpy as np\n",
    "import pandas as pd\n",
    "import matplotlib.pyplot as plt"
   ]
  },
  {
   "cell_type": "code",
   "execution_count": 2,
   "outputs": [
    {
     "name": "stdout",
     "output_type": "stream",
     "text": [
      "Downloading data from https://storage.googleapis.com/tensorflow/tf-keras-datasets/mnist.npz\n",
      "11490434/11490434 [==============================] - 0s 0us/step\n"
     ]
    }
   ],
   "source": [
    "mnist = tf.keras.datasets.mnist\n",
    "\n",
    "(x_train, y_train), (x_test, y_test) = mnist.load_data()\n",
    "x_train = x_train.astype(\"float32\") / 255.0\n",
    "x_test = x_test.astype(\"float32\") / 255.0\n",
    "\n",
    "y_train = y_train.astype(\"float32\")\n",
    "y_test = y_test.astype(\"float32\")\n",
    "\n",
    "# Reserve 10,000 samples for validation\n",
    "x_val = x_train[-5000:]\n",
    "y_val = y_train[-5000:]\n",
    "x_train = x_train[:-5000]\n",
    "y_train = y_train[:-5000]"
   ],
   "metadata": {
    "collapsed": false
   }
  },
  {
   "cell_type": "code",
   "execution_count": 3,
   "outputs": [
    {
     "data": {
      "text/plain": "['trained_model/20221223/z0_0.000000_seed_1',\n 'trained_model/20221223/z0_0.000500_seed_1',\n 'trained_model/20221223/z0_0.001000_seed_1']"
     },
     "execution_count": 3,
     "metadata": {},
     "output_type": "execute_result"
    }
   ],
   "source": [
    "files = glob.glob(\"trained_model/20221223/*\")\n",
    "files.sort()\n",
    "files"
   ],
   "metadata": {
    "collapsed": false
   }
  },
  {
   "cell_type": "code",
   "execution_count": 6,
   "outputs": [
    {
     "name": "stdout",
     "output_type": "stream",
     "text": [
      "313/313 [==============================] - 3s 10ms/step - loss: 1.3461 - accuracy: 0.6073\n",
      "313/313 [==============================] - 4s 11ms/step - loss: 1.1900 - accuracy: 0.6723\n",
      "313/313 [==============================] - 4s 12ms/step - loss: 1.1379 - accuracy: 0.6948\n"
     ]
    }
   ],
   "source": [
    "evals = []\n",
    "for path in files:\n",
    "    model = tf.keras.models.load_model(path)\n",
    "    evals.append(model.evaluate(x_test, y_test))"
   ],
   "metadata": {
    "collapsed": false
   }
  },
  {
   "cell_type": "markdown",
   "source": [
    "# フォトマスクから1層目までの距離の違いによる正解率の変化\n",
    "z0=フォトマスクから1層目までの距離"
   ],
   "metadata": {
    "collapsed": false
   }
  },
  {
   "cell_type": "code",
   "execution_count": 16,
   "outputs": [
    {
     "data": {
      "text/plain": "Text(0, 0.5, 'Accuracy')"
     },
     "execution_count": 16,
     "metadata": {},
     "output_type": "execute_result"
    },
    {
     "data": {
      "text/plain": "<Figure size 432x288 with 1 Axes>",
      "image/png": "[encoded data removed]"
     },
     "metadata": {
      "needs_background": "light"
     },
     "output_type": "display_data"
    }
   ],
   "source": [
    "z = np.array([0, 0.5e-3, 1.0e-3])\n",
    "plt.scatter(z*1000, np.array(evals)[:,1])\n",
    "plt.xlabel(\"z0(mm)\")\n",
    "plt.ylabel(\"Accuracy\")"
   ],
   "metadata": {
    "collapsed": false
   }
  },
  {
   "cell_type": "markdown",
   "source": [
    "## フォトマスクと1層目までの距離=0の磁区パターン"
   ],
   "metadata": {
    "collapsed": false
   }
  },
  {
   "cell_type": "code",
   "execution_count": 32,
   "outputs": [
    {
     "data": {
      "text/plain": "<matplotlib.image.AxesImage at 0x7fbf05967df0>"
     },
     "execution_count": 32,
     "metadata": {},
     "output_type": "execute_result"
    },
    {
     "data": {
      "text/plain": "<Figure size 432x288 with 2 Axes>",
      "image/png": "[encoded data removed]"
     },
     "metadata": {
      "needs_background": "light"
     },
     "output_type": "display_data"
    }
   ],
   "source": [
    "model = tf.keras.models.load_model(\"trained_model/20221223/z0_0.000000_seed_1\")\n",
    "w1 = model.layers[3].get_weights()\n",
    "b_w1 = tf.clip_by_value((w1[0]+1.)/2.,0, 1)\n",
    "b_w1 = 2.*tf.round(b_w1)-1.\n",
    "\n",
    "w2 = model.layers[5].get_weights()\n",
    "b_w2 = tf.clip_by_value((w2[0]+1.)/2.,0, 1)\n",
    "b_w2 = 2.*tf.round(b_w2)-1.\n",
    "\n",
    "plt.subplot(121)\n",
    "plt.imshow(b_w1, interpolation=\"none\")\n",
    "\n",
    "plt.subplot(122)\n",
    "plt.imshow(b_w2, interpolation=\"none\")"
   ],
   "metadata": {
    "collapsed": false
   }
  },
  {
   "cell_type": "markdown",
   "source": [
    "## フォトマスクと1層目までの距離=0.5mmの磁区パターン"
   ],
   "metadata": {
    "collapsed": false
   }
  },
  {
   "cell_type": "code",
   "execution_count": 36,
   "outputs": [
    {
     "data": {
      "text/plain": "<matplotlib.image.AxesImage at 0x7fbf053d7af0>"
     },
     "execution_count": 36,
     "metadata": {},
     "output_type": "execute_result"
    },
    {
     "data": {
      "text/plain": "<Figure size 432x288 with 2 Axes>",
      "image/png": "[encoded data removed]"
     },
     "metadata": {
      "needs_background": "light"
     },
     "output_type": "display_data"
    }
   ],
   "source": [
    "model = tf.keras.models.load_model(\"trained_model/20221223/z0_0.000500_seed_1\")\n",
    "w1 = model.layers[4].get_weights()\n",
    "b_w1 = tf.clip_by_value((w1[0]+1.)/2.,0, 1)\n",
    "b_w1 = 2.*tf.round(b_w1)-1.\n",
    "\n",
    "w2 = model.layers[6].get_weights()\n",
    "b_w2 = tf.clip_by_value((w2[0]+1.)/2.,0, 1)\n",
    "b_w2 = 2.*tf.round(b_w2)-1.\n",
    "\n",
    "plt.subplot(121)\n",
    "plt.imshow(b_w1, interpolation=\"none\")\n",
    "\n",
    "plt.subplot(122)\n",
    "plt.imshow(b_w2, interpolation=\"none\")"
   ],
   "metadata": {
    "collapsed": false
   }
  },
  {
   "cell_type": "markdown",
   "source": [
    "## フォトマスクと1層目までの距離=0.5mmの磁区パターン"
   ],
   "metadata": {
    "collapsed": false
   }
  },
  {
   "cell_type": "code",
   "execution_count": 37,
   "outputs": [
    {
     "data": {
      "text/plain": "<matplotlib.image.AxesImage at 0x7fbf04e50b20>"
     },
     "execution_count": 37,
     "metadata": {},
     "output_type": "execute_result"
    },
    {
     "data": {
      "text/plain": "<Figure size 432x288 with 2 Axes>",
      "image/png": "[encoded data removed]"
     },
     "metadata": {
      "needs_background": "light"
     },
     "output_type": "display_data"
    }
   ],
   "source": [
    "model = tf.keras.models.load_model(\"trained_model/20221223/z0_0.001000_seed_1\")\n",
    "w1 = model.layers[4].get_weights()\n",
    "b_w1 = tf.clip_by_value((w1[0]+1.)/2.,0, 1)\n",
    "b_w1 = 2.*tf.round(b_w1)-1.\n",
    "\n",
    "w2 = model.layers[6].get_weights()\n",
    "b_w2 = tf.clip_by_value((w2[0]+1.)/2.,0, 1)\n",
    "b_w2 = 2.*tf.round(b_w2)-1.\n",
    "\n",
    "plt.subplot(121)\n",
    "plt.imshow(b_w1, interpolation=\"none\")\n",
    "\n",
    "plt.subplot(122)\n",
    "plt.imshow(b_w2, interpolation=\"none\")"
   ],
   "metadata": {
    "collapsed": false
   }
  }
 ],
 "metadata": {
  "kernelspec": {
   "display_name": "Python 3",
   "language": "python",
   "name": "python3"
  },
  "language_info": {
   "codemirror_mode": {
    "name": "ipython",
    "version": 2
   },
   "file_extension": ".py",
   "mimetype": "text/x-python",
   "name": "python",
   "nbconvert_exporter": "python",
   "pygments_lexer": "ipython2",
   "version": "2.7.6"
  }
 },
 "nbformat": 4,
 "nbformat_minor": 0
}
