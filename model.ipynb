{
  "nbformat": 4,
  "nbformat_minor": 0,
  "metadata": {
    "kernelspec": {
      "display_name": "Python 3",
      "language": "python",
      "name": "python3"
    },
    "language_info": {
      "codemirror_mode": {
        "name": "ipython",
        "version": 2
      },
      "file_extension": ".py",
      "mimetype": "text/x-python",
      "name": "python",
      "nbconvert_exporter": "python",
      "pygments_lexer": "ipython2",
      "version": "2.7.6"
    },
    "colab": {
      "name": "model.ipynb",
      "provenance": [],
      "toc_visible": true
    },
    "accelerator": "GPU"
  },
  "cells": [
    {
      "cell_type": "code",
      "metadata": {
        "collapsed": true,
        "id": "3jmBkPqV5FrH",
        "outputId": "cdd231d8-b289-4374-b03c-10fcc806ff40",
        "colab": {
          "base_uri": "https://localhost:8080/"
        }
      },
      "source": [
        "import tensorflow as tf\n",
        "from tensorflow import keras\n",
        "from tensorflow.keras.callbacks import EarlyStopping\n",
        "from tensorflow.keras.layers import Lambda\n",
        "import numpy as np\n",
        "import matplotlib.pyplot as plt\n",
        "import cv2\n",
        "import pandas as pd\n",
        "import sys\n",
        "\n",
        "print(\"TensorFlow:\",tf.__version__)\n",
        "print(\"Python:\", sys.version)\n",
        "print(\"OpenCV:\", cv2.__version__)\n",
        "\n",
        "plt.rcParams['font.size'] = 18"
      ],
      "execution_count": 1,
      "outputs": [
        {
          "output_type": "stream",
          "name": "stdout",
          "text": [
            "TensorFlow: 2.7.0\n",
            "Python: 3.7.12 (default, Sep 10 2021, 00:21:48) \n",
            "[GCC 7.5.0]\n",
            "OpenCV: 4.1.2\n"
          ]
        }
      ]
    },
    {
      "cell_type": "code",
      "metadata": {
        "pycharm": {
          "name": "#%%\n"
        },
        "id": "XHZMEAtt5FrK"
      },
      "source": [
        "class InputToCx(tf.keras.layers.Layer):\n",
        "    def __init__(self, output_dim):\n",
        "        super(InputToCx, self).__init__()\n",
        "        self.output_dim = output_dim\n",
        "\n",
        "    def call(self, inputs, **kwargs):\n",
        "        real = inputs * tf.cos(0.0)\n",
        "        imag = inputs * tf.sin(0.0)\n",
        "        return tf.stack([real, imag], axis=1)"
      ],
      "execution_count": 2,
      "outputs": []
    },
    {
      "cell_type": "code",
      "metadata": {
        "pycharm": {
          "name": "#%%\n"
        },
        "id": "BtQrEn-p5FrM"
      },
      "source": [
        "class CxMO(tf.keras.layers.Layer):\n",
        "    def __init__(self, output_dim):\n",
        "        super(CxMO, self).__init__()\n",
        "        self.output_dim = output_dim\n",
        "\n",
        "    # input[0,:,:] = real\n",
        "    # input[1,:,:] = image\n",
        "    def build(self, input_dim):\n",
        "        self.phi = self.add_variable(\"phi\",\n",
        "                                     shape=[int(input_dim[-2]),\n",
        "                                            int(input_dim[-1])])\n",
        "\n",
        "        super(CxMO, self).build(input_dim)\n",
        "\n",
        "    def call(self, x):\n",
        "        x_real = Lambda(lambda x: x[: ,0, :, :], output_shape=self.output_dim)(x)  # real\n",
        "        x_imag = Lambda(lambda x: x[: ,1, :, :], output_shape=self.output_dim)(x)  # imag\n",
        "        mo_real = tf.cos(self.phi)\n",
        "        mo_imag = tf.sin(self.phi)\n",
        "\n",
        "        real = x_real * mo_real - x_imag * mo_imag\n",
        "        imag = x_real * mo_imag + x_imag * mo_real\n",
        "        cmpx = tf.stack([real, imag], axis=1)\n",
        "        return cmpx"
      ],
      "execution_count": 3,
      "outputs": []
    },
    {
      "cell_type": "code",
      "metadata": {
        "pycharm": {
          "name": "#%%\n"
        },
        "id": "RTiCLsir5FrN"
      },
      "source": [
        "class FreeSpacePropagation(tf.keras.layers.Layer):\n",
        "    def __init__(self, output_dim, k, z, input_pitch=1e-6, output_pitch=1e-6, normalization=None):\n",
        "        super(FreeSpacePropagation, self).__init__()\n",
        "        self.output_dim = output_dim\n",
        "        self.input_pitch = input_pitch\n",
        "        self.output_pitch = output_pitch\n",
        "        self.z = z\n",
        "        self.k = k\n",
        "        self.normalization = normalization\n",
        "\n",
        "    def build(self, input_shape):\n",
        "\n",
        "        x1 = np.arange(0, input_shape[-1], 1)\n",
        "        y1 = np.arange(0, input_shape[-2], 1)\n",
        "        xx1, yy1 = np.meshgrid(x1, y1)\n",
        "        xx1 = xx1.reshape(-1, 1) - input_shape[-1]/2\n",
        "        yy1 = yy1.reshape(-1, 1) - input_shape[-2]/2\n",
        "\n",
        "        x2 = np.arange(0, self.output_dim[1], 1)\n",
        "        y2 = np.arange(0, self.output_dim[0], 1)\n",
        "        xx2, yy2 = np.meshgrid(x2, y2)\n",
        "        xx2 = xx2.reshape(1, -1) - self.output_dim[1]/2\n",
        "        yy2 = yy2.reshape(1, -1) - self.output_dim[0]/2\n",
        "\n",
        "        dx = (self.output_pitch * xx2 - self.input_pitch * xx1)\n",
        "        dy = (self.output_pitch * yy2 - self.input_pitch * yy1)\n",
        "        r = np.sqrt(dx**2 + dy**2 + self.z**2)\n",
        "        w = 1/(2*np.pi) * self.z / r * (1/r - 1j*self.k) * np.exp(1j * self.k * r)\n",
        "\n",
        "        self.w_real = tf.Variable(initial_value=w.real.astype('float32'),\n",
        "                                              trainable=False)\n",
        "        self.w_imag = tf.Variable(initial_value=w.imag.astype('float32'),\n",
        "                                              trainable=False)\n",
        "\n",
        "        super(FreeSpacePropagation, self).build(input_shape)\n",
        "\n",
        "    def call(self, x, **kwargs):\n",
        "        x_real = Lambda(lambda x: x[:,0, :, :], output_shape=(self.output_dim,))(x)  # real\n",
        "        x_imag = Lambda(lambda x: x[:,1, :, :], output_shape=(self.output_dim,))(x)  # imag\n",
        "        x_real = tf.reshape(x_real, (-1, x.shape[-1]*x.shape[-2]))\n",
        "        x_imag = tf.reshape(x_imag, (-1, x.shape[-1]*x.shape[-2]))\n",
        "        real = tf.matmul(x_real, self.w_real) - tf.matmul(x_imag, self.w_imag)\n",
        "        imag = tf.matmul(x_imag, self.w_real) + tf.matmul(x_real, self.w_imag)\n",
        "        real = tf.reshape(real, (-1, self.output_dim[0], self.output_dim[1]))\n",
        "        imag = tf.reshape(imag, (-1, self.output_dim[0], self.output_dim[1]))\n",
        "        if self.normalization == 'max':\n",
        "            absmax = tf.reduce_max(tf.sqrt(real**2 + imag**2))\n",
        "            real = real / absmax\n",
        "            imag = imag / absmax\n",
        "        cmpx = tf.stack([real, imag], axis=1)\n",
        "        return cmpx\n"
      ],
      "execution_count": 14,
      "outputs": []
    },
    {
      "cell_type": "code",
      "metadata": {
        "pycharm": {
          "name": "#%%\n"
        },
        "id": "djKDVFfc5FrO"
      },
      "source": [
        "class CxD2NNMNISTDetector(tf.keras.layers.Layer):\n",
        "    def __init__(self, output_dim, activation=None, **kwargs):\n",
        "        super(CxD2NNMNISTDetector, self).__init__(**kwargs)\n",
        "        self.output_dim = output_dim\n",
        "        self.activation = activation\n",
        "\n",
        "    def build(self, input_shape):\n",
        "        self.input_dim = input_shape\n",
        "        self.width = min(int(tf.floor(self.input_dim[2]/9.0)), int(tf.floor(self.input_dim[1]/7.0)))\n",
        "        self.height = min(int(tf.floor(self.input_dim[2]/9.0)), int(tf.floor(self.input_dim[1]/7.0)))\n",
        "        super(CxD2NNMNISTDetector, self).build(input_shape)\n",
        "\n",
        "    def plot_area(self, input_shape, same_color=False):\n",
        "        width =  min(int(np.floor(input_shape[1]/9.0)), int(np.floor(input_shape[0]/7.0)))\n",
        "        height = min(int(np.floor(input_shape[1]/9.0)), int(np.floor(input_shape[0]/7.0)))\n",
        "        x = np.zeros(input_shape)\n",
        "        if same_color:\n",
        "            x[2*height:3*height, width:2*width] = 1\n",
        "            x[2*height:3*height, 4*width:5*width] = 1\n",
        "            x[2*height:3*height, 7*width:8*width] = 1\n",
        "            x[4*height:5*height, 1*width:2*width] = 1\n",
        "            x[4*height:5*height, 3*width:4*width] = 1\n",
        "            x[4*height:5*height, 5*width:6*width] = 1\n",
        "            x[4*height:5*height, 7*width:8*width] = 1\n",
        "            x[6*height:7*height, width:2*width] = 1\n",
        "            x[6*height:7*height, 4*width:5*width] = 1\n",
        "            x[6*height:7*height, 7*width:8*width] = 1\n",
        "        else:\n",
        "            x[2*height:3*height, width:2*width] = 1\n",
        "            x[2*height:3*height, 4*width:5*width] = 2\n",
        "            x[2*height:3*height, 7*width:8*width] = 3\n",
        "            x[4*height:5*height, 1*width:2*width] = 4\n",
        "            x[4*height:5*height, 3*width:4*width] = 5\n",
        "            x[4*height:5*height, 5*width:6*width] = 6\n",
        "            x[4*height:5*height, 7*width:8*width] = 7\n",
        "            x[6*height:7*height, width:2*width] = 8\n",
        "            x[6*height:7*height, 4*width:5*width] = 9\n",
        "            x[6*height:7*height, 7*width:8*width] = 10\n",
        "        plt.imshow(x)\n",
        "\n",
        "    def call(self, x, **kwargs):\n",
        "        y0 = x[:, 2*self.height:3*self.height, self.width:2*self.width]\n",
        "        y1 = x[:, 2*self.height:3*self.height, 4*self.width:5*self.width]\n",
        "        y2 = x[:, 2*self.height:3*self.height, 7*self.width:8*self.width]\n",
        "        y3 = x[:, 4*self.height:5*self.height, self.width:2*self.width]\n",
        "        y4 = x[:, 4*self.height:5*self.height, 3*self.width:4*self.width]\n",
        "        y5 = x[:, 4*self.height:5*self.height, 5*self.width:6*self.width]\n",
        "        y6 = x[:, 4*self.height:5*self.height, 7*self.width:8*self.width]\n",
        "        y7 = x[:, 6*self.height:7*self.height, self.width:2*self.width]\n",
        "        y8 = x[:, 6*self.height:7*self.height, 4*self.width:5*self.width]\n",
        "        y9 = x[:, 6*self.height:7*self.height, 7*self.width:8*self.width]\n",
        "        y0 = tf.reduce_sum(y0, axis=[1])\n",
        "        y0 = tf.reduce_sum(y0, axis=[1], keepdims=True)\n",
        "        y1 = tf.reduce_sum(y1, axis=[1])\n",
        "        y1 = tf.reduce_sum(y1, axis=[1], keepdims=True)\n",
        "        y2 = tf.reduce_sum(y2, axis=[1])\n",
        "        y2 = tf.reduce_sum(y2, axis=[1], keepdims=True)\n",
        "        y3 = tf.reduce_sum(y3, axis=[1])\n",
        "        y3 = tf.reduce_sum(y3, axis=[1], keepdims=True)\n",
        "        y4 = tf.reduce_sum(y4, axis=[1])\n",
        "        y4 = tf.reduce_sum(y4, axis=[1], keepdims=True)\n",
        "        y5 = tf.reduce_sum(y5, axis=[1])\n",
        "        y5 = tf.reduce_sum(y5, axis=[1], keepdims=True)\n",
        "        y6 = tf.reduce_sum(y6, axis=[1])\n",
        "        y6 = tf.reduce_sum(y6, axis=[1], keepdims=True)\n",
        "        y7 = tf.reduce_sum(y7, axis=[1])\n",
        "        y7 = tf.reduce_sum(y7, axis=[1], keepdims=True)\n",
        "        y8 = tf.reduce_sum(y8, axis=[1])\n",
        "        y8 = tf.reduce_sum(y8, axis=[1], keepdims=True)\n",
        "        y9 = tf.reduce_sum(y9, axis=[1])\n",
        "        y9 = tf.reduce_sum(y9, axis=[1], keepdims=True)\n",
        "        y = tf.keras.layers.concatenate([y0, y1, y2, y3, y4, y5, y6, y7, y8, y9])\n",
        "\n",
        "        if self.activation == 'softmax':\n",
        "            y = tf.nn.softmax(y)\n",
        "        return y"
      ],
      "execution_count": 5,
      "outputs": []
    },
    {
      "cell_type": "code",
      "metadata": {
        "pycharm": {
          "name": "#%%\n"
        },
        "id": "8nG7x1gC5FrO"
      },
      "source": [
        "class CxD2NNIntensity(tf.keras.layers.Layer):\n",
        "    def __init__(self, output_dim, normalization='min_max', **kwargs):\n",
        "        super(CxD2NNIntensity, self).__init__(**kwargs)\n",
        "        self.output_dim = output_dim\n",
        "        self.normalization = normalization\n",
        "\n",
        "    def call(self, x, **kwargs):\n",
        "        real = Lambda(lambda x: x[:, 0, :, :])(x)\n",
        "        image = Lambda(lambda x: x[:, 1, :, :])(x)\n",
        "        intensity = tf.sqrt(real ** 2 + image ** 2)\n",
        "        if self.normalization == 'min_max':\n",
        "            max = tf.reduce_max(intensity)\n",
        "            min = tf.reduce_min(intensity)\n",
        "            intensity = (intensity - min)/(max - min)\n",
        "        if self.normalization == 'max':\n",
        "            max = tf.reduce_max(intensity)\n",
        "            intensity = intensity / max\n",
        "\n",
        "        return intensity"
      ],
      "execution_count": 6,
      "outputs": []
    },
    {
      "cell_type": "code",
      "source": [
        "def create_true_mnistimage(label, shape):\n",
        "    width =  min(int(np.floor(shape[1]/9.0)), int(np.floor(shape[0]/7.0)))\n",
        "    height = min(int(np.floor(shape[1]/9.0)), int(np.floor(shape[0]/7.0)))\n",
        "    x = np.zeros(shape)\n",
        "    \n",
        "    if label == 0:\n",
        "        x[2*height:3*height, width:2*width] = 1.0\n",
        "    elif label == 1:\n",
        "        x[2*height:3*height, 4*width:5*width] = 1.0\n",
        "    elif label == 2:\n",
        "        x[2*height:3*height, 7*width:8*width] = 1.0\n",
        "    elif label == 3:\n",
        "        x[4*height:5*height, 1*width:2*width] = 1.0\n",
        "    elif label == 4:\n",
        "        x[4*height:5*height, 3*width:4*width] = 1.0\n",
        "    elif label == 5:\n",
        "        x[4*height:5*height, 5*width:6*width] = 1.0\n",
        "    elif label == 6:\n",
        "        x[4*height:5*height, 7*width:8*width] = 1.0\n",
        "    elif label == 7:\n",
        "        x[6*height:7*height, width:2*width] = 1.0\n",
        "    elif label == 8:\n",
        "        x[6*height:7*height, 4*width:5*width] = 1.0\n",
        "    elif label == 9:\n",
        "        x[6*height:7*height, 7*width:8*width] = 1.0\n",
        "\n",
        "    return x"
      ],
      "metadata": {
        "id": "Dpt-HgVUOdqH"
      },
      "execution_count": 7,
      "outputs": []
    },
    {
      "cell_type": "code",
      "source": [
        "plt.imshow(create_true_mnistimage(9, (50, 50)))"
      ],
      "metadata": {
        "id": "RLvSiiMoOgg5",
        "outputId": "de3e31ed-5c89-4423-c025-94b9a62ce841",
        "colab": {
          "base_uri": "https://localhost:8080/",
          "height": 284
        }
      },
      "execution_count": 8,
      "outputs": [
        {
          "output_type": "execute_result",
          "data": {
            "text/plain": [
              "<matplotlib.image.AxesImage at 0x7f6871986290>"
            ]
          },
          "metadata": {},
          "execution_count": 8
        },
        {
          "output_type": "display_data",
          "data": {
            "image/png": "[encoded data removed]",
            "text/plain": [
              "<Figure size 432x288 with 1 Axes>"
            ]
          },
          "metadata": {
            "needs_background": "light"
          }
        }
      ]
    },
    {
      "cell_type": "code",
      "metadata": {
        "pycharm": {
          "name": "#%%\n"
        },
        "id": "2nIoyHqA5FrP",
        "outputId": "39292028-37cc-4253-af6e-068e2eb941c8",
        "colab": {
          "base_uri": "https://localhost:8080/"
        }
      },
      "source": [
        "mnist = tf.keras.datasets.mnist\n",
        "\n",
        "image_shape = (28, 28)\n",
        "(x_train, y_train), (x_test, y_test) = mnist.load_data()\n",
        "x_train = np.array(list(map(lambda image: cv2.resize(image, dsize=image_shape), x_train)))\n",
        "x_test = np.array(list(map(lambda image: cv2.resize(image, dsize=image_shape), x_test)))\n",
        "y_train_image = np.array(list(map(lambda y_label : create_true_mnistimage(y_label, image_shape), y_train)))\n",
        "y_test_image = np.array(list(map(lambda y_label : create_true_mnistimage(y_label, image_shape), y_test)))\n",
        "x_train = x_train/255.0\n",
        "x_test = x_test/255.0"
      ],
      "execution_count": 9,
      "outputs": [
        {
          "output_type": "stream",
          "name": "stdout",
          "text": [
            "Downloading data from https://storage.googleapis.com/tensorflow/tf-keras-datasets/mnist.npz\n",
            "11493376/11490434 [==============================] - 0s 0us/step\n",
            "11501568/11490434 [==============================] - 0s 0us/step\n"
          ]
        }
      ]
    },
    {
      "cell_type": "code",
      "source": [
        "detector = CxD2NNMNISTDetector(10)\n",
        "detector.plot_area((28, 28), same_color=True)"
      ],
      "metadata": {
        "id": "RHqUdqQpOk1l",
        "outputId": "ac7d7a2c-e74a-45dc-e505-94dc5ddcd863",
        "colab": {
          "base_uri": "https://localhost:8080/",
          "height": 265
        }
      },
      "execution_count": 10,
      "outputs": [
        {
          "output_type": "display_data",
          "data": {
            "image/png": "[encoded data removed]",
            "text/plain": [
              "<Figure size 432x288 with 1 Axes>"
            ]
          },
          "metadata": {
            "needs_background": "light"
          }
        }
      ]
    },
    {
      "cell_type": "code",
      "metadata": {
        "pycharm": {
          "name": "#%%\n"
        },
        "id": "KDVIT-b55FrP"
      },
      "source": [
        "def loss(y_hat, y):\n",
        "    return tf.nn.sparse_softmax_cross_entropy_with_logits(labels=y_hat, logits=y)\n",
        "\n",
        "def loss_MSE(y_hat, y):\n",
        "    return tf.reduce_sum((y_hat - y)**2)"
      ],
      "execution_count": 11,
      "outputs": []
    },
    {
      "cell_type": "code",
      "metadata": {
        "pycharm": {
          "name": "#%%\n"
        },
        "id": "s0rXpHct5FrP"
      },
      "source": [
        "l = 633e-9\n",
        "k = 2 * np.pi / l\n",
        "d = 1e-6\n"
      ],
      "execution_count": 12,
      "outputs": []
    },
    {
      "cell_type": "code",
      "metadata": {
        "pycharm": {
          "name": "#%%\n"
        },
        "id": "NiKvMSZo5FrQ",
        "colab": {
          "base_uri": "https://localhost:8080/"
        },
        "outputId": "8a2d0756-5f6e-4aab-bc9f-564d253ea7ae"
      },
      "source": [
        "inputs = keras.Input(image_shape)\n",
        "x = InputToCx(image_shape)(inputs)\n",
        "x = CxMO(image_shape)(x)\n",
        "x = FreeSpacePropagation(image_shape, k, 1.0e-4, normalization='max')(x)\n",
        "x = CxD2NNIntensity(image_shape, normalization='max')(x)\n",
        "x = CxD2NNMNISTDetector(10, activation='softmax')(x)\n",
        "model = tf.keras.Model(inputs, x)\n",
        "model.summary()\n",
        "model.compile(optimizer='adam', \n",
        "              loss=\"sparse_categorical_crossentropy\",   # category: sparse_categorical_crossentropy\n",
        "              metrics=['accuracy'])\n",
        "\n",
        "epochs = 10\n",
        "early_stopping =  EarlyStopping(\n",
        "                            monitor='accuracy',\n",
        "                            min_delta=0.05,\n",
        "                            patience=2,\n",
        ")\n",
        "\n",
        "result = model.fit(x_train, \n",
        "                   y_train, \n",
        "                   batch_size=64, \n",
        "                   epochs=epochs\n",
        "                   #callbacks=[early_stopping]\n",
        "                   )\n",
        "model.save(\"28x28_6(MO_frspc100um)\")"
      ],
      "execution_count": 16,
      "outputs": [
        {
          "output_type": "stream",
          "name": "stderr",
          "text": [
            "/usr/local/lib/python3.7/dist-packages/ipykernel_launcher.py:11: UserWarning: `layer.add_variable` is deprecated and will be removed in a future version. Please use `layer.add_weight` method instead.\n",
            "  # This is added back by InteractiveShellApp.init_path()\n"
          ]
        },
        {
          "output_type": "stream",
          "name": "stdout",
          "text": [
            "Model: \"model_1\"\n",
            "_________________________________________________________________\n",
            " Layer (type)                Output Shape              Param #   \n",
            "=================================================================\n",
            " input_3 (InputLayer)        [(None, 28, 28)]          0         \n",
            "                                                                 \n",
            " input_to_cx_2 (InputToCx)   (None, 2, 28, 28)         0         \n",
            "                                                                 \n",
            " cx_mo_3 (CxMO)              (None, 2, 28, 28)         784       \n",
            "                                                                 \n",
            " free_space_propagation_1 (F  (None, 2, 28, 28)        1229312   \n",
            " reeSpacePropagation)                                            \n",
            "                                                                 \n",
            " cx_mo_4 (CxMO)              (None, 2, 28, 28)         784       \n",
            "                                                                 \n",
            " cx_d2nn_intensity_1 (CxD2NN  (None, 28, 28)           0         \n",
            " Intensity)                                                      \n",
            "                                                                 \n",
            " cx_d2nnmnist_detector_2 (Cx  (None, 10)               0         \n",
            " D2NNMNISTDetector)                                              \n",
            "                                                                 \n",
            "=================================================================\n",
            "Total params: 1,230,880\n",
            "Trainable params: 1,568\n",
            "Non-trainable params: 1,229,312\n",
            "_________________________________________________________________\n",
            "Epoch 1/10\n",
            "938/938 [==============================] - 15s 12ms/step - loss: 2.4046 - accuracy: 0.1791\n",
            "Epoch 2/10\n",
            "938/938 [==============================] - 8s 8ms/step - loss: 1.8783 - accuracy: 0.3200\n",
            "Epoch 3/10\n",
            "938/938 [==============================] - 8s 8ms/step - loss: 1.5929 - accuracy: 0.4680\n",
            "Epoch 4/10\n",
            "938/938 [==============================] - 8s 9ms/step - loss: 1.4532 - accuracy: 0.5423\n",
            "Epoch 5/10\n",
            "938/938 [==============================] - 8s 8ms/step - loss: 1.3820 - accuracy: 0.5786\n",
            "Epoch 6/10\n",
            "938/938 [==============================] - 8s 8ms/step - loss: 1.3412 - accuracy: 0.5980\n",
            "Epoch 7/10\n",
            "938/938 [==============================] - 8s 8ms/step - loss: 1.3133 - accuracy: 0.6106\n",
            "Epoch 8/10\n",
            "938/938 [==============================] - 8s 8ms/step - loss: 1.2941 - accuracy: 0.6198\n",
            "Epoch 9/10\n",
            "938/938 [==============================] - 8s 8ms/step - loss: 1.2795 - accuracy: 0.6267\n",
            "Epoch 10/10\n",
            "938/938 [==============================] - 8s 9ms/step - loss: 1.2689 - accuracy: 0.6320\n",
            "INFO:tensorflow:Assets written to: 28x28_6(MO_frspc100um)/assets\n"
          ]
        }
      ]
    },
    {
      "cell_type": "code",
      "metadata": {
        "colab": {
          "base_uri": "https://localhost:8080/",
          "height": 405
        },
        "id": "Psxg1H6WiyKn",
        "outputId": "77cd14fe-2e39-4480-edcb-edfb3fdb5d34"
      },
      "source": [
        "fig = plt.figure(figsize=(6, 6))\n",
        "ax1 = fig.add_subplot(111)\n",
        "ax2 = ax1.twinx()\n",
        "ax1.plot(range(1, epochs + 1), result.history['loss'], color='black', label='Loss')\n",
        "ax1.set_ylabel('Loss')\n",
        "ax1.set_xlabel('epoch')\n",
        "ax2.plot(range(1, epochs + 1), result.history['accuracy'], color='red', label='Accuracy')\n",
        "ax2.set_ylabel('Accuracy')\n",
        "# label1と2には、凡例用に各labelのリスト情報が入る\n",
        "handler1, label1 = ax1.get_legend_handles_labels()\n",
        "handler2, label2 = ax2.get_legend_handles_labels()\n",
        "# 凡例をまとめて出力する\n",
        "ax1.legend(handler1 + handler2, label1 + label2, loc=2, borderaxespad=0.)"
      ],
      "execution_count": 17,
      "outputs": [
        {
          "output_type": "execute_result",
          "data": {
            "text/plain": [
              "<matplotlib.legend.Legend at 0x7f67f560fd10>"
            ]
          },
          "metadata": {},
          "execution_count": 17
        },
        {
          "output_type": "display_data",
          "data": {
            "image/png": "[encoded data removed]",
            "text/plain": [
              "<Figure size 432x432 with 2 Axes>"
            ]
          },
          "metadata": {
            "needs_background": "light"
          }
        }
      ]
    },
    {
      "cell_type": "code",
      "source": [
        "model.evaluate(x_test, y_test)"
      ],
      "metadata": {
        "id": "lPPH451APLgm",
        "outputId": "c0917ff2-f38e-4982-b38a-6b877567bcd3",
        "colab": {
          "base_uri": "https://localhost:8080/"
        }
      },
      "execution_count": 18,
      "outputs": [
        {
          "output_type": "stream",
          "name": "stdout",
          "text": [
            "313/313 [==============================] - 2s 4ms/step - loss: 1.2101 - accuracy: 0.6427\n"
          ]
        },
        {
          "output_type": "execute_result",
          "data": {
            "text/plain": [
              "[1.2101221084594727, 0.6427000164985657]"
            ]
          },
          "metadata": {},
          "execution_count": 18
        }
      ]
    },
    {
      "cell_type": "code",
      "metadata": {
        "pycharm": {
          "name": "#%%\n"
        },
        "id": "zGBtRuwC5FrQ",
        "outputId": "6683b40b-d25f-4097-c9fa-0aa616635896",
        "colab": {
          "base_uri": "https://localhost:8080/"
        }
      },
      "source": [
        "layer_name = model.layers[-2].name\n",
        "hidden_layer_model = tf.keras.Model(inputs=model.input, outputs=model.get_layer(layer_name).output)\n",
        "hidden_layer_model.summary()"
      ],
      "execution_count": 19,
      "outputs": [
        {
          "output_type": "stream",
          "name": "stdout",
          "text": [
            "Model: \"model_2\"\n",
            "_________________________________________________________________\n",
            " Layer (type)                Output Shape              Param #   \n",
            "=================================================================\n",
            " input_3 (InputLayer)        [(None, 28, 28)]          0         \n",
            "                                                                 \n",
            " input_to_cx_2 (InputToCx)   (None, 2, 28, 28)         0         \n",
            "                                                                 \n",
            " cx_mo_3 (CxMO)              (None, 2, 28, 28)         784       \n",
            "                                                                 \n",
            " free_space_propagation_1 (F  (None, 2, 28, 28)        1229312   \n",
            " reeSpacePropagation)                                            \n",
            "                                                                 \n",
            " cx_mo_4 (CxMO)              (None, 2, 28, 28)         784       \n",
            "                                                                 \n",
            " cx_d2nn_intensity_1 (CxD2NN  (None, 28, 28)           0         \n",
            " Intensity)                                                      \n",
            "                                                                 \n",
            "=================================================================\n",
            "Total params: 1,230,880\n",
            "Trainable params: 1,568\n",
            "Non-trainable params: 1,229,312\n",
            "_________________________________________________________________\n"
          ]
        }
      ]
    },
    {
      "cell_type": "code",
      "metadata": {
        "pycharm": {
          "name": "#%%\n"
        },
        "id": "MM6fAIqU5FrQ",
        "colab": {
          "base_uri": "https://localhost:8080/",
          "height": 729
        },
        "outputId": "d8ef8a67-f8f9-414f-b267-a00fc524d827"
      },
      "source": [
        "num = 5\n",
        "images = x_train[0:num,:,:]\n",
        "\n",
        "preds = model.predict(images)\n",
        "pred_images = hidden_layer_model.predict(images)\n",
        "fig, axes = plt.subplots(num, 3, figsize=(7,10))\n",
        "for i in range(num):\n",
        "  axes[i,0].imshow(images[i,:,:])\n",
        "  axes[i,1].imshow(pred_images[i, :, :])\n",
        "  axes[i,2].bar(np.arange(0, 10, 1), preds[i,:], align='center')\n",
        "  axes[i,2].set_xticks(np.arange(0, 10, 1))\n",
        "  axes[i,2].set_ylabel('Accuracy')\n",
        "fig.tight_layout()"
      ],
      "execution_count": 20,
      "outputs": [
        {
          "output_type": "display_data",
          "data": {
            "image/png": "[encoded data removed]",
            "text/plain": [
              "<Figure size 504x720 with 15 Axes>"
            ]
          },
          "metadata": {
            "needs_background": "light"
          }
        }
      ]
    },
    {
      "cell_type": "code",
      "source": [
        "layer_outputs = [layer.output for layer in model.layers[1:]]\n",
        "layer_outputs"
      ],
      "metadata": {
        "id": "xsYnMu1DPVkh",
        "outputId": "d9572cf1-26d5-4224-d4e5-d312642c376c",
        "colab": {
          "base_uri": "https://localhost:8080/"
        }
      },
      "execution_count": 26,
      "outputs": [
        {
          "output_type": "execute_result",
          "data": {
            "text/plain": [
              "[<KerasTensor: shape=(None, 2, 28, 28) dtype=float32 (created by layer 'input_to_cx_2')>,\n",
              " <KerasTensor: shape=(None, 2, 28, 28) dtype=float32 (created by layer 'cx_mo_3')>,\n",
              " <KerasTensor: shape=(None, 2, 28, 28) dtype=float32 (created by layer 'free_space_propagation_1')>,\n",
              " <KerasTensor: shape=(None, 2, 28, 28) dtype=float32 (created by layer 'cx_mo_4')>,\n",
              " <KerasTensor: shape=(None, 28, 28) dtype=float32 (created by layer 'cx_d2nn_intensity_1')>,\n",
              " <KerasTensor: shape=(None, 10) dtype=float32 (created by layer 'cx_d2nnmnist_detector_2')>]"
            ]
          },
          "metadata": {},
          "execution_count": 26
        }
      ]
    },
    {
      "cell_type": "code",
      "source": [
        "activation_model = keras.Model(inputs=model.input, outputs=layer_outputs)\n",
        "activation_model.summary()"
      ],
      "metadata": {
        "id": "AlTNml_9PYWA",
        "outputId": "de67727b-8dd1-46d6-eafd-879a443e3db0",
        "colab": {
          "base_uri": "https://localhost:8080/"
        }
      },
      "execution_count": 27,
      "outputs": [
        {
          "output_type": "stream",
          "name": "stdout",
          "text": [
            "Model: \"model_4\"\n",
            "_________________________________________________________________\n",
            " Layer (type)                Output Shape              Param #   \n",
            "=================================================================\n",
            " input_3 (InputLayer)        [(None, 28, 28)]          0         \n",
            "                                                                 \n",
            " input_to_cx_2 (InputToCx)   (None, 2, 28, 28)         0         \n",
            "                                                                 \n",
            " cx_mo_3 (CxMO)              (None, 2, 28, 28)         784       \n",
            "                                                                 \n",
            " free_space_propagation_1 (F  (None, 2, 28, 28)        1229312   \n",
            " reeSpacePropagation)                                            \n",
            "                                                                 \n",
            " cx_mo_4 (CxMO)              (None, 2, 28, 28)         784       \n",
            "                                                                 \n",
            " cx_d2nn_intensity_1 (CxD2NN  (None, 28, 28)           0         \n",
            " Intensity)                                                      \n",
            "                                                                 \n",
            " cx_d2nnmnist_detector_2 (Cx  (None, 10)               0         \n",
            " D2NNMNISTDetector)                                              \n",
            "                                                                 \n",
            "=================================================================\n",
            "Total params: 1,230,880\n",
            "Trainable params: 1,568\n",
            "Non-trainable params: 1,229,312\n",
            "_________________________________________________________________\n"
          ]
        }
      ]
    },
    {
      "cell_type": "code",
      "source": [
        "num = 5\n",
        "images = x_train[0:num,:,:]\n",
        "activations = activation_model.predict(images)\n",
        "len(activations)"
      ],
      "metadata": {
        "id": "3v-O4IwHPaoH",
        "outputId": "8052f3b4-adda-485c-fb9d-85270e17ad63",
        "colab": {
          "base_uri": "https://localhost:8080/"
        }
      },
      "execution_count": 31,
      "outputs": [
        {
          "output_type": "execute_result",
          "data": {
            "text/plain": [
              "6"
            ]
          },
          "metadata": {},
          "execution_count": 31
        }
      ]
    },
    {
      "cell_type": "code",
      "source": [
        "fig, axes = plt.subplots(num, len(activations)-2, figsize=(2*len(activations)-1, 2*num))\n",
        "for i in range(len(activations)-2):\n",
        "    layer_activation = activations[i]\n",
        "    for j in range(num):\n",
        "        intensity = tf.sqrt(layer_activation[j, 0, :, :]**2 + layer_activation[j, 1, :, :]**2)\n",
        "        axes[j, i].imshow(intensity)"
      ],
      "metadata": {
        "id": "Fq_5Zpj5Pgeh",
        "outputId": "942b9762-a147-4113-ed97-94ea9e5ef276",
        "colab": {
          "base_uri": "https://localhost:8080/",
          "height": 594
        }
      },
      "execution_count": 32,
      "outputs": [
        {
          "output_type": "display_data",
          "data": {
            "image/png": "[encoded data removed]",
            "text/plain": [
              "<Figure size 792x720 with 20 Axes>"
            ]
          },
          "metadata": {
            "needs_background": "light"
          }
        }
      ]
    }
  ]
}