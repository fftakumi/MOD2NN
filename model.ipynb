{
  "nbformat": 4,
  "nbformat_minor": 0,
  "metadata": {
    "kernelspec": {
      "display_name": "Python 3",
      "language": "python",
      "name": "python3"
    },
    "language_info": {
      "codemirror_mode": {
        "name": "ipython",
        "version": 2
      },
      "file_extension": ".py",
      "mimetype": "text/x-python",
      "name": "python",
      "nbconvert_exporter": "python",
      "pygments_lexer": "ipython2",
      "version": "2.7.6"
    },
    "colab": {
      "name": "model.ipynb",
      "provenance": []
    }
  },
  "cells": [
    {
      "cell_type": "code",
      "metadata": {
        "collapsed": true,
        "id": "3jmBkPqV5FrH"
      },
      "source": [
        "import tensorflow as tf\n",
        "from tensorflow import keras\n",
        "from tensorflow.keras.layers import Lambda\n",
        "import numpy as np\n",
        "import matplotlib.pyplot as plt\n",
        "import cv2"
      ],
      "execution_count": null,
      "outputs": []
    },
    {
      "cell_type": "code",
      "metadata": {
        "pycharm": {
          "name": "#%%\n"
        },
        "id": "XHZMEAtt5FrK"
      },
      "source": [
        "class InputToCx(tf.keras.layers.Layer):\n",
        "    def __init__(self, output_dim):\n",
        "        super(InputToCx, self).__init__()\n",
        "        self.output_dim = output_dim\n",
        "\n",
        "    def call(self, inputs, **kwargs):\n",
        "        real = inputs * tf.cos(0.0)\n",
        "        imag = inputs * tf.sin(0.0)\n",
        "        return tf.stack([real, imag], axis=1)"
      ],
      "execution_count": null,
      "outputs": []
    },
    {
      "cell_type": "code",
      "metadata": {
        "pycharm": {
          "name": "#%%\n"
        },
        "id": "BtQrEn-p5FrM"
      },
      "source": [
        "class CxMO(tf.keras.layers.Layer):\n",
        "    def __init__(self, output_dim):\n",
        "        super(CxMO, self).__init__()\n",
        "        self.output_dim = output_dim\n",
        "\n",
        "    # input[0,:,:] = real\n",
        "    # input[1,:,:] = image\n",
        "    def build(self, input_dim):\n",
        "        self.phi = self.add_variable(\"phi\",\n",
        "                                     shape=[int(input_dim[-2]),\n",
        "                                            int(input_dim[-1])])\n",
        "\n",
        "        super(CxMO, self).build(input_dim)\n",
        "\n",
        "    def call(self, x):\n",
        "        x_real = Lambda(lambda x: x[: ,0, :, :], output_shape=self.output_dim)(x)  # real\n",
        "        x_imag = Lambda(lambda x: x[: ,1, :, :], output_shape=self.output_dim)(x)  # imag\n",
        "        mo_real = tf.cos(self.phi)\n",
        "        mo_imag = tf.sin(self.phi)\n",
        "\n",
        "        real = tf.matmul(x_real, mo_real) - tf.matmul(x_imag, mo_imag)\n",
        "        imag = tf.matmul(x_real, mo_imag) + tf.matmul(x_imag, mo_real)\n",
        "        cmpx = tf.stack([real, imag], axis=1)\n",
        "        return cmpx"
      ],
      "execution_count": null,
      "outputs": []
    },
    {
      "cell_type": "code",
      "metadata": {
        "pycharm": {
          "name": "#%%\n"
        },
        "id": "RTiCLsir5FrN"
      },
      "source": [
        "class FreeSpacePropagation(tf.keras.layers.Layer):\n",
        "    def __init__(self, output_dim, k, z, input_pitch=1e-6, output_pitch=1e-6):\n",
        "        super(FreeSpacePropagation, self).__init__()\n",
        "        self.output_dim = output_dim\n",
        "        self.input_pitch = input_pitch\n",
        "        self.output_pitch = output_pitch\n",
        "        self.z = z\n",
        "        self.k = k\n",
        "\n",
        "    def build(self, input_shape):\n",
        "\n",
        "        x1 = np.arange(0, input_shape[-1], 1)\n",
        "        y1 = np.arange(0, input_shape[-2], 1)\n",
        "        xx1, yy1 = np.meshgrid(x1, y1)\n",
        "        xx1 = xx1.reshape(-1, 1) - input_shape[-1]/2\n",
        "        yy1 = yy1.reshape(-1, 1) - input_shape[-2]/2\n",
        "\n",
        "        x2 = np.arange(0, self.output_dim[1], 1)\n",
        "        y2 = np.arange(0, self.output_dim[0], 1)\n",
        "        xx2, yy2 = np.meshgrid(x2, y2)\n",
        "        xx2 = xx2.reshape(1, -1) - self.output_dim[1]/2\n",
        "        yy2 = yy2.reshape(1, -1) - self.output_dim[0]/2\n",
        "\n",
        "        dx = (self.output_pitch * xx2 - self.input_pitch * xx1)\n",
        "        dy = (self.output_pitch * yy2 - self.input_pitch * yy1)\n",
        "        r = np.sqrt(dx**2 + dy**2 + self.z**2)\n",
        "        w = 1/(2*np.pi) * self.z / r * (1/r - 1j*self.k) * np.exp(1j * self.k * r)\n",
        "\n",
        "        self.w_real = tf.Variable(initial_value=w.real.astype('float32'),\n",
        "                                              trainable=False)\n",
        "        self.w_imag = tf.Variable(initial_value=w.imag.astype('float32'),\n",
        "                                              trainable=False)\n",
        "\n",
        "        super(FreeSpacePropagation, self).build(input_shape)\n",
        "\n",
        "    def call(self, x, **kwargs):\n",
        "        x_real = Lambda(lambda x: x[:,0, :, :], output_shape=(self.output_dim,))(x)  # real\n",
        "        x_imag = Lambda(lambda x: x[:,1, :, :], output_shape=(self.output_dim,))(x)  # imag\n",
        "        x_real = tf.reshape(x_real, (-1, x.shape[-1]*x.shape[-2]))\n",
        "        x_imag = tf.reshape(x_imag, (-1, x.shape[-1]*x.shape[-2]))\n",
        "        real = tf.matmul(x_real, self.w_real) - tf.matmul(x_imag, self.w_imag)\n",
        "        imag = tf.matmul(x_imag, self.w_real) + tf.matmul(x_real, self.w_imag)\n",
        "        real = tf.reshape(real, (-1, self.output_dim[0], self.output_dim[1]))\n",
        "        imag = tf.reshape(imag, (-1, self.output_dim[0], self.output_dim[1]))\n",
        "        cmpx = tf.stack([real, imag], axis=1)\n",
        "        return cmpx\n"
      ],
      "execution_count": null,
      "outputs": []
    },
    {
      "cell_type": "code",
      "metadata": {
        "pycharm": {
          "name": "#%%\n"
        },
        "id": "djKDVFfc5FrO"
      },
      "source": [
        "class CxD2NNMNISTDetector(tf.keras.layers.Layer):\n",
        "    def __init__(self, output_dim, activation=None, **kwargs):\n",
        "        super(CxD2NNMNISTDetector, self).__init__(**kwargs)\n",
        "        self.output_dim = output_dim\n",
        "        self.activation = activation\n",
        "\n",
        "    def build(self, input_shape):\n",
        "        self.input_dim = input_shape\n",
        "        self.width = int(tf.floor(self.input_dim[2]/4.0))\n",
        "        self.height = int(tf.floor(self.input_dim[1]/3.0))\n",
        "        super(CxD2NNMNISTDetector, self).build(input_shape)\n",
        "\n",
        "    def plot_area(self, input_shape):\n",
        "        width = int(tf.floor(input_shape[1]/4.0))\n",
        "        height = int(tf.floor(input_shape[0]/3.0))\n",
        "        x = np.zeros(input_shape)\n",
        "        x[0:height-1, 0:width-1] = 1\n",
        "        x[0:height-1, width:width*2-1] = 2\n",
        "        x[0:height-1, width*2:width*3-1] = 3\n",
        "        x[height:height*2-1, 0:width-1] = 4\n",
        "        x[height:height*2-1, width:width*2-1] = 5\n",
        "        x[height:height*2-1, width*2:width*3-1] = 6\n",
        "        x[height:height*2-1, width*3:width*4-1] = 7\n",
        "        x[height*2:height*3-1, 0:width-1] = 8\n",
        "        x[height*2:height*3-1, width:width*2-1] = 9\n",
        "        x[height*2:height*3-1, width*2:width*3-1] = 10\n",
        "        plt.imshow(x)\n",
        "\n",
        "    def call(self, x, **kwargs):\n",
        "        y0 = x[:, 0:self.height-1, 0:self.width-1]\n",
        "        y1 = x[:, 0:self.height-1, self.width:self.width*2-1]\n",
        "        y2 = x[:, 0:self.height-1, self.width*2:self.width*3-1]\n",
        "        y3 = x[:, self.height:self.height*2-1, 0:self.width-1]\n",
        "        y4 = x[:, self.height:self.height*2-1, self.width:self.width*2-1]\n",
        "        y5 = x[:, self.height:self.height*2-1, self.width*2:self.width*3-1]\n",
        "        y6 = x[:, self.height:self.height*2-1, self.width*3:self.width*4-1]\n",
        "        y7 = x[:, self.height*2:self.height*3-1, 0:self.width-1]\n",
        "        y8 = x[:, self.height*2:self.height*3-1, self.width:self.width*2-1]\n",
        "        y9 = x[:, self.height*2:self.height*3-1, self.width*2:self.width*3-1]\n",
        "        y0 = tf.reduce_sum(y0, axis=[1])\n",
        "        y0 = tf.reduce_sum(y0, axis=[1], keepdims=True)\n",
        "        y1 = tf.reduce_sum(y1, axis=[1])\n",
        "        y1 = tf.reduce_sum(y1, axis=[1], keepdims=True)\n",
        "        y2 = tf.reduce_sum(y2, axis=[1])\n",
        "        y2 = tf.reduce_sum(y2, axis=[1], keepdims=True)\n",
        "        y3 = tf.reduce_sum(y3, axis=[1])\n",
        "        y3 = tf.reduce_sum(y3, axis=[1], keepdims=True)\n",
        "        y4 = tf.reduce_sum(y4, axis=[1])\n",
        "        y4 = tf.reduce_sum(y4, axis=[1], keepdims=True)\n",
        "        y5 = tf.reduce_sum(y5, axis=[1])\n",
        "        y5 = tf.reduce_sum(y5, axis=[1], keepdims=True)\n",
        "        y6 = tf.reduce_sum(y6, axis=[1])\n",
        "        y6 = tf.reduce_sum(y6, axis=[1], keepdims=True)\n",
        "        y7 = tf.reduce_sum(y7, axis=[1])\n",
        "        y7 = tf.reduce_sum(y7, axis=[1], keepdims=True)\n",
        "        y8 = tf.reduce_sum(y8, axis=[1])\n",
        "        y8 = tf.reduce_sum(y8, axis=[1], keepdims=True)\n",
        "        y9 = tf.reduce_sum(y9, axis=[1])\n",
        "        y9 = tf.reduce_sum(y9, axis=[1], keepdims=True)\n",
        "        y = tf.keras.layers.concatenate([y0, y1, y2, y3, y4, y5, y6, y7, y8, y9])\n",
        "\n",
        "        if self.activation == 'softmax':\n",
        "            y = tf.nn.softmax(y)\n",
        "        return y"
      ],
      "execution_count": null,
      "outputs": []
    },
    {
      "cell_type": "code",
      "metadata": {
        "pycharm": {
          "name": "#%%\n"
        },
        "id": "8nG7x1gC5FrO"
      },
      "source": [
        "class CxD2NNIntensity(tf.keras.layers.Layer):\n",
        "    def __init__(self, output_dim, normalization='min_max', **kwargs):\n",
        "        super(CxD2NNIntensity, self).__init__(**kwargs)\n",
        "        self.output_dim = output_dim\n",
        "        self.normalization = normalization\n",
        "\n",
        "    def call(self, x, **kwargs):\n",
        "        real = Lambda(lambda x: x[:, 0, :, :])(x)\n",
        "        image = Lambda(lambda x: x[:, 1, :, :])(x)\n",
        "        intensity = tf.sqrt(real ** 2 + image ** 2)\n",
        "        if self.normalization == 'min_max':\n",
        "            max = tf.reduce_max(intensity)\n",
        "            min = tf.reduce_min(intensity)\n",
        "            intensity = (intensity - min)/(max - min)\n",
        "        return intensity"
      ],
      "execution_count": null,
      "outputs": []
    },
    {
      "cell_type": "code",
      "metadata": {
        "pycharm": {
          "name": "#%%\n"
        },
        "id": "lxULgByU5FrO"
      },
      "source": [
        "class MOD2NN(tf.keras.Model):\n",
        "    def __init__(self):\n",
        "        super(MOD2NN, self).__init__()\n",
        "        self.l = 633e-9\n",
        "        self.k = 2 * np.pi / self.l\n",
        "        self.d = 1e-6\n",
        "        self.mo1 = CxMO((28, 28))\n",
        "        self.propag1 = FreeSpacePropagation((28, 28), self.d, 2e-3, self.k)\n",
        "        self.mo2 = CxMO((28, 28))\n",
        "        self.prooag2 = FreeSpacePropagation((1, 10), self.d*2, 1e-9, self.k)\n",
        "\n",
        "    def call(self, x):\n",
        "        x = self.mo1(inputs)\n",
        "        x = self.propag1(x)\n",
        "        x = self.mo2(x)\n",
        "        x = self.prooag2(x)\n",
        "        x = tf.nn.softmax(x[0,:,:])\n",
        "\n",
        "        return x"
      ],
      "execution_count": null,
      "outputs": []
    },
    {
      "cell_type": "code",
      "metadata": {
        "pycharm": {
          "name": "#%%\n"
        },
        "id": "KDVIT-b55FrP"
      },
      "source": [
        "def loss(y_hat, y):\n",
        "    return tf.nn.sparse_softmax_cross_entropy_with_logits(labels=y_hat, logits=y)"
      ],
      "execution_count": null,
      "outputs": []
    },
    {
      "cell_type": "code",
      "metadata": {
        "pycharm": {
          "name": "#%%\n"
        },
        "id": "2nIoyHqA5FrP"
      },
      "source": [
        "mnist = tf.keras.datasets.mnist\n",
        "\n",
        "(x_train, y_train), (x_test, y_test) = mnist.load_data()\n",
        "x_train = x_train/255.0\n",
        "x_test = x_test/255.0"
      ],
      "execution_count": null,
      "outputs": []
    },
    {
      "cell_type": "code",
      "metadata": {
        "pycharm": {
          "name": "#%%\n"
        },
        "id": "s0rXpHct5FrP"
      },
      "source": [
        "l = 633e-9\n",
        "k = 2 * np.pi / l\n",
        "d = 1e-6\n"
      ],
      "execution_count": null,
      "outputs": []
    },
    {
      "cell_type": "code",
      "metadata": {
        "pycharm": {
          "name": "#%%\n"
        },
        "id": "q3AL8cKI5FrP",
        "outputId": "45a82e33-7e1a-4e39-ea92-676decc23c0c"
      },
      "source": [
        "\n",
        "detector = CxD2NNMNISTDetector(10)\n",
        "detector.plot_area((28, 28))"
      ],
      "execution_count": null,
      "outputs": [
        {
          "data": {
            "text/plain": "<Figure size 432x288 with 1 Axes>",
            "image/png": "[encoded data removed]"
          },
          "metadata": {
            "needs_background": "light"
          },
          "output_type": "display_data"
        }
      ]
    },
    {
      "cell_type": "code",
      "metadata": {
        "pycharm": {
          "name": "#%%\n"
        },
        "id": "NiKvMSZo5FrQ",
        "outputId": "f2d964be-c10b-4c27-a8ee-2dc6c44ca10c"
      },
      "source": [
        "inputs = keras.Input((28,28))\n",
        "x = InputToCx((28, 28))(inputs)\n",
        "x = CxMO((28, 28))(x)\n",
        "x = FreeSpacePropagation((28, 28), k, 2e-4, output_pitch=1e-6)(x)\n",
        "x = CxD2NNIntensity((28, 28), normalization='min_max')(x)\n",
        "x = CxD2NNMNISTDetector(10, activation='softmax')(x)\n",
        "model = tf.keras.Model(inputs, x)\n",
        "model.summary()\n",
        "model.compile(optimizer='adam', loss='sparse_categorical_crossentropy', metrics=['accuracy'])\n",
        "model.fit(x_train, y_train, batch_size=64, epochs=10)"
      ],
      "execution_count": null,
      "outputs": [
        {
          "name": "stdout",
          "output_type": "stream",
          "text": [
            "Model: \"model_26\"\n",
            "_________________________________________________________________\n",
            "Layer (type)                 Output Shape              Param #   \n",
            "=================================================================\n",
            "input_44 (InputLayer)        [(None, 28, 28)]          0         \n",
            "_________________________________________________________________\n",
            "input_to_cx_42 (InputToCx)   (None, 2, 28, 28)         0         \n",
            "_________________________________________________________________\n",
            "cx_mo_42 (CxMO)              (None, 2, 28, 28)         784       \n",
            "_________________________________________________________________\n",
            "free_space_propagation_42 (F (None, 2, 28, 28)         1229312   \n",
            "_________________________________________________________________\n",
            "cx_d2nn_intensity_32 (CxD2NN (None, 28, 28)            0         \n",
            "_________________________________________________________________\n",
            "cx_d2nnmnist_detector_37 (Cx (None, 10)                0         \n",
            "=================================================================\n",
            "Total params: 1,230,096\n",
            "Trainable params: 784\n",
            "Non-trainable params: 1,229,312\n",
            "_________________________________________________________________\n"
          ]
        },
        {
          "ename": "ValueError",
          "evalue": "Rank mismatch: Rank of labels (received 2) should equal rank of logits minus 1 (received 2).",
          "output_type": "error",
          "traceback": [
            "\u001b[0;31m---------------------------------------------------------------------------\u001b[0m",
            "\u001b[0;31mValueError\u001b[0m                                Traceback (most recent call last)",
            "\u001b[0;32m<ipython-input-100-45fdf61b182f>\u001b[0m in \u001b[0;36m<module>\u001b[0;34m\u001b[0m\n\u001b[1;32m      7\u001b[0m \u001b[0mmodel\u001b[0m \u001b[0;34m=\u001b[0m \u001b[0mtf\u001b[0m\u001b[0;34m.\u001b[0m\u001b[0mkeras\u001b[0m\u001b[0;34m.\u001b[0m\u001b[0mModel\u001b[0m\u001b[0;34m(\u001b[0m\u001b[0minputs\u001b[0m\u001b[0;34m,\u001b[0m \u001b[0mx\u001b[0m\u001b[0;34m)\u001b[0m\u001b[0;34m\u001b[0m\u001b[0;34m\u001b[0m\u001b[0m\n\u001b[1;32m      8\u001b[0m \u001b[0mmodel\u001b[0m\u001b[0;34m.\u001b[0m\u001b[0msummary\u001b[0m\u001b[0;34m(\u001b[0m\u001b[0;34m)\u001b[0m\u001b[0;34m\u001b[0m\u001b[0;34m\u001b[0m\u001b[0m\n\u001b[0;32m----> 9\u001b[0;31m \u001b[0mmodel\u001b[0m\u001b[0;34m.\u001b[0m\u001b[0mcompile\u001b[0m\u001b[0;34m(\u001b[0m\u001b[0moptimizer\u001b[0m\u001b[0;34m=\u001b[0m\u001b[0;34m'adam'\u001b[0m\u001b[0;34m,\u001b[0m \u001b[0mloss\u001b[0m\u001b[0;34m=\u001b[0m\u001b[0mloss\u001b[0m\u001b[0;34m,\u001b[0m \u001b[0mmetrics\u001b[0m\u001b[0;34m=\u001b[0m\u001b[0;34m[\u001b[0m\u001b[0;34m'accuracy'\u001b[0m\u001b[0;34m]\u001b[0m\u001b[0;34m)\u001b[0m\u001b[0;34m\u001b[0m\u001b[0;34m\u001b[0m\u001b[0m\n\u001b[0m\u001b[1;32m     10\u001b[0m \u001b[0;31m#model.fit(x_train, y_train, batch_size=5, epochs=10)\u001b[0m\u001b[0;34m\u001b[0m\u001b[0;34m\u001b[0m\u001b[0;34m\u001b[0m\u001b[0m\n\u001b[1;32m     11\u001b[0m \u001b[0;34m\u001b[0m\u001b[0m\n",
            "\u001b[0;32m~/.conda/envs/MOD2NN/lib/python3.6/site-packages/tensorflow_core/python/training/tracking/base.py\u001b[0m in \u001b[0;36m_method_wrapper\u001b[0;34m(self, *args, **kwargs)\u001b[0m\n\u001b[1;32m    455\u001b[0m     \u001b[0mself\u001b[0m\u001b[0;34m.\u001b[0m\u001b[0m_self_setattr_tracking\u001b[0m \u001b[0;34m=\u001b[0m \u001b[0;32mFalse\u001b[0m  \u001b[0;31m# pylint: disable=protected-access\u001b[0m\u001b[0;34m\u001b[0m\u001b[0;34m\u001b[0m\u001b[0m\n\u001b[1;32m    456\u001b[0m     \u001b[0;32mtry\u001b[0m\u001b[0;34m:\u001b[0m\u001b[0;34m\u001b[0m\u001b[0;34m\u001b[0m\u001b[0m\n\u001b[0;32m--> 457\u001b[0;31m       \u001b[0mresult\u001b[0m \u001b[0;34m=\u001b[0m \u001b[0mmethod\u001b[0m\u001b[0;34m(\u001b[0m\u001b[0mself\u001b[0m\u001b[0;34m,\u001b[0m \u001b[0;34m*\u001b[0m\u001b[0margs\u001b[0m\u001b[0;34m,\u001b[0m \u001b[0;34m**\u001b[0m\u001b[0mkwargs\u001b[0m\u001b[0;34m)\u001b[0m\u001b[0;34m\u001b[0m\u001b[0;34m\u001b[0m\u001b[0m\n\u001b[0m\u001b[1;32m    458\u001b[0m     \u001b[0;32mfinally\u001b[0m\u001b[0;34m:\u001b[0m\u001b[0;34m\u001b[0m\u001b[0;34m\u001b[0m\u001b[0m\n\u001b[1;32m    459\u001b[0m       \u001b[0mself\u001b[0m\u001b[0;34m.\u001b[0m\u001b[0m_self_setattr_tracking\u001b[0m \u001b[0;34m=\u001b[0m \u001b[0mprevious_value\u001b[0m  \u001b[0;31m# pylint: disable=protected-access\u001b[0m\u001b[0;34m\u001b[0m\u001b[0;34m\u001b[0m\u001b[0m\n",
            "\u001b[0;32m~/.conda/envs/MOD2NN/lib/python3.6/site-packages/tensorflow_core/python/keras/engine/training.py\u001b[0m in \u001b[0;36mcompile\u001b[0;34m(self, optimizer, loss, metrics, loss_weights, sample_weight_mode, weighted_metrics, target_tensors, distribute, **kwargs)\u001b[0m\n\u001b[1;32m    371\u001b[0m \u001b[0;34m\u001b[0m\u001b[0m\n\u001b[1;32m    372\u001b[0m       \u001b[0;31m# Creates the model loss and weighted metrics sub-graphs.\u001b[0m\u001b[0;34m\u001b[0m\u001b[0;34m\u001b[0m\u001b[0;34m\u001b[0m\u001b[0m\n\u001b[0;32m--> 373\u001b[0;31m       \u001b[0mself\u001b[0m\u001b[0;34m.\u001b[0m\u001b[0m_compile_weights_loss_and_weighted_metrics\u001b[0m\u001b[0;34m(\u001b[0m\u001b[0;34m)\u001b[0m\u001b[0;34m\u001b[0m\u001b[0;34m\u001b[0m\u001b[0m\n\u001b[0m\u001b[1;32m    374\u001b[0m \u001b[0;34m\u001b[0m\u001b[0m\n\u001b[1;32m    375\u001b[0m       \u001b[0;31m# Functions for train, test and predict will\u001b[0m\u001b[0;34m\u001b[0m\u001b[0;34m\u001b[0m\u001b[0;34m\u001b[0m\u001b[0m\n",
            "\u001b[0;32m~/.conda/envs/MOD2NN/lib/python3.6/site-packages/tensorflow_core/python/training/tracking/base.py\u001b[0m in \u001b[0;36m_method_wrapper\u001b[0;34m(self, *args, **kwargs)\u001b[0m\n\u001b[1;32m    455\u001b[0m     \u001b[0mself\u001b[0m\u001b[0;34m.\u001b[0m\u001b[0m_self_setattr_tracking\u001b[0m \u001b[0;34m=\u001b[0m \u001b[0;32mFalse\u001b[0m  \u001b[0;31m# pylint: disable=protected-access\u001b[0m\u001b[0;34m\u001b[0m\u001b[0;34m\u001b[0m\u001b[0m\n\u001b[1;32m    456\u001b[0m     \u001b[0;32mtry\u001b[0m\u001b[0;34m:\u001b[0m\u001b[0;34m\u001b[0m\u001b[0;34m\u001b[0m\u001b[0m\n\u001b[0;32m--> 457\u001b[0;31m       \u001b[0mresult\u001b[0m \u001b[0;34m=\u001b[0m \u001b[0mmethod\u001b[0m\u001b[0;34m(\u001b[0m\u001b[0mself\u001b[0m\u001b[0;34m,\u001b[0m \u001b[0;34m*\u001b[0m\u001b[0margs\u001b[0m\u001b[0;34m,\u001b[0m \u001b[0;34m**\u001b[0m\u001b[0mkwargs\u001b[0m\u001b[0;34m)\u001b[0m\u001b[0;34m\u001b[0m\u001b[0;34m\u001b[0m\u001b[0m\n\u001b[0m\u001b[1;32m    458\u001b[0m     \u001b[0;32mfinally\u001b[0m\u001b[0;34m:\u001b[0m\u001b[0;34m\u001b[0m\u001b[0;34m\u001b[0m\u001b[0m\n\u001b[1;32m    459\u001b[0m       \u001b[0mself\u001b[0m\u001b[0;34m.\u001b[0m\u001b[0m_self_setattr_tracking\u001b[0m \u001b[0;34m=\u001b[0m \u001b[0mprevious_value\u001b[0m  \u001b[0;31m# pylint: disable=protected-access\u001b[0m\u001b[0;34m\u001b[0m\u001b[0;34m\u001b[0m\u001b[0m\n",
            "\u001b[0;32m~/.conda/envs/MOD2NN/lib/python3.6/site-packages/tensorflow_core/python/keras/engine/training.py\u001b[0m in \u001b[0;36m_compile_weights_loss_and_weighted_metrics\u001b[0;34m(self, sample_weights)\u001b[0m\n\u001b[1;32m   1651\u001b[0m       \u001b[0;31m#                   loss_weight_2 * output_2_loss_fn(...) +\u001b[0m\u001b[0;34m\u001b[0m\u001b[0;34m\u001b[0m\u001b[0;34m\u001b[0m\u001b[0m\n\u001b[1;32m   1652\u001b[0m       \u001b[0;31m#                   layer losses.\u001b[0m\u001b[0;34m\u001b[0m\u001b[0;34m\u001b[0m\u001b[0;34m\u001b[0m\u001b[0m\n\u001b[0;32m-> 1653\u001b[0;31m       \u001b[0mself\u001b[0m\u001b[0;34m.\u001b[0m\u001b[0mtotal_loss\u001b[0m \u001b[0;34m=\u001b[0m \u001b[0mself\u001b[0m\u001b[0;34m.\u001b[0m\u001b[0m_prepare_total_loss\u001b[0m\u001b[0;34m(\u001b[0m\u001b[0mmasks\u001b[0m\u001b[0;34m)\u001b[0m\u001b[0;34m\u001b[0m\u001b[0;34m\u001b[0m\u001b[0m\n\u001b[0m\u001b[1;32m   1654\u001b[0m \u001b[0;34m\u001b[0m\u001b[0m\n\u001b[1;32m   1655\u001b[0m   \u001b[0;32mdef\u001b[0m \u001b[0m_prepare_skip_target_masks\u001b[0m\u001b[0;34m(\u001b[0m\u001b[0mself\u001b[0m\u001b[0;34m)\u001b[0m\u001b[0;34m:\u001b[0m\u001b[0;34m\u001b[0m\u001b[0;34m\u001b[0m\u001b[0m\n",
            "\u001b[0;32m~/.conda/envs/MOD2NN/lib/python3.6/site-packages/tensorflow_core/python/keras/engine/training.py\u001b[0m in \u001b[0;36m_prepare_total_loss\u001b[0;34m(self, masks)\u001b[0m\n\u001b[1;32m   1711\u001b[0m \u001b[0;34m\u001b[0m\u001b[0m\n\u001b[1;32m   1712\u001b[0m           \u001b[0;32mif\u001b[0m \u001b[0mhasattr\u001b[0m\u001b[0;34m(\u001b[0m\u001b[0mloss_fn\u001b[0m\u001b[0;34m,\u001b[0m \u001b[0;34m'reduction'\u001b[0m\u001b[0;34m)\u001b[0m\u001b[0;34m:\u001b[0m\u001b[0;34m\u001b[0m\u001b[0;34m\u001b[0m\u001b[0m\n\u001b[0;32m-> 1713\u001b[0;31m             \u001b[0mper_sample_losses\u001b[0m \u001b[0;34m=\u001b[0m \u001b[0mloss_fn\u001b[0m\u001b[0;34m.\u001b[0m\u001b[0mcall\u001b[0m\u001b[0;34m(\u001b[0m\u001b[0my_true\u001b[0m\u001b[0;34m,\u001b[0m \u001b[0my_pred\u001b[0m\u001b[0;34m)\u001b[0m\u001b[0;34m\u001b[0m\u001b[0;34m\u001b[0m\u001b[0m\n\u001b[0m\u001b[1;32m   1714\u001b[0m             weighted_losses = losses_utils.compute_weighted_loss(\n\u001b[1;32m   1715\u001b[0m                 \u001b[0mper_sample_losses\u001b[0m\u001b[0;34m,\u001b[0m\u001b[0;34m\u001b[0m\u001b[0;34m\u001b[0m\u001b[0m\n",
            "\u001b[0;32m~/.conda/envs/MOD2NN/lib/python3.6/site-packages/tensorflow_core/python/keras/losses.py\u001b[0m in \u001b[0;36mcall\u001b[0;34m(self, y_true, y_pred)\u001b[0m\n\u001b[1;32m    219\u001b[0m       y_pred, y_true = tf_losses_util.squeeze_or_expand_dimensions(\n\u001b[1;32m    220\u001b[0m           y_pred, y_true)\n\u001b[0;32m--> 221\u001b[0;31m     \u001b[0;32mreturn\u001b[0m \u001b[0mself\u001b[0m\u001b[0;34m.\u001b[0m\u001b[0mfn\u001b[0m\u001b[0;34m(\u001b[0m\u001b[0my_true\u001b[0m\u001b[0;34m,\u001b[0m \u001b[0my_pred\u001b[0m\u001b[0;34m,\u001b[0m \u001b[0;34m**\u001b[0m\u001b[0mself\u001b[0m\u001b[0;34m.\u001b[0m\u001b[0m_fn_kwargs\u001b[0m\u001b[0;34m)\u001b[0m\u001b[0;34m\u001b[0m\u001b[0;34m\u001b[0m\u001b[0m\n\u001b[0m\u001b[1;32m    222\u001b[0m \u001b[0;34m\u001b[0m\u001b[0m\n\u001b[1;32m    223\u001b[0m   \u001b[0;32mdef\u001b[0m \u001b[0mget_config\u001b[0m\u001b[0;34m(\u001b[0m\u001b[0mself\u001b[0m\u001b[0;34m)\u001b[0m\u001b[0;34m:\u001b[0m\u001b[0;34m\u001b[0m\u001b[0;34m\u001b[0m\u001b[0m\n",
            "\u001b[0;32m<ipython-input-99-fadc9025bc78>\u001b[0m in \u001b[0;36mloss\u001b[0;34m(y_hat, y)\u001b[0m\n\u001b[1;32m      1\u001b[0m \u001b[0;32mdef\u001b[0m \u001b[0mloss\u001b[0m\u001b[0;34m(\u001b[0m\u001b[0my_hat\u001b[0m\u001b[0;34m,\u001b[0m \u001b[0my\u001b[0m\u001b[0;34m)\u001b[0m\u001b[0;34m:\u001b[0m\u001b[0;34m\u001b[0m\u001b[0;34m\u001b[0m\u001b[0m\n\u001b[0;32m----> 2\u001b[0;31m     \u001b[0;32mreturn\u001b[0m \u001b[0mtf\u001b[0m\u001b[0;34m.\u001b[0m\u001b[0mnn\u001b[0m\u001b[0;34m.\u001b[0m\u001b[0msparse_softmax_cross_entropy_with_logits\u001b[0m\u001b[0;34m(\u001b[0m\u001b[0mlabels\u001b[0m\u001b[0;34m=\u001b[0m\u001b[0my_hat\u001b[0m\u001b[0;34m,\u001b[0m \u001b[0mlogits\u001b[0m\u001b[0;34m=\u001b[0m\u001b[0my\u001b[0m\u001b[0;34m)\u001b[0m\u001b[0;34m\u001b[0m\u001b[0;34m\u001b[0m\u001b[0m\n\u001b[0m\u001b[1;32m      3\u001b[0m \u001b[0;34m\u001b[0m\u001b[0m\n",
            "\u001b[0;32m~/.conda/envs/MOD2NN/lib/python3.6/site-packages/tensorflow_core/python/ops/nn_ops.py\u001b[0m in \u001b[0;36msparse_softmax_cross_entropy_with_logits_v2\u001b[0;34m(labels, logits, name)\u001b[0m\n\u001b[1;32m   3475\u001b[0m   \"\"\"\n\u001b[1;32m   3476\u001b[0m   return sparse_softmax_cross_entropy_with_logits(\n\u001b[0;32m-> 3477\u001b[0;31m       labels=labels, logits=logits, name=name)\n\u001b[0m\u001b[1;32m   3478\u001b[0m \u001b[0;34m\u001b[0m\u001b[0m\n\u001b[1;32m   3479\u001b[0m \u001b[0;34m\u001b[0m\u001b[0m\n",
            "\u001b[0;32m~/.conda/envs/MOD2NN/lib/python3.6/site-packages/tensorflow_core/python/ops/nn_ops.py\u001b[0m in \u001b[0;36msparse_softmax_cross_entropy_with_logits\u001b[0;34m(_sentinel, labels, logits, name)\u001b[0m\n\u001b[1;32m   3385\u001b[0m       raise ValueError(\"Rank mismatch: Rank of labels (received %s) should \"\n\u001b[1;32m   3386\u001b[0m                        \u001b[0;34m\"equal rank of logits minus 1 (received %s).\"\u001b[0m \u001b[0;34m%\u001b[0m\u001b[0;34m\u001b[0m\u001b[0;34m\u001b[0m\u001b[0m\n\u001b[0;32m-> 3387\u001b[0;31m                        (labels_static_shape.ndims, logits.get_shape().ndims))\n\u001b[0m\u001b[1;32m   3388\u001b[0m     if (static_shapes_fully_defined and\n\u001b[1;32m   3389\u001b[0m         labels_static_shape != logits.get_shape()[:-1]):\n",
            "\u001b[0;31mValueError\u001b[0m: Rank mismatch: Rank of labels (received 2) should equal rank of logits minus 1 (received 2)."
          ]
        }
      ]
    },
    {
      "cell_type": "code",
      "metadata": {
        "pycharm": {
          "name": "#%%\n"
        },
        "id": "DGEbdfFx5FrQ",
        "outputId": "2bec12d3-0ffd-46b1-d7a9-1567bcb046b5"
      },
      "source": [
        "plt.imshow(x_train[2,:,:])\n",
        "out = model.predict(np.array([x_train[2,:,:]]))\n",
        "out"
      ],
      "execution_count": null,
      "outputs": [
        {
          "data": {
            "text/plain": "array([[0.04593584, 0.01391635, 0.01915953, 0.03928459, 0.10830791,\n        0.3538724 , 0.00767871, 0.07761943, 0.06080932, 0.27341592]],\n      dtype=float32)"
          },
          "execution_count": 98,
          "metadata": {},
          "output_type": "execute_result"
        },
        {
          "data": {
            "text/plain": "<Figure size 432x288 with 1 Axes>",
            "image/png": "[encoded data removed]"
          },
          "metadata": {
            "needs_background": "light"
          },
          "output_type": "display_data"
        }
      ]
    },
    {
      "cell_type": "code",
      "metadata": {
        "pycharm": {
          "name": "#%%\n"
        },
        "id": "zGBtRuwC5FrQ"
      },
      "source": [
        "layer_name = 'cx_d2nn_intensity_32'\n",
        "hidden_layer_model = tf.keras.Model(inputs=model.input, outputs=model.get_layer(layer_name).output)"
      ],
      "execution_count": null,
      "outputs": []
    },
    {
      "cell_type": "code",
      "metadata": {
        "pycharm": {
          "name": "#%%\n"
        },
        "id": "MM6fAIqU5FrQ",
        "outputId": "a45a7224-37c4-4e27-8da4-6b71826019cb"
      },
      "source": [
        "image = x_train[9,:,:]\n",
        "hidden_out = hidden_layer_model.predict(np.array([image]))\n",
        "pred = model.predict(np.array([image]))\n",
        "\n",
        "fig, axes = plt.subplots(1, 3, figsize=(8,3))\n",
        "axes[0].imshow(image)\n",
        "axes[1].imshow(hidden_out[0, :, :])\n",
        "axes[2].bar(np.arange(0, 10, 1), pred[0,:], align='center')\n",
        "axes[2].set_xticks(np.arange(0, 10, 1))"
      ],
      "execution_count": null,
      "outputs": [
        {
          "data": {
            "text/plain": "<matplotlib.image.AxesImage at 0x7fbf078cf198>"
          },
          "execution_count": 114,
          "metadata": {},
          "output_type": "execute_result"
        },
        {
          "data": {
            "text/plain": "<Figure size 432x288 with 2 Axes>",
            "image/png": "[encoded data removed]"
          },
          "metadata": {
            "needs_background": "light"
          },
          "output_type": "display_data"
        }
      ]
    }
  ]
}