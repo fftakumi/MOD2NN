{
 "cells": [
  {
   "cell_type": "code",
   "execution_count": 51,
   "metadata": {
    "collapsed": true
   },
   "outputs": [],
   "source": [
    "import tensorflow as tf\n",
    "from tensorflow import keras\n",
    "from tensorflow_core.python.keras.layers import Lambda\n",
    "import numpy as np\n",
    "import matplotlib.pyplot as plt"
   ]
  },
  {
   "cell_type": "code",
   "execution_count": 56,
   "outputs": [],
   "source": [
    "class InputToCx(tf.keras.layers.Layer):\n",
    "    def __init__(self, output_dim):\n",
    "        super(InputToCx, self).__init__()\n",
    "        self.output_dim = output_dim\n",
    "\n",
    "    def call(self, inputs, **kwargs):\n",
    "        real = tf.cos(inputs)\n",
    "        imag = tf.sin(inputs)\n",
    "        return tf.stack([real, imag], axis=1)"
   ],
   "metadata": {
    "collapsed": false,
    "pycharm": {
     "name": "#%%\n"
    }
   }
  },
  {
   "cell_type": "code",
   "execution_count": 84,
   "outputs": [],
   "source": [
    "class CxMO(tf.keras.layers.Layer):\n",
    "    def __init__(self, output_dim):\n",
    "        super(CxMO, self).__init__()\n",
    "        self.output_dim = output_dim\n",
    "\n",
    "    # input[0,:,:] = real\n",
    "    # input[1,:,:] = image\n",
    "    def build(self, input_dim):\n",
    "        self.phi = self.add_variable(\"phi\",\n",
    "                                     shape=[int(input_dim[-2]),\n",
    "                                            int(input_dim[-1])])\n",
    "\n",
    "        super(CxMO, self).build(input_dim)\n",
    "\n",
    "    def call(self, x):\n",
    "        x_real = Lambda(lambda x: x[: ,0, :, :], output_shape=self.output_dim)(x)  # real\n",
    "        x_imag = Lambda(lambda x: x[: ,1, :, :], output_shape=self.output_dim)(x)  # imag\n",
    "        mo_real = tf.cos(self.phi)\n",
    "        mo_imag = tf.sin(self.phi)\n",
    "\n",
    "        real = tf.matmul(x_real, mo_real) - tf.matmul(x_imag, mo_imag)\n",
    "        imag = tf.matmul(x_real, mo_imag) + tf.matmul(x_imag, mo_real)\n",
    "        cmpx = tf.stack([real, imag], axis=1)\n",
    "        return cmpx"
   ],
   "metadata": {
    "collapsed": false,
    "pycharm": {
     "name": "#%%\n"
    }
   }
  },
  {
   "cell_type": "code",
   "execution_count": 90,
   "outputs": [],
   "source": [
    "class FreeSpacePropagation(tf.keras.layers.Layer):\n",
    "    def __init__(self, output_dim, pitch_size, z, k):\n",
    "        super(FreeSpacePropagation, self).__init__()\n",
    "        self.output_dim = output_dim\n",
    "        self.pitch_size = pitch_size\n",
    "        self.z = z\n",
    "        self.k = k\n",
    "\n",
    "    def build(self, input_shape):\n",
    "        x1 = np.arange(0, input_shape[2], 1)\n",
    "        y1 = np.arange(0, input_shape[1], 1)\n",
    "        xx1, yy1 = np.meshgrid(x1, y1)\n",
    "        xx1 = xx1.reshape(1, -1)\n",
    "        yy1 = yy1.reshape(1, -1)\n",
    "\n",
    "        x2 = np.arange(0, self.output_dim[1], 1)\n",
    "        y2 = np.arange(0, self.output_dim[0], 1)\n",
    "        xx2, yy2 = np.meshgrid(x2, y2)\n",
    "        xx2 = xx2.reshape(-1, 1)\n",
    "        yy2 = yy2.reshape(-1, 1)\n",
    "\n",
    "        dx = self.pitch_size*(xx1 - xx2)\n",
    "        dy = self.pitch_size*(yy1 - yy2)\n",
    "        r = np.sqrt(dx**2 + dy**2 + self.z**2)\n",
    "        w = 1/(2*np.pi) * self.z / r * (1/r - 1j*self.k) * np.exp(1j * self.k * r)\n",
    "\n",
    "        self.w_real = tf.Variable(initial_value=w.real.astype('float32'),\n",
    "                                              trainable=False)\n",
    "        self.w_imag = tf.Variable(initial_value=w.imag.astype('float32'),\n",
    "                                              trainable=False)\n",
    "\n",
    "        super(FreeSpacePropagation, self).build(input_shape)\n",
    "\n",
    "    def call(self, x, **kwargs):\n",
    "        x_real = Lambda(lambda x: x[:,0, :, :], output_shape=self.output_dim)(x)  # real\n",
    "        x_imag = Lambda(lambda x: x[:,1, :, :], output_shape=self.output_dim)(x)  # imag\n",
    "        x_real = tf.reshape(x_real, (-1, 1))\n",
    "        x_imag = tf.reshape(x_imag, (-1, 1))\n",
    "        real = tf.matmul(self.w_real, x_real) - tf.matmul(self.w_imag, x_imag)\n",
    "        imag = tf.matmul(self.w_real, x_imag) + tf.matmul(self.w_imag, x_real)\n",
    "        print(real.shape)\n",
    "        real = tf.reshape(real, self.output_dim)\n",
    "        imag = tf.reshape(imag, self.output_dim)\n",
    "        cmpx = tf.stack([real, imag], axis=0)\n",
    "        return cmpx"
   ],
   "metadata": {
    "collapsed": false,
    "pycharm": {
     "name": "#%%\n"
    }
   }
  },
  {
   "cell_type": "code",
   "execution_count": 47,
   "outputs": [],
   "source": [
    "class CxD2NNDetector(tf.keras.layers.Layer):\n",
    "    def __init__(self, output_dim, **kwargs):\n",
    "        super(CxD2NNDetector, self).__init__(**kwargs)\n",
    "        self.output_dim = output_dim\n",
    "\n",
    "    def call(self, x, **kwargs):\n",
    "        x_real = Lambda(lambda x: x[0, :, :], output_shape=self.output_dim)(x)  # real\n",
    "        x_imag = Lambda(lambda x: x[1, :, :], output_shape=self.output_dim)(x)\n",
    "        intensity = tf.sqrt(x_real ** 2 + x_imag **2)\n",
    "\n"
   ],
   "metadata": {
    "collapsed": false,
    "pycharm": {
     "name": "#%%\n"
    }
   }
  },
  {
   "cell_type": "code",
   "execution_count": 48,
   "outputs": [],
   "source": [
    "class MOD2NN(tf.keras.Model):\n",
    "    def __init__(self):\n",
    "        super(MOD2NN, self).__init__()\n",
    "        self.l = 633e-9\n",
    "        self.k = 2 * np.pi / self.l\n",
    "        self.d = 1e-6\n",
    "        self.mo1 = CxMO((28, 28))\n",
    "        self.propag1 = FreeSpacePropagation((28, 28), self.d, 2e-3, self.k)\n",
    "        self.mo2 = CxMO((28, 28))\n",
    "        self.prooag2 = FreeSpacePropagation((1, 10), self.d*2, 1e-9, self.k)\n",
    "\n",
    "    def call(self, inputs):\n",
    "        x = self.mo1(inputs)\n",
    "        x = self.propag1(x)\n",
    "        x = self.mo2(x)\n",
    "        x = self.prooag2(x)\n",
    "        x = tf.nn.softmax(x[0,:,:])\n",
    "        return x\n"
   ],
   "metadata": {
    "collapsed": false,
    "pycharm": {
     "name": "#%%\n"
    }
   }
  },
  {
   "cell_type": "code",
   "execution_count": 41,
   "outputs": [
    {
     "ename": "ValueError",
     "evalue": "This model has not yet been built. Build the model first by calling `build()` or calling `fit()` with some data, or specify an `input_shape` argument in the first layer(s) for automatic build.",
     "output_type": "error",
     "traceback": [
      "\u001B[0;31m---------------------------------------------------------------------------\u001B[0m",
      "\u001B[0;31mValueError\u001B[0m                                Traceback (most recent call last)",
      "\u001B[0;32m<ipython-input-41-7b7a5d7fe066>\u001B[0m in \u001B[0;36m<module>\u001B[0;34m\u001B[0m\n\u001B[1;32m      1\u001B[0m \u001B[0mmodel\u001B[0m \u001B[0;34m=\u001B[0m \u001B[0mMOD2NN\u001B[0m\u001B[0;34m(\u001B[0m\u001B[0;34m)\u001B[0m\u001B[0;34m\u001B[0m\u001B[0;34m\u001B[0m\u001B[0m\n\u001B[0;32m----> 2\u001B[0;31m \u001B[0mmodel\u001B[0m\u001B[0;34m.\u001B[0m\u001B[0msummary\u001B[0m\u001B[0;34m(\u001B[0m\u001B[0;34m)\u001B[0m\u001B[0;34m\u001B[0m\u001B[0;34m\u001B[0m\u001B[0m\n\u001B[0m\u001B[1;32m      3\u001B[0m \u001B[0;34m\u001B[0m\u001B[0m\n",
      "\u001B[0;32m~/.conda/envs/MOD2NN/lib/python3.6/site-packages/tensorflow_core/python/keras/engine/network.py\u001B[0m in \u001B[0;36msummary\u001B[0;34m(self, line_length, positions, print_fn)\u001B[0m\n\u001B[1;32m   1255\u001B[0m     \"\"\"\n\u001B[1;32m   1256\u001B[0m     \u001B[0;32mif\u001B[0m \u001B[0;32mnot\u001B[0m \u001B[0mself\u001B[0m\u001B[0;34m.\u001B[0m\u001B[0mbuilt\u001B[0m\u001B[0;34m:\u001B[0m\u001B[0;34m\u001B[0m\u001B[0;34m\u001B[0m\u001B[0m\n\u001B[0;32m-> 1257\u001B[0;31m       raise ValueError('This model has not yet been built. '\n\u001B[0m\u001B[1;32m   1258\u001B[0m                        \u001B[0;34m'Build the model first by calling `build()` or calling '\u001B[0m\u001B[0;34m\u001B[0m\u001B[0;34m\u001B[0m\u001B[0m\n\u001B[1;32m   1259\u001B[0m                        \u001B[0;34m'`fit()` with some data, or specify '\u001B[0m\u001B[0;34m\u001B[0m\u001B[0;34m\u001B[0m\u001B[0m\n",
      "\u001B[0;31mValueError\u001B[0m: This model has not yet been built. Build the model first by calling `build()` or calling `fit()` with some data, or specify an `input_shape` argument in the first layer(s) for automatic build."
     ]
    }
   ],
   "source": [
    "model = MOD2NN()\n",
    "model.summary()"
   ],
   "metadata": {
    "collapsed": false,
    "pycharm": {
     "name": "#%%\n"
    }
   }
  },
  {
   "cell_type": "code",
   "execution_count": 9,
   "outputs": [],
   "source": [
    "mnist = tf.keras.datasets.mnist\n",
    "\n",
    "(x_train, y_train), (x_test, y_test) = mnist.load_data()"
   ],
   "metadata": {
    "collapsed": false,
    "pycharm": {
     "name": "#%%\n"
    }
   }
  },
  {
   "cell_type": "code",
   "execution_count": 38,
   "outputs": [
    {
     "data": {
      "text/plain": "<matplotlib.image.AxesImage at 0x7fbfd2413dd8>"
     },
     "execution_count": 38,
     "metadata": {},
     "output_type": "execute_result"
    },
    {
     "data": {
      "text/plain": "<Figure size 432x288 with 1 Axes>",
      "image/png": "[encoded data removed]"
     },
     "metadata": {
      "needs_background": "light"
     },
     "output_type": "display_data"
    }
   ],
   "source": [
    "plt.imshow(x_train[0,:,:])"
   ],
   "metadata": {
    "collapsed": false,
    "pycharm": {
     "name": "#%%\n"
    }
   }
  },
  {
   "cell_type": "code",
   "execution_count": 91,
   "outputs": [
    {
     "name": "stdout",
     "output_type": "stream",
     "text": [
      "(None, 2, 28, 28)\n",
      "(None, 28, 28)\n",
      "(784, 1)\n"
     ]
    },
    {
     "data": {
      "text/plain": "TensorShape([2, 28, 28])"
     },
     "execution_count": 91,
     "metadata": {},
     "output_type": "execute_result"
    }
   ],
   "source": [
    "l = 633e-9\n",
    "k = 2 * np.pi / l\n",
    "d = 1e-6\n",
    "inputs = keras.Input((28, 28))\n",
    "x = InputToCx((28, 28))(inputs)\n",
    "x = CxMO((28, 28))(x)\n",
    "x = FreeSpacePropagation((28, 28), d, 2e-3, k)(x)\n",
    "x.shape"
   ],
   "metadata": {
    "collapsed": false,
    "pycharm": {
     "name": "#%%\n"
    }
   }
  },
  {
   "cell_type": "code",
   "execution_count": 40,
   "outputs": [
    {
     "data": {
      "text/plain": "<matplotlib.image.AxesImage at 0x7fbfd243b048>"
     },
     "execution_count": 40,
     "metadata": {},
     "output_type": "execute_result"
    },
    {
     "data": {
      "text/plain": "<Figure size 432x288 with 1 Axes>",
      "image/png": "[encoded data removed]"
     },
     "metadata": {
      "needs_background": "light"
     },
     "output_type": "display_data"
    }
   ],
   "source": [
    "plt.imshow(y[:, :])"
   ],
   "metadata": {
    "collapsed": false,
    "pycharm": {
     "name": "#%%\n"
    }
   }
  },
  {
   "cell_type": "code",
   "execution_count": null,
   "outputs": [],
   "source": [],
   "metadata": {
    "collapsed": false,
    "pycharm": {
     "name": "#%%\n"
    }
   }
  }
 ],
 "metadata": {
  "kernelspec": {
   "display_name": "Python 3",
   "language": "python",
   "name": "python3"
  },
  "language_info": {
   "codemirror_mode": {
    "name": "ipython",
    "version": 2
   },
   "file_extension": ".py",
   "mimetype": "text/x-python",
   "name": "python",
   "nbconvert_exporter": "python",
   "pygments_lexer": "ipython2",
   "version": "2.7.6"
  }
 },
 "nbformat": 4,
 "nbformat_minor": 0
}