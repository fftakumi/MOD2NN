{
  "nbformat": 4,
  "nbformat_minor": 0,
  "metadata": {
    "kernelspec": {
      "display_name": "Python 3",
      "language": "python",
      "name": "python3"
    },
    "language_info": {
      "codemirror_mode": {
        "name": "ipython",
        "version": 2
      },
      "file_extension": ".py",
      "mimetype": "text/x-python",
      "name": "python",
      "nbconvert_exporter": "python",
      "pygments_lexer": "ipython2",
      "version": "2.7.6"
    },
    "colab": {
      "name": "model.ipynb",
      "provenance": []
    },
    "accelerator": "GPU"
  },
  "cells": [
    {
      "cell_type": "code",
      "metadata": {
        "collapsed": true,
        "id": "3jmBkPqV5FrH"
      },
      "source": [
        "import tensorflow as tf\n",
        "from tensorflow import keras\n",
        "from tensorflow.keras.layers import Lambda\n",
        "import numpy as np\n",
        "import matplotlib.pyplot as plt\n",
        "import cv2\n",
        "\n",
        "plt.rcParams['font.size'] = 18"
      ],
      "execution_count": 1,
      "outputs": []
    },
    {
      "cell_type": "code",
      "metadata": {
        "pycharm": {
          "name": "#%%\n"
        },
        "id": "XHZMEAtt5FrK"
      },
      "source": [
        "class InputToCx(tf.keras.layers.Layer):\n",
        "    def __init__(self, output_dim):\n",
        "        super(InputToCx, self).__init__()\n",
        "        self.output_dim = output_dim\n",
        "\n",
        "    def call(self, inputs, **kwargs):\n",
        "        real = inputs * tf.cos(0.0)\n",
        "        imag = inputs * tf.sin(0.0)\n",
        "        return tf.stack([real, imag], axis=1)"
      ],
      "execution_count": 3,
      "outputs": []
    },
    {
      "cell_type": "code",
      "metadata": {
        "pycharm": {
          "name": "#%%\n"
        },
        "id": "BtQrEn-p5FrM"
      },
      "source": [
        "class CxMO(tf.keras.layers.Layer):\n",
        "    def __init__(self, output_dim):\n",
        "        super(CxMO, self).__init__()\n",
        "        self.output_dim = output_dim\n",
        "\n",
        "    # input[0,:,:] = real\n",
        "    # input[1,:,:] = image\n",
        "    def build(self, input_dim):\n",
        "        self.phi = self.add_variable(\"phi\",\n",
        "                                     shape=[int(input_dim[-2]),\n",
        "                                            int(input_dim[-1])])\n",
        "\n",
        "        super(CxMO, self).build(input_dim)\n",
        "\n",
        "    def call(self, x):\n",
        "        x_real = Lambda(lambda x: x[: ,0, :, :], output_shape=self.output_dim)(x)  # real\n",
        "        x_imag = Lambda(lambda x: x[: ,1, :, :], output_shape=self.output_dim)(x)  # imag\n",
        "        mo_real = tf.cos(self.phi)\n",
        "        mo_imag = tf.sin(self.phi)\n",
        "\n",
        "        real = x_real * mo_real - x_imag * mo_imag\n",
        "        imag = x_real * mo_imag + x_imag * mo_real\n",
        "        cmpx = tf.stack([real, imag], axis=1)\n",
        "        return cmpx"
      ],
      "execution_count": 4,
      "outputs": []
    },
    {
      "cell_type": "code",
      "metadata": {
        "pycharm": {
          "name": "#%%\n"
        },
        "id": "RTiCLsir5FrN"
      },
      "source": [
        "class FreeSpacePropagation(tf.keras.layers.Layer):\n",
        "    def __init__(self, output_dim, k, z, input_pitch=1e-6, output_pitch=1e-6):\n",
        "        super(FreeSpacePropagation, self).__init__()\n",
        "        self.output_dim = output_dim\n",
        "        self.input_pitch = input_pitch\n",
        "        self.output_pitch = output_pitch\n",
        "        self.z = z\n",
        "        self.k = k\n",
        "\n",
        "    def build(self, input_shape):\n",
        "\n",
        "        x1 = np.arange(0, input_shape[-1], 1)\n",
        "        y1 = np.arange(0, input_shape[-2], 1)\n",
        "        xx1, yy1 = np.meshgrid(x1, y1)\n",
        "        xx1 = xx1.reshape(-1, 1) - input_shape[-1]/2\n",
        "        yy1 = yy1.reshape(-1, 1) - input_shape[-2]/2\n",
        "\n",
        "        x2 = np.arange(0, self.output_dim[1], 1)\n",
        "        y2 = np.arange(0, self.output_dim[0], 1)\n",
        "        xx2, yy2 = np.meshgrid(x2, y2)\n",
        "        xx2 = xx2.reshape(1, -1) - self.output_dim[1]/2\n",
        "        yy2 = yy2.reshape(1, -1) - self.output_dim[0]/2\n",
        "\n",
        "        dx = (self.output_pitch * xx2 - self.input_pitch * xx1)\n",
        "        dy = (self.output_pitch * yy2 - self.input_pitch * yy1)\n",
        "        r = np.sqrt(dx**2 + dy**2 + self.z**2)\n",
        "        w = 1/(2*np.pi) * self.z / r * (1/r - 1j*self.k) * np.exp(1j * self.k * r)\n",
        "\n",
        "        self.w_real = tf.Variable(initial_value=w.real.astype('float32'),\n",
        "                                              trainable=False)\n",
        "        self.w_imag = tf.Variable(initial_value=w.imag.astype('float32'),\n",
        "                                              trainable=False)\n",
        "\n",
        "        super(FreeSpacePropagation, self).build(input_shape)\n",
        "\n",
        "    def call(self, x, **kwargs):\n",
        "        x_real = Lambda(lambda x: x[:,0, :, :], output_shape=(self.output_dim,))(x)  # real\n",
        "        x_imag = Lambda(lambda x: x[:,1, :, :], output_shape=(self.output_dim,))(x)  # imag\n",
        "        x_real = tf.reshape(x_real, (-1, x.shape[-1]*x.shape[-2]))\n",
        "        x_imag = tf.reshape(x_imag, (-1, x.shape[-1]*x.shape[-2]))\n",
        "        real = tf.matmul(x_real, self.w_real) - tf.matmul(x_imag, self.w_imag)\n",
        "        imag = tf.matmul(x_imag, self.w_real) + tf.matmul(x_real, self.w_imag)\n",
        "        real = tf.reshape(real, (-1, self.output_dim[0], self.output_dim[1]))\n",
        "        imag = tf.reshape(imag, (-1, self.output_dim[0], self.output_dim[1]))\n",
        "        cmpx = tf.stack([real, imag], axis=1)\n",
        "        return cmpx\n"
      ],
      "execution_count": 5,
      "outputs": []
    },
    {
      "cell_type": "code",
      "metadata": {
        "pycharm": {
          "name": "#%%\n"
        },
        "id": "djKDVFfc5FrO"
      },
      "source": [
        "class CxD2NNMNISTDetector(tf.keras.layers.Layer):\n",
        "    def __init__(self, output_dim, activation=None, **kwargs):\n",
        "        super(CxD2NNMNISTDetector, self).__init__(**kwargs)\n",
        "        self.output_dim = output_dim\n",
        "        self.activation = activation\n",
        "\n",
        "    def build(self, input_shape):\n",
        "        self.input_dim = input_shape\n",
        "        self.width = int(tf.floor(self.input_dim[2]/4.0))\n",
        "        self.height = int(tf.floor(self.input_dim[1]/3.0))\n",
        "        super(CxD2NNMNISTDetector, self).build(input_shape)\n",
        "\n",
        "    def plot_area(self, input_shape):\n",
        "        width = int(tf.floor(input_shape[1]/4.0))\n",
        "        height = int(tf.floor(input_shape[0]/3.0))\n",
        "        x = np.zeros(input_shape)\n",
        "        x[0:height-1, 0:width-1] = 1\n",
        "        x[0:height-1, width:width*2-1] = 2\n",
        "        x[0:height-1, width*2:width*3-1] = 3\n",
        "        x[height:height*2-1, 0:width-1] = 4\n",
        "        x[height:height*2-1, width:width*2-1] = 5\n",
        "        x[height:height*2-1, width*2:width*3-1] = 6\n",
        "        x[height:height*2-1, width*3:width*4-1] = 7\n",
        "        x[height*2:height*3-1, 0:width-1] = 8\n",
        "        x[height*2:height*3-1, width:width*2-1] = 9\n",
        "        x[height*2:height*3-1, width*2:width*3-1] = 10\n",
        "        plt.imshow(x)\n",
        "\n",
        "    def call(self, x, **kwargs):\n",
        "        y0 = x[:, 0:self.height-1, 0:self.width-1]\n",
        "        y1 = x[:, 0:self.height-1, self.width:self.width*2-1]\n",
        "        y2 = x[:, 0:self.height-1, self.width*2:self.width*3-1]\n",
        "        y3 = x[:, self.height:self.height*2-1, 0:self.width-1]\n",
        "        y4 = x[:, self.height:self.height*2-1, self.width:self.width*2-1]\n",
        "        y5 = x[:, self.height:self.height*2-1, self.width*2:self.width*3-1]\n",
        "        y6 = x[:, self.height:self.height*2-1, self.width*3:self.width*4-1]\n",
        "        y7 = x[:, self.height*2:self.height*3-1, 0:self.width-1]\n",
        "        y8 = x[:, self.height*2:self.height*3-1, self.width:self.width*2-1]\n",
        "        y9 = x[:, self.height*2:self.height*3-1, self.width*2:self.width*3-1]\n",
        "        y0 = tf.reduce_sum(y0, axis=[1])\n",
        "        y0 = tf.reduce_sum(y0, axis=[1], keepdims=True)\n",
        "        y1 = tf.reduce_sum(y1, axis=[1])\n",
        "        y1 = tf.reduce_sum(y1, axis=[1], keepdims=True)\n",
        "        y2 = tf.reduce_sum(y2, axis=[1])\n",
        "        y2 = tf.reduce_sum(y2, axis=[1], keepdims=True)\n",
        "        y3 = tf.reduce_sum(y3, axis=[1])\n",
        "        y3 = tf.reduce_sum(y3, axis=[1], keepdims=True)\n",
        "        y4 = tf.reduce_sum(y4, axis=[1])\n",
        "        y4 = tf.reduce_sum(y4, axis=[1], keepdims=True)\n",
        "        y5 = tf.reduce_sum(y5, axis=[1])\n",
        "        y5 = tf.reduce_sum(y5, axis=[1], keepdims=True)\n",
        "        y6 = tf.reduce_sum(y6, axis=[1])\n",
        "        y6 = tf.reduce_sum(y6, axis=[1], keepdims=True)\n",
        "        y7 = tf.reduce_sum(y7, axis=[1])\n",
        "        y7 = tf.reduce_sum(y7, axis=[1], keepdims=True)\n",
        "        y8 = tf.reduce_sum(y8, axis=[1])\n",
        "        y8 = tf.reduce_sum(y8, axis=[1], keepdims=True)\n",
        "        y9 = tf.reduce_sum(y9, axis=[1])\n",
        "        y9 = tf.reduce_sum(y9, axis=[1], keepdims=True)\n",
        "        y = tf.keras.layers.concatenate([y0, y1, y2, y3, y4, y5, y6, y7, y8, y9])\n",
        "\n",
        "        if self.activation == 'softmax':\n",
        "            y = tf.nn.softmax(y)\n",
        "        return y"
      ],
      "execution_count": 6,
      "outputs": []
    },
    {
      "cell_type": "code",
      "metadata": {
        "pycharm": {
          "name": "#%%\n"
        },
        "id": "8nG7x1gC5FrO"
      },
      "source": [
        "class CxD2NNIntensity(tf.keras.layers.Layer):\n",
        "    def __init__(self, output_dim, normalization='min_max', **kwargs):\n",
        "        super(CxD2NNIntensity, self).__init__(**kwargs)\n",
        "        self.output_dim = output_dim\n",
        "        self.normalization = normalization\n",
        "\n",
        "    def call(self, x, **kwargs):\n",
        "        real = Lambda(lambda x: x[:, 0, :, :])(x)\n",
        "        image = Lambda(lambda x: x[:, 1, :, :])(x)\n",
        "        intensity = tf.sqrt(real ** 2 + image ** 2)\n",
        "        if self.normalization == 'min_max':\n",
        "            max = tf.reduce_max(intensity)\n",
        "            min = tf.reduce_min(intensity)\n",
        "            intensity = (intensity - min)/(max - min)\n",
        "        return intensity"
      ],
      "execution_count": 7,
      "outputs": []
    },
    {
      "cell_type": "code",
      "metadata": {
        "pycharm": {
          "name": "#%%\n"
        },
        "id": "lxULgByU5FrO"
      },
      "source": [
        "class MOD2NN(tf.keras.Model):\n",
        "    def __init__(self):\n",
        "        super(MOD2NN, self).__init__()\n",
        "        self.l = 633e-9\n",
        "        self.k = 2 * np.pi / self.l\n",
        "        self.d = 1e-6\n",
        "        self.mo1 = CxMO((28, 28))\n",
        "        self.propag1 = FreeSpacePropagation((28, 28), self.d, 2e-3, self.k)\n",
        "        self.mo2 = CxMO((28, 28))\n",
        "        self.prooag2 = FreeSpacePropagation((1, 10), self.d*2, 1e-9, self.k)\n",
        "\n",
        "    def call(self, x):\n",
        "        x = self.mo1(inputs)\n",
        "        x = self.propag1(x)\n",
        "        x = self.mo2(x)\n",
        "        x = self.prooag2(x)\n",
        "        x = tf.nn.softmax(x[0,:,:])\n",
        "\n",
        "        return x"
      ],
      "execution_count": 8,
      "outputs": []
    },
    {
      "cell_type": "code",
      "metadata": {
        "pycharm": {
          "name": "#%%\n"
        },
        "id": "KDVIT-b55FrP"
      },
      "source": [
        "def loss(y_hat, y):\n",
        "    return tf.nn.sparse_softmax_cross_entropy_with_logits(labels=y_hat, logits=y)"
      ],
      "execution_count": 9,
      "outputs": []
    },
    {
      "cell_type": "code",
      "metadata": {
        "pycharm": {
          "name": "#%%\n"
        },
        "id": "2nIoyHqA5FrP",
        "colab": {
          "base_uri": "https://localhost:8080/"
        },
        "outputId": "ae94d636-998f-4979-f553-ff5a8c77352f"
      },
      "source": [
        "mnist = tf.keras.datasets.mnist\n",
        "\n",
        "(x_train, y_train), (x_test, y_test) = mnist.load_data()\n",
        "x_train = x_train/255.0\n",
        "x_test = x_test/255.0"
      ],
      "execution_count": 10,
      "outputs": [
        {
          "output_type": "stream",
          "name": "stdout",
          "text": [
            "Downloading data from https://storage.googleapis.com/tensorflow/tf-keras-datasets/mnist.npz\n",
            "11493376/11490434 [==============================] - 0s 0us/step\n",
            "11501568/11490434 [==============================] - 0s 0us/step\n"
          ]
        }
      ]
    },
    {
      "cell_type": "code",
      "metadata": {
        "pycharm": {
          "name": "#%%\n"
        },
        "id": "s0rXpHct5FrP"
      },
      "source": [
        "l = 633e-9\n",
        "k = 2 * np.pi / l\n",
        "d = 1e-6\n"
      ],
      "execution_count": 11,
      "outputs": []
    },
    {
      "cell_type": "code",
      "metadata": {
        "pycharm": {
          "name": "#%%\n"
        },
        "id": "q3AL8cKI5FrP",
        "colab": {
          "base_uri": "https://localhost:8080/",
          "height": 265
        },
        "outputId": "837b0156-f974-48ea-84d3-45a445479436"
      },
      "source": [
        "\n",
        "detector = CxD2NNMNISTDetector(10)\n",
        "detector.plot_area((28, 28))"
      ],
      "execution_count": 12,
      "outputs": [
        {
          "output_type": "display_data",
          "data": {
            "image/png": "[encoded data removed]",
            "text/plain": [
              "<Figure size 432x288 with 1 Axes>"
            ]
          },
          "metadata": {
            "needs_background": "light"
          }
        }
      ]
    },
    {
      "cell_type": "code",
      "metadata": {
        "pycharm": {
          "name": "#%%\n"
        },
        "id": "NiKvMSZo5FrQ",
        "colab": {
          "base_uri": "https://localhost:8080/"
        },
        "outputId": "d4c658b4-ee4d-45c2-ed55-9c2a2e64210e"
      },
      "source": [
        "inputs = keras.Input((28,28))\n",
        "x = InputToCx((28, 28))(inputs)\n",
        "x = CxMO((28, 28))(x)\n",
        "x = FreeSpacePropagation((28, 28), k, 1e-3, output_pitch=1e-6)(x)\n",
        "x = CxD2NNIntensity((28, 28), normalization='min_max')(x)\n",
        "x = CxD2NNMNISTDetector(10, activation='softmax')(x)\n",
        "model = tf.keras.Model(inputs, x)\n",
        "model.summary()\n",
        "model.compile(optimizer='adam', loss='sparse_categorical_crossentropy', metrics=['accuracy'])\n",
        "#result = model.fit(x_train, y_train, batch_size=64, epochs=10)"
      ],
      "execution_count": 129,
      "outputs": [
        {
          "output_type": "stream",
          "name": "stdout",
          "text": [
            "Model: \"model_27\"\n",
            "_________________________________________________________________\n",
            " Layer (type)                Output Shape              Param #   \n",
            "=================================================================\n",
            " input_19 (InputLayer)       [(None, 28, 28)]          0         \n",
            "                                                                 \n",
            " input_to_cx_18 (InputToCx)  (None, 2, 28, 28)         0         \n",
            "                                                                 \n",
            " cx_mo_18 (CxMO)             (None, 2, 28, 28)         784       \n",
            "                                                                 \n",
            " free_space_propagation_16 (  (None, 2, 28, 28)        1229312   \n",
            " FreeSpacePropagation)                                           \n",
            "                                                                 \n",
            " cx_d2nn_intensity_15 (CxD2N  (None, 28, 28)           0         \n",
            " NIntensity)                                                     \n",
            "                                                                 \n",
            " cx_d2nnmnist_detector_15 (C  (None, 10)               0         \n",
            " xD2NNMNISTDetector)                                             \n",
            "                                                                 \n",
            "=================================================================\n",
            "Total params: 1,230,096\n",
            "Trainable params: 784\n",
            "Non-trainable params: 1,229,312\n",
            "_________________________________________________________________\n"
          ]
        },
        {
          "output_type": "stream",
          "name": "stderr",
          "text": [
            "/usr/local/lib/python3.7/dist-packages/ipykernel_launcher.py:11: UserWarning: `layer.add_variable` is deprecated and will be removed in a future version. Please use `layer.add_weight` method instead.\n",
            "  # This is added back by InteractiveShellApp.init_path()\n"
          ]
        }
      ]
    },
    {
      "cell_type": "code",
      "metadata": {
        "colab": {
          "base_uri": "https://localhost:8080/",
          "height": 427
        },
        "id": "Psxg1H6WiyKn",
        "outputId": "eb7a40f5-502a-4285-d12f-68527ec2e7e2"
      },
      "source": [
        "fig = plt.figure(figsize=(6, 6))\n",
        "ax1 = fig.add_subplot(111)\n",
        "ax2 = ax1.twinx()\n",
        "ax1.plot(range(1, 11), result.history['loss'], color='black', label='Loss')\n",
        "ax1.set_ylabel('Loss')\n",
        "ax1.set_xlabel('epoch')\n",
        "ax2.plot(range(1, 11), result.history['accuracy'], color='red', label='Accuracy')\n",
        "ax2.set_ylabel('Accuracy')\n",
        "# label1と2には、凡例用に各labelのリスト情報が入る\n",
        "handler1, label1 = ax1.get_legend_handles_labels()\n",
        "handler2, label2 = ax2.get_legend_handles_labels()\n",
        "# 凡例をまとめて出力する\n",
        "ax1.legend(handler1 + handler2, label1 + label2, loc=2, borderaxespad=0.)"
      ],
      "execution_count": 126,
      "outputs": [
        {
          "output_type": "execute_result",
          "data": {
            "text/plain": [
              "<matplotlib.legend.Legend at 0x7f79b76d2210>"
            ]
          },
          "metadata": {},
          "execution_count": 126
        },
        {
          "output_type": "display_data",
          "data": {
            "image/png": "[encoded data removed]",
            "text/plain": [
              "<Figure size 432x432 with 2 Axes>"
            ]
          },
          "metadata": {
            "needs_background": "light"
          }
        }
      ]
    },
    {
      "cell_type": "code",
      "metadata": {
        "pycharm": {
          "name": "#%%\n"
        },
        "id": "DGEbdfFx5FrQ",
        "outputId": "2bec12d3-0ffd-46b1-d7a9-1567bcb046b5"
      },
      "source": [
        "plt.imshow(x_train[2,:,:])\n",
        "out = model.predict(np.array([x_train[2,:,:]]))\n",
        "out"
      ],
      "execution_count": null,
      "outputs": [
        {
          "data": {
            "text/plain": "array([[0.04593584, 0.01391635, 0.01915953, 0.03928459, 0.10830791,\n        0.3538724 , 0.00767871, 0.07761943, 0.06080932, 0.27341592]],\n      dtype=float32)"
          },
          "execution_count": 98,
          "metadata": {},
          "output_type": "execute_result"
        },
        {
          "data": {
            "text/plain": "<Figure size 432x288 with 1 Axes>",
            "image/png": "[encoded data removed]"
          },
          "metadata": {
            "needs_background": "light"
          },
          "output_type": "display_data"
        }
      ]
    },
    {
      "cell_type": "code",
      "metadata": {
        "pycharm": {
          "name": "#%%\n"
        },
        "id": "zGBtRuwC5FrQ"
      },
      "source": [
        "layer_name = 'cx_d2nn_intensity_15'\n",
        "hidden_layer_model = tf.keras.Model(inputs=model.input, outputs=model.get_layer(layer_name).output)"
      ],
      "execution_count": 131,
      "outputs": []
    },
    {
      "cell_type": "code",
      "metadata": {
        "pycharm": {
          "name": "#%%\n"
        },
        "id": "MM6fAIqU5FrQ",
        "colab": {
          "base_uri": "https://localhost:8080/",
          "height": 712
        },
        "outputId": "4b0ecfa9-fbfd-4118-efac-a75753213876"
      },
      "source": [
        "num = 5\n",
        "images = x_train[0:num,:,:]\n",
        "\n",
        "fig, axes = plt.subplots(num, 3, figsize=(7,10))\n",
        "for i in range(num):\n",
        "  hidden_out = hidden_layer_model.predict(np.array([images[i,:,:]]))\n",
        "  pred = model.predict(np.array([image[i,:,:]]))\n",
        "  axes[i,0].imshow(images[i,:,:])\n",
        "  axes[i,1].imshow(hidden_out[0, :, :])\n",
        "  axes[i,2].bar(np.arange(0, 10, 1), pred[0,:], align='center')\n",
        "  axes[i,2].set_xticks(np.arange(0, 10, 1))\n",
        "  #axes[i,2].set_ylabel('Relative value')\n",
        "fig.tight_layout()"
      ],
      "execution_count": 132,
      "outputs": [
        {
          "output_type": "display_data",
          "data": {
            "image/png": "[encoded data removed]",
            "text/plain": [
              "<Figure size 504x720 with 15 Axes>"
            ]
          },
          "metadata": {
            "needs_background": "light"
          }
        }
      ]
    },
    {
      "cell_type": "code",
      "metadata": {
        "colab": {
          "base_uri": "https://localhost:8080/"
        },
        "id": "8cIn6R0F7qHN",
        "outputId": "515c1e05-3143-413c-b8fe-156ef26ed37d"
      },
      "source": [
        "inputs = tf.keras.Input((28, 28))\n",
        "x = InputToCx((28, 28))(inputs)\n",
        "x = CxMO((28, 28))(x)\n",
        "x = FreeSpacePropagation((28, 28), k, 1e-4)(x)\n",
        "x = CxD2NNIntensity((28, 28))(x)\n",
        "model = tf.keras.Model(inputs, x)\n",
        "model.summary()"
      ],
      "execution_count": 67,
      "outputs": [
        {
          "output_type": "stream",
          "name": "stdout",
          "text": [
            "Model: \"model_10\"\n",
            "_________________________________________________________________\n",
            " Layer (type)                Output Shape              Param #   \n",
            "=================================================================\n",
            " input_8 (InputLayer)        [(None, 28, 28)]          0         \n",
            "                                                                 \n",
            " input_to_cx_7 (InputToCx)   (None, 2, 28, 28)         0         \n",
            "                                                                 \n",
            " cx_mo_7 (CxMO)              (None, 2, 28, 28)         784       \n",
            "                                                                 \n",
            " free_space_propagation_5 (F  (None, 2, 28, 28)        1229312   \n",
            " reeSpacePropagation)                                            \n",
            "                                                                 \n",
            " cx_d2nn_intensity_4 (CxD2NN  (None, 28, 28)           0         \n",
            " Intensity)                                                      \n",
            "                                                                 \n",
            "=================================================================\n",
            "Total params: 1,230,096\n",
            "Trainable params: 784\n",
            "Non-trainable params: 1,229,312\n",
            "_________________________________________________________________\n"
          ]
        },
        {
          "output_type": "stream",
          "name": "stderr",
          "text": [
            "/usr/local/lib/python3.7/dist-packages/ipykernel_launcher.py:11: UserWarning: `layer.add_variable` is deprecated and will be removed in a future version. Please use `layer.add_weight` method instead.\n",
            "  # This is added back by InteractiveShellApp.init_path()\n"
          ]
        }
      ]
    },
    {
      "cell_type": "code",
      "metadata": {
        "colab": {
          "base_uri": "https://localhost:8080/",
          "height": 293
        },
        "id": "YrhuQnbE8IvG",
        "outputId": "2181b753-01fe-4f8a-fb9a-3d25140cb935"
      },
      "source": [
        "out = model.predict(np.array([x_train[0, :, :]]))\n",
        "plt.imshow(out[0,:,:])"
      ],
      "execution_count": 68,
      "outputs": [
        {
          "output_type": "execute_result",
          "data": {
            "text/plain": [
              "<matplotlib.image.AxesImage at 0x7f79c6a51bd0>"
            ]
          },
          "metadata": {},
          "execution_count": 68
        },
        {
          "output_type": "display_data",
          "data": {
            "image/png": "[encoded data removed]",
            "text/plain": [
              "<Figure size 432x288 with 1 Axes>"
            ]
          },
          "metadata": {
            "needs_background": "light"
          }
        }
      ]
    },
    {
      "cell_type": "code",
      "metadata": {
        "colab": {
          "base_uri": "https://localhost:8080/",
          "height": 293
        },
        "id": "cDsxkRIZo2H1",
        "outputId": "537821f9-8319-4e9a-8cc6-f817b85d2ebe"
      },
      "source": [
        "width = int(tf.floor(28/4.0))\n",
        "height = int(tf.floor(28/3.0))\n",
        "x = np.zeros((28, 28))\n",
        "x[0:height-1, 0:width-1] = 10\n",
        "x[0:height-1, width:width*2-1] = 10\n",
        "x[0:height-1, width*2:width*3-1] = 10\n",
        "x[height:height*2-1, 0:width-1] = 10\n",
        "x[height:height*2-1, width:width*2-1] = 10\n",
        "x[height:height*2-1, width*2:width*3-1] = 10\n",
        "x[height:height*2-1, width*3:width*4-1] = 10\n",
        "x[height*2:height*3-1, 0:width-1] = 10\n",
        "x[height*2:height*3-1, width:width*2-1] = 10\n",
        "x[height*2:height*3-1, width*2:width*3-1] = 10\n",
        "alpha = 0.7\n",
        "plt.imshow(out[0,:,:], alpha=alpha)\n",
        "plt.imshow(x, alpha=1-alpha)"
      ],
      "execution_count": 80,
      "outputs": [
        {
          "output_type": "execute_result",
          "data": {
            "text/plain": [
              "<matplotlib.image.AxesImage at 0x7f79c6a51c90>"
            ]
          },
          "metadata": {},
          "execution_count": 80
        },
        {
          "output_type": "display_data",
          "data": {
            "image/png": "[encoded data removed]",
            "text/plain": [
              "<Figure size 432x288 with 1 Axes>"
            ]
          },
          "metadata": {
            "needs_background": "light"
          }
        }
      ]
    },
    {
      "cell_type": "code",
      "metadata": {
        "id": "DEFHBCbuMuJ6",
        "outputId": "49957d02-417e-49bc-ccab-41725ee94a90",
        "colab": {
          "base_uri": "https://localhost:8080/",
          "height": 282
        }
      },
      "source": [
        "x = np.zeros((28, 28))\n",
        "x[0:9, 0:7] = 1\n",
        "plt.imshow(x)"
      ],
      "execution_count": 6,
      "outputs": [
        {
          "output_type": "execute_result",
          "data": {
            "text/plain": [
              "<matplotlib.image.AxesImage at 0x7f0281e58b10>"
            ]
          },
          "metadata": {},
          "execution_count": 6
        },
        {
          "output_type": "display_data",
          "data": {
            "image/png": "[encoded data removed]",
            "text/plain": [
              "<Figure size 432x288 with 1 Axes>"
            ]
          },
          "metadata": {
            "needs_background": "light"
          }
        }
      ]
    }
  ]
}