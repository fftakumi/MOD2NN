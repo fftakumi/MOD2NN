{
 "cells": [
  {
   "cell_type": "code",
   "execution_count": 1,
   "metadata": {
    "colab": {
     "base_uri": "https://localhost:8080/"
    },
    "collapsed": true,
    "id": "3jmBkPqV5FrH",
    "outputId": "cdd231d8-b289-4374-b03c-10fcc806ff40"
   },
   "outputs": [
    {
     "name": "stdout",
     "output_type": "stream",
     "text": [
      "TensorFlow: 2.0.0\n",
      "Python: 3.6.13 |Anaconda, Inc.| (default, Feb 23 2021, 12:58:59) \n",
      "[GCC Clang 10.0.0 ]\n",
      "OpenCV: 3.4.2\n"
     ]
    }
   ],
   "source": [
    "import tensorflow as tf\n",
    "from tensorflow import keras\n",
    "from tensorflow.keras.callbacks import EarlyStopping\n",
    "from tensorflow.keras.layers import Lambda\n",
    "import numpy as np\n",
    "import matplotlib.pyplot as plt\n",
    "import cv2\n",
    "import pandas as pd\n",
    "import sys\n",
    "\n",
    "print(\"TensorFlow:\", tf.__version__)\n",
    "print(\"Python:\", sys.version)\n",
    "print(\"OpenCV:\", cv2.__version__)\n",
    "\n",
    "plt.rcParams['font.size'] = 18"
   ]
  },
  {
   "cell_type": "markdown",
   "metadata": {},
   "source": [
    "shape : ((rcp or lcp), (real, image), width, height)"
   ]
  },
  {
   "cell_type": "code",
   "execution_count": 2,
   "metadata": {
    "id": "XHZMEAtt5FrK",
    "pycharm": {
     "name": "#%%\n"
    }
   },
   "outputs": [],
   "source": [
    "class InputToCx(tf.keras.layers.Layer):\n",
    "    def __init__(self, output_dim):\n",
    "        super(InputToCx, self).__init__()\n",
    "        self.output_dim = output_dim\n",
    "\n",
    "    def call(self, inputs, **kwargs):\n",
    "        rcp_real = inputs * tf.cos(0.0)\n",
    "        rcp_imag = inputs * tf.sin(0.0)\n",
    "        rcp = (1.0 / 2.0) * tf.stack([rcp_real, rcp_imag], axis=1)\n",
    "\n",
    "        lcp_real = inputs * tf.cos(0.0)\n",
    "        lcp_imag = inputs * tf.sin(0.0)\n",
    "        lcp = (1.0 / 2.0) * tf.stack([lcp_real, lcp_imag], axis=1)\n",
    "        return tf.stack([rcp, lcp], axis=1)"
   ]
  },
  {
   "cell_type": "code",
   "execution_count": 3,
   "metadata": {
    "id": "BtQrEn-p5FrM",
    "pycharm": {
     "name": "#%%\n"
    }
   },
   "outputs": [],
   "source": [
    "class CxMO(tf.keras.layers.Layer):\n",
    "    def __init__(self, output_dim):\n",
    "        super(CxMO, self).__init__()\n",
    "        self.output_dim = output_dim\n",
    "\n",
    "    # input[0,:,:] = real\n",
    "    # input[1,:,:] = image\n",
    "    def build(self, input_dim):\n",
    "        self.phi = self.add_variable(\"phi\",\n",
    "                                     shape=[int(input_dim[-2]),\n",
    "                                            int(input_dim[-1])])\n",
    "\n",
    "        super(CxMO, self).build(input_dim)\n",
    "\n",
    "    def call(self, x):\n",
    "        x_rcp_real = Lambda(lambda x: x[:, 0, 0, :, :], output_shape=self.output_dim)(x)  # rcp real\n",
    "        x_rcp_imag = Lambda(lambda x: x[:, 0, 1, :, :], output_shape=self.output_dim)(x)  # rcp image\n",
    "\n",
    "        x_lcp_real = Lambda(lambda x: x[:, 1, 0, :, :], output_shape=self.output_dim)(x)  # lcp real\n",
    "        x_lcp_imag = Lambda(lambda x: x[:, 1, 1, :, :], output_shape=self.output_dim)(x)  # lcp image\n",
    "\n",
    "        mo_real = tf.cos(self.phi)\n",
    "        mo_imag = tf.sin(self.phi)\n",
    "\n",
    "        rcp_real = x_rcp_real * mo_real - x_rcp_imag * mo_imag\n",
    "        rcp_imag = x_rcp_real * mo_imag + x_rcp_imag * mo_real\n",
    "\n",
    "        lcp_real = x_lcp_real * mo_real - x_lcp_imag * mo_imag\n",
    "        lcp_imag = x_lcp_real * mo_imag + x_lcp_imag * mo_real\n",
    "\n",
    "        rcp = tf.stack([rcp_real, rcp_imag], axis=1)\n",
    "        lcp = tf.stack([lcp_real, lcp_imag], axis=1)\n",
    "\n",
    "        cmpx = tf.stack([rcp, lcp], axis=1)\n",
    "        return cmpx"
   ]
  },
  {
   "cell_type": "code",
   "execution_count": 4,
   "metadata": {
    "id": "RTiCLsir5FrN",
    "pycharm": {
     "name": "#%%\n"
    }
   },
   "outputs": [],
   "source": [
    "class FreeSpacePropagation(tf.keras.layers.Layer):\n",
    "    def __init__(self, output_dim, k, z, input_pitch=1e-6, output_pitch=1e-6, normalization=None):\n",
    "        super(FreeSpacePropagation, self).__init__()\n",
    "        self.output_dim = output_dim\n",
    "        self.input_pitch = input_pitch\n",
    "        self.output_pitch = output_pitch\n",
    "        self.z = z\n",
    "        self.k = k\n",
    "        self.normalization = normalization\n",
    "\n",
    "    def build(self, input_shape):\n",
    "        x1 = np.arange(0, input_shape[-1], 1)\n",
    "        y1 = np.arange(0, input_shape[-2], 1)\n",
    "        xx1, yy1 = np.meshgrid(x1, y1)\n",
    "        xx1 = xx1.reshape(-1, 1) - input_shape[-1] / 2\n",
    "        yy1 = yy1.reshape(-1, 1) - input_shape[-2] / 2\n",
    "\n",
    "        x2 = np.arange(0, self.output_dim[1], 1)\n",
    "        y2 = np.arange(0, self.output_dim[0], 1)\n",
    "        xx2, yy2 = np.meshgrid(x2, y2)\n",
    "        xx2 = xx2.reshape(1, -1) - self.output_dim[1] / 2\n",
    "        yy2 = yy2.reshape(1, -1) - self.output_dim[0] / 2\n",
    "\n",
    "        dx = (self.output_pitch * xx2 - self.input_pitch * xx1)\n",
    "        dy = (self.output_pitch * yy2 - self.input_pitch * yy1)\n",
    "        r = np.sqrt(dx ** 2 + dy ** 2 + self.z ** 2)\n",
    "        w = 1 / (2 * np.pi) * self.z / r * (1 / r - 1j * self.k) * np.exp(1j * self.k * r)\n",
    "\n",
    "        self.w_real = tf.Variable(initial_value=w.real.astype('float32'),\n",
    "                                  trainable=False)\n",
    "        self.w_imag = tf.Variable(initial_value=w.imag.astype('float32'),\n",
    "                                  trainable=False)\n",
    "\n",
    "        super(FreeSpacePropagation, self).build(input_shape)\n",
    "\n",
    "    def call(self, x, **kwargs):\n",
    "        x_rcp_real = Lambda(lambda x: x[:, 0, 0, :, :], output_shape=(self.output_dim,))(x)\n",
    "        x_rcp_imag = Lambda(lambda x: x[:, 0, 1, :, :], output_shape=(self.output_dim,))(x)\n",
    "        x_lcp_real = Lambda(lambda x: x[:, 1, 0, :, :], output_shape=(self.output_dim,))(x)\n",
    "        x_lcp_imag = Lambda(lambda x: x[:, 1, 1, :, :], output_shape=(self.output_dim,))(x)\n",
    "\n",
    "        x_rcp_real = tf.reshape(x_rcp_real, (-1, x.shape[-1] * x.shape[-2]))\n",
    "        x_rcp_imag = tf.reshape(x_rcp_imag, (-1, x.shape[-1] * x.shape[-2]))\n",
    "        x_lcp_real = tf.reshape(x_lcp_real, (-1, x.shape[-1] * x.shape[-2]))\n",
    "        x_lcp_imag = tf.reshape(x_lcp_imag, (-1, x.shape[-1] * x.shape[-2]))\n",
    "\n",
    "        rcp_real = tf.matmul(x_rcp_real, self.w_real) - tf.matmul(x_rcp_imag, self.w_imag)\n",
    "        rcp_imag = tf.matmul(x_rcp_imag, self.w_real) - tf.matmul(x_rcp_real, self.w_imag)\n",
    "        lcp_real = tf.matmul(x_lcp_real, self.w_real) - tf.matmul(x_lcp_imag, self.w_imag)\n",
    "        lcp_imag = tf.matmul(x_lcp_imag, self.w_real) - tf.matmul(x_lcp_real, self.w_imag)\n",
    "\n",
    "        rcp_real = tf.reshape(rcp_real, (-1, self.output_dim[0], self.output_dim[1]))\n",
    "        rcp_imag = tf.reshape(rcp_imag, (-1, self.output_dim[0], self.output_dim[1]))\n",
    "        lcp_real = tf.reshape(lcp_real, (-1, self.output_dim[0], self.output_dim[1]))\n",
    "        lcp_imag = tf.reshape(lcp_imag, (-1, self.output_dim[0], self.output_dim[1]))\n",
    "\n",
    "        rcp = tf.stack([rcp_real, rcp_imag], axis=1)\n",
    "        lcp = tf.stack([lcp_real, lcp_imag], axis=1)\n",
    "\n",
    "        cmpx = tf.stack([rcp, lcp], axis=1)\n",
    "\n",
    "        if self.normalization == 'max':\n",
    "            absmax = tf.reduce_max(tf.abs(cmpx))\n",
    "            cmpx = cmpx / absmax\n",
    "\n",
    "        return cmpx\n"
   ]
  },
  {
   "cell_type": "code",
   "execution_count": 5,
   "metadata": {
    "id": "8nG7x1gC5FrO",
    "pycharm": {
     "name": "#%%\n"
    }
   },
   "outputs": [],
   "source": [
    "class CxD2NNIntensity(tf.keras.layers.Layer):\n",
    "    def __init__(self, output_dim, normalization='max', **kwargs):\n",
    "        super(CxD2NNIntensity, self).__init__(**kwargs)\n",
    "        self.output_dim = output_dim\n",
    "        self.normalization = normalization\n",
    "\n",
    "    def call(self, x, **kwargs):\n",
    "        x_rcp_real = Lambda(lambda x: x[:,0, 0, :, :])(x)\n",
    "        x_rcp_imag = Lambda(lambda x: x[:,0, 1, :, :])(x)\n",
    "        x_lcp_real = Lambda(lambda x: x[:,1, 0, :, :])(x)\n",
    "        x_lcp_imag = Lambda(lambda x: x[:,1, 1, :, :])(x)\n",
    "        i_rcp = tf.sqrt(x_rcp_real ** 2 + x_rcp_imag ** 2)\n",
    "        i_lcp = tf.sqrt(x_lcp_real ** 2 + x_lcp_imag ** 2)\n",
    "        intensity = (i_rcp + i_lcp) / 2\n",
    "        if self.normalization == 'min_max':\n",
    "            max = tf.reduce_max(intensity)\n",
    "            min = tf.reduce_min(intensity)\n",
    "            intensity = (intensity - min) / (max - min)\n",
    "        elif self.normalization == 'max':\n",
    "            max = tf.reduce_max(intensity)\n",
    "            intensity = intensity / max\n",
    "\n",
    "        return intensity"
   ]
  },
  {
   "cell_type": "code",
   "execution_count": 6,
   "metadata": {
    "pycharm": {
     "name": "#%%\n"
    }
   },
   "outputs": [],
   "source": [
    "class CxD2NNEllipticity(tf.keras.layers.Layer):\n",
    "    def __init__(self, output_dim, **kwargs):\n",
    "        super(CxD2NNEllipticity, self).__init__(**kwargs)\n",
    "        self.output_dim = output_dim\n",
    "\n",
    "    def call(self, x, **kwargs):\n",
    "        x_rcp_real = Lambda(lambda x: x[:,0, 0, :, :])(x)\n",
    "        x_rcp_imag = Lambda(lambda x: x[:,0, 1, :, :])(x)\n",
    "        x_lcp_real = Lambda(lambda x: x[:,1, 0, :, :])(x)\n",
    "        x_lcp_imag = Lambda(lambda x: x[:,1, 1, :, :])(x)\n",
    "        i_rcp = tf.sqrt(x_rcp_real ** 2 + x_rcp_imag ** 2)\n",
    "        i_lcp = tf.sqrt(x_lcp_real ** 2 + x_lcp_imag ** 2)\n",
    "        ellipticity = (i_rcp - i_lcp)/(i_rcp + i_lcp)\n",
    "\n",
    "        return ellipticity"
   ]
  },
  {
   "cell_type": "code",
   "execution_count": 11,
   "outputs": [],
   "source": [
    "class CxD2NNFarraday(tf.keras.layers.Layer):\n",
    "    def __init__(self, output_dim, **kwargs):\n",
    "        super(CxD2NNFarraday, self).__init__(**kwargs)\n",
    "        self.output_dim = output_dim\n",
    "\n",
    "    def call(self, x, **kwargs):\n",
    "        x_rcp_real = Lambda(lambda x: x[:,0, 0, :, :])(x)\n",
    "        x_rcp_imag = Lambda(lambda x: x[:,0, 1, :, :])(x)\n",
    "        x_lcp_real = Lambda(lambda x: x[:,1, 0, :, :])(x)\n",
    "        x_lcp_imag = Lambda(lambda x: x[:,1, 1, :, :])(x)\n",
    "        a = tf.sqrt(x_rcp_real**2 + x_rcp_imag**2) + tf.sqrt(x_lcp_real**2 + x_lcp_imag**2)\n",
    "        b = tf.sqrt(x_rcp_real**2 + x_rcp_imag**2) - tf.sqrt(x_lcp_real**2 + x_lcp_imag**2)\n",
    "        r = tf.sqrt((x_rcp_real + x_lcp_real)**2 + (x_rcp_imag + x_lcp_imag)**2)\n",
    "        theta = tf.asin(tf.sqrt(a**2 * b**2 / ((a**2 + b**2) * r**2) - b**2 / (a**2 + b**2))) - tf.asin(-(x_rcp_real + x_rcp_real) / r)\n",
    "\n",
    "        return theta"
   ],
   "metadata": {
    "collapsed": false,
    "pycharm": {
     "name": "#%%\n"
    }
   }
  },
  {
   "cell_type": "code",
   "execution_count": 8,
   "metadata": {
    "pycharm": {
     "name": "#%%\n"
    }
   },
   "outputs": [],
   "source": [
    "class CxD2NNMNISTDetector(tf.keras.layers.Layer):\n",
    "    def __init__(self, output_dim, activation=None, **kwargs):\n",
    "        super(CxD2NNMNISTDetector, self).__init__(**kwargs)\n",
    "        self.output_dim = output_dim\n",
    "        self.activation = activation\n",
    "\n",
    "    def build(self, input_shape):\n",
    "        self.input_dim = input_shape\n",
    "        self.width = min(int(tf.floor(self.input_dim[2] / 9.0)), int(tf.floor(self.input_dim[1] / 7.0)))\n",
    "        self.height = min(int(tf.floor(self.input_dim[2] / 9.0)), int(tf.floor(self.input_dim[1] / 7.0)))\n",
    "        super(CxD2NNMNISTDetector, self).build(input_shape)\n",
    "\n",
    "    def plot_area(self, input_shape, same_color=False):\n",
    "        width = min(int(np.floor(input_shape[1] / 9.0)), int(np.floor(input_shape[0] / 7.0)))\n",
    "        height = min(int(np.floor(input_shape[1] / 9.0)), int(np.floor(input_shape[0] / 7.0)))\n",
    "        x = np.zeros(input_shape)\n",
    "        if same_color:\n",
    "            x[2 * height:3 * height, width:2 * width] = 1\n",
    "            x[2 * height:3 * height, 4 * width:5 * width] = 1\n",
    "            x[2 * height:3 * height, 7 * width:8 * width] = 1\n",
    "            x[4 * height:5 * height, 1 * width:2 * width] = 1\n",
    "            x[4 * height:5 * height, 3 * width:4 * width] = 1\n",
    "            x[4 * height:5 * height, 5 * width:6 * width] = 1\n",
    "            x[4 * height:5 * height, 7 * width:8 * width] = 1\n",
    "            x[6 * height:7 * height, width:2 * width] = 1\n",
    "            x[6 * height:7 * height, 4 * width:5 * width] = 1\n",
    "            x[6 * height:7 * height, 7 * width:8 * width] = 1\n",
    "        else:\n",
    "            x[2 * height:3 * height, width:2 * width] = 1\n",
    "            x[2 * height:3 * height, 4 * width:5 * width] = 2\n",
    "            x[2 * height:3 * height, 7 * width:8 * width] = 3\n",
    "            x[4 * height:5 * height, 1 * width:2 * width] = 4\n",
    "            x[4 * height:5 * height, 3 * width:4 * width] = 5\n",
    "            x[4 * height:5 * height, 5 * width:6 * width] = 6\n",
    "            x[4 * height:5 * height, 7 * width:8 * width] = 7\n",
    "            x[6 * height:7 * height, width:2 * width] = 8\n",
    "            x[6 * height:7 * height, 4 * width:5 * width] = 9\n",
    "            x[6 * height:7 * height, 7 * width:8 * width] = 10\n",
    "        plt.imshow(x)\n",
    "\n",
    "    def call(self, x, **kwargs):\n",
    "        y0 = x[:, 2 * self.height:3 * self.height, self.width:2 * self.width]\n",
    "        y1 = x[:, 2 * self.height:3 * self.height, 4 * self.width:5 * self.width]\n",
    "        y2 = x[:, 2 * self.height:3 * self.height, 7 * self.width:8 * self.width]\n",
    "        y3 = x[:, 4 * self.height:5 * self.height, self.width:2 * self.width]\n",
    "        y4 = x[:, 4 * self.height:5 * self.height, 3 * self.width:4 * self.width]\n",
    "        y5 = x[:, 4 * self.height:5 * self.height, 5 * self.width:6 * self.width]\n",
    "        y6 = x[:, 4 * self.height:5 * self.height, 7 * self.width:8 * self.width]\n",
    "        y7 = x[:, 6 * self.height:7 * self.height, self.width:2 * self.width]\n",
    "        y8 = x[:, 6 * self.height:7 * self.height, 4 * self.width:5 * self.width]\n",
    "        y9 = x[:, 6 * self.height:7 * self.height, 7 * self.width:8 * self.width]\n",
    "        y0 = tf.reduce_sum(y0, axis=[1])\n",
    "        y0 = tf.reduce_sum(y0, axis=[1], keepdims=True)\n",
    "        y1 = tf.reduce_sum(y1, axis=[1])\n",
    "        y1 = tf.reduce_sum(y1, axis=[1], keepdims=True)\n",
    "        y2 = tf.reduce_sum(y2, axis=[1])\n",
    "        y2 = tf.reduce_sum(y2, axis=[1], keepdims=True)\n",
    "        y3 = tf.reduce_sum(y3, axis=[1])\n",
    "        y3 = tf.reduce_sum(y3, axis=[1], keepdims=True)\n",
    "        y4 = tf.reduce_sum(y4, axis=[1])\n",
    "        y4 = tf.reduce_sum(y4, axis=[1], keepdims=True)\n",
    "        y5 = tf.reduce_sum(y5, axis=[1])\n",
    "        y5 = tf.reduce_sum(y5, axis=[1], keepdims=True)\n",
    "        y6 = tf.reduce_sum(y6, axis=[1])\n",
    "        y6 = tf.reduce_sum(y6, axis=[1], keepdims=True)\n",
    "        y7 = tf.reduce_sum(y7, axis=[1])\n",
    "        y7 = tf.reduce_sum(y7, axis=[1], keepdims=True)\n",
    "        y8 = tf.reduce_sum(y8, axis=[1])\n",
    "        y8 = tf.reduce_sum(y8, axis=[1], keepdims=True)\n",
    "        y9 = tf.reduce_sum(y9, axis=[1])\n",
    "        y9 = tf.reduce_sum(y9, axis=[1], keepdims=True)\n",
    "        y = tf.keras.layers.concatenate([y0, y1, y2, y3, y4, y5, y6, y7, y8, y9])\n",
    "\n",
    "        if self.activation == 'softmax':\n",
    "            y = tf.nn.softmax(y)\n",
    "        return y"
   ]
  },
  {
   "cell_type": "code",
   "execution_count": 9,
   "metadata": {
    "id": "Dpt-HgVUOdqH"
   },
   "outputs": [],
   "source": [
    "def create_true_mnistimage(label, shape):\n",
    "    width = min(int(np.floor(shape[1] / 9.0)), int(np.floor(shape[0] / 7.0)))\n",
    "    height = min(int(np.floor(shape[1] / 9.0)), int(np.floor(shape[0] / 7.0)))\n",
    "    x = np.zeros(shape)\n",
    "\n",
    "    if label == 0:\n",
    "        x[2 * height:3 * height, width:2 * width] = 1.0\n",
    "    elif label == 1:\n",
    "        x[2 * height:3 * height, 4 * width:5 * width] = 1.0\n",
    "    elif label == 2:\n",
    "        x[2 * height:3 * height, 7 * width:8 * width] = 1.0\n",
    "    elif label == 3:\n",
    "        x[4 * height:5 * height, 1 * width:2 * width] = 1.0\n",
    "    elif label == 4:\n",
    "        x[4 * height:5 * height, 3 * width:4 * width] = 1.0\n",
    "    elif label == 5:\n",
    "        x[4 * height:5 * height, 5 * width:6 * width] = 1.0\n",
    "    elif label == 6:\n",
    "        x[4 * height:5 * height, 7 * width:8 * width] = 1.0\n",
    "    elif label == 7:\n",
    "        x[6 * height:7 * height, width:2 * width] = 1.0\n",
    "    elif label == 8:\n",
    "        x[6 * height:7 * height, 4 * width:5 * width] = 1.0\n",
    "    elif label == 9:\n",
    "        x[6 * height:7 * height, 7 * width:8 * width] = 1.0\n",
    "\n",
    "    return x"
   ]
  },
  {
   "cell_type": "code",
   "execution_count": 10,
   "metadata": {
    "colab": {
     "base_uri": "https://localhost:8080/",
     "height": 284
    },
    "id": "RLvSiiMoOgg5",
    "outputId": "de3e31ed-5c89-4423-c025-94b9a62ce841"
   },
   "outputs": [
    {
     "data": {
      "text/plain": [
       "<matplotlib.image.AxesImage at 0x7fb45bd33240>"
      ]
     },
     "execution_count": 10,
     "metadata": {},
     "output_type": "execute_result"
    },
    {
     "data": {
      "image/png": "[encoded data removed]",
      "text/plain": [
       "<Figure size 432x288 with 1 Axes>"
      ]
     },
     "metadata": {
      "needs_background": "light"
     },
     "output_type": "display_data"
    }
   ],
   "source": [
    "plt.imshow(create_true_mnistimage(9, (50, 50)))"
   ]
  },
  {
   "cell_type": "code",
   "execution_count": 9,
   "metadata": {
    "colab": {
     "base_uri": "https://localhost:8080/"
    },
    "id": "2nIoyHqA5FrP",
    "outputId": "39292028-37cc-4253-af6e-068e2eb941c8",
    "pycharm": {
     "name": "#%%\n"
    }
   },
   "outputs": [],
   "source": [
    "mnist = tf.keras.datasets.mnist\n",
    "\n",
    "image_shape = (28, 28)\n",
    "(x_train, y_train), (x_test, y_test) = mnist.load_data()\n",
    "x_train = np.array(list(map(lambda image: cv2.resize(image, dsize=image_shape), x_train)))\n",
    "x_test = np.array(list(map(lambda image: cv2.resize(image, dsize=image_shape), x_test)))\n",
    "y_train_image = np.array(list(map(lambda y_label: create_true_mnistimage(y_label, image_shape), y_train)))\n",
    "y_test_image = np.array(list(map(lambda y_label: create_true_mnistimage(y_label, image_shape), y_test)))\n",
    "x_train = x_train / 255.0\n",
    "x_test = x_test / 255.0"
   ]
  },
  {
   "cell_type": "code",
   "execution_count": 12,
   "metadata": {
    "colab": {
     "base_uri": "https://localhost:8080/",
     "height": 265
    },
    "id": "RHqUdqQpOk1l",
    "outputId": "ac7d7a2c-e74a-45dc-e505-94dc5ddcd863"
   },
   "outputs": [
    {
     "data": {
      "image/png": "[encoded data removed]",
      "text/plain": [
       "<Figure size 432x288 with 1 Axes>"
      ]
     },
     "metadata": {
      "needs_background": "light"
     },
     "output_type": "display_data"
    }
   ],
   "source": [
    "detector = CxD2NNMNISTDetector(10)\n",
    "detector.plot_area((28, 28), same_color=True)"
   ]
  },
  {
   "cell_type": "code",
   "execution_count": 10,
   "metadata": {
    "id": "KDVIT-b55FrP",
    "pycharm": {
     "name": "#%%\n"
    }
   },
   "outputs": [],
   "source": [
    "def loss(y_hat, y):\n",
    "    return tf.nn.sparse_softmax_cross_entropy_with_logits(labels=y_hat, logits=y)\n",
    "\n",
    "\n",
    "def loss_MSE(y_hat, y):\n",
    "    return tf.reduce_sum((y_hat - y) ** 2)"
   ]
  },
  {
   "cell_type": "code",
   "execution_count": 10,
   "metadata": {
    "id": "s0rXpHct5FrP",
    "pycharm": {
     "name": "#%%\n"
    }
   },
   "outputs": [],
   "source": [
    "l = 633e-9\n",
    "k = 2 * np.pi / l\n",
    "d = 1e-6"
   ]
  },
  {
   "cell_type": "code",
   "execution_count": 18,
   "metadata": {
    "colab": {
     "base_uri": "https://localhost:8080/"
    },
    "id": "NiKvMSZo5FrQ",
    "outputId": "8a2d0756-5f6e-4aab-bc9f-564d253ea7ae",
    "pycharm": {
     "name": "#%%\n"
    }
   },
   "outputs": [
    {
     "name": "stdout",
     "output_type": "stream",
     "text": [
      "Model: \"model_1\"\n",
      "_________________________________________________________________\n",
      "Layer (type)                 Output Shape              Param #   \n",
      "=================================================================\n",
      "input_2 (InputLayer)         [(None, 28, 28)]          0         \n",
      "_________________________________________________________________\n",
      "input_to_cx_1 (InputToCx)    (None, 2, 2, 28, 28)      0         \n",
      "_________________________________________________________________\n",
      "cx_mo_1 (CxMO)               (None, 2, 2, 28, 28)      784       \n",
      "_________________________________________________________________\n",
      "free_space_propagation_1 (Fr (None, 2, 2, 28, 28)      1229312   \n",
      "_________________________________________________________________\n",
      "cx_d2nn_intensity (CxD2NNInt (None, 28, 28)            0         \n",
      "_________________________________________________________________\n",
      "cx_d2nnmnist_detector_1 (CxD (None, 10)                0         \n",
      "=================================================================\n",
      "Total params: 1,230,096\n",
      "Trainable params: 784\n",
      "Non-trainable params: 1,229,312\n",
      "_________________________________________________________________\n",
      "Train on 60000 samples\n",
      "Epoch 1/10\n",
      "19264/60000 [========>.....................] - ETA: 30s - loss: 2.6878 - accuracy: 0.1336"
     ]
    },
    {
     "ename": "KeyboardInterrupt",
     "evalue": "",
     "output_type": "error",
     "traceback": [
      "\u001B[0;31m---------------------------------------------------------------------------\u001B[0m",
      "\u001B[0;31mKeyboardInterrupt\u001B[0m                         Traceback (most recent call last)",
      "\u001B[0;32m<ipython-input-18-4a3547ead140>\u001B[0m in \u001B[0;36m<module>\u001B[0;34m\u001B[0m\n\u001B[1;32m     21\u001B[0m                    \u001B[0my_train\u001B[0m\u001B[0;34m,\u001B[0m\u001B[0;34m\u001B[0m\u001B[0;34m\u001B[0m\u001B[0m\n\u001B[1;32m     22\u001B[0m                    \u001B[0mbatch_size\u001B[0m\u001B[0;34m=\u001B[0m\u001B[0;36m64\u001B[0m\u001B[0;34m,\u001B[0m\u001B[0;34m\u001B[0m\u001B[0;34m\u001B[0m\u001B[0m\n\u001B[0;32m---> 23\u001B[0;31m                    \u001B[0mepochs\u001B[0m\u001B[0;34m=\u001B[0m\u001B[0mepochs\u001B[0m\u001B[0;34m\u001B[0m\u001B[0;34m\u001B[0m\u001B[0m\n\u001B[0m\u001B[1;32m     24\u001B[0m                    \u001B[0;31m#callbacks=[early_stopping]\u001B[0m\u001B[0;34m\u001B[0m\u001B[0;34m\u001B[0m\u001B[0;34m\u001B[0m\u001B[0m\n\u001B[1;32m     25\u001B[0m                    )\n",
      "\u001B[0;32m~/opt/anaconda3/envs/MOD2NN/lib/python3.6/site-packages/tensorflow_core/python/keras/engine/training.py\u001B[0m in \u001B[0;36mfit\u001B[0;34m(self, x, y, batch_size, epochs, verbose, callbacks, validation_split, validation_data, shuffle, class_weight, sample_weight, initial_epoch, steps_per_epoch, validation_steps, validation_freq, max_queue_size, workers, use_multiprocessing, **kwargs)\u001B[0m\n\u001B[1;32m    726\u001B[0m         \u001B[0mmax_queue_size\u001B[0m\u001B[0;34m=\u001B[0m\u001B[0mmax_queue_size\u001B[0m\u001B[0;34m,\u001B[0m\u001B[0;34m\u001B[0m\u001B[0;34m\u001B[0m\u001B[0m\n\u001B[1;32m    727\u001B[0m         \u001B[0mworkers\u001B[0m\u001B[0;34m=\u001B[0m\u001B[0mworkers\u001B[0m\u001B[0;34m,\u001B[0m\u001B[0;34m\u001B[0m\u001B[0;34m\u001B[0m\u001B[0m\n\u001B[0;32m--> 728\u001B[0;31m         use_multiprocessing=use_multiprocessing)\n\u001B[0m\u001B[1;32m    729\u001B[0m \u001B[0;34m\u001B[0m\u001B[0m\n\u001B[1;32m    730\u001B[0m   def evaluate(self,\n",
      "\u001B[0;32m~/opt/anaconda3/envs/MOD2NN/lib/python3.6/site-packages/tensorflow_core/python/keras/engine/training_v2.py\u001B[0m in \u001B[0;36mfit\u001B[0;34m(self, model, x, y, batch_size, epochs, verbose, callbacks, validation_split, validation_data, shuffle, class_weight, sample_weight, initial_epoch, steps_per_epoch, validation_steps, validation_freq, **kwargs)\u001B[0m\n\u001B[1;32m    322\u001B[0m                 \u001B[0mmode\u001B[0m\u001B[0;34m=\u001B[0m\u001B[0mModeKeys\u001B[0m\u001B[0;34m.\u001B[0m\u001B[0mTRAIN\u001B[0m\u001B[0;34m,\u001B[0m\u001B[0;34m\u001B[0m\u001B[0;34m\u001B[0m\u001B[0m\n\u001B[1;32m    323\u001B[0m                 \u001B[0mtraining_context\u001B[0m\u001B[0;34m=\u001B[0m\u001B[0mtraining_context\u001B[0m\u001B[0;34m,\u001B[0m\u001B[0;34m\u001B[0m\u001B[0;34m\u001B[0m\u001B[0m\n\u001B[0;32m--> 324\u001B[0;31m                 total_epochs=epochs)\n\u001B[0m\u001B[1;32m    325\u001B[0m             \u001B[0mcbks\u001B[0m\u001B[0;34m.\u001B[0m\u001B[0mmake_logs\u001B[0m\u001B[0;34m(\u001B[0m\u001B[0mmodel\u001B[0m\u001B[0;34m,\u001B[0m \u001B[0mepoch_logs\u001B[0m\u001B[0;34m,\u001B[0m \u001B[0mtraining_result\u001B[0m\u001B[0;34m,\u001B[0m \u001B[0mModeKeys\u001B[0m\u001B[0;34m.\u001B[0m\u001B[0mTRAIN\u001B[0m\u001B[0;34m)\u001B[0m\u001B[0;34m\u001B[0m\u001B[0;34m\u001B[0m\u001B[0m\n\u001B[1;32m    326\u001B[0m \u001B[0;34m\u001B[0m\u001B[0m\n",
      "\u001B[0;32m~/opt/anaconda3/envs/MOD2NN/lib/python3.6/site-packages/tensorflow_core/python/keras/engine/training_v2.py\u001B[0m in \u001B[0;36mrun_one_epoch\u001B[0;34m(model, iterator, execution_function, dataset_size, batch_size, strategy, steps_per_epoch, num_samples, mode, training_context, total_epochs)\u001B[0m\n\u001B[1;32m    121\u001B[0m         step=step, mode=mode, size=current_batch_size) as batch_logs:\n\u001B[1;32m    122\u001B[0m       \u001B[0;32mtry\u001B[0m\u001B[0;34m:\u001B[0m\u001B[0;34m\u001B[0m\u001B[0;34m\u001B[0m\u001B[0m\n\u001B[0;32m--> 123\u001B[0;31m         \u001B[0mbatch_outs\u001B[0m \u001B[0;34m=\u001B[0m \u001B[0mexecution_function\u001B[0m\u001B[0;34m(\u001B[0m\u001B[0miterator\u001B[0m\u001B[0;34m)\u001B[0m\u001B[0;34m\u001B[0m\u001B[0;34m\u001B[0m\u001B[0m\n\u001B[0m\u001B[1;32m    124\u001B[0m       \u001B[0;32mexcept\u001B[0m \u001B[0;34m(\u001B[0m\u001B[0mStopIteration\u001B[0m\u001B[0;34m,\u001B[0m \u001B[0merrors\u001B[0m\u001B[0;34m.\u001B[0m\u001B[0mOutOfRangeError\u001B[0m\u001B[0;34m)\u001B[0m\u001B[0;34m:\u001B[0m\u001B[0;34m\u001B[0m\u001B[0;34m\u001B[0m\u001B[0m\n\u001B[1;32m    125\u001B[0m         \u001B[0;31m# TODO(kaftan): File bug about tf function and errors.OutOfRangeError?\u001B[0m\u001B[0;34m\u001B[0m\u001B[0;34m\u001B[0m\u001B[0;34m\u001B[0m\u001B[0m\n",
      "\u001B[0;32m~/opt/anaconda3/envs/MOD2NN/lib/python3.6/site-packages/tensorflow_core/python/keras/engine/training_v2_utils.py\u001B[0m in \u001B[0;36mexecution_function\u001B[0;34m(input_fn)\u001B[0m\n\u001B[1;32m     84\u001B[0m     \u001B[0;31m# `numpy` translates Tensors to values in Eager mode.\u001B[0m\u001B[0;34m\u001B[0m\u001B[0;34m\u001B[0m\u001B[0;34m\u001B[0m\u001B[0m\n\u001B[1;32m     85\u001B[0m     return nest.map_structure(_non_none_constant_value,\n\u001B[0;32m---> 86\u001B[0;31m                               distributed_function(input_fn))\n\u001B[0m\u001B[1;32m     87\u001B[0m \u001B[0;34m\u001B[0m\u001B[0m\n\u001B[1;32m     88\u001B[0m   \u001B[0;32mreturn\u001B[0m \u001B[0mexecution_function\u001B[0m\u001B[0;34m\u001B[0m\u001B[0;34m\u001B[0m\u001B[0m\n",
      "\u001B[0;32m~/opt/anaconda3/envs/MOD2NN/lib/python3.6/site-packages/tensorflow_core/python/eager/def_function.py\u001B[0m in \u001B[0;36m__call__\u001B[0;34m(self, *args, **kwds)\u001B[0m\n\u001B[1;32m    455\u001B[0m \u001B[0;34m\u001B[0m\u001B[0m\n\u001B[1;32m    456\u001B[0m     \u001B[0mtracing_count\u001B[0m \u001B[0;34m=\u001B[0m \u001B[0mself\u001B[0m\u001B[0;34m.\u001B[0m\u001B[0m_get_tracing_count\u001B[0m\u001B[0;34m(\u001B[0m\u001B[0;34m)\u001B[0m\u001B[0;34m\u001B[0m\u001B[0;34m\u001B[0m\u001B[0m\n\u001B[0;32m--> 457\u001B[0;31m     \u001B[0mresult\u001B[0m \u001B[0;34m=\u001B[0m \u001B[0mself\u001B[0m\u001B[0;34m.\u001B[0m\u001B[0m_call\u001B[0m\u001B[0;34m(\u001B[0m\u001B[0;34m*\u001B[0m\u001B[0margs\u001B[0m\u001B[0;34m,\u001B[0m \u001B[0;34m**\u001B[0m\u001B[0mkwds\u001B[0m\u001B[0;34m)\u001B[0m\u001B[0;34m\u001B[0m\u001B[0;34m\u001B[0m\u001B[0m\n\u001B[0m\u001B[1;32m    458\u001B[0m     \u001B[0;32mif\u001B[0m \u001B[0mtracing_count\u001B[0m \u001B[0;34m==\u001B[0m \u001B[0mself\u001B[0m\u001B[0;34m.\u001B[0m\u001B[0m_get_tracing_count\u001B[0m\u001B[0;34m(\u001B[0m\u001B[0;34m)\u001B[0m\u001B[0;34m:\u001B[0m\u001B[0;34m\u001B[0m\u001B[0;34m\u001B[0m\u001B[0m\n\u001B[1;32m    459\u001B[0m       \u001B[0mself\u001B[0m\u001B[0;34m.\u001B[0m\u001B[0m_call_counter\u001B[0m\u001B[0;34m.\u001B[0m\u001B[0mcalled_without_tracing\u001B[0m\u001B[0;34m(\u001B[0m\u001B[0;34m)\u001B[0m\u001B[0;34m\u001B[0m\u001B[0;34m\u001B[0m\u001B[0m\n",
      "\u001B[0;32m~/opt/anaconda3/envs/MOD2NN/lib/python3.6/site-packages/tensorflow_core/python/eager/def_function.py\u001B[0m in \u001B[0;36m_call\u001B[0;34m(self, *args, **kwds)\u001B[0m\n\u001B[1;32m    485\u001B[0m       \u001B[0;31m# In this case we have created variables on the first call, so we run the\u001B[0m\u001B[0;34m\u001B[0m\u001B[0;34m\u001B[0m\u001B[0;34m\u001B[0m\u001B[0m\n\u001B[1;32m    486\u001B[0m       \u001B[0;31m# defunned version which is guaranteed to never create variables.\u001B[0m\u001B[0;34m\u001B[0m\u001B[0;34m\u001B[0m\u001B[0;34m\u001B[0m\u001B[0m\n\u001B[0;32m--> 487\u001B[0;31m       \u001B[0;32mreturn\u001B[0m \u001B[0mself\u001B[0m\u001B[0;34m.\u001B[0m\u001B[0m_stateless_fn\u001B[0m\u001B[0;34m(\u001B[0m\u001B[0;34m*\u001B[0m\u001B[0margs\u001B[0m\u001B[0;34m,\u001B[0m \u001B[0;34m**\u001B[0m\u001B[0mkwds\u001B[0m\u001B[0;34m)\u001B[0m  \u001B[0;31m# pylint: disable=not-callable\u001B[0m\u001B[0;34m\u001B[0m\u001B[0;34m\u001B[0m\u001B[0m\n\u001B[0m\u001B[1;32m    488\u001B[0m     \u001B[0;32melif\u001B[0m \u001B[0mself\u001B[0m\u001B[0;34m.\u001B[0m\u001B[0m_stateful_fn\u001B[0m \u001B[0;32mis\u001B[0m \u001B[0;32mnot\u001B[0m \u001B[0;32mNone\u001B[0m\u001B[0;34m:\u001B[0m\u001B[0;34m\u001B[0m\u001B[0;34m\u001B[0m\u001B[0m\n\u001B[1;32m    489\u001B[0m       \u001B[0;31m# Release the lock early so that multiple threads can perform the call\u001B[0m\u001B[0;34m\u001B[0m\u001B[0;34m\u001B[0m\u001B[0;34m\u001B[0m\u001B[0m\n",
      "\u001B[0;32m~/opt/anaconda3/envs/MOD2NN/lib/python3.6/site-packages/tensorflow_core/python/eager/function.py\u001B[0m in \u001B[0;36m__call__\u001B[0;34m(self, *args, **kwargs)\u001B[0m\n\u001B[1;32m   1821\u001B[0m     \u001B[0;34m\"\"\"Calls a graph function specialized to the inputs.\"\"\"\u001B[0m\u001B[0;34m\u001B[0m\u001B[0;34m\u001B[0m\u001B[0m\n\u001B[1;32m   1822\u001B[0m     \u001B[0mgraph_function\u001B[0m\u001B[0;34m,\u001B[0m \u001B[0margs\u001B[0m\u001B[0;34m,\u001B[0m \u001B[0mkwargs\u001B[0m \u001B[0;34m=\u001B[0m \u001B[0mself\u001B[0m\u001B[0;34m.\u001B[0m\u001B[0m_maybe_define_function\u001B[0m\u001B[0;34m(\u001B[0m\u001B[0margs\u001B[0m\u001B[0;34m,\u001B[0m \u001B[0mkwargs\u001B[0m\u001B[0;34m)\u001B[0m\u001B[0;34m\u001B[0m\u001B[0;34m\u001B[0m\u001B[0m\n\u001B[0;32m-> 1823\u001B[0;31m     \u001B[0;32mreturn\u001B[0m \u001B[0mgraph_function\u001B[0m\u001B[0;34m.\u001B[0m\u001B[0m_filtered_call\u001B[0m\u001B[0;34m(\u001B[0m\u001B[0margs\u001B[0m\u001B[0;34m,\u001B[0m \u001B[0mkwargs\u001B[0m\u001B[0;34m)\u001B[0m  \u001B[0;31m# pylint: disable=protected-access\u001B[0m\u001B[0;34m\u001B[0m\u001B[0;34m\u001B[0m\u001B[0m\n\u001B[0m\u001B[1;32m   1824\u001B[0m \u001B[0;34m\u001B[0m\u001B[0m\n\u001B[1;32m   1825\u001B[0m   \u001B[0;34m@\u001B[0m\u001B[0mproperty\u001B[0m\u001B[0;34m\u001B[0m\u001B[0;34m\u001B[0m\u001B[0m\n",
      "\u001B[0;32m~/opt/anaconda3/envs/MOD2NN/lib/python3.6/site-packages/tensorflow_core/python/eager/function.py\u001B[0m in \u001B[0;36m_filtered_call\u001B[0;34m(self, args, kwargs)\u001B[0m\n\u001B[1;32m   1139\u001B[0m          if isinstance(t, (ops.Tensor,\n\u001B[1;32m   1140\u001B[0m                            resource_variable_ops.BaseResourceVariable))),\n\u001B[0;32m-> 1141\u001B[0;31m         self.captured_inputs)\n\u001B[0m\u001B[1;32m   1142\u001B[0m \u001B[0;34m\u001B[0m\u001B[0m\n\u001B[1;32m   1143\u001B[0m   \u001B[0;32mdef\u001B[0m \u001B[0m_call_flat\u001B[0m\u001B[0;34m(\u001B[0m\u001B[0mself\u001B[0m\u001B[0;34m,\u001B[0m \u001B[0margs\u001B[0m\u001B[0;34m,\u001B[0m \u001B[0mcaptured_inputs\u001B[0m\u001B[0;34m,\u001B[0m \u001B[0mcancellation_manager\u001B[0m\u001B[0;34m=\u001B[0m\u001B[0;32mNone\u001B[0m\u001B[0;34m)\u001B[0m\u001B[0;34m:\u001B[0m\u001B[0;34m\u001B[0m\u001B[0;34m\u001B[0m\u001B[0m\n",
      "\u001B[0;32m~/opt/anaconda3/envs/MOD2NN/lib/python3.6/site-packages/tensorflow_core/python/eager/function.py\u001B[0m in \u001B[0;36m_call_flat\u001B[0;34m(self, args, captured_inputs, cancellation_manager)\u001B[0m\n\u001B[1;32m   1222\u001B[0m     \u001B[0;32mif\u001B[0m \u001B[0mexecuting_eagerly\u001B[0m\u001B[0;34m:\u001B[0m\u001B[0;34m\u001B[0m\u001B[0;34m\u001B[0m\u001B[0m\n\u001B[1;32m   1223\u001B[0m       flat_outputs = forward_function.call(\n\u001B[0;32m-> 1224\u001B[0;31m           ctx, args, cancellation_manager=cancellation_manager)\n\u001B[0m\u001B[1;32m   1225\u001B[0m     \u001B[0;32melse\u001B[0m\u001B[0;34m:\u001B[0m\u001B[0;34m\u001B[0m\u001B[0;34m\u001B[0m\u001B[0m\n\u001B[1;32m   1226\u001B[0m       \u001B[0mgradient_name\u001B[0m \u001B[0;34m=\u001B[0m \u001B[0mself\u001B[0m\u001B[0;34m.\u001B[0m\u001B[0m_delayed_rewrite_functions\u001B[0m\u001B[0;34m.\u001B[0m\u001B[0mregister\u001B[0m\u001B[0;34m(\u001B[0m\u001B[0;34m)\u001B[0m\u001B[0;34m\u001B[0m\u001B[0;34m\u001B[0m\u001B[0m\n",
      "\u001B[0;32m~/opt/anaconda3/envs/MOD2NN/lib/python3.6/site-packages/tensorflow_core/python/eager/function.py\u001B[0m in \u001B[0;36mcall\u001B[0;34m(self, ctx, args, cancellation_manager)\u001B[0m\n\u001B[1;32m    509\u001B[0m               \u001B[0minputs\u001B[0m\u001B[0;34m=\u001B[0m\u001B[0margs\u001B[0m\u001B[0;34m,\u001B[0m\u001B[0;34m\u001B[0m\u001B[0;34m\u001B[0m\u001B[0m\n\u001B[1;32m    510\u001B[0m               \u001B[0mattrs\u001B[0m\u001B[0;34m=\u001B[0m\u001B[0;34m(\u001B[0m\u001B[0;34m\"executor_type\"\u001B[0m\u001B[0;34m,\u001B[0m \u001B[0mexecutor_type\u001B[0m\u001B[0;34m,\u001B[0m \u001B[0;34m\"config_proto\"\u001B[0m\u001B[0;34m,\u001B[0m \u001B[0mconfig\u001B[0m\u001B[0;34m)\u001B[0m\u001B[0;34m,\u001B[0m\u001B[0;34m\u001B[0m\u001B[0;34m\u001B[0m\u001B[0m\n\u001B[0;32m--> 511\u001B[0;31m               ctx=ctx)\n\u001B[0m\u001B[1;32m    512\u001B[0m         \u001B[0;32melse\u001B[0m\u001B[0;34m:\u001B[0m\u001B[0;34m\u001B[0m\u001B[0;34m\u001B[0m\u001B[0m\n\u001B[1;32m    513\u001B[0m           outputs = execute.execute_with_cancellation(\n",
      "\u001B[0;32m~/opt/anaconda3/envs/MOD2NN/lib/python3.6/site-packages/tensorflow_core/python/eager/execute.py\u001B[0m in \u001B[0;36mquick_execute\u001B[0;34m(op_name, num_outputs, inputs, attrs, ctx, name)\u001B[0m\n\u001B[1;32m     59\u001B[0m     tensors = pywrap_tensorflow.TFE_Py_Execute(ctx._handle, device_name,\n\u001B[1;32m     60\u001B[0m                                                \u001B[0mop_name\u001B[0m\u001B[0;34m,\u001B[0m \u001B[0minputs\u001B[0m\u001B[0;34m,\u001B[0m \u001B[0mattrs\u001B[0m\u001B[0;34m,\u001B[0m\u001B[0;34m\u001B[0m\u001B[0;34m\u001B[0m\u001B[0m\n\u001B[0;32m---> 61\u001B[0;31m                                                num_outputs)\n\u001B[0m\u001B[1;32m     62\u001B[0m   \u001B[0;32mexcept\u001B[0m \u001B[0mcore\u001B[0m\u001B[0;34m.\u001B[0m\u001B[0m_NotOkStatusException\u001B[0m \u001B[0;32mas\u001B[0m \u001B[0me\u001B[0m\u001B[0;34m:\u001B[0m\u001B[0;34m\u001B[0m\u001B[0;34m\u001B[0m\u001B[0m\n\u001B[1;32m     63\u001B[0m     \u001B[0;32mif\u001B[0m \u001B[0mname\u001B[0m \u001B[0;32mis\u001B[0m \u001B[0;32mnot\u001B[0m \u001B[0;32mNone\u001B[0m\u001B[0;34m:\u001B[0m\u001B[0;34m\u001B[0m\u001B[0;34m\u001B[0m\u001B[0m\n",
      "\u001B[0;31mKeyboardInterrupt\u001B[0m: "
     ]
    }
   ],
   "source": [
    "inputs = keras.Input(image_shape)\n",
    "x = InputToCx(image_shape)(inputs)\n",
    "x = CxMO(image_shape)(x)\n",
    "x = FreeSpacePropagation(image_shape, k, 1.0e-4, normalization='max', input_pitch=2.0e-6, output_pitch=2.0e-6)(x)\n",
    "x = CxD2NNIntensity(image_shape, normalization='max')(x)\n",
    "x = CxD2NNMNISTDetector(10, activation='softmax')(x)\n",
    "model = tf.keras.Model(inputs, x)\n",
    "model.summary()\n",
    "model.compile(optimizer='adam',\n",
    "              loss=\"sparse_categorical_crossentropy\",  # category: sparse_categorical_crossentropy\n",
    "              metrics=['accuracy'])\n",
    "\n",
    "epochs = 10\n",
    "early_stopping = EarlyStopping(\n",
    "    monitor='accuracy',\n",
    "    min_delta=0.05,\n",
    "    patience=2,\n",
    ")\n",
    "\n",
    "result = model.fit(x_train,\n",
    "                   y_train,\n",
    "                   batch_size=64,\n",
    "                   epochs=epochs\n",
    "                   #callbacks=[early_stopping]\n",
    "                   )\n",
    "model.save(\"28x28_6(MO_frspc100um)\")"
   ]
  },
  {
   "cell_type": "code",
   "execution_count": null,
   "metadata": {
    "colab": {
     "base_uri": "https://localhost:8080/",
     "height": 405
    },
    "id": "Psxg1H6WiyKn",
    "outputId": "77cd14fe-2e39-4480-edcb-edfb3fdb5d34"
   },
   "outputs": [],
   "source": [
    "fig = plt.figure(figsize=(6, 6))\n",
    "ax1 = fig.add_subplot(111)\n",
    "ax2 = ax1.twinx()\n",
    "ax1.plot(range(1, epochs + 1), result.history['loss'], color='black', label='Loss')\n",
    "ax1.set_ylabel('Loss')\n",
    "ax1.set_xlabel('epoch')\n",
    "ax2.plot(range(1, epochs + 1), result.history['accuracy'], color='red', label='Accuracy')\n",
    "ax2.set_ylabel('Accuracy')\n",
    "# label1と2には、凡例用に各labelのリスト情報が入る\n",
    "handler1, label1 = ax1.get_legend_handles_labels()\n",
    "handler2, label2 = ax2.get_legend_handles_labels()\n",
    "# 凡例をまとめて出力する\n",
    "ax1.legend(handler1 + handler2, label1 + label2, loc=2, borderaxespad=0.)"
   ]
  },
  {
   "cell_type": "code",
   "execution_count": null,
   "metadata": {
    "colab": {
     "base_uri": "https://localhost:8080/"
    },
    "id": "lPPH451APLgm",
    "outputId": "c0917ff2-f38e-4982-b38a-6b877567bcd3"
   },
   "outputs": [],
   "source": [
    "model.evaluate(x_test, y_test)"
   ]
  },
  {
   "cell_type": "code",
   "execution_count": null,
   "metadata": {
    "colab": {
     "base_uri": "https://localhost:8080/"
    },
    "id": "zGBtRuwC5FrQ",
    "outputId": "6683b40b-d25f-4097-c9fa-0aa616635896",
    "pycharm": {
     "name": "#%%\n"
    }
   },
   "outputs": [],
   "source": [
    "layer_name = model.layers[-2].name\n",
    "hidden_layer_model = tf.keras.Model(inputs=model.input, outputs=model.get_layer(layer_name).output)\n",
    "hidden_layer_model.summary()"
   ]
  },
  {
   "cell_type": "code",
   "execution_count": null,
   "metadata": {
    "colab": {
     "base_uri": "https://localhost:8080/",
     "height": 729
    },
    "id": "MM6fAIqU5FrQ",
    "outputId": "d8ef8a67-f8f9-414f-b267-a00fc524d827",
    "pycharm": {
     "name": "#%%\n"
    }
   },
   "outputs": [],
   "source": [
    "num = 5\n",
    "images = x_train[0:num, :, :]\n",
    "\n",
    "preds = model.predict(images)\n",
    "pred_images = hidden_layer_model.predict(images)\n",
    "fig, axes = plt.subplots(num, 3, figsize=(7, 10))\n",
    "for i in range(num):\n",
    "    axes[i, 0].imshow(images[i, :, :])\n",
    "    axes[i, 1].imshow(pred_images[i, :, :])\n",
    "    axes[i, 2].bar(np.arange(0, 10, 1), preds[i, :], align='center')\n",
    "    axes[i, 2].set_xticks(np.arange(0, 10, 1))\n",
    "    axes[i, 2].set_ylabel('Accuracy')\n",
    "fig.tight_layout()"
   ]
  },
  {
   "cell_type": "code",
   "execution_count": null,
   "metadata": {
    "colab": {
     "base_uri": "https://localhost:8080/"
    },
    "id": "xsYnMu1DPVkh",
    "outputId": "d9572cf1-26d5-4224-d4e5-d312642c376c"
   },
   "outputs": [],
   "source": [
    "layer_outputs = [layer.output for layer in model.layers[1:]]\n",
    "layer_outputs"
   ]
  },
  {
   "cell_type": "code",
   "execution_count": null,
   "metadata": {
    "colab": {
     "base_uri": "https://localhost:8080/"
    },
    "id": "AlTNml_9PYWA",
    "outputId": "de67727b-8dd1-46d6-eafd-879a443e3db0"
   },
   "outputs": [],
   "source": [
    "activation_model = keras.Model(inputs=model.input, outputs=layer_outputs)\n",
    "activation_model.summary()"
   ]
  },
  {
   "cell_type": "code",
   "execution_count": null,
   "metadata": {
    "colab": {
     "base_uri": "https://localhost:8080/"
    },
    "id": "3v-O4IwHPaoH",
    "outputId": "8052f3b4-adda-485c-fb9d-85270e17ad63"
   },
   "outputs": [],
   "source": [
    "num = 5\n",
    "images = x_train[0:num, :, :]\n",
    "activations = activation_model.predict(images)\n",
    "len(activations)"
   ]
  },
  {
   "cell_type": "code",
   "execution_count": null,
   "metadata": {
    "colab": {
     "base_uri": "https://localhost:8080/",
     "height": 594
    },
    "id": "Fq_5Zpj5Pgeh",
    "outputId": "942b9762-a147-4113-ed97-94ea9e5ef276"
   },
   "outputs": [],
   "source": [
    "fig, axes = plt.subplots(num, len(activations) - 2, figsize=(2 * len(activations) - 1, 2 * num))\n",
    "for i in range(len(activations) - 2):\n",
    "    layer_activation = activations[i]\n",
    "    for j in range(num):\n",
    "        intensity = tf.sqrt(layer_activation[j, 0, :, :] ** 2 + layer_activation[j, 1, :, :] ** 2)\n",
    "        axes[j, i].imshow(intensity)"
   ]
  },
  {
   "cell_type": "code",
   "execution_count": 14,
   "metadata": {
    "pycharm": {
     "name": "#%%\n"
    }
   },
   "outputs": [
    {
     "data": {
      "text/plain": "<matplotlib.image.AxesImage at 0x7fc661bd80b8>"
     },
     "execution_count": 14,
     "metadata": {},
     "output_type": "execute_result"
    },
    {
     "data": {
      "text/plain": "<Figure size 432x288 with 1 Axes>",
      "image/png": "[encoded data removed]"
     },
     "metadata": {
      "needs_background": "light"
     },
     "output_type": "display_data"
    }
   ],
   "source": [
    "# ---------------------------------------------------------\n",
    "pt = np.loadtxt('./data/phase/100px/train_7.csv')\n",
    "pt[pt == 1] = 4 * np.pi / 180\n",
    "pt[pt == 0] = -4 * np.pi / 180\n",
    "plt.imshow(pt)"
   ]
  },
  {
   "cell_type": "code",
   "execution_count": 18,
   "metadata": {
    "pycharm": {
     "name": "#%%\n"
    }
   },
   "outputs": [
    {
     "name": "stdout",
     "output_type": "stream",
     "text": [
      "Model: \"model_1\"\n",
      "_________________________________________________________________\n",
      "Layer (type)                 Output Shape              Param #   \n",
      "=================================================================\n",
      "input_2 (InputLayer)         [(None, 100, 100)]        0         \n",
      "_________________________________________________________________\n",
      "input_to_cx_1 (InputToCx)    (None, 2, 2, 100, 100)    0         \n",
      "_________________________________________________________________\n",
      "cx_mo_1 (CxMO)               (None, 2, 2, 100, 100)    10000     \n",
      "_________________________________________________________________\n",
      "cx_d2nn_farraday_1 (CxD2NNFa (None, 100, 100)          0         \n",
      "=================================================================\n",
      "Total params: 10,000\n",
      "Trainable params: 10,000\n",
      "Non-trainable params: 0\n",
      "_________________________________________________________________\n"
     ]
    }
   ],
   "source": [
    "shpae = (100, 100)\n",
    "inputs = keras.Input(shpae)\n",
    "x = InputToCx(shpae)(inputs)\n",
    "x = CxMO(shpae)(x)\n",
    "# x = FreeSpacePropagation(shpae, k, 0.5e-3)(x)\n",
    "x = CxD2NNFarraday(shpae)(x)\n",
    "\n",
    "model = tf.keras.Model(inputs, x)\n",
    "model.summary()"
   ]
  },
  {
   "cell_type": "code",
   "execution_count": 19,
   "metadata": {
    "pycharm": {
     "name": "#%%\n"
    }
   },
   "outputs": [],
   "source": [
    "model.layers[2].set_weights([pt])"
   ]
  },
  {
   "cell_type": "code",
   "execution_count": 20,
   "metadata": {
    "pycharm": {
     "name": "#%%\n"
    }
   },
   "outputs": [
    {
     "data": {
      "text/plain": "(1, 100, 100)"
     },
     "execution_count": 20,
     "metadata": {},
     "output_type": "execute_result"
    }
   ],
   "source": [
    "beam = np.ones(shape=shpae)\n",
    "pred = model.predict(np.array([beam]))\n",
    "pred.shape"
   ]
  },
  {
   "cell_type": "code",
   "execution_count": 21,
   "metadata": {
    "pycharm": {
     "name": "#%%\n"
    }
   },
   "outputs": [
    {
     "data": {
      "text/plain": "<matplotlib.colorbar.Colorbar at 0x7fc68220b6d8>"
     },
     "execution_count": 21,
     "metadata": {},
     "output_type": "execute_result"
    },
    {
     "data": {
      "text/plain": "<Figure size 360x360 with 2 Axes>",
      "image/png": "[encoded data removed]"
     },
     "metadata": {
      "needs_background": "light"
     },
     "output_type": "display_data"
    }
   ],
   "source": [
    "plt.figure(figsize=(5,5))\n",
    "plt.imshow(pred[0,:,:])\n",
    "plt.colorbar()"
   ]
  },
  {
   "cell_type": "code",
   "execution_count": null,
   "outputs": [],
   "source": [],
   "metadata": {
    "collapsed": false,
    "pycharm": {
     "name": "#%%\n"
    }
   }
  }
 ],
 "metadata": {
  "accelerator": "GPU",
  "colab": {
   "name": "model.ipynb",
   "provenance": [],
   "toc_visible": true
  },
  "kernelspec": {
   "display_name": "Python 3",
   "language": "python",
   "name": "python3"
  },
  "language_info": {
   "codemirror_mode": {
    "name": "ipython",
    "version": 3
   },
   "file_extension": ".py",
   "mimetype": "text/x-python",
   "name": "python",
   "nbconvert_exporter": "python",
   "pygments_lexer": "ipython3",
   "version": "3.6.13"
  }
 },
 "nbformat": 4,
 "nbformat_minor": 1
}