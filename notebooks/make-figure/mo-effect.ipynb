{
 "cells": [
  {
   "cell_type": "code",
   "execution_count": 5,
   "metadata": {
    "collapsed": true
   },
   "outputs": [],
   "source": [
    "import numpy as np\n",
    "import matplotlib.pyplot as plt\n",
    "\n",
    "from Faraday.two_dim import matplotlib_style\n",
    "matplotlib_style.paper()"
   ]
  },
  {
   "cell_type": "markdown",
   "source": [
    "### fig.1"
   ],
   "metadata": {
    "collapsed": false
   }
  },
  {
   "cell_type": "code",
   "execution_count": 10,
   "outputs": [
    {
     "data": {
      "text/plain": "<Figure size 432x288 with 1 Axes>",
      "image/png": "[encoded data removed]"
     },
     "metadata": {},
     "output_type": "display_data"
    }
   ],
   "source": [
    "#plt.rcParams['figure.facecolor'] = '#FFFFFF'\n",
    "#plt.rcParams['axes.facecolor'] = \"none\"\n",
    "fig = plt.figure()\n",
    "ax = fig.add_subplot(projection='3d')\n",
    "z1 = np.linspace(0, 8.0*np.pi, 200)\n",
    "z2 = np.linspace(z1[-1], z1[-1] + 8.0*np.pi, 200)\n",
    "z3 = np.linspace(z2[-1], z2[-1] + 8.0*np.pi, 200)\n",
    "z = np.hstack([z1, z2, z3])\n",
    "E0 = 1.0\n",
    "a = 0.4\n",
    "b = 0.4\n",
    "k = 0.5\n",
    "kr=0.2\n",
    "kl=0.5\n",
    "n = 1.5\n",
    "dn = 0.03\n",
    "rcp1 = a * np.exp(1.0j * z1) * np.array([1, 1.0j]).reshape((-1, 1))\n",
    "lcp1 = b * np.exp(1.0j * z1) * np.array([1, -1.0j]).reshape((-1, 1))\n",
    "\n",
    "rcp2 = a * np.exp(1.0j * z2) * np.array([1, 1.0j]).reshape((-1, 1)) * np.exp(1.0j * (n+dn)*(z2-z2[0])) * np.exp(-kr*(z2-z2[0])/10)\n",
    "lcp2 = b * np.exp(1.0j * z2) * np.array([1, -1.0j]).reshape((-1, 1)) * np.exp(1.0j * (n-dn)*(z2-z2[0])) * np.exp(-kl*(z2-z2[0])/10)\n",
    "\n",
    "rcp3 = a * np.exp(1.0j * z3) * np.array([1, 1.0j]).reshape((-1, 1)) * np.exp(1.0j * (n+dn)*(z2[-1]-z2[0])) * np.exp(-kr*(z2[-1]-z2[0])/10)\n",
    "lcp3 = b * np.exp(1.0j * z3) * np.array([1, -1.0j]).reshape((-1, 1)) * np.exp(1.0j * (n-dn)*(z2[-1]-z2[0])) * np.exp(-kl*(z2[-1]-z2[0])/10)\n",
    "\n",
    "rcp = np.hstack([rcp1, rcp2, rcp3])\n",
    "lcp = np.hstack([lcp1, lcp2, lcp3])\n",
    "\n",
    "tot1 = rcp1 + lcp1\n",
    "tot3 = rcp3 + lcp3\n",
    "\n",
    "ax.plot(z1, tot1[1,:].real, tot1[0,:].real, color=\"red\")\n",
    "ax.plot(z2, rcp2[1,:].real - 0.5, rcp2[0,:].real, \"b\")\n",
    "ax.plot(z2, lcp2[1,:].real + 0.5, lcp2[0,:].real, \"g\")\n",
    "ax.plot(z3, tot3[1,:].real, tot3[0,:].real, color=\"red\")\n",
    "\n",
    "x = [-1,1]\n",
    "y = [-1,1]\n",
    "X,Y = np.meshgrid(x,y)\n",
    "One = np.ones_like(X)\n",
    "\n",
    "alpha = 0.3\n",
    "color1 = '#fde614'\n",
    "ax.plot_surface((X+1) * (z2[-1]-z2[0]) / 2 + z2[0], Y, One, alpha=alpha, color=color1)\n",
    "ax.plot_surface((X+1) * (z2[-1]-z2[0]) / 2 + z2[0], Y, -One, alpha=alpha, color=color1)\n",
    "ax.plot_surface((X+1) * (z2[-1]-z2[0]) / 2 + z2[0], One, Y, alpha=alpha, color=color1)\n",
    "ax.plot_surface((X+1) * (z2[-1]-z2[0]) / 2 + z2[0], -One, Y, alpha=alpha, color=color1)\n",
    "ax.plot_surface(One * z2[0], X, Y, alpha=alpha, color=color1)\n",
    "ax.plot_surface(One * z2[-1], X, Y, alpha=alpha, color=color1)\n",
    "\n",
    "ax.set_box_aspect((5,1,1))\n",
    "\n",
    "ax.set_xticks([])\n",
    "ax.set_yticks([])\n",
    "ax.set_zticks([])\n",
    "\n",
    "ax.w_xaxis.set_pane_color((0., 0., 0., 0.))\n",
    "ax.w_yaxis.set_pane_color((0., 0., 0., 0.))\n",
    "ax.w_zaxis.set_pane_color((0., 0., 0., 0.))\n",
    "ax.axis(\"off\")\n",
    "\n",
    "#ax.set_ylim(-1, 1)\n",
    "#ax.set_zlim(-1, 1)\n",
    "ax.view_init(elev=32, azim=-163)\n",
    "fig.savefig(\"images/mo-effect/1.png\", transparent=True, dpi=400)"
   ],
   "metadata": {
    "collapsed": false
   }
  }
 ],
 "metadata": {
  "kernelspec": {
   "display_name": "Python 3",
   "language": "python",
   "name": "python3"
  },
  "language_info": {
   "codemirror_mode": {
    "name": "ipython",
    "version": 2
   },
   "file_extension": ".py",
   "mimetype": "text/x-python",
   "name": "python",
   "nbconvert_exporter": "python",
   "pygments_lexer": "ipython2",
   "version": "2.7.6"
  }
 },
 "nbformat": 4,
 "nbformat_minor": 0
}
