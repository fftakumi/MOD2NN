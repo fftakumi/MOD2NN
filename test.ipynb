{
 "cells": [
  {
   "cell_type": "code",
   "execution_count": 1,
   "metadata": {
    "collapsed": true,
    "pycharm": {
     "name": "#%%\n"
    }
   },
   "outputs": [],
   "source": [
    "import matplotlib.pyplot as plt\n",
    "import numpy as np\n",
    "import tensorflow as tf\n",
    "import math\n",
    "from layers import FreeSpacePropagation\n",
    "import time\n",
    "import pandas as pd\n",
    "import cv2\n",
    "from cxlayers import AngularSpectrum, ImageResizing, ImageToElectricField, ImageBinarization, CxMO, CxD2NNFaradayRotation, CxD2NNIntensity, D2NNMNISTDetector, Polarizer, GGG, Softmax\n",
    "import glob\n",
    "\n",
    "\n",
    "plt.rcParams[\"font.size\"]=18"
   ]
  },
  {
   "cell_type": "code",
   "execution_count": 86,
   "metadata": {
    "pycharm": {
     "name": "#%%\n"
    }
   },
   "outputs": [],
   "source": [
    "class CxD2NNFaradayRotation(tf.keras.layers.Layer):\n",
    "    def __init__(self, output_dim, normalization=None, activation=None):\n",
    "        super(CxD2NNFaradayRotation, self).__init__()\n",
    "        self.output_dim = output_dim\n",
    "        self.normalization = normalization\n",
    "        self.activation = activation\n",
    "\n",
    "    def get_config(self):\n",
    "        config = super().get_config()\n",
    "        config.update({\n",
    "            \"output_dim\": self.output_dim,\n",
    "            \"normalization\":  self.normalization,\n",
    "            \"activation\": self.activation\n",
    "        })\n",
    "        return config\n",
    "\n",
    "    @classmethod\n",
    "    def from_config(cls, config):\n",
    "        return cls(**config)\n",
    "\n",
    "    def call(self, x, **kwargs):\n",
    "        rcp_x = tf.keras.layers.Lambda(lambda x:x[:,0,0,:,:])(x)\n",
    "        rcp_y = tf.keras.layers.Lambda(lambda x:x[:,0,1,:,:])(x)\n",
    "        lcp_x = tf.keras.layers.Lambda(lambda x:x[:,1,0,:,:])(x)\n",
    "        lcp_y = tf.keras.layers.Lambda(lambda x:x[:,1,1,:,:])(x)\n",
    "\n",
    "        E0 = rcp_x + lcp_x\n",
    "        I0 = tf.abs(E0)**2 / 2.0\n",
    "        E90 = rcp_y + lcp_y\n",
    "        I90 = tf.abs(E90)**2 / 2.0\n",
    "        E45_x = (rcp_x - rcp_y + lcp_x - lcp_y) / 2.0\n",
    "        E45_y = (-rcp_x + rcp_y - lcp_x + lcp_y) / 2.0\n",
    "        I45 = tf.abs(E45_x)**2/2 + tf.abs(E45_y)**2 / 2.0\n",
    "        E135_x = (rcp_x + rcp_y + lcp_x + lcp_y) / 2.0\n",
    "        E135_y = (rcp_x + rcp_y + lcp_x + lcp_y) / 2.0\n",
    "        I135 = tf.abs(E135_x)**2/2 + tf.abs(E135_y)**2 / 2.0\n",
    "\n",
    "        S1 = I0 - I90\n",
    "        S2 = I45 - I135\n",
    "\n",
    "        # theta = tf.where(S1**2 > 1.0e-12, tf.atan(S2*S1 / S1*) / 2.0, tf.atan(S2*S1 / 1.0e-12) / 2.0,)\n",
    "        theta = tf.atan((S2 / S1)) / 2.0\n",
    "\n",
    "        if self.normalization == 'minmax':\n",
    "            minimum = tf.reduce_min(theta)\n",
    "            maximum = tf.reduce_max(theta)\n",
    "            theta = (theta - minimum) / (maximum - minimum)\n",
    "\n",
    "        if self.activation == 'softmax':\n",
    "            theta = tf.nn.softmax(theta)\n",
    "\n",
    "        return theta"
   ]
  },
  {
   "cell_type": "code",
   "execution_count": 3,
   "metadata": {
    "pycharm": {
     "name": "#%%\n"
    }
   },
   "outputs": [],
   "source": [
    "mnist = tf.keras.datasets.mnist\n",
    "\n",
    "(x_train, y_train), (x_test, y_test) = mnist.load_data()\n",
    "x_train = x_train / 255.0\n",
    "x_test = x_test / 255.0"
   ]
  },
  {
   "cell_type": "code",
   "execution_count": 157,
   "metadata": {
    "pycharm": {
     "name": "#%%\n"
    }
   },
   "outputs": [
    {
     "data": {
      "text/plain": [
       "(array([ 980., 1135., 1032., 1010.,  982.,  892.,  958., 1028.,  974.,\n",
       "        1009.]),\n",
       " array([0. , 0.9, 1.8, 2.7, 3.6, 4.5, 5.4, 6.3, 7.2, 8.1, 9. ]),\n",
       " <BarContainer object of 10 artists>)"
      ]
     },
     "execution_count": 157,
     "metadata": {},
     "output_type": "execute_result"
    },
    {
     "data": {
      "image/png": "[encoded data removed]",
      "text/plain": [
       "<Figure size 432x288 with 1 Axes>"
      ]
     },
     "metadata": {},
     "output_type": "display_data"
    }
   ],
   "source": [
    "plt.hist(y_test)"
   ]
  },
  {
   "cell_type": "code",
   "execution_count": 4,
   "metadata": {
    "pycharm": {
     "name": "#%%\n"
    }
   },
   "outputs": [],
   "source": [
    "train_num = 10\n",
    "test_num = 10\n",
    "total = train_num + test_num\n",
    "train_data = {}\n",
    "test_data = {}\n",
    "for i in range(10):\n",
    "  train_data[str(i)] = x_train[np.where(y_train == i)][0:train_num]\n",
    "  test_data[str(i)] = x_test[np.where(y_test == i)][0:test_num]"
   ]
  },
  {
   "cell_type": "code",
   "execution_count": null,
   "outputs": [],
   "source": [
    "shape = (100, 100)\n",
    "inputs = tf.keras.Input((28, 28))\n",
    "x = ImageResizing(shape)(inputs)\n",
    "x = ImageBinarization(0.5, 0.0, 1.0)(x)\n",
    "x = ImageToElectricField(shape)(x)\n",
    "x = CxMO(shape, limitation=None, limitation_num=2.1 * np.pi / 180)(x)\n",
    "x = AngularSpectrum(shape, wavelength=531e-9, z=1.0e-3, d=1.0e-6, method='expand')(x)\n",
    "x = CxD2NNFaradayRotation(shape)(x)\n",
    "# x = Polarizer(shape)(x)\n",
    "# x = CxD2NNIntensity(shape)(x)\n",
    "# x = D2NNMNISTDetector(10)(x)\n",
    "# x = tf.keras.layers.Softmax()(x)\n",
    "model = tf.keras.Model(inputs, x)"
   ],
   "metadata": {
    "collapsed": false,
    "pycharm": {
     "name": "#%%\n"
    }
   }
  },
  {
   "cell_type": "markdown",
   "source": [],
   "metadata": {
    "collapsed": false,
    "pycharm": {
     "name": "#%% md\n"
    }
   }
  },
  {
   "cell_type": "code",
   "execution_count": null,
   "outputs": [],
   "source": [
    "weights = model.layers[4].get_weights()\n",
    "phase = ((np.loadtxt(\"data/phase/100px/train_7.csv\")-0.5) * 2.0) * 2.1 * np.pi / 180\n",
    "tx = np.linspace(-np.pi, np.pi, 100)\n",
    "ty = np.linspace(-np.pi, np.pi, 100)\n",
    "XX, YY = np.meshgrid(tx, ty)\n",
    "W = np.sqrt(XX**2 + YY**2)\n",
    "weights[0] = phase\n",
    "model.layers[4].set_weights(weights)\n",
    "image = np.ones((2, 28, 28))\n",
    "pred = model.predict(image) * 180 / np.pi\n",
    "plt.imshow(pred[0,:,:], cmap=\"viridis\")\n",
    "plt.colorbar()\n",
    "plt.clim(-2.5, 2.5)\n",
    "plt.xticks(color=\"None\")\n",
    "plt.yticks(color=\"None\")\n",
    "plt.tick_params(length=0)\n",
    "plt.grid(False)\n",
    "print(pred.max() - pred.min())"
   ],
   "metadata": {
    "collapsed": false,
    "pycharm": {
     "name": "#%%\n"
    }
   }
  },
  {
   "cell_type": "code",
   "execution_count": null,
   "outputs": [],
   "source": [
    "model = tf.keras.models.load_model(\"test\")\n",
    "model.summary()"
   ],
   "metadata": {
    "collapsed": false,
    "pycharm": {
     "name": "#%%\n"
    }
   }
  },
  {
   "cell_type": "code",
   "execution_count": null,
   "outputs": [],
   "source": [
    "def check_zero_range(x, eps):\n",
    "    return -eps < x < eps\n",
    "\n",
    "e = np.arange(-5, 5, 1.0)\n",
    "x = 10.0**e\n",
    "XX, YY = np.meshgrid(x, x)\n",
    "\n",
    "a = tf.constant(XX, dtype=tf.float16)\n",
    "b = tf.constant(YY, dtype=tf.float16)\n",
    "arg = 2.0 * tf.atan((tf.sqrt(a**2 + b**2) - a)/b)\n",
    "\n",
    "print(arg[np.isnan((arg.numpy()))].shape)\n",
    "plt.imshow(np.isnan(arg.numpy()))\n"
   ],
   "metadata": {
    "collapsed": false,
    "pycharm": {
     "name": "#%%\n"
    }
   }
  },
  {
   "cell_type": "code",
   "execution_count": null,
   "outputs": [],
   "source": [
    "columns = [\"epoch\", \"pi/100\", \"pi/10\", \"pi/5\", \"pi/3\", \"pi/2\", \"pi\"]\n",
    "path = \"trained_model/20220415_*/*.csv\"\n",
    "files = glob.glob(path)\n",
    "files.sort()\n",
    "data = []\n",
    "a = pd.read_csv(files[0])\n",
    "for i, file in enumerate(files):\n",
    "    df = pd.read_csv(file)\n",
    "    if i == 0:\n",
    "        data.append(df.index.values + 1)\n",
    "    data.append(df[\"accuracy\"].values)\n",
    "data = pd.DataFrame(np.array(data).T, columns=columns)\n",
    "data.plot(x=\"epoch\")"
   ],
   "metadata": {
    "collapsed": false,
    "pycharm": {
     "name": "#%%\n"
    }
   }
  },
  {
   "cell_type": "code",
   "execution_count": null,
   "outputs": [],
   "source": [
    "print('hellooo')"
   ],
   "metadata": {
    "collapsed": false,
    "pycharm": {
     "name": "#%%\n"
    }
   }
  }
 ],
 "metadata": {
  "kernelspec": {
   "display_name": "Python 3 (ipykernel)",
   "language": "python",
   "name": "python3"
  },
  "language_info": {
   "codemirror_mode": {
    "name": "ipython",
    "version": 3
   },
   "file_extension": ".py",
   "mimetype": "text/x-python",
   "name": "python",
   "nbconvert_exporter": "python",
   "pygments_lexer": "ipython3",
   "version": "3.8.11"
  }
 },
 "nbformat": 4,
 "nbformat_minor": 1
}