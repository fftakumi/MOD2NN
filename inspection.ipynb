{
 "cells": [
  {
   "cell_type": "code",
   "execution_count": 1,
   "metadata": {
    "colab": {
     "base_uri": "https://localhost:8080/"
    },
    "id": "siPPlhXr8Xt8",
    "outputId": "7304192e-cdc1-4002-9ca8-6bfa1e62e7b2",
    "pycharm": {
     "name": "#%%\n"
    }
   },
   "outputs": [
    {
     "name": "stdout",
     "output_type": "stream",
     "text": [
      "Cloning into 'MOD2NN'...\n",
      "remote: Enumerating objects: 219, done.\u001B[K\n",
      "remote: Counting objects: 100% (219/219), done.\u001B[K\n",
      "remote: Compressing objects: 100% (131/131), done.\u001B[K\n",
      "remote: Total 219 (delta 123), reused 168 (delta 85), pack-reused 0\u001B[K\n",
      "Receiving objects: 100% (219/219), 2.68 MiB | 4.10 MiB/s, done.\n",
      "Resolving deltas: 100% (123/123), done.\n",
      "Mounted at /content/drive\n"
     ]
    }
   ],
   "source": [
    "#------------------------\n",
    "# Google Colab上でのみ実行\n",
    "#------------------------\n",
    "!git clone https://github.com/konnitiha3/MOD2NN.git\n",
    "\n",
    "import sys\n",
    "sys.path.append('/content/MOD2NN')\n",
    "\n",
    "from google.colab import drive\n",
    "drive.mount('/content/drive')"
   ]
  },
  {
   "cell_type": "code",
   "execution_count": null,
   "outputs": [],
   "source": [
    "import tensorflow as tf\n",
    "from tensorflow import keras\n",
    "import numpy as np\n",
    "import seaborn as sns\n",
    "import matplotlib.pyplot as plt\n",
    "from mpl_toolkits.axes_grid1 import make_axes_locatable\n",
    "import pandas as pd\n",
    "import sys\n",
    "from cxlayers import ImageToElectricField, CxMO, AngularSpectrum, CxD2NNIntensity, D2NNMNISTDetector, ImageResizing, D2NNMNISTFilter, CxD2NNFaradayRotation, GGG, ImageBinarization, Polarizer\n",
    "import os\n",
    "import matplotlib_style\n",
    "import glob\n",
    "import re\n",
    "import datetime\n",
    "\n",
    "print(\"TensorFlow:\", tf.__version__)\n",
    "print(\"Python:\", sys.version)\n",
    "\n",
    "plt.rcParams['font.size'] = 18"
   ],
   "metadata": {
    "collapsed": false,
    "pycharm": {
     "name": "#%%\n"
    }
   }
  },
  {
   "cell_type": "code",
   "execution_count": null,
   "outputs": [],
   "source": [
    "mnist = tf.keras.datasets.mnist\n",
    "\n",
    "(x_train, y_train), (x_test, y_test) = mnist.load_data()\n",
    "\n",
    "x_train = x_train / 255.0\n",
    "x_test = x_test / 255.0"
   ],
   "metadata": {
    "collapsed": false,
    "pycharm": {
     "name": "#%%\n"
    }
   }
  },
  {
   "cell_type": "markdown",
   "source": [
    "# 単一モデル評価"
   ],
   "metadata": {
    "collapsed": false,
    "pycharm": {
     "name": "#%% md\n"
    }
   }
  },
  {
   "cell_type": "markdown",
   "source": [
    "## モデル読み込み"
   ],
   "metadata": {
    "collapsed": false,
    "pycharm": {
     "name": "#%% md\n"
    }
   }
  },
  {
   "cell_type": "code",
   "execution_count": null,
   "outputs": [],
   "source": [
    "path = 'trained_model/20220425_5'\n",
    "model = tf.keras.models.load_model(path)\n",
    "model.summary()"
   ],
   "metadata": {
    "collapsed": false,
    "pycharm": {
     "name": "#%%\n"
    }
   }
  },
  {
   "cell_type": "markdown",
   "source": [
    "## 正解率"
   ],
   "metadata": {
    "collapsed": false,
    "pycharm": {
     "name": "#%% md\n"
    }
   }
  },
  {
   "cell_type": "code",
   "execution_count": null,
   "outputs": [],
   "source": [
    "history = pd.read_csv(path + '/history.csv')\n",
    "\n",
    "fig = plt.figure(figsize=(6, 6))\n",
    "ax1 = fig.add_subplot(111)\n",
    "ax2 = ax1.twinx()\n",
    "ax1.plot(range(1, history.index.stop + 1), history['loss'], color='black', label='Loss')\n",
    "ax1.set_ylabel('Loss')\n",
    "ax1.set_xlabel('epoch')\n",
    "ax2.plot(range(1, history.index.stop + 1), history['accuracy'], color='red', label='Accuracy')\n",
    "ax2.set_ylabel('Accuracy')\n",
    "# label1と2には、凡例用に各labelのリスト情報が入る\n",
    "handler1, label1 = ax1.get_legend_handles_labels()\n",
    "handler2, label2 = ax2.get_legend_handles_labels()\n",
    "# 凡例をまとめて出力する\n",
    "ax1.legend(handler1 + handler2, label1 + label2, loc=2, borderaxespad=0.)\n",
    "\n",
    "# model.evaluate(x_test, y_test)"
   ],
   "metadata": {
    "collapsed": false,
    "pycharm": {
     "name": "#%%\n"
    }
   }
  },
  {
   "cell_type": "markdown",
   "source": [
    "## 混同行列"
   ],
   "metadata": {
    "collapsed": false,
    "pycharm": {
     "name": "#%% md\n"
    }
   }
  },
  {
   "cell_type": "code",
   "execution_count": null,
   "outputs": [],
   "source": [
    "pred_label = tf.argmax(model.predict(x_test), axis=-1).numpy()\n",
    "cm = tf.math.confusion_matrix(y_test, pred_label)\n",
    "label_tot = np.sum(cm, axis=1).reshape(-1, 1)\n",
    "norm_cm = cm/label_tot"
   ],
   "metadata": {
    "collapsed": false,
    "pycharm": {
     "name": "#%%\n"
    }
   }
  },
  {
   "cell_type": "code",
   "execution_count": null,
   "outputs": [],
   "source": [
    "plt.figure(figsize=(7, 7))\n",
    "sns.heatmap(norm_cm, square=True, cbar=False, annot=True, fmt=\".2f\", cmap='BuPu')\n",
    "plt.rcParams[\"font.size\"] = 13\n",
    "plt.xlabel(\"Predicted label\", fontsize=13)\n",
    "plt.ylabel(\"True label\", fontsize=13)\n",
    "plt.title(\"Normalized confusion matrix\")"
   ],
   "metadata": {
    "collapsed": false,
    "pycharm": {
     "name": "#%%\n"
    }
   }
  },
  {
   "cell_type": "markdown",
   "source": [
    "## 位相変調層"
   ],
   "metadata": {
    "collapsed": false,
    "pycharm": {
     "name": "#%% md\n"
    }
   }
  },
  {
   "cell_type": "code",
   "execution_count": null,
   "outputs": [],
   "source": [
    "pattern = r'cx_mo'\n",
    "mo_layers = []\n",
    "save = False\n",
    "each_save = True\n",
    "for layer in model.layers:\n",
    "    result = re.match(pattern, layer.name)\n",
    "    if result:\n",
    "        mo_layers.append(layer)\n",
    "\n",
    "fig, axes = plt.subplots(1, len(mo_layers), figsize=(4 * len(mo_layers), 4))\n",
    "for i, ax in enumerate(axes):\n",
    "    layer = mo_layers[i]\n",
    "    vmax = layer.limitation_num.numpy()\n",
    "    vmin = -layer.limitation_num.numpy()\n",
    "    im = ax.imshow(layer.get_limited_phi(),\n",
    "              cmap=\"viridis\",\n",
    "              interpolation=None,\n",
    "              vmin=vmin, vmax=vmax)\n",
    "    ax.grid(False)\n",
    "    ax.set_xticks([],color=\"None\")\n",
    "    ax.set_yticks([],color=\"None\")\n",
    "\n",
    "    if each_save:\n",
    "        t_delta = datetime.timedelta(hours=9)\n",
    "        JST = datetime.timezone(t_delta, 'JST')\n",
    "        now = datetime.datetime.now(JST)\n",
    "        plt.imsave('images/' + now.strftime('%Y%m%d%H%M%S') +\"_\" + str(i) + '.png',\n",
    "                    layer.get_limited_phi(),\n",
    "                    cmap=\"cividis\",\n",
    "                    vmin=vmin, vmax=vmax,\n",
    "                    dpi=300)\n",
    "\n",
    "\n",
    "\n",
    "if save:\n",
    "    t_delta = datetime.timedelta(hours=9)\n",
    "    JST = datetime.timezone(t_delta, 'JST')\n",
    "    now = datetime.datetime.now(JST)\n",
    "    fig.savefig('images/' + now.strftime('%Y%m%d%H%M%S') + '.png',\n",
    "                dpi=300)"
   ],
   "metadata": {
    "collapsed": false,
    "pycharm": {
     "name": "#%%\n"
    }
   }
  },
  {
   "cell_type": "markdown",
   "source": [
    "## 出力プロット"
   ],
   "metadata": {
    "collapsed": false,
    "pycharm": {
     "name": "#%% md\n"
    }
   }
  },
  {
   "cell_type": "code",
   "execution_count": null,
   "outputs": [],
   "source": [
    "layer_name = model.layers[-3].name\n",
    "hidden_layer_model = tf.keras.Model(inputs=model.input, outputs=model.get_layer(layer_name).output)\n",
    "filter_y = D2NNMNISTFilter((100, 100))(model.get_layer(layer_name).output)\n",
    "filter_model = tf.keras.Model(inputs=model.input, outputs=filter_y)\n",
    "num = 5\n",
    "images = x_train[0:num + 0, :, :]\n",
    "\n",
    "preds = model.predict(images)\n",
    "pred_images = hidden_layer_model.predict(images)\n",
    "filtered_images = filter_model.predict(images)\n",
    "fig, axes = plt.subplots(num, 4, figsize=(12, 15))\n",
    "for i in range(num):\n",
    "    axes[i, 0].imshow(images[i, :, :])\n",
    "    axes[i, 1].imshow(pred_images[i, :, :])\n",
    "    axes[i, 2].imshow(filtered_images[i,:,:])\n",
    "    axes[i, 3].bar(np.arange(0, 10, 1), preds[i, :], align='center')\n",
    "    axes[i, 3].set_xticks(np.arange(0, 10, 1))\n",
    "    axes[i, 3].set_aspect(1./axes[i, 3].get_data_ratio())\n",
    "    if i == 0:\n",
    "        axes[i, 0].set_title(\"Input\")\n",
    "        axes[i, 1].set_title(\"Output\")\n",
    "        axes[i, 2].set_title(\"Filtered Output\")\n",
    "        axes[i, 3].set_title(\"Predict\")\n",
    "        \n",
    "fig.tight_layout()"
   ],
   "metadata": {
    "collapsed": false,
    "pycharm": {
     "name": "#%%\n"
    }
   }
  },
  {
   "cell_type": "markdown",
   "source": [
    "## 途中出力可視化"
   ],
   "metadata": {
    "collapsed": false,
    "pycharm": {
     "name": "#%% md\n"
    }
   }
  },
  {
   "cell_type": "markdown",
   "source": [
    "### 光強度"
   ],
   "metadata": {
    "collapsed": false,
    "pycharm": {
     "name": "#%% md\n"
    }
   }
  },
  {
   "cell_type": "code",
   "execution_count": null,
   "outputs": [],
   "source": [
    "plt.rcParams[\"font.size\"] = 20\n",
    "output_class = CxD2NNIntensity\n",
    "pattern = r'angular_spectrum'\n",
    "outputs = [model.layers[2].output]\n",
    "each_save = False\n",
    "save = False\n",
    "for layer in model.layers:\n",
    "    result = re.match(pattern, layer.name)\n",
    "    if result:\n",
    "        outputs.append(output_class((100, 100))(layer.output))\n",
    "# outputs.pop(-2)\n",
    "outputs.append(D2NNMNISTFilter((100, 100))(model.layers[-3].output))\n",
    "outputs.append(model.layers[-1].output)\n",
    "hidden_layer_model = tf.keras.Model(model.inputs, outputs=outputs)\n",
    "images_num = 2\n",
    "# intput_images = x_test[0:images_num,:,:]\n",
    "input_images = np.array([x_test[1,:,:], x_test[0,:,:]])\n",
    "pred = hidden_layer_model.predict(input_images)\n",
    "fig, axes = plt.subplots(images_num, len(pred), figsize=(4 * len(pred), 4 * images_num))\n",
    "for i, _ax in enumerate(axes):\n",
    "    for j, ax in enumerate(_ax):\n",
    "        if j==len(pred)-1:\n",
    "            ax.bar(np.arange(0, 10, 1), pred[j][i, :], align='center')\n",
    "            ax.set_xticks(np.arange(0, 10, 1))\n",
    "            ax.set_ylim(0, 1)\n",
    "            ax.grid(False)\n",
    "            ax.set_xlabel(\"Label\")\n",
    "            ax.set_ylabel(\"Expected probability\")\n",
    "            ax.spines['top'].set_color('black')\n",
    "            ax.spines['bottom'].set_color('black')\n",
    "            ax.spines['left'].set_color('black')\n",
    "            ax.spines['right'].set_color('black')\n",
    "            ax.set_facecolor('white')\n",
    "            ax_pos = axes[i,j-1].get_position()\n",
    "            ax.set_position([0.84, ax_pos.y0, ax_pos.width, ax_pos.height])\n",
    "            ax.yaxis.set_label_position(\"right\")\n",
    "\n",
    "            ax.tick_params(labelright=True, labelleft=False)\n",
    "            axpos = axes[i,j-1].get_position()\n",
    "            cbar_ax = fig.add_axes([0.805, axpos.y0, 0.005, axpos.height])\n",
    "            cbar = fig.colorbar(axes[i, j-1].images[0], cax=cbar_ax, label='Normalized intensity (a.u)')\n",
    "\n",
    "            # divider = make_axes_locatable(axes[i,j-1]) #axに紐付いたAxesDividerを取得\n",
    "            # cax = divider.append_axes(\"right\", size=\"5%\", pad=0.1) #append_axesで新しいaxesを作成\n",
    "            # fig.colorbar(axes[i,j-1].images[0], cax=cax, label='Normalized Intensity')\n",
    "\n",
    "        else:\n",
    "            image = pred[j][i,:,:]\n",
    "            norm_image = image / np.max(image)\n",
    "            ax_im = ax.imshow(norm_image, cmap=\"viridis\", interpolation=None, vmin=0., vmax=1.)\n",
    "            # divider = make_axes_locatable(ax) #axに紐付いたAxesDividerを取得\n",
    "            # cax = divider.append_axes(\"right\", size=\"5%\", pad=0.1) #append_axesで新しいaxesを作成\n",
    "            # fig.colorbar(ax_im, cax=cax) #新しく作成したaxesであるcaxを渡す。\n",
    "            ax.grid(False)\n",
    "            ax.set_xticks([],color=\"black\")\n",
    "            ax.set_yticks([],color=\"black\")\n",
    "\n",
    "        if each_save:\n",
    "            extent = ax.get_window_extent().transformed(fig.dpi_scale_trans.inverted())\n",
    "            fig.savefig('images/' + \"image_\" + str(i) + \"_\" + str(j) + \".png\", bbox_inches=extent)\n",
    "\n",
    "\n",
    "if save:\n",
    "    t_delta = datetime.timedelta(hours=9)\n",
    "    JST = datetime.timezone(t_delta, 'JST')\n",
    "    now = datetime.datetime.now(JST)\n",
    "    fig.savefig('images/' + now.strftime('%Y%m%d%H%M%S') + '.png', dpi=300)"
   ],
   "metadata": {
    "collapsed": false,
    "pycharm": {
     "name": "#%%\n"
    }
   }
  },
  {
   "cell_type": "code",
   "execution_count": null,
   "outputs": [],
   "source": [
    "plt.rcParams[\"font.size\"] = 22\n",
    "fig, axes = plt.subplots(images_num, len(pred), figsize=(4 * len(pred), 4 * images_num))\n",
    "fig.subplots_adjust(wspace=0.5, hspace=0.2)\n",
    "for _ax in axes:\n",
    "    for ax in _ax:\n",
    "        ax.grid(False)\n",
    "        ax.set_xticks([],color=\"none\")\n",
    "        ax.set_yticks([],color=\"none\")\n",
    "\n",
    "for j in range(2):\n",
    "    for i in range(7):\n",
    "        norm_image = pred[i][j,:,:] / np.max(pred[i][j,:,:])\n",
    "        axes[j, i].imshow(norm_image, cmap='viridis', vmin=0., vmax=1.)\n",
    "\n",
    "    axes[j, 6].tick_params(labelright=True, labelleft=False)\n",
    "    axpos = axes[j,6].get_position()\n",
    "    cbar_ax = fig.add_axes([0.805, axpos.y0, 0.005, axpos.height])\n",
    "    cbar = fig.colorbar(axes[j, 6].images[0], cax=cbar_ax, label='Normalized intensity (a.u)')\n",
    "\n",
    "    axes[j, 6].text(12,20, \"0\", color=\"white\")\n",
    "    axes[j, 6].text(46,20, \"1\", color=\"white\")\n",
    "    axes[j, 6].text(78,20, \"2\", color=\"white\")\n",
    "    axes[j, 6].text(12,43, \"3\", color=\"white\")\n",
    "    axes[j, 6].text(35,43, \"4\", color=\"white\")\n",
    "    axes[j, 6].text(56.5,43, \"5\", color=\"white\")\n",
    "    axes[j, 6].text(78,43, \"6\", color=\"white\")\n",
    "    axes[j, 6].text(12,64, \"7\", color=\"white\")\n",
    "    axes[j, 6].text(46,64, \"8\", color=\"white\")\n",
    "    axes[j, 6].text(78,64, \"9\", color=\"white\")\n",
    "\n",
    "    # fig.colorbar(axes[0, 6].images[0], ax=axes[0, 6], label='Normalized intensity (a.u)')\n",
    "\n",
    "    axes[j, 7].bar(np.arange(0, 10, 1), pred[7][j, :], align='center')\n",
    "    axes[j, 7].set_xticks(np.arange(0, 10, 1))\n",
    "    axes[j, 7].set_ylim(0, 1)\n",
    "    axes[j, 7].grid(False)\n",
    "    axes[j, 7].set_xlabel(\"Label\")\n",
    "    axes[j, 7].set_ylabel(\"Expected probability\")\n",
    "    axes[j, 7].spines['top'].set_color('black')\n",
    "    axes[j, 7].spines['bottom'].set_color('black')\n",
    "    axes[j, 7].spines['left'].set_color('black')\n",
    "    axes[j, 7].spines['right'].set_color('black')\n",
    "    axes[j, 7].set_facecolor('white')\n",
    "    axes[j, 7].yaxis.set_label_position(\"right\")\n",
    "    axes[j, 7].tick_params(labelright=True, labelleft=False)\n",
    "    ax_pos = axes[j,6].get_position()\n",
    "    axes[j, 7].set_position([0.85, ax_pos.y0, ax_pos.width, ax_pos.height])\n",
    "\n",
    "fig.savefig(\"images/test2.png\", dpi=300)"
   ],
   "metadata": {
    "collapsed": false,
    "pycharm": {
     "name": "#%%\n"
    }
   }
  },
  {
   "cell_type": "markdown",
   "source": [
    "### ファラデー回転角"
   ],
   "metadata": {
    "collapsed": false,
    "pycharm": {
     "name": "#%% md\n"
    }
   }
  },
  {
   "cell_type": "code",
   "execution_count": null,
   "outputs": [],
   "source": [
    "output_class = CxD2NNFaradayRotation\n",
    "pattern = r'angular_spectrum'\n",
    "outputs = [model.layers[2].output]\n",
    "each_save = False\n",
    "save = True\n",
    "for layer in model.layers:\n",
    "    result = re.match(pattern, layer.name)\n",
    "    if result:\n",
    "        outputs.append(output_class((100, 100))(layer.output))\n",
    "phi = model.layers[4].limitation_num.numpy()\n",
    "outputs.append(D2NNMNISTFilter((100, 100))(model.layers[-3].output))\n",
    "outputs.append(model.layers[-1].output)\n",
    "hidden_layer_model = tf.keras.Model(model.inputs, outputs=outputs)\n",
    "images_num = 2\n",
    "input_images = x_test[0:images_num,:,:]\n",
    "input_images = np.array([x_test[1,:,:], x_test[0,:,:]])\n",
    "pred = hidden_layer_model.predict(input_images)\n",
    "fig, axes = plt.subplots(images_num, len(pred), figsize=(4 * len(pred), 4 * images_num))\n",
    "fig.subplots_adjust(wspace=0.35, hspace=1)\n",
    "for i, _ax in enumerate(axes):\n",
    "    for j, ax in enumerate(_ax):\n",
    "        if j==0:\n",
    "            image = pred[j][i,:,:]\n",
    "            ax_im = ax.imshow(image/np.max(image), cmap=\"viridis\", interpolation=None)\n",
    "            ax.grid(False)\n",
    "            ax.set_xticks([],color=\"black\")\n",
    "            ax.set_yticks([],color=\"black\")\n",
    "            divider = make_axes_locatable(ax) #axに紐付いたAxesDividerを取得\n",
    "            cax = divider.append_axes(\"right\", size=\"5%\", pad=0.1) #append_axesで新しいaxesを作成\n",
    "            cbar = fig.colorbar(ax_im, cax=cax) #新しく作成したaxesであるcaxを渡す。\n",
    "            cbar.set_label('Normalized Intensity (a.u.)')\n",
    "        elif j==len(pred)-1:\n",
    "            rect = ax.bar(np.arange(0, 10, 1), pred[j][i, :], align='center')\n",
    "            max_idx = np.argmax(pred[j][i, :])\n",
    "            rect[max_idx].set_color(\"red\")\n",
    "            ax.set_xticks(np.arange(0, 10, 1))\n",
    "            ax.set_ylim(0, 1)\n",
    "            ax.grid(False)\n",
    "            ax.set_xlabel(\"Label\")\n",
    "            ax.set_ylabel(\"Expected probability\")\n",
    "            ax.spines['top'].set_color('black')\n",
    "            ax.spines['bottom'].set_color('black')\n",
    "            ax.spines['left'].set_color('black')\n",
    "            ax.spines['right'].set_color('black')\n",
    "            ax.set_facecolor('white')\n",
    "            ax_pos = axes[i,j-1].get_position()\n",
    "            ax.set_position([0.87, ax_pos.y0, ax_pos.width, ax_pos.height])\n",
    "            ax.yaxis.set_label_position(\"right\")\n",
    "            ax.yaxis.tick_right()\n",
    "\n",
    "            # ax.tick_params(labelright=True, labelleft=False)\n",
    "            # axpos = axes[i,j-1].get_position()\n",
    "            # cbar_ax = fig.add_axes([0.805, axpos.y0, 0.005, axpos.height])\n",
    "            # cbar = fig.colorbar(axes[i, j-1].images[0], cax=cbar_ax, label='Normalized intensity (a.u)')\n",
    "\n",
    "            # divider = make_axes_locatable(axes[i,j-1]) #axに紐付いたAxesDividerを取得\n",
    "            # cax = divider.append_axes(\"right\", size=\"5%\", pad=0.1) #append_axesで新しいaxesを作成\n",
    "            # fig.colorbar(axes[i,j-1].images[0], cax=cax, label='Normalized Intensity')\n",
    "\n",
    "        else:\n",
    "            image = pred[j][i,:,:]\n",
    "            ax_im = ax.imshow(image, cmap=\"viridis\", interpolation=None, vmin=-phi*j-0.001, vmax=phi*j+0.001)\n",
    "            divider = make_axes_locatable(ax) #axに紐付いたAxesDividerを取得\n",
    "            cax = divider.append_axes(\"right\", size=\"5%\", pad=0.1) #append_axesで新しいaxesを作成\n",
    "            cbar = fig.colorbar(ax_im, cax=cax, ticks=[-phi*j, 0, phi*j]) #新しく作成したaxesであるcaxを渡す。\n",
    "            cbar.ax.set_ylim(-phi*j, phi*j)\n",
    "            if j==1:\n",
    "                ticklabel = [r'$\\dfrac{-\\pi}{100}$', '0.0', r'$\\dfrac{\\pi}{100}$']\n",
    "            elif j==6:\n",
    "                ticklabel = [r'$\\dfrac{-5\\pi}{100}$', '0.0', r'$\\dfrac{5\\pi}{100}$']\n",
    "                cbar.set_label('Faraday rotation (rad.)')\n",
    "                ax.text(12,20, \"0\", color=\"white\")\n",
    "                ax.text(46,20, \"1\", color=\"white\")\n",
    "                ax.text(78,20, \"2\", color=\"white\")\n",
    "                ax.text(12,43, \"3\", color=\"white\")\n",
    "                ax.text(35,43, \"4\", color=\"white\")\n",
    "                ax.text(56.5,43, \"5\", color=\"white\")\n",
    "                ax.text(78,43, \"6\", color=\"white\")\n",
    "                ax.text(12,64, \"7\", color=\"white\")\n",
    "                ax.text(46,64, \"8\", color=\"white\")\n",
    "                ax.text(78,64, \"9\", color=\"white\")\n",
    "            else:\n",
    "                ticklabel = [r'$\\dfrac{-' + str(j) + '\\pi}{100}$', '0.0', r'$\\dfrac{' + str(j) + '\\pi}{100}$']\n",
    "            cbar.ax.set_yticklabels(ticklabel)\n",
    "            ax.grid(False)\n",
    "            ax.set_xticks([],color=\"black\")\n",
    "            ax.set_yticks([],color=\"black\")\n",
    "\n",
    "        if each_save:\n",
    "            extent = ax.get_window_extent().transformed(fig.dpi_scale_trans.inverted())\n",
    "            fig.savefig('images/' + \"image_\" + str(i) + \"_\" + str(j) + \".png\", bbox_inches=extent)\n",
    "\n",
    "# fig.tight_layout()\n",
    "# fig.canvas.draw()\n",
    "pos = axes[0, 0].get_position()\n",
    "axes[0, 0].set_position([0.12, pos.y0, pos.width, pos.height])\n",
    "\n",
    "pos = axes[1, 0].get_position()\n",
    "axes[1, 0].set_position([0.12, pos.y0, pos.width, pos.height])\n",
    "\n",
    "pos = axes[0, -1].get_position()\n",
    "axes[0, -1].set_position([pos.x0-0.025, pos.y0, pos.width-0.01, pos.height])\n",
    "\n",
    "pos = axes[1, -1].get_position()\n",
    "axes[1, -1].set_position([pos.x0-0.025, pos.y0, pos.width-0.01, pos.height])\n",
    "\n",
    "\n",
    "if save:\n",
    "    t_delta = datetime.timedelta(hours=9)\n",
    "    JST = datetime.timezone(t_delta, 'JST')\n",
    "    now = datetime.datetime.now(JST)\n",
    "    fig.savefig('images/' + now.strftime('%Y%m%d%H%M%S') + '.png', dpi=300)"
   ],
   "metadata": {
    "collapsed": false,
    "pycharm": {
     "name": "#%%\n"
    }
   }
  },
  {
   "cell_type": "markdown",
   "source": [
    "## 2値化して出力プロット"
   ],
   "metadata": {
    "collapsed": false,
    "pycharm": {
     "name": "#%% md\n"
    }
   }
  },
  {
   "cell_type": "code",
   "execution_count": null,
   "outputs": [],
   "source": [
    "mo_layer_index = [4, 6]\n",
    "limit_value = 2.1 * np.pi / 180\n",
    "for idx in mo_layer_index:\n",
    "    phi = model.layers[idx].get_weights()\n",
    "    phi_lim = tf.tanh(phi)\n",
    "    phi_bi = tf.where(phi_lim >= 0, limit_value, -limit_value)\n",
    "    model.layers[idx].set_weights(phi_bi)\n",
    "    model.layers[idx].limitation=None\n",
    "\n",
    "layer_name = model.layers[-2].name\n",
    "hidden_layer_model = tf.keras.Model(inputs=model.input, outputs=model.get_layer(layer_name).output)\n",
    "filter_y = D2NNMNISTFilter((100, 100))(model.get_layer(layer_name).output)\n",
    "filter_model = tf.keras.Model(inputs=model.input, outputs=filter_y)\n",
    "num = 5\n",
    "images = x_train[0:num, :, :]\n",
    "\n",
    "preds = model.predict(images)\n",
    "pred_images = hidden_layer_model.predict(images)\n",
    "filtered_images = filter_model.predict(images)\n",
    "fig, axes = plt.subplots(num, 4, figsize=(12, 15))\n",
    "for i in range(num):\n",
    "    axes[i, 0].imshow(images[i, :, :])\n",
    "    axes[i, 1].imshow(pred_images[i, :, :])\n",
    "    axes[i, 2].imshow(filtered_images[i,:,:])\n",
    "    axes[i, 3].bar(np.arange(0, 10, 1), preds[i, :], align='center')\n",
    "    axes[i, 3].set_xticks(np.arange(0, 10, 1))\n",
    "    axes[i, 3].set_ylabel('Accuracy')\n",
    "    axes[i, 3].set_aspect(1./axes[i, 3].get_data_ratio())\n",
    "fig.tight_layout()"
   ],
   "metadata": {
    "collapsed": false,
    "pycharm": {
     "name": "#%%\n"
    }
   }
  },
  {
   "cell_type": "code",
   "execution_count": null,
   "outputs": [],
   "source": [
    "model.evaluate(x_test, y_test)"
   ],
   "metadata": {
    "collapsed": false,
    "pycharm": {
     "name": "#%%\n"
    }
   }
  },
  {
   "cell_type": "markdown",
   "source": [
    "## 位相変調量"
   ],
   "metadata": {
    "collapsed": false,
    "pycharm": {
     "name": "#%% md\n"
    }
   }
  },
  {
   "cell_type": "code",
   "execution_count": null,
   "outputs": [],
   "source": [
    "bi_phase = model.layers[5].get_weights()[0]\n",
    "plt.imshow(bi_phase, cmap='plasma', interpolation='none')\n",
    "plt.colorbar()\n",
    "bi_phase = np.where(bi_phase >= 0, 1, -1)\n",
    "np.savetxt('data/phase/20220319-1/layer2.csv', bi_phase, fmt='%d', delimiter=',')"
   ],
   "metadata": {
    "collapsed": false,
    "pycharm": {
     "name": "#%%\n"
    }
   }
  },
  {
   "cell_type": "markdown",
   "source": [
    "## 学習過程の正解率比較"
   ],
   "metadata": {
    "collapsed": false,
    "pycharm": {
     "name": "#%% md\n"
    }
   }
  },
  {
   "cell_type": "code",
   "execution_count": null,
   "outputs": [],
   "source": [
    "path = 'trained_model'\n",
    "files = glob.glob(path + '/20220317*/history.csv')\n",
    "labels = [r'$\\pm 90\\degree$', r'$\\pm 45 \\degree$', r'$\\pm 10 \\degree$']\n",
    "for i, file in enumerate(files):\n",
    "    history = pd.read_csv(file)\n",
    "    plt.plot(range(1, history.index.stop + 1), history['accuracy'], label=labels[i])\n",
    "\n",
    "plt.legend()\n",
    "plt.ylabel(\"Accuracy\")\n",
    "plt.xlabel(\"epoch\")"
   ],
   "metadata": {
    "collapsed": false,
    "pycharm": {
     "name": "#%%\n"
    }
   }
  },
  {
   "cell_type": "markdown",
   "source": [
    "# 複数モデル比較"
   ],
   "metadata": {
    "collapsed": false,
    "pycharm": {
     "name": "#%% md\n"
    }
   }
  },
  {
   "cell_type": "markdown",
   "source": [
    "## 学習経過"
   ],
   "metadata": {
    "collapsed": false,
    "pycharm": {
     "name": "#%% md\n"
    }
   }
  },
  {
   "cell_type": "code",
   "execution_count": null,
   "outputs": [],
   "source": [
    "label = [r'$\\pm \\pi$',r'$\\pm \\pi/2$', r'$\\pm \\pi/3$',r'$\\pm \\pi/5$',r'$\\pm \\pi/10$', r'$\\pm \\pi/100$']\n",
    "path = \"trained_model/20220424_*/*.csv\"\n",
    "files = glob.glob(path)\n",
    "p = re.compile(r'\\d+_\\d+')\n",
    "files.sort(reverse=True, key=lambda s: int(p.search(s).group()))\n",
    "plt.figure(figsize=(7, 4))\n",
    "lines = []\n",
    "for i, file in enumerate(files[6:12]):\n",
    "    result = pd.read_csv(file)\n",
    "    lines.append(plt.plot(result[\"val_accuracy\"], label=label[i]))\n",
    "\n",
    "plt.legend(title=r'$\\Delta \\phi$', loc='upper left', bbox_to_anchor=(1, 1))\n",
    "plt.yticks(np.arange(0, 1.1, 0.1), [0, 0.1, 0.2, 0.3, 0.4, 0.5, 0.6, 0.7, 0.8, 0.9, 1.0])\n",
    "plt.ylabel(\"Accuracy\")\n",
    "plt.xlabel(\"Epoch Number\")\n",
    "plt.tight_layout()"
   ],
   "metadata": {
    "collapsed": false,
    "pycharm": {
     "name": "#%%\n"
    }
   }
  }
 ],
 "metadata": {
  "colab": {
   "name": "inspection.ipynb",
   "provenance": []
  },
  "kernelspec": {
   "display_name": "Python 3 (ipykernel)",
   "language": "python",
   "name": "python3"
  },
  "language_info": {
   "codemirror_mode": {
    "name": "ipython",
    "version": 3
   },
   "file_extension": ".py",
   "mimetype": "text/x-python",
   "name": "python",
   "nbconvert_exporter": "python",
   "pygments_lexer": "ipython3",
   "version": "3.8.11"
  }
 },
 "nbformat": 4,
 "nbformat_minor": 1
}