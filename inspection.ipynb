{
 "cells": [
  {
   "cell_type": "code",
   "execution_count": 1,
   "metadata": {
    "colab": {
     "base_uri": "https://localhost:8080/"
    },
    "id": "siPPlhXr8Xt8",
    "outputId": "7304192e-cdc1-4002-9ca8-6bfa1e62e7b2",
    "pycharm": {
     "name": "#%%\n"
    }
   },
   "outputs": [
    {
     "name": "stdout",
     "output_type": "stream",
     "text": [
      "Cloning into 'MOD2NN'...\n",
      "remote: Enumerating objects: 219, done.\u001B[K\n",
      "remote: Counting objects: 100% (219/219), done.\u001B[K\n",
      "remote: Compressing objects: 100% (131/131), done.\u001B[K\n",
      "remote: Total 219 (delta 123), reused 168 (delta 85), pack-reused 0\u001B[K\n",
      "Receiving objects: 100% (219/219), 2.68 MiB | 4.10 MiB/s, done.\n",
      "Resolving deltas: 100% (123/123), done.\n",
      "Mounted at /content/drive\n"
     ]
    }
   ],
   "source": [
    "#------------------------\n",
    "# Google Colab上でのみ実行\n",
    "#------------------------\n",
    "!git clone https://github.com/konnitiha3/MOD2NN.git\n",
    "\n",
    "import sys\n",
    "sys.path.append('/content/MOD2NN')\n",
    "\n",
    "from google.colab import drive\n",
    "drive.mount('/content/drive')"
   ]
  },
  {
   "cell_type": "code",
   "execution_count": null,
   "outputs": [],
   "source": [
    "import tensorflow as tf\n",
    "from tensorflow import keras\n",
    "import numpy as np\n",
    "import seaborn as sns\n",
    "import matplotlib.pyplot as plt\n",
    "import pandas as pd\n",
    "import sys\n",
    "from cxlayers import ImageToElectricField, CxMO, AngularSpectrum, CxD2NNIntensity, D2NNMNISTDetector, ImageResizing, D2NNMNISTFilter, CxD2NNFaradayRotation, GGG, ImageBinarization, Polarizer\n",
    "import os\n",
    "# import matplotlib_style\n",
    "import glob\n",
    "\n",
    "tf.experimental.numpy.experimental_enable_numpy_behavior()\n",
    "print(\"TensorFlow:\", tf.__version__)\n",
    "print(\"Python:\", sys.version)\n",
    "\n",
    "plt.rcParams['font.size'] = 18"
   ],
   "metadata": {
    "collapsed": false,
    "pycharm": {
     "name": "#%%\n"
    }
   }
  },
  {
   "cell_type": "code",
   "execution_count": null,
   "outputs": [],
   "source": [
    "mnist = tf.keras.datasets.mnist\n",
    "\n",
    "(x_train, y_train), (x_test, y_test) = mnist.load_data()\n",
    "\n",
    "x_train = x_train / 255.0\n",
    "x_test = x_test / 255.0"
   ],
   "metadata": {
    "collapsed": false,
    "pycharm": {
     "name": "#%%\n"
    }
   }
  },
  {
   "cell_type": "code",
   "execution_count": null,
   "outputs": [],
   "source": [
    "path = 'trained_model/20220414_6'\n",
    "model = tf.keras.models.load_model(path)\n",
    "model.summary()"
   ],
   "metadata": {
    "collapsed": false,
    "pycharm": {
     "name": "#%%\n"
    }
   }
  },
  {
   "cell_type": "markdown",
   "source": [
    "## 正解率"
   ],
   "metadata": {
    "collapsed": false,
    "pycharm": {
     "name": "#%% md\n"
    }
   }
  },
  {
   "cell_type": "code",
   "execution_count": null,
   "outputs": [],
   "source": [
    "history = pd.read_csv(path + '/history.csv')\n",
    "\n",
    "fig = plt.figure(figsize=(6, 6))\n",
    "ax1 = fig.add_subplot(111)\n",
    "ax2 = ax1.twinx()\n",
    "ax1.plot(range(1, history.index.stop + 1), history['loss'], color='black', label='Loss')\n",
    "ax1.set_ylabel('Loss')\n",
    "ax1.set_xlabel('epoch')\n",
    "ax2.plot(range(1, history.index.stop + 1), history['accuracy'], color='red', label='Accuracy')\n",
    "ax2.set_ylabel('Accuracy')\n",
    "# label1と2には、凡例用に各labelのリスト情報が入る\n",
    "handler1, label1 = ax1.get_legend_handles_labels()\n",
    "handler2, label2 = ax2.get_legend_handles_labels()\n",
    "# 凡例をまとめて出力する\n",
    "ax1.legend(handler1 + handler2, label1 + label2, loc=2, borderaxespad=0.)\n",
    "\n",
    "# model.evaluate(x_test, y_test)"
   ],
   "metadata": {
    "collapsed": false,
    "pycharm": {
     "name": "#%%\n"
    }
   }
  },
  {
   "cell_type": "markdown",
   "source": [
    "## 混同行列"
   ],
   "metadata": {
    "collapsed": false,
    "pycharm": {
     "name": "#%% md\n"
    }
   }
  },
  {
   "cell_type": "code",
   "execution_count": null,
   "outputs": [],
   "source": [
    "pred_label = tf.argmax(model.predict(x_test), axis=-1).numpy()\n",
    "cm = tf.math.confusion_matrix(y_test, pred_label)\n",
    "label_tot = np.sum(cm, axis=1).reshape(-1, 1)\n",
    "norm_cm = cm/label_tot"
   ],
   "metadata": {
    "collapsed": false,
    "pycharm": {
     "name": "#%%\n"
    }
   }
  },
  {
   "cell_type": "code",
   "execution_count": null,
   "outputs": [],
   "source": [
    "plt.figure(figsize=(7, 7))\n",
    "sns.heatmap(norm_cm, square=True, cbar=False, annot=True, fmt=\".2f\", cmap='BuPu')\n",
    "plt.rcParams[\"font.size\"] = 13\n",
    "plt.xlabel(\"Predicted label\", fontsize=13)\n",
    "plt.ylabel(\"True label\", fontsize=13)\n",
    "plt.title(\"Normalized confusion matrix\")"
   ],
   "metadata": {
    "collapsed": false,
    "pycharm": {
     "name": "#%%\n"
    }
   }
  },
  {
   "cell_type": "markdown",
   "source": [
    "## 位相変調層"
   ],
   "metadata": {
    "collapsed": false,
    "pycharm": {
     "name": "#%% md\n"
    }
   }
  },
  {
   "cell_type": "code",
   "execution_count": null,
   "outputs": [],
   "source": [
    "plt.imshow(2.1 * np.pi / 180* tf.sin(model.layers[4].get_weights()[0]), cmap='plasma')\n",
    "plt.colorbar()"
   ],
   "metadata": {
    "collapsed": false,
    "pycharm": {
     "name": "#%%\n"
    }
   }
  },
  {
   "cell_type": "markdown",
   "source": [
    "## 出力プロット"
   ],
   "metadata": {
    "collapsed": false,
    "pycharm": {
     "name": "#%% md\n"
    }
   }
  },
  {
   "cell_type": "code",
   "execution_count": null,
   "outputs": [],
   "source": [
    "layer_name = model.layers[-3].name\n",
    "hidden_layer_model = tf.keras.Model(inputs=model.input, outputs=model.get_layer(layer_name).output)\n",
    "filter_y = D2NNMNISTFilter((100, 100))(model.get_layer(layer_name).output)\n",
    "filter_model = tf.keras.Model(inputs=model.input, outputs=filter_y)\n",
    "num = 5\n",
    "images = x_train[0:num + 0, :, :]\n",
    "\n",
    "preds = model.predict(images)\n",
    "pred_images = hidden_layer_model.predict(images)\n",
    "filtered_images = filter_model.predict(images)\n",
    "fig, axes = plt.subplots(num, 4, figsize=(12, 15))\n",
    "for i in range(num):\n",
    "    axes[i, 0].imshow(images[i, :, :])\n",
    "    axes[i, 1].imshow(pred_images[i, :, :])\n",
    "    axes[i, 2].imshow(filtered_images[i,:,:])\n",
    "    axes[i, 3].bar(np.arange(0, 10, 1), preds[i, :], align='center')\n",
    "    axes[i, 3].set_xticks(np.arange(0, 10, 1))\n",
    "    axes[i, 3].set_aspect(1./axes[i, 3].get_data_ratio())\n",
    "    if i == 0:\n",
    "        axes[i, 0].set_title(\"Input\")\n",
    "        axes[i, 1].set_title(\"Output\")\n",
    "        axes[i, 2].set_title(\"Filtered Output\")\n",
    "        axes[i, 3].set_title(\"Predict\")\n",
    "        \n",
    "fig.tight_layout()"
   ],
   "metadata": {
    "collapsed": false,
    "pycharm": {
     "name": "#%%\n"
    }
   }
  },
  {
   "cell_type": "markdown",
   "source": [
    "## 2値化して出力プロット"
   ],
   "metadata": {
    "collapsed": false,
    "pycharm": {
     "name": "#%% md\n"
    }
   }
  },
  {
   "cell_type": "code",
   "execution_count": null,
   "outputs": [],
   "source": [
    "mo_layer_index = [4, 6]\n",
    "limit_value = 2.1 * np.pi / 180\n",
    "for idx in mo_layer_index:\n",
    "    phi = model.layers[idx].get_weights()\n",
    "    phi_lim = tf.tanh(phi)\n",
    "    phi_bi = tf.where(phi_lim >= 0, limit_value, -limit_value)\n",
    "    model.layers[idx].set_weights(phi_bi)\n",
    "    model.layers[idx].limitation=None\n",
    "\n",
    "layer_name = model.layers[-2].name\n",
    "hidden_layer_model = tf.keras.Model(inputs=model.input, outputs=model.get_layer(layer_name).output)\n",
    "filter_y = D2NNMNISTFilter((100, 100))(model.get_layer(layer_name).output)\n",
    "filter_model = tf.keras.Model(inputs=model.input, outputs=filter_y)\n",
    "num = 5\n",
    "images = x_train[0:num, :, :]\n",
    "\n",
    "preds = model.predict(images)\n",
    "pred_images = hidden_layer_model.predict(images)\n",
    "filtered_images = filter_model.predict(images)\n",
    "fig, axes = plt.subplots(num, 4, figsize=(12, 15))\n",
    "for i in range(num):\n",
    "    axes[i, 0].imshow(images[i, :, :])\n",
    "    axes[i, 1].imshow(pred_images[i, :, :])\n",
    "    axes[i, 2].imshow(filtered_images[i,:,:])\n",
    "    axes[i, 3].bar(np.arange(0, 10, 1), preds[i, :], align='center')\n",
    "    axes[i, 3].set_xticks(np.arange(0, 10, 1))\n",
    "    axes[i, 3].set_ylabel('Accuracy')\n",
    "    axes[i, 3].set_aspect(1./axes[i, 3].get_data_ratio())\n",
    "fig.tight_layout()"
   ],
   "metadata": {
    "collapsed": false,
    "pycharm": {
     "name": "#%%\n"
    }
   }
  },
  {
   "cell_type": "code",
   "execution_count": null,
   "outputs": [],
   "source": [
    "model.evaluate(x_test, y_test)"
   ],
   "metadata": {
    "collapsed": false,
    "pycharm": {
     "name": "#%%\n"
    }
   }
  },
  {
   "cell_type": "markdown",
   "source": [
    "## 位相変調量"
   ],
   "metadata": {
    "collapsed": false,
    "pycharm": {
     "name": "#%% md\n"
    }
   }
  },
  {
   "cell_type": "code",
   "execution_count": null,
   "outputs": [],
   "source": [
    "bi_phase = model.layers[5].get_weights()[0]\n",
    "plt.imshow(bi_phase, cmap='plasma', interpolation='none')\n",
    "plt.colorbar()\n",
    "bi_phase = np.where(bi_phase >= 0, 1, -1)\n",
    "np.savetxt('data/phase/20220319-1/layer2.csv', bi_phase, fmt='%d', delimiter=',')"
   ],
   "metadata": {
    "collapsed": false,
    "pycharm": {
     "name": "#%%\n"
    }
   }
  },
  {
   "cell_type": "markdown",
   "source": [
    "## 学習過程の正解率比較"
   ],
   "metadata": {
    "collapsed": false,
    "pycharm": {
     "name": "#%% md\n"
    }
   }
  },
  {
   "cell_type": "code",
   "execution_count": null,
   "outputs": [],
   "source": [
    "path = 'trained_model'\n",
    "files = glob.glob(path + '/20220317*/history.csv')\n",
    "labels = [r'$\\pm 90\\degree$', r'$\\pm 45 \\degree$', r'$\\pm 10 \\degree$']\n",
    "for i, file in enumerate(files):\n",
    "    history = pd.read_csv(file)\n",
    "    plt.plot(range(1, history.index.stop + 1), history['accuracy'], label=labels[i])\n",
    "\n",
    "plt.legend()\n",
    "plt.ylabel(\"Accuracy\")\n",
    "plt.xlabel(\"epoch\")"
   ],
   "metadata": {
    "collapsed": false,
    "pycharm": {
     "name": "#%%\n"
    }
   }
  },
  {
   "cell_type": "markdown",
   "source": [
    "## 3値化"
   ],
   "metadata": {
    "collapsed": false,
    "pycharm": {
     "name": "#%% md\n"
    }
   }
  },
  {
   "cell_type": "code",
   "execution_count": null,
   "outputs": [],
   "source": [
    "mo_layer_index = [3]\n",
    "sep = 90 * np.pi / 180\n",
    "limit_value = 90 * np.pi / 180\n",
    "for idx in mo_layer_index:\n",
    "    phi = model.layers[idx].get_weights()\n",
    "    phi_lim = tf.tanh(phi)\n",
    "    phi_bi = tf.where(phi_lim >= 0, limit_value, -limit_value)\n",
    "    model.layers[idx].set_weights(phi_bi)\n",
    "    model.layers[idx].limitation=None"
   ],
   "metadata": {
    "collapsed": false,
    "pycharm": {
     "name": "#%%\n"
    }
   }
  },
  {
   "cell_type": "code",
   "execution_count": null,
   "outputs": [],
   "source": [
    "model.get_weights()[2]"
   ],
   "metadata": {
    "collapsed": false,
    "pycharm": {
     "name": "#%%\n"
    }
   }
  },
  {
   "cell_type": "code",
   "execution_count": null,
   "outputs": [],
   "source": [
    "shape = (100, 100)\n",
    "inputs = tf.keras.layers.Input((28, 28))\n",
    "x = ImageResizing(shape)(inputs)\n",
    "x = ImageBinarization(0.5, 0, 1)(x)\n",
    "x = ImageToElectricField(shape)(x)\n",
    "x = CxMO(shape)(x)\n",
    "x = AngularSpectrum(shape, 531e-9, 0.5e-3, 2.0e-6, n=1, normalization='max', method='expand')(x)\n",
    "x = CxMO(shape)(x)\n",
    "x = AngularSpectrum(shape, 531e-9, 2.0e-3, 2.0e-6, n=1, normalization='max', method='expand')(x)\n",
    "x = Polarizer(shape, phi=-np.pi/2, trainable=True)(x)\n",
    "x = CxD2NNIntensity(shape)(x)\n",
    "x = D2NNMNISTDetector(10, activation='softmax')(x)\n",
    "\n",
    "testmodel = tf.keras.Model(inputs, x)\n",
    "testmodel.compile(optimizer='adam',\n",
    "              loss=\"sparse_categorical_crossentropy\",  # category: sparse_categorical_crossentropy\n",
    "              metrics=['accuracy'])\n",
    "testmodel.layers[4].set_weights(2.1*np.pi/180*tf.tanh(model.layers[4].get_weights()))"
   ],
   "metadata": {
    "collapsed": false,
    "pycharm": {
     "name": "#%%\n"
    }
   }
  },
  {
   "cell_type": "code",
   "execution_count": null,
   "outputs": [],
   "source": [
    "testmodel.layers[6].set_weights(2.1*np.pi/180*tf.tanh(model.layers[6].get_weights()))"
   ],
   "metadata": {
    "collapsed": false,
    "pycharm": {
     "name": "#%%\n"
    }
   }
  },
  {
   "cell_type": "code",
   "execution_count": null,
   "outputs": [],
   "source": [
    "testmodel.layers[-3].phi"
   ],
   "metadata": {
    "collapsed": false,
    "pycharm": {
     "name": "#%%\n"
    }
   }
  },
  {
   "cell_type": "code",
   "execution_count": null,
   "outputs": [],
   "source": [
    "testmodel.evaluate(x_test, y_test)"
   ],
   "metadata": {
    "collapsed": false,
    "pycharm": {
     "name": "#%%\n"
    }
   }
  },
  {
   "cell_type": "markdown",
   "source": [
    "# 複数モデル比較"
   ],
   "metadata": {
    "collapsed": false,
    "pycharm": {
     "name": "#%% md\n"
    }
   }
  },
  {
   "cell_type": "markdown",
   "source": [
    "## 学習経過"
   ],
   "metadata": {
    "collapsed": false,
    "pycharm": {
     "name": "#%% md\n"
    }
   }
  },
  {
   "cell_type": "code",
   "execution_count": null,
   "outputs": [],
   "source": [
    "label = [r'$\\pm \\pi$',r'$\\pm \\pi/2$', r'$\\pm \\pi/3$',r'$\\pm \\pi/5$',r'$\\pm \\pi/10$', r'$\\pm \\pi/100$']\n",
    "path = \"trained_model/20220415_*/*.csv\"\n",
    "files = glob.glob(path)\n",
    "files.sort(reverse=True)\n",
    "plt.figure(figsize=(7, 4))\n",
    "lines = []\n",
    "for i, file in enumerate(files):\n",
    "    result = pd.read_csv(file)\n",
    "    lines.append(plt.plot(result[\"val_accuracy\"], label=label[i]))\n",
    "\n",
    "plt.legend(title=r'$\\Delta \\phi$', loc='upper left', bbox_to_anchor=(1, 1))\n",
    "plt.yticks(np.arange(0, 1.1, 0.1), [0, 0.1, 0.2, 0.3, 0.4, 0.5, 0.6, 0.7, 0.8, 0.9, 1.0])\n",
    "plt.ylabel(\"Accuracy\")\n",
    "plt.xlabel(\"Epoch Number\")\n",
    "plt.tight_layout()"
   ],
   "metadata": {
    "collapsed": false,
    "pycharm": {
     "name": "#%%\n"
    }
   }
  },
  {
   "cell_type": "code",
   "execution_count": null,
   "metadata": {
    "pycharm": {
     "name": "#%%\n"
    }
   },
   "outputs": [],
   "source": []
  }
 ],
 "metadata": {
  "colab": {
   "name": "inspection.ipynb",
   "provenance": []
  },
  "kernelspec": {
   "display_name": "Python 3 (ipykernel)",
   "language": "python",
   "name": "python3"
  },
  "language_info": {
   "codemirror_mode": {
    "name": "ipython",
    "version": 3
   },
   "file_extension": ".py",
   "mimetype": "text/x-python",
   "name": "python",
   "nbconvert_exporter": "python",
   "pygments_lexer": "ipython3",
   "version": "3.8.11"
  }
 },
 "nbformat": 4,
 "nbformat_minor": 1
}