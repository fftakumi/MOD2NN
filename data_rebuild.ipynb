{
 "cells": [
  {
   "cell_type": "code",
   "execution_count": 1,
   "metadata": {
    "collapsed": true,
    "pycharm": {
     "name": "#%%\n"
    }
   },
   "outputs": [],
   "source": [
    "import numpy as np\n",
    "import pandas as pd\n",
    "import re\n",
    "import matplotlib.pyplot as plt\n",
    "import glob\n",
    "import datetime\n",
    "import openpyxl"
   ]
  },
  {
   "cell_type": "markdown",
   "source": [
    "## csvファイルをまとめる"
   ],
   "metadata": {
    "collapsed": false,
    "pycharm": {
     "name": "#%% md\n"
    }
   }
  },
  {
   "cell_type": "code",
   "execution_count": 7,
   "outputs": [],
   "source": [
    "columns = [\"epoch\", \"pi/1000\", \"pi/500\", \"pi/300\", \"pi/200\", \"pi/100\", \"pi/40\"]\n",
    "path = \"trained_model/20220425_*/*.csv\"\n",
    "files = glob.glob(path)\n",
    "files.sort(key=lambda s: int(re.search(r'\\d+_\\d+', s).group()))\n",
    "data = {\"loss\":[],\n",
    "        \"accuracy\":[],\n",
    "        \"val_loss\":[],\n",
    "        \"val_accuracy\":[]}\n",
    "a = pd.read_csv(files[0])\n",
    "for i, file in enumerate(files):\n",
    "    df = pd.read_csv(file)\n",
    "    if i == 0:\n",
    "        data[\"loss\"].append(df.index.values + 1)\n",
    "        data[\"accuracy\"].append(df.index.values + 1)\n",
    "        data[\"val_loss\"].append(df.index.values + 1)\n",
    "        data[\"val_accuracy\"].append(df.index.values + 1)\n",
    "    data[\"loss\"].append(df[\"loss\"].values)\n",
    "    data[\"accuracy\"].append(df[\"accuracy\"].values)\n",
    "    data[\"val_loss\"].append(df[\"val_loss\"].values)\n",
    "    data[\"val_accuracy\"].append(df[\"val_accuracy\"].values)\n",
    "\n",
    "loss_df = pd.DataFrame(np.array(data[\"loss\"]).T, columns=columns)\n",
    "acc_df = pd.DataFrame(np.array(data[\"accuracy\"]).T, columns=columns)\n",
    "val_loss_df = pd.DataFrame(np.array(data[\"val_loss\"]).T, columns=columns)\n",
    "val_acc_df = pd.DataFrame(np.array(data[\"val_accuracy\"]).T, columns=columns)\n",
    "\n",
    "t_delta = datetime.timedelta(hours=9)\n",
    "JST = datetime.timezone(t_delta, 'JST')\n",
    "now = datetime.datetime.now(JST)\n",
    "\n",
    "with pd.ExcelWriter(\"out/\" + now.strftime('%Y%m%d%H%M%S')+\".xlsx\") as writer:\n",
    "    loss_df.to_excel(writer, sheet_name='loss', index=False)\n",
    "    acc_df.to_excel(writer, sheet_name='accuracy', index=False)\n",
    "    val_loss_df.to_excel(writer, sheet_name='val_loss', index=False)\n",
    "    val_acc_df.to_excel(writer, sheet_name='val_accuracy', index=False)"
   ],
   "metadata": {
    "collapsed": false,
    "pycharm": {
     "name": "#%%\n"
    }
   }
  }
 ],
 "metadata": {
  "kernelspec": {
   "display_name": "Python 3",
   "language": "python",
   "name": "python3"
  },
  "language_info": {
   "codemirror_mode": {
    "name": "ipython",
    "version": 2
   },
   "file_extension": ".py",
   "mimetype": "text/x-python",
   "name": "python",
   "nbconvert_exporter": "python",
   "pygments_lexer": "ipython2",
   "version": "2.7.6"
  }
 },
 "nbformat": 4,
 "nbformat_minor": 0
}