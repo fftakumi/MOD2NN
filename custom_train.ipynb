{
 "cells": [
  {
   "cell_type": "code",
   "execution_count": null,
   "metadata": {
    "collapsed": true
   },
   "outputs": [],
   "source": [
    "#------------------------\n",
    "# Google Colab上でのみ実行\n",
    "#------------------------\n",
    "import time\n",
    "!git clone https://github.com/konnitiha3/MOD2NN.git\n",
    "\n",
    "import sys\n",
    "sys.path.append('/content/MOD2NN')\n",
    "\n",
    "from google.colab import drive\n",
    "drive.mount('/content/drive')"
   ]
  },
  {
   "cell_type": "code",
   "execution_count": 1,
   "outputs": [
    {
     "name": "stdout",
     "output_type": "stream",
     "text": [
      "TensorFlow: 2.8.0\n",
      "Python: 3.8.11 (default, Aug 16 2021, 12:04:33) \n",
      "[Clang 12.0.0 ]\n"
     ]
    }
   ],
   "source": [
    "import time\n",
    "import os\n",
    "import tensorflow as tf\n",
    "from tensorflow import keras\n",
    "import numpy as np\n",
    "import matplotlib.pyplot as plt\n",
    "import sys\n",
    "import pandas as pd\n",
    "from cxlayers import ImageToElectricField, CxMO, AngularSpectrum, CxD2NNIntensity, D2NNMNISTDetector, ImageResizing, ImageBinarization, D2NNMNISTFilter, CxD2NNFaradayRotation, Polarizer\n",
    "\n",
    "tf.random.set_seed(1)\n",
    "tf.experimental.numpy.experimental_enable_numpy_behavior()\n",
    "\n",
    "print(\"TensorFlow:\", tf.__version__)\n",
    "print(\"Python:\", sys.version)\n",
    "\n",
    "plt.rcParams['font.size'] = 18"
   ],
   "metadata": {
    "collapsed": false,
    "pycharm": {
     "name": "#%%\n"
    }
   }
  },
  {
   "cell_type": "code",
   "execution_count": 2,
   "outputs": [],
   "source": [
    "mnist = tf.keras.datasets.mnist\n",
    "\n",
    "(x_train, y_train), (x_test, y_test) = mnist.load_data()\n",
    "x_train = x_train / 255.0\n",
    "x_test = x_test / 255.0"
   ],
   "metadata": {
    "collapsed": false,
    "pycharm": {
     "name": "#%%\n"
    }
   }
  },
  {
   "cell_type": "code",
   "execution_count": 8,
   "outputs": [
    {
     "name": "stdout",
     "output_type": "stream",
     "text": [
      "Model: \"model_1\"\n",
      "_________________________________________________________________\n",
      " Layer (type)                Output Shape              Param #   \n",
      "=================================================================\n",
      " input_2 (InputLayer)        [(None, 28, 28)]          0         \n",
      "                                                                 \n",
      " image_resizing_1 (ImageResi  (None, 40, 40)           0         \n",
      " zing)                                                           \n",
      "                                                                 \n",
      " image_binarization_1 (Image  (None, 40, 40)           0         \n",
      " Binarization)                                                   \n",
      "                                                                 \n",
      " image_to_electric_field_1 (  (None, 2, 2, 40, 40)     0         \n",
      " ImageToElectricField)                                           \n",
      "                                                                 \n",
      " cx_mo_2 (CxMO)              (None, 2, 2, 40, 40)      1600      \n",
      "                                                                 \n",
      " angular_spectrum_2 (Angular  (None, 2, 2, 40, 40)     0         \n",
      " Spectrum)                                                       \n",
      "                                                                 \n",
      " cx_mo_3 (CxMO)              (None, 2, 2, 40, 40)      1600      \n",
      "                                                                 \n",
      " angular_spectrum_3 (Angular  (None, 2, 2, 40, 40)     0         \n",
      " Spectrum)                                                       \n",
      "                                                                 \n",
      " cx_d2nn_faraday_rotation_1   (None, 40, 40)           0         \n",
      " (CxD2NNFaradayRotation)                                         \n",
      "                                                                 \n",
      " d2nnmnist_detector_1 (D2NNM  (None, 10)               0         \n",
      " NISTDetector)                                                   \n",
      "                                                                 \n",
      "=================================================================\n",
      "Total params: 3,200\n",
      "Trainable params: 3,200\n",
      "Non-trainable params: 0\n",
      "_________________________________________________________________\n"
     ]
    }
   ],
   "source": [
    "class MOD2NN(tf.keras.models.Model):\n",
    "  def __init__(self, **kwargs):\n",
    "    super().__init__(**kwargs)\n",
    "    # 複数モデルを入れ子にすることもOK\n",
    "    self.model = self.create_model()\n",
    "    # トラッカーを用意する（訓練、テスト共通で良い）\n",
    "    self.loss_object = tf.keras.losses.SparseCategoricalCrossentropy(from_logits=True)\n",
    "    self.loss_tracker = tf.keras.metrics.SparseCategoricalCrossentropy()\n",
    "    self.accuracy = tf.keras.metrics.SparseCategoricalAccuracy(name=\"accuracy\")\n",
    "    self.accuracy_tracker = tf.keras.metrics.SparseCategoricalAccuracy()\n",
    "\n",
    "  def create_model(self):\n",
    "    shape = (40, 40)\n",
    "    inputs = tf.keras.layers.Input((28, 28))\n",
    "    x = ImageResizing(shape)(inputs)\n",
    "    x = ImageBinarization(0.5, 0, 1)(x)\n",
    "    x = ImageToElectricField(shape)(x)\n",
    "    x = CxMO(shape)(x)\n",
    "    x = AngularSpectrum(shape, 531e-9, 0.5e-3, d=2.0e-6, n=1.0, method='expand')(x)\n",
    "    x = CxD2NNIntensity(shape)(x)\n",
    "    x = D2NNMNISTDetector(10)(x)\n",
    "    return tf.keras.models.Model(inputs, x)\n",
    "\n",
    "  # なくてもエラーは出ないが、訓練・テスト間、エポックの切り替わりで\n",
    "  # トラッカーがリセットされないため、必ずmetricsのプロパティをオーバーライドすること\n",
    "  # self.reset_metrics()はこのプロパティを参照している\n",
    "  @property\n",
    "  def metrics(self):\n",
    "    return [self.loss_tracker, self.accuracy]\n",
    "\n",
    "  def train_step(self, data):\n",
    "    x, y = data\n",
    "\n",
    "    with tf.GradientTape() as tape:\n",
    "      pred = self.model(x)\n",
    "      loss_value = self.loss_object(y, pred)\n",
    "    # 全体（self）に対する偏微分か、特定モデル（self.model）に対する微分かは場合により変わる\n",
    "    # このケースではどちらでも同じだが、GANでは使い分ける必要がある\n",
    "    grads = tape.gradient(loss_value, self.trainable_weights)\n",
    "    self.optimizer.apply_gradients(zip(grads, self.trainable_weights))\n",
    "\n",
    "    # エポックの切り替わりのトラッカーのリセットは、self.reset_metrics()で自動的に行われる\n",
    "    self.loss_tracker.update_state(y, pred)\n",
    "    self.accuracy_tracker.update_state(y, pred)\n",
    "\n",
    "    return {\n",
    "      \"loss\": self.loss_tracker.result(),\n",
    "      \"accuracy\": self.accuracy_tracker.result()\n",
    "    }\n",
    "\n",
    "  def test_step(self, data):\n",
    "    x, y = data\n",
    "\n",
    "    pred = self.model(x)\n",
    "    loss = self.loss_object(y, pred)\n",
    "\n",
    "    # 訓練・テストの切り替わりのトラッカーのリセットは、self.reset_metrics()で自動的に行われる\n",
    "    self.loss_tracker.update_state(loss)\n",
    "    return {\n",
    "      \"loss\": self.loss_tracker.result()\n",
    "    }"
   ],
   "metadata": {
    "collapsed": false,
    "pycharm": {
     "name": "#%%\n"
    }
   }
  },
  {
   "cell_type": "code",
   "execution_count": 9,
   "outputs": [
    {
     "name": "stderr",
     "output_type": "stream",
     "text": [
      "2022-04-03 18:52:45.701755: I tensorflow/core/grappler/optimizers/custom_graph_optimizer_registry.cc:113] Plugin optimizer for device_type GPU is enabled.\n",
      "2022-04-03 18:52:50.953599: I tensorflow/core/grappler/optimizers/custom_graph_optimizer_registry.cc:113] Plugin optimizer for device_type GPU is enabled.\n",
      "2022-04-03 18:53:53.696737: I tensorflow/core/grappler/optimizers/custom_graph_optimizer_registry.cc:113] Plugin optimizer for device_type GPU is enabled.\n"
     ]
    },
    {
     "name": "stdout",
     "output_type": "stream",
     "text": [
      "Loss test: 2.3027076721191406\n"
     ]
    }
   ],
   "source": [
    "model =MOD2NN()\n",
    "model.compile(optimizer=tf.keras.optimizers.Adam())\n",
    "model.fit(x_train, y_train, batch_size=64, epochs=10)"
   ],
   "metadata": {
    "collapsed": false,
    "pycharm": {
     "name": "#%%\n"
    }
   }
  }
 ],
 "metadata": {
  "kernelspec": {
   "display_name": "Python 3",
   "language": "python",
   "name": "python3"
  },
  "language_info": {
   "codemirror_mode": {
    "name": "ipython",
    "version": 2
   },
   "file_extension": ".py",
   "mimetype": "text/x-python",
   "name": "python",
   "nbconvert_exporter": "python",
   "pygments_lexer": "ipython2",
   "version": "2.7.6"
  }
 },
 "nbformat": 4,
 "nbformat_minor": 0
}