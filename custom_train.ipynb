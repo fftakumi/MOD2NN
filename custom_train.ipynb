{
 "cells": [
  {
   "cell_type": "code",
   "execution_count": null,
   "metadata": {
    "collapsed": true
   },
   "outputs": [],
   "source": [
    "#------------------------\n",
    "# Google Colab上でのみ実行\n",
    "#------------------------\n",
    "import time\n",
    "!git clone https://github.com/konnitiha3/MOD2NN.git\n",
    "\n",
    "import sys\n",
    "sys.path.append('/content/MOD2NN')\n",
    "\n",
    "from google.colab import drive\n",
    "drive.mount('/content/drive')"
   ]
  },
  {
   "cell_type": "code",
   "execution_count": 1,
   "outputs": [
    {
     "name": "stdout",
     "output_type": "stream",
     "text": [
      "TensorFlow: 2.8.0\n",
      "Python: 3.8.11 (default, Aug 16 2021, 12:04:33) \n",
      "[Clang 12.0.0 ]\n"
     ]
    }
   ],
   "source": [
    "import time\n",
    "import os\n",
    "import tensorflow as tf\n",
    "from tensorflow import keras\n",
    "import numpy as np\n",
    "import matplotlib.pyplot as plt\n",
    "import sys\n",
    "import pandas as pd\n",
    "from cxlayers import ImageToElectricField, CxMO, AngularSpectrum, CxD2NNIntensity, D2NNMNISTDetector, ImageResizing, ImageBinarization, D2NNMNISTFilter, CxD2NNFaradayRotation, Polarizer\n",
    "\n",
    "tf.random.set_seed(1)\n",
    "tf.experimental.numpy.experimental_enable_numpy_behavior()\n",
    "\n",
    "print(\"TensorFlow:\", tf.__version__)\n",
    "print(\"Python:\", sys.version)\n",
    "\n",
    "plt.rcParams['font.size'] = 18"
   ],
   "metadata": {
    "collapsed": false,
    "pycharm": {
     "name": "#%%\n"
    }
   }
  },
  {
   "cell_type": "code",
   "execution_count": 2,
   "outputs": [],
   "source": [
    "mnist = tf.keras.datasets.mnist\n",
    "\n",
    "(x_train, y_train), (x_test, y_test) = mnist.load_data()\n",
    "x_train = x_train / 255.0\n",
    "x_test = x_test / 255.0"
   ],
   "metadata": {
    "collapsed": false,
    "pycharm": {
     "name": "#%%\n"
    }
   }
  },
  {
   "cell_type": "code",
   "execution_count": 3,
   "outputs": [],
   "source": [
    "#@title デフォルトのタイトル テキスト\n",
    "wavelength = 531.0e-9 #@param {type:\"number\"}\n",
    "d = 1.0e-6 #@param {type:\"number\"}"
   ],
   "metadata": {
    "collapsed": false,
    "pycharm": {
     "name": "#%%\n"
    }
   }
  },
  {
   "cell_type": "code",
   "execution_count": 4,
   "outputs": [
    {
     "data": {
      "text/plain": "0.0005135437489912859"
     },
     "execution_count": 4,
     "metadata": {},
     "output_type": "execute_result"
    }
   ],
   "source": [
    "theta = np.arcsin(wavelength/(2*d))\n",
    "z = np.sqrt((100*d)**2 + (100*d)**2)/np.tan(theta)\n",
    "z"
   ],
   "metadata": {
    "collapsed": false,
    "pycharm": {
     "name": "#%%\n"
    }
   }
  },
  {
   "cell_type": "code",
   "execution_count": 8,
   "outputs": [
    {
     "name": "stdout",
     "output_type": "stream",
     "text": [
      "Model: \"model_1\"\n",
      "_________________________________________________________________\n",
      " Layer (type)                Output Shape              Param #   \n",
      "=================================================================\n",
      " input_2 (InputLayer)        [(None, 28, 28)]          0         \n",
      "                                                                 \n",
      " image_resizing_1 (ImageResi  (None, 40, 40)           0         \n",
      " zing)                                                           \n",
      "                                                                 \n",
      " image_binarization_1 (Image  (None, 40, 40)           0         \n",
      " Binarization)                                                   \n",
      "                                                                 \n",
      " image_to_electric_field_1 (  (None, 2, 2, 40, 40)     0         \n",
      " ImageToElectricField)                                           \n",
      "                                                                 \n",
      " cx_mo_2 (CxMO)              (None, 2, 2, 40, 40)      1600      \n",
      "                                                                 \n",
      " angular_spectrum_2 (Angular  (None, 2, 2, 40, 40)     0         \n",
      " Spectrum)                                                       \n",
      "                                                                 \n",
      " cx_mo_3 (CxMO)              (None, 2, 2, 40, 40)      1600      \n",
      "                                                                 \n",
      " angular_spectrum_3 (Angular  (None, 2, 2, 40, 40)     0         \n",
      " Spectrum)                                                       \n",
      "                                                                 \n",
      " cx_d2nn_faraday_rotation_1   (None, 40, 40)           0         \n",
      " (CxD2NNFaradayRotation)                                         \n",
      "                                                                 \n",
      " d2nnmnist_detector_1 (D2NNM  (None, 10)               0         \n",
      " NISTDetector)                                                   \n",
      "                                                                 \n",
      "=================================================================\n",
      "Total params: 3,200\n",
      "Trainable params: 3,200\n",
      "Non-trainable params: 0\n",
      "_________________________________________________________________\n"
     ]
    }
   ],
   "source": [
    "shape = (40, 40)\n",
    "\n",
    "inputs = tf.keras.Input((28, 28))\n",
    "x = ImageResizing(shape)(inputs)\n",
    "x = ImageBinarization(0.5, 0.0, 1.0)(x)\n",
    "x = ImageToElectricField(shape)(x)\n",
    "x = CxMO(shape, limitation='sin', limitation_num=2.1*np.pi/180)(x)\n",
    "x = AngularSpectrum(shape, wavelength, 0.5e-3, d=d, normalization='max', method='band_limited')(x)\n",
    "x = CxMO(shape, limitation='sin', limitation_num=2.1*np.pi/180)(x)\n",
    "x = AngularSpectrum(shape, wavelength, 2.0e-3, d=d, normalization='max', method='band_limited')(x)\n",
    "x = CxD2NNFaradayRotation(shape, normalization='minmax')(x)\n",
    "x = D2NNMNISTDetector(10, activation='softmax')(x)\n",
    "model = tf.keras.Model(inputs, x)\n",
    "model.summary()"
   ],
   "metadata": {
    "collapsed": false,
    "pycharm": {
     "name": "#%%\n"
    }
   }
  },
  {
   "cell_type": "code",
   "execution_count": 6,
   "outputs": [],
   "source": [
    "loss_object = tf.keras.losses.SparseCategoricalCrossentropy(from_logits=True)"
   ],
   "metadata": {
    "collapsed": false,
    "pycharm": {
     "name": "#%%\n"
    }
   }
  },
  {
   "cell_type": "code",
   "execution_count": 9,
   "outputs": [
    {
     "name": "stderr",
     "output_type": "stream",
     "text": [
      "2022-04-03 18:52:45.701755: I tensorflow/core/grappler/optimizers/custom_graph_optimizer_registry.cc:113] Plugin optimizer for device_type GPU is enabled.\n",
      "2022-04-03 18:52:50.953599: I tensorflow/core/grappler/optimizers/custom_graph_optimizer_registry.cc:113] Plugin optimizer for device_type GPU is enabled.\n",
      "2022-04-03 18:53:53.696737: I tensorflow/core/grappler/optimizers/custom_graph_optimizer_registry.cc:113] Plugin optimizer for device_type GPU is enabled.\n"
     ]
    },
    {
     "name": "stdout",
     "output_type": "stream",
     "text": [
      "Loss test: 2.3027076721191406\n"
     ]
    }
   ],
   "source": [
    "def loss(model, x, y):\n",
    "  y_ = model(x)\n",
    "\n",
    "  return loss_object(y_true=y, y_pred=y_)\n",
    "\n",
    "\n",
    "l = loss(model, x_train, y_train)\n",
    "print(\"Loss test: {}\".format(l))"
   ],
   "metadata": {
    "collapsed": false,
    "pycharm": {
     "name": "#%%\n"
    }
   }
  }
 ],
 "metadata": {
  "kernelspec": {
   "display_name": "Python 3",
   "language": "python",
   "name": "python3"
  },
  "language_info": {
   "codemirror_mode": {
    "name": "ipython",
    "version": 2
   },
   "file_extension": ".py",
   "mimetype": "text/x-python",
   "name": "python",
   "nbconvert_exporter": "python",
   "pygments_lexer": "ipython2",
   "version": "2.7.6"
  }
 },
 "nbformat": 4,
 "nbformat_minor": 0
}