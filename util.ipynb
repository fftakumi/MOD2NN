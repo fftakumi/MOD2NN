{
 "cells": [
  {
   "cell_type": "code",
   "execution_count": 13,
   "metadata": {
    "collapsed": true
   },
   "outputs": [],
   "source": [
    "import matplotlib.pyplot as plt\n",
    "import pandas as pd\n",
    "import numpy as np\n",
    "import glob\n",
    "import os"
   ]
  },
  {
   "cell_type": "code",
   "execution_count": 47,
   "outputs": [],
   "source": [
    "path = 'trained_model/20220410_*/*.csv'\n",
    "files = glob.glob(path)\n",
    "files.sort()"
   ],
   "metadata": {
    "collapsed": false,
    "pycharm": {
     "name": "#%%\n"
    }
   }
  },
  {
   "cell_type": "code",
   "execution_count": 48,
   "outputs": [],
   "source": [
    "frames = []\n",
    "filenames = []\n",
    "for file in files:\n",
    "    data = pd.read_csv(file)\n",
    "    filename = os.path.splitext(os.path.basename(file))[0]\n",
    "    data = data.rename(columns={\"accuracy\": filename})\n",
    "    frames.append(data.loss)\n",
    "\n",
    "df = pd.concat(frames, axis=1)\n",
    "df.to_csv(\"no_polarizer.csv\")"
   ],
   "metadata": {
    "collapsed": false,
    "pycharm": {
     "name": "#%%\n"
    }
   }
  },
  {
   "cell_type": "code",
   "execution_count": 34,
   "outputs": [
    {
     "data": {
      "text/plain": "    Unnamed: 0      loss         a\n0            0  5.166237  0.151117\n1            1  2.303033  0.174683\n2            2  2.277832  0.180217\n3            3  2.265289  0.179850\n4            4  2.249903  0.181200\n5            5  2.234689  0.187083\n6            6  2.221398  0.195833\n7            7  2.212818  0.203283\n8            8  2.207786  0.209167\n9            9  2.205102  0.211517\n10          10  2.203603  0.212733\n11          11  2.202217  0.214133\n12          12  2.201801  0.213933\n13          13  2.201334  0.214217\n14          14  2.200947  0.214383\n15          15  2.201005  0.214700\n16          16  2.200643  0.215150\n17          17  2.200398  0.215567\n18          18  2.200149  0.214883\n19          19  2.200387  0.214633\n20          20  2.200220  0.215117\n21          21  2.200209  0.215183\n22          22  2.200136  0.214633\n23          23  2.199552  0.215050\n24          24  2.200162  0.215017\n25          25  2.199918  0.214783\n26          26  2.200052  0.215000\n27          27  2.199907  0.215700\n28          28  2.200050  0.215367\n29          29  2.200190  0.215633",
      "text/html": "<div>\n<style scoped>\n    .dataframe tbody tr th:only-of-type {\n        vertical-align: middle;\n    }\n\n    .dataframe tbody tr th {\n        vertical-align: top;\n    }\n\n    .dataframe thead th {\n        text-align: right;\n    }\n</style>\n<table border=\"1\" class=\"dataframe\">\n  <thead>\n    <tr style=\"text-align: right;\">\n      <th></th>\n      <th>Unnamed: 0</th>\n      <th>loss</th>\n      <th>a</th>\n    </tr>\n  </thead>\n  <tbody>\n    <tr>\n      <th>0</th>\n      <td>0</td>\n      <td>5.166237</td>\n      <td>0.151117</td>\n    </tr>\n    <tr>\n      <th>1</th>\n      <td>1</td>\n      <td>2.303033</td>\n      <td>0.174683</td>\n    </tr>\n    <tr>\n      <th>2</th>\n      <td>2</td>\n      <td>2.277832</td>\n      <td>0.180217</td>\n    </tr>\n    <tr>\n      <th>3</th>\n      <td>3</td>\n      <td>2.265289</td>\n      <td>0.179850</td>\n    </tr>\n    <tr>\n      <th>4</th>\n      <td>4</td>\n      <td>2.249903</td>\n      <td>0.181200</td>\n    </tr>\n    <tr>\n      <th>5</th>\n      <td>5</td>\n      <td>2.234689</td>\n      <td>0.187083</td>\n    </tr>\n    <tr>\n      <th>6</th>\n      <td>6</td>\n      <td>2.221398</td>\n      <td>0.195833</td>\n    </tr>\n    <tr>\n      <th>7</th>\n      <td>7</td>\n      <td>2.212818</td>\n      <td>0.203283</td>\n    </tr>\n    <tr>\n      <th>8</th>\n      <td>8</td>\n      <td>2.207786</td>\n      <td>0.209167</td>\n    </tr>\n    <tr>\n      <th>9</th>\n      <td>9</td>\n      <td>2.205102</td>\n      <td>0.211517</td>\n    </tr>\n    <tr>\n      <th>10</th>\n      <td>10</td>\n      <td>2.203603</td>\n      <td>0.212733</td>\n    </tr>\n    <tr>\n      <th>11</th>\n      <td>11</td>\n      <td>2.202217</td>\n      <td>0.214133</td>\n    </tr>\n    <tr>\n      <th>12</th>\n      <td>12</td>\n      <td>2.201801</td>\n      <td>0.213933</td>\n    </tr>\n    <tr>\n      <th>13</th>\n      <td>13</td>\n      <td>2.201334</td>\n      <td>0.214217</td>\n    </tr>\n    <tr>\n      <th>14</th>\n      <td>14</td>\n      <td>2.200947</td>\n      <td>0.214383</td>\n    </tr>\n    <tr>\n      <th>15</th>\n      <td>15</td>\n      <td>2.201005</td>\n      <td>0.214700</td>\n    </tr>\n    <tr>\n      <th>16</th>\n      <td>16</td>\n      <td>2.200643</td>\n      <td>0.215150</td>\n    </tr>\n    <tr>\n      <th>17</th>\n      <td>17</td>\n      <td>2.200398</td>\n      <td>0.215567</td>\n    </tr>\n    <tr>\n      <th>18</th>\n      <td>18</td>\n      <td>2.200149</td>\n      <td>0.214883</td>\n    </tr>\n    <tr>\n      <th>19</th>\n      <td>19</td>\n      <td>2.200387</td>\n      <td>0.214633</td>\n    </tr>\n    <tr>\n      <th>20</th>\n      <td>20</td>\n      <td>2.200220</td>\n      <td>0.215117</td>\n    </tr>\n    <tr>\n      <th>21</th>\n      <td>21</td>\n      <td>2.200209</td>\n      <td>0.215183</td>\n    </tr>\n    <tr>\n      <th>22</th>\n      <td>22</td>\n      <td>2.200136</td>\n      <td>0.214633</td>\n    </tr>\n    <tr>\n      <th>23</th>\n      <td>23</td>\n      <td>2.199552</td>\n      <td>0.215050</td>\n    </tr>\n    <tr>\n      <th>24</th>\n      <td>24</td>\n      <td>2.200162</td>\n      <td>0.215017</td>\n    </tr>\n    <tr>\n      <th>25</th>\n      <td>25</td>\n      <td>2.199918</td>\n      <td>0.214783</td>\n    </tr>\n    <tr>\n      <th>26</th>\n      <td>26</td>\n      <td>2.200052</td>\n      <td>0.215000</td>\n    </tr>\n    <tr>\n      <th>27</th>\n      <td>27</td>\n      <td>2.199907</td>\n      <td>0.215700</td>\n    </tr>\n    <tr>\n      <th>28</th>\n      <td>28</td>\n      <td>2.200050</td>\n      <td>0.215367</td>\n    </tr>\n    <tr>\n      <th>29</th>\n      <td>29</td>\n      <td>2.200190</td>\n      <td>0.215633</td>\n    </tr>\n  </tbody>\n</table>\n</div>"
     },
     "execution_count": 34,
     "metadata": {},
     "output_type": "execute_result"
    }
   ],
   "source": [
    "data = pd.read_csv(files[0])\n",
    "b =  data.rename(columns={\"accuracy\": \"a\"})\n",
    "b"
   ],
   "metadata": {
    "collapsed": false,
    "pycharm": {
     "name": "#%%\n"
    }
   }
  }
 ],
 "metadata": {
  "kernelspec": {
   "display_name": "Python 3",
   "language": "python",
   "name": "python3"
  },
  "language_info": {
   "codemirror_mode": {
    "name": "ipython",
    "version": 2
   },
   "file_extension": ".py",
   "mimetype": "text/x-python",
   "name": "python",
   "nbconvert_exporter": "python",
   "pygments_lexer": "ipython2",
   "version": "2.7.6"
  }
 },
 "nbformat": 4,
 "nbformat_minor": 0
}