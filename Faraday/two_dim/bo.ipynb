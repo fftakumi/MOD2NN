{
 "cells": [
  {
   "cell_type": "code",
   "execution_count": null,
   "metadata": {
    "collapsed": true,
    "pycharm": {
     "name": "#%%\n"
    }
   },
   "outputs": [],
   "source": [
    "#------------------------\n",
    "# Google Colab上でのみ実行\n",
    "#------------------------\n",
    "import time\n",
    "%env TOKEN=*************************************\n",
    "! git clone https://$$TOKEN@github.com/konnitiha3/MOD2NN.git\n",
    "\n",
    "import sys\n",
    "sys.path.append('/content/MOD2NN/Faraday/two_dim/module/lib')\n",
    "\n",
    "from google.colab import drive\n",
    "drive.mount('/content/drive')"
   ]
  },
  {
   "cell_type": "code",
   "execution_count": null,
   "outputs": [],
   "source": [
    "import time\n",
    "import os\n",
    "import json\n",
    "import sys\n",
    "import re\n",
    "\n",
    "import tensorflow as tf\n",
    "from tensorflow import keras\n",
    "import numpy as np\n",
    "import matplotlib.pyplot as plt\n",
    "import pandas as pd\n",
    "import seaborn as sns\n",
    "import GPy\n",
    "import GPyOpt\n",
    "\n",
    "from module.lib.layers import *\n",
    "from module.lib import regularizer\n",
    "\n",
    "tf.random.set_seed(1)\n",
    "\n",
    "print(\"TensorFlow:\", tf.__version__)\n",
    "print(\"Python:\", sys.version)\n",
    "\n",
    "plt.rcParams['font.size'] = 18"
   ],
   "metadata": {
    "collapsed": false,
    "pycharm": {
     "name": "#%%\n"
    }
   }
  },
  {
   "cell_type": "code",
   "execution_count": null,
   "outputs": [],
   "source": [
    "mnist = tf.keras.datasets.mnist\n",
    "\n",
    "(x_train, y_train), (x_test, y_test) = mnist.load_data()\n",
    "x_train = x_train.astype(\"float32\") / 255.0\n",
    "x_test = x_test.astype(\"float32\") / 255.0\n",
    "\n",
    "y_train = y_train.astype(\"float32\")\n",
    "y_test = y_test.astype(\"float32\")\n",
    "\n",
    "# Reserve 10,000 samples for validation\n",
    "x_val = x_train[-5000:]\n",
    "y_val = y_train[-5000:]\n",
    "x_train = x_train[:-5000]\n",
    "y_train = y_train[:-5000]"
   ],
   "metadata": {
    "collapsed": false,
    "pycharm": {
     "name": "#%%\n"
    }
   }
  },
  {
   "cell_type": "code",
   "execution_count": null,
   "outputs": [],
   "source": [
    "def create_model(**kwargs):\n",
    "    z = kwargs[\"z\"]\n",
    "    r1 = kwargs[\"r1\"]\n",
    "    r2 = kwargs[\"r2\"]\n",
    "    wavelength = 532.0e-9\n",
    "    d = 1.0e-6\n",
    "    n = 1.5\n",
    "    #tf.random.set_seed(kwargs[\"seed\"])\n",
    "    shape = (100, 100)\n",
    "    inputs = tf.keras.Input((28, 28))\n",
    "    theta = -2.79 * np.pi / 180\n",
    "    eta = np.arctan(1.24 * np.pi/180)/2\n",
    "    l1=0\n",
    "    print(kwargs)\n",
    "    x = ImageResizing(shape)(inputs)\n",
    "    x = ImageBinarization(0.5, 0.0, 1.0)(x)\n",
    "    x = IntensityToElectricField(shape)(x)\n",
    "    x = MO(shape, limitation='sin', theta=theta, eta=eta, kernel_regularizer=regularizer.ShiftL1Regularizer(l1, np.pi/2))(x)\n",
    "    x = AngularSpectrum(shape, wavelength=wavelength, z=0.7e-3, d=d, n=1.51, method='expand')(x)\n",
    "    x = MO(shape, limitation='sin', theta=theta, eta=eta, kernel_regularizer=regularizer.ShiftL1Regularizer(l1, np.pi/2))(x)\n",
    "    x = AngularSpectrum(shape, wavelength=wavelength, z=z, d=d, n=1.00, method='expand')(x)\n",
    "    # x = Polarizer(shape)(x)\n",
    "    #x =ElectricFieldToIntensity(shape)(x)\n",
    "    #x = MNISTFilter(shape)(x)\n",
    "    x = FaradayRotationByStokes(shape)(x)\n",
    "    # x = Argument(shape)(x)\n",
    "    #x = MNISTDetector(10)(x)\n",
    "    x = CircleOnCircumferenceDetector(10, r1, r2)(x)\n",
    "    x = tf.keras.layers.Softmax()(x)\n",
    "    model = tf.keras.Model(inputs, x)\n",
    "    return model"
   ],
   "metadata": {
    "collapsed": false,
    "pycharm": {
     "name": "#%%\n"
    }
   }
  },
  {
   "cell_type": "code",
   "execution_count": null,
   "outputs": [],
   "source": [
    "def train(**kwargs):\n",
    "    model = create_model(**kwargs)\n",
    "    model.summary()\n",
    "    model.compile(optimizer=tf.keras.optimizers.Adam(),\n",
    "                  loss=tf.keras.losses.sparse_categorical_crossentropy,  # category: sparse_categorical_crossentropy\n",
    "                  metrics=['accuracy'])\n",
    "\n",
    "    epochs = 50\n",
    "    early_stopping = tf.keras.callbacks.EarlyStopping(\n",
    "        monitor='accuracy',\n",
    "        min_delta=0.05,\n",
    "        patience=2,\n",
    "    )\n",
    "\n",
    "    model_name = \"20220627_12\"\n",
    "    cholab_path = \"/content/drive/MyDrive/D2NN/\"\n",
    "    checkpoint_path = cholab_path + \"checkpoint/\" + model_name + \"/cp-{epoch:04d}.ckpt\"\n",
    "    checkpoint_dir = os.path.dirname(checkpoint_path)\n",
    "\n",
    "    # チェックポイントコールバックを作る\n",
    "    cp_callback = tf.keras.callbacks.ModelCheckpoint(checkpoint_path,\n",
    "                                                     save_weights_only=True,\n",
    "                                                     verbose=1)\n",
    "\n",
    "    logdir = os.path.join(cholab_path +\"logs\", model_name)\n",
    "    tensorboard_callback = tf.keras.callbacks.TensorBoard(logdir, histogram_freq=1)\n",
    "\n",
    "    result = model.fit(x_train,\n",
    "                       y_train,\n",
    "                       batch_size=64,\n",
    "                       epochs=epochs,\n",
    "                       validation_data=(x_val, y_val),\n",
    "                       callbacks=[cp_callback, tensorboard_callback]\n",
    "                       )\n",
    "\n",
    "    path = cholab_path + \"trained_model/\"+ model_name\n",
    "    model.save(path)\n",
    "\n",
    "    df = pd.DataFrame(result.history)\n",
    "    df.to_csv(path + \"/history.csv\")\n",
    "\n",
    "    with open(path + \"/config.json\", 'w') as f:\n",
    "        json.dump(model.get_config(), f, indent=4)\n",
    "\n",
    "    bi_model = tf.keras.models.load_model(path)\n",
    "    pattern = r'mo'\n",
    "    mo_layers = []\n",
    "    for layer in bi_model.layers:\n",
    "        result = re.match(pattern, layer.name)\n",
    "        if result:\n",
    "            mo_layers.append(layer)\n",
    "\n",
    "    for layer in mo_layers:\n",
    "        w = layer.get_weights()\n",
    "        bi_w = np.where(w[0]>0, np.pi/2, -np.pi/2)\n",
    "        w[0] = bi_w\n",
    "        layer.set_weights(w)\n",
    "\n",
    "    return bi_model.predict(x_test, y_test)"
   ],
   "metadata": {
    "collapsed": false,
    "pycharm": {
     "name": "#%%\n"
    }
   }
  },
  {
   "cell_type": "code",
   "execution_count": null,
   "outputs": [],
   "source": [
    "bounds = [{'name': 'z',  'type': 'continuous',  'domain': (0.1, 2.0)},\n",
    "          {'name': 'r1', 'type': 'discrete',  'domain': range(50)},\n",
    "          {'name': 'r2', 'type': 'discrete',  'domain': range(50)}]\n",
    "\n",
    "# ベイズ最適化する関数（上記で書いたブラックボックス）を定義します。\n",
    "# xが入力で、出力はreturnされます。\n",
    "def f(x):\n",
    "    print(x)\n",
    "    evaluation = train(\n",
    "        z = float(x[:,0]),\n",
    "        l2_drop = float(x[:,1]),\n",
    "        l1_out = int(x[:,2]))\n",
    "    print(\"loss:{0} \\t\\t accuracy:{1}\".format(evaluation[0], evaluation[1]))\n",
    "    print(evaluation)\n",
    "    return evaluation[0]\n",
    "\n",
    "# 事前探索を行います。\n",
    "opt_mnist = GPyOpt.methods.BayesianOptimization(f=f, domain=bounds)\n",
    "\n",
    "# 最適なパラメータを探索します。\n",
    "opt_mnist.run_optimization(max_iter=10)\n",
    "print(\"optimized parameters: {0}\".format(opt_mnist.x_opt))\n",
    "print(\"optimized loss: {0}\".format(opt_mnist.fx_opt))"
   ],
   "metadata": {
    "collapsed": false,
    "pycharm": {
     "name": "#%%\n"
    }
   }
  }
 ],
 "metadata": {
  "kernelspec": {
   "display_name": "Python 3",
   "language": "python",
   "name": "python3"
  },
  "language_info": {
   "codemirror_mode": {
    "name": "ipython",
    "version": 2
   },
   "file_extension": ".py",
   "mimetype": "text/x-python",
   "name": "python",
   "nbconvert_exporter": "python",
   "pygments_lexer": "ipython2",
   "version": "2.7.6"
  }
 },
 "nbformat": 4,
 "nbformat_minor": 0
}