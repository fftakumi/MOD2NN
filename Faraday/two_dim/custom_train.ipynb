{
 "cells": [
  {
   "cell_type": "code",
   "execution_count": null,
   "metadata": {
    "collapsed": true,
    "pycharm": {
     "name": "#%%\n"
    }
   },
   "outputs": [],
   "source": [
    "#------------------------\n",
    "# Google Colab上でのみ実行\n",
    "#------------------------\n",
    "import time\n",
    "!git clone https://github.com/konnitiha3/MOD2NN.git\n",
    "\n",
    "import sys\n",
    "sys.path.append('/content/MOD2NN')\n",
    "\n",
    "from google.colab import drive\n",
    "drive.mount('/content/drive')"
   ]
  },
  {
   "cell_type": "code",
   "execution_count": 2,
   "outputs": [
    {
     "name": "stdout",
     "output_type": "stream",
     "text": [
      "TensorFlow: 2.8.0\n",
      "Python: 3.8.11 (default, Aug 16 2021, 12:04:33) \n",
      "[Clang 12.0.0 ]\n"
     ]
    }
   ],
   "source": [
    "import time\n",
    "import os\n",
    "import tensorflow as tf\n",
    "from tensorflow import keras\n",
    "import numpy as np\n",
    "import matplotlib.pyplot as plt\n",
    "import sys\n",
    "import pandas as pd\n",
    "from cxlayers import ImageToElectricField, CxMO, AngularSpectrum, CxD2NNIntensity, D2NNMNISTDetector, ImageResizing, ImageBinarization, D2NNMNISTFilter, CxD2NNFaradayRotation, Polarizer\n",
    "\n",
    "tf.random.set_seed(1)\n",
    "\n",
    "print(\"TensorFlow:\", tf.__version__)\n",
    "print(\"Python:\", sys.version)\n",
    "\n",
    "plt.rcParams['font.size'] = 18"
   ],
   "metadata": {
    "collapsed": false,
    "pycharm": {
     "name": "#%%\n"
    }
   }
  },
  {
   "cell_type": "code",
   "execution_count": 3,
   "outputs": [],
   "source": [
    "mnist = tf.keras.datasets.mnist\n",
    "\n",
    "(x_train, y_train), (x_test, y_test) = mnist.load_data()\n",
    "x_train = x_train / 255.0\n",
    "x_test = x_test / 255.0"
   ],
   "metadata": {
    "collapsed": false,
    "pycharm": {
     "name": "#%%\n"
    }
   }
  },
  {
   "cell_type": "code",
   "execution_count": 10,
   "outputs": [],
   "source": [
    "class MOD2NN(tf.keras.models.Model):\n",
    "  def __init__(self, **kwargs):\n",
    "    super().__init__(**kwargs)\n",
    "    # 複数モデルを入れ子にすることもOK\n",
    "    self.model = self.create_model()\n",
    "    # トラッカーを用意する（訓練、テスト共通で良い）\n",
    "    self.loss_object = tf.keras.losses.SparseCategoricalCrossentropy(from_logits=True)\n",
    "    self.loss_tracker = tf.keras.metrics.SparseCategoricalCrossentropy()\n",
    "    self.accuracy_tracker = tf.keras.metrics.SparseCategoricalAccuracy(name=\"accuracy\")\n",
    "\n",
    "  def create_model(self):\n",
    "    shape = (28, 28)\n",
    "    inputs = tf.keras.layers.Input((28, 28))\n",
    "    x = ImageToElectricField(shape)(inputs)\n",
    "    x = CxMO(shape)(x)\n",
    "    x = AngularSpectrum(shape, 633e-9, 0.1e-3, d=0.5e-6, n=1.0, method='band_limited')(x)\n",
    "    x = CxD2NNIntensity(shape)(x)\n",
    "    x = D2NNMNISTDetector(10)(x)\n",
    "    return tf.keras.models.Model(inputs, x)\n",
    "\n",
    "  # なくてもエラーは出ないが、訓練・テスト間、エポックの切り替わりで\n",
    "  # トラッカーがリセットされないため、必ずmetricsのプロパティをオーバーライドすること\n",
    "  # self.reset_metrics()はこのプロパティを参照している\n",
    "  @property\n",
    "  def metrics(self):\n",
    "    return [self.loss_tracker, self.accuracy]\n",
    "\n",
    "  def train_step(self, data):\n",
    "    x, y = data\n",
    "\n",
    "    with tf.GradientTape() as tape:\n",
    "      pred = self.model(x)\n",
    "      loss_value = self.loss_object(y, pred)\n",
    "    # 全体（self）に対する偏微分か、特定モデル（self.model）に対する微分かは場合により変わる\n",
    "    # このケースではどちらでも同じだが、GANでは使い分ける必要がある\n",
    "    grads = tape.gradient(loss_value, self.trainable_weights)\n",
    "    self.optimizer.apply_gradients(zip(grads, self.trainable_weights))\n",
    "\n",
    "    # エポックの切り替わりのトラッカーのリセットは、self.reset_metrics()で自動的に行われる\n",
    "    self.loss_tracker.update_state(y, pred)\n",
    "    self.accuracy_tracker.update_state(y, pred)\n",
    "\n",
    "    return {\n",
    "      \"loss\": self.loss_tracker.result(),\n",
    "      \"accuracy\": self.accuracy_tracker.result()\n",
    "    }\n",
    "\n",
    "  def test_step(self, data):\n",
    "    x, y = data\n",
    "\n",
    "    pred = self.model(x)\n",
    "    loss = self.loss_object(y, pred)\n",
    "\n",
    "    # 訓練・テストの切り替わりのトラッカーのリセットは、self.reset_metrics()で自動的に行われる\n",
    "    self.loss_tracker.update_state(loss)\n",
    "    return {\n",
    "      \"loss\": self.loss_tracker.result()\n",
    "    }"
   ],
   "metadata": {
    "collapsed": false,
    "pycharm": {
     "name": "#%%\n"
    }
   }
  },
  {
   "cell_type": "code",
   "execution_count": 11,
   "outputs": [
    {
     "name": "stdout",
     "output_type": "stream",
     "text": [
      "Epoch 1/10\n"
     ]
    },
    {
     "name": "stderr",
     "output_type": "stream",
     "text": [
      "2022-04-08 13:53:20.956951: I tensorflow/core/grappler/optimizers/custom_graph_optimizer_registry.cc:113] Plugin optimizer for device_type GPU is enabled.\n"
     ]
    },
    {
     "name": "stdout",
     "output_type": "stream",
     "text": [
      "938/938 [==============================] - 53s 56ms/step - loss: 2.5735 - accuracy: 0.0735\n",
      "Epoch 2/10\n",
      "938/938 [==============================] - 54s 57ms/step - loss: 2.3246 - accuracy: 0.1335\n",
      "Epoch 3/10\n",
      "938/938 [==============================] - 54s 57ms/step - loss: 2.1313 - accuracy: 0.1895\n",
      "Epoch 4/10\n",
      "938/938 [==============================] - 54s 57ms/step - loss: 2.0572 - accuracy: 0.2277\n",
      "Epoch 5/10\n",
      "938/938 [==============================] - 55s 59ms/step - loss: 2.0352 - accuracy: 0.2543\n",
      "Epoch 6/10\n",
      "938/938 [==============================] - 54s 58ms/step - loss: 2.0323 - accuracy: 0.2742\n",
      "Epoch 7/10\n",
      "938/938 [==============================] - 54s 57ms/step - loss: 2.0320 - accuracy: 0.2898\n",
      "Epoch 8/10\n",
      "938/938 [==============================] - 54s 57ms/step - loss: 2.0307 - accuracy: 0.3019\n",
      "Epoch 9/10\n",
      "938/938 [==============================] - 53s 57ms/step - loss: 2.0294 - accuracy: 0.3117\n",
      "Epoch 10/10\n",
      "938/938 [==============================] - 52s 56ms/step - loss: 2.0259 - accuracy: 0.3198\n"
     ]
    },
    {
     "data": {
      "text/plain": "<keras.callbacks.History at 0x146c099d0>"
     },
     "execution_count": 11,
     "metadata": {},
     "output_type": "execute_result"
    }
   ],
   "source": [
    "model = MOD2NN()\n",
    "model.compile(optimizer=tf.keras.optimizers.Adam())\n",
    "model.fit(x_train, y_train, batch_size=64, epochs=10)"
   ],
   "metadata": {
    "collapsed": false,
    "pycharm": {
     "name": "#%%\n"
    }
   }
  },
  {
   "cell_type": "code",
   "execution_count": 16,
   "outputs": [
    {
     "ename": "NotImplementedError",
     "evalue": "Exception encountered when calling layer \"mod2nn_2\" (type MOD2NN).\n\nUnimplemented `tf.keras.Model.call()`: if you intend to create a `Model` with the Functional API, please provide `inputs` and `outputs` arguments. Otherwise, subclass `Model` with an overridden `call()` method.\n\nCall arguments received:\n  • inputs=tf.Tensor(shape=(10, 28, 28), dtype=float32)\n  • training=None\n  • mask=None",
     "output_type": "error",
     "traceback": [
      "\u001B[0;31m---------------------------------------------------------------------------\u001B[0m",
      "\u001B[0;31mNotImplementedError\u001B[0m                       Traceback (most recent call last)",
      "Input \u001B[0;32mIn [16]\u001B[0m, in \u001B[0;36m<cell line: 1>\u001B[0;34m()\u001B[0m\n\u001B[0;32m----> 1\u001B[0m pred \u001B[38;5;241m=\u001B[39m \u001B[43mmodel\u001B[49m\u001B[43m(\u001B[49m\u001B[43mx_train\u001B[49m\u001B[43m[\u001B[49m\u001B[38;5;241;43m0\u001B[39;49m\u001B[43m:\u001B[49m\u001B[38;5;241;43m10\u001B[39;49m\u001B[43m,\u001B[49m\u001B[43m:\u001B[49m\u001B[43m,\u001B[49m\u001B[43m:\u001B[49m\u001B[43m]\u001B[49m\u001B[43m)\u001B[49m\n\u001B[1;32m      2\u001B[0m pred\n",
      "File \u001B[0;32m~/miniforge3/envs/tensorflow25/lib/python3.8/site-packages/keras/utils/traceback_utils.py:67\u001B[0m, in \u001B[0;36mfilter_traceback.<locals>.error_handler\u001B[0;34m(*args, **kwargs)\u001B[0m\n\u001B[1;32m     65\u001B[0m \u001B[38;5;28;01mexcept\u001B[39;00m \u001B[38;5;167;01mException\u001B[39;00m \u001B[38;5;28;01mas\u001B[39;00m e:  \u001B[38;5;66;03m# pylint: disable=broad-except\u001B[39;00m\n\u001B[1;32m     66\u001B[0m   filtered_tb \u001B[38;5;241m=\u001B[39m _process_traceback_frames(e\u001B[38;5;241m.\u001B[39m__traceback__)\n\u001B[0;32m---> 67\u001B[0m   \u001B[38;5;28;01mraise\u001B[39;00m e\u001B[38;5;241m.\u001B[39mwith_traceback(filtered_tb) \u001B[38;5;28;01mfrom\u001B[39;00m \u001B[38;5;28mNone\u001B[39m\n\u001B[1;32m     68\u001B[0m \u001B[38;5;28;01mfinally\u001B[39;00m:\n\u001B[1;32m     69\u001B[0m   \u001B[38;5;28;01mdel\u001B[39;00m filtered_tb\n",
      "File \u001B[0;32m~/miniforge3/envs/tensorflow25/lib/python3.8/site-packages/keras/engine/training.py:475\u001B[0m, in \u001B[0;36mModel.call\u001B[0;34m(self, inputs, training, mask)\u001B[0m\n\u001B[1;32m    450\u001B[0m \u001B[38;5;129m@doc_controls\u001B[39m\u001B[38;5;241m.\u001B[39mdoc_in_current_and_subclasses\n\u001B[1;32m    451\u001B[0m \u001B[38;5;28;01mdef\u001B[39;00m \u001B[38;5;21mcall\u001B[39m(\u001B[38;5;28mself\u001B[39m, inputs, training\u001B[38;5;241m=\u001B[39m\u001B[38;5;28;01mNone\u001B[39;00m, mask\u001B[38;5;241m=\u001B[39m\u001B[38;5;28;01mNone\u001B[39;00m):\n\u001B[1;32m    452\u001B[0m   \u001B[38;5;124;03m\"\"\"Calls the model on new inputs and returns the outputs as tensors.\u001B[39;00m\n\u001B[1;32m    453\u001B[0m \n\u001B[1;32m    454\u001B[0m \u001B[38;5;124;03m  In this case `call()` just reapplies\u001B[39;00m\n\u001B[0;32m   (...)\u001B[0m\n\u001B[1;32m    473\u001B[0m \u001B[38;5;124;03m      a list of tensors if there are more than one outputs.\u001B[39;00m\n\u001B[1;32m    474\u001B[0m \u001B[38;5;124;03m  \"\"\"\u001B[39;00m\n\u001B[0;32m--> 475\u001B[0m   \u001B[38;5;28;01mraise\u001B[39;00m \u001B[38;5;167;01mNotImplementedError\u001B[39;00m(\u001B[38;5;124m'\u001B[39m\u001B[38;5;124mUnimplemented `tf.keras.Model.call()`: if you \u001B[39m\u001B[38;5;124m'\u001B[39m\n\u001B[1;32m    476\u001B[0m                             \u001B[38;5;124m'\u001B[39m\u001B[38;5;124mintend to create a `Model` with the Functional \u001B[39m\u001B[38;5;124m'\u001B[39m\n\u001B[1;32m    477\u001B[0m                             \u001B[38;5;124m'\u001B[39m\u001B[38;5;124mAPI, please provide `inputs` and `outputs` \u001B[39m\u001B[38;5;124m'\u001B[39m\n\u001B[1;32m    478\u001B[0m                             \u001B[38;5;124m'\u001B[39m\u001B[38;5;124marguments. Otherwise, subclass `Model` with an \u001B[39m\u001B[38;5;124m'\u001B[39m\n\u001B[1;32m    479\u001B[0m                             \u001B[38;5;124m'\u001B[39m\u001B[38;5;124moverridden `call()` method.\u001B[39m\u001B[38;5;124m'\u001B[39m)\n",
      "\u001B[0;31mNotImplementedError\u001B[0m: Exception encountered when calling layer \"mod2nn_2\" (type MOD2NN).\n\nUnimplemented `tf.keras.Model.call()`: if you intend to create a `Model` with the Functional API, please provide `inputs` and `outputs` arguments. Otherwise, subclass `Model` with an overridden `call()` method.\n\nCall arguments received:\n  • inputs=tf.Tensor(shape=(10, 28, 28), dtype=float32)\n  • training=None\n  • mask=None"
     ]
    }
   ],
   "source": [
    "pred = model(x_train[0:10,:,:])\n",
    "pred"
   ],
   "metadata": {
    "collapsed": false,
    "pycharm": {
     "name": "#%%\n"
    }
   }
  }
 ],
 "metadata": {
  "kernelspec": {
   "display_name": "Python 3",
   "language": "python",
   "name": "python3"
  },
  "language_info": {
   "codemirror_mode": {
    "name": "ipython",
    "version": 2
   },
   "file_extension": ".py",
   "mimetype": "text/x-python",
   "name": "python",
   "nbconvert_exporter": "python",
   "pygments_lexer": "ipython2",
   "version": "2.7.6"
  }
 },
 "nbformat": 4,
 "nbformat_minor": 0
}