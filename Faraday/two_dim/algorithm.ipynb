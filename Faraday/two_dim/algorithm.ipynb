{
 "cells": [
  {
   "cell_type": "markdown",
   "metadata": {
    "collapsed": true,
    "pycharm": {
     "name": "#%% md\n"
    }
   },
   "source": [
    "# 各層のアルゴリズム"
   ]
  },
  {
   "cell_type": "markdown",
   "source": [
    "## MNISTDetector\n",
    "$$\n",
    "\\begin{aligned}\n",
    "\n",
    "\\begin{pmatrix}\n",
    "I_{11} & \\cdots & I_{1j} & \\cdots & I_{1m}\\\\\n",
    "\\vdots & \\ddots &        &        & \\vdots \\\\\n",
    "I_{i1} &        & I_{ij} &        & I_{im} \\\\\n",
    "\\vdots &        &        & \\ddots & \\vdots \\\\\n",
    "I_{n1} & \\cdots & I_{nj} & \\cdots & I_{nm}\n",
    "\\end{pmatrix}\n",
    "\\overrightarrow{flatten}\n",
    "\\begin{pmatrix}\n",
    "I_{11} & \\cdots & I_{1j} & \\cdots & I_{1m} & I_{21} & \\cdots & I_{2j} & \\cdots & I_{2m} & \\cdots & I_{nm}\n",
    "\\end{pmatrix}\n",
    "\\end{aligned}\n",
    "$$\n",
    "$$\n",
    "\\begin{aligned}\n",
    "\\begin{pmatrix}\n",
    "I_{11}^1 & \\cdots & I_{1j}^1 & \\cdots & I_{1m}^1 & I_{21}^1 & \\cdots & I_{2j}^1 & \\cdots & I_{2m}^1 & \\cdots & I_{nm}^1 \\\\\n",
    "I_{11}^2 & \\cdots & I_{1j}^2 & \\cdots & I_{1m}^2 & I_{21}^2 & \\cdots & I_{2j}^2 & \\cdots & I_{2m}^2 & \\cdots & I_{nm}^2 \\\\\n",
    "         &        &          &        &          &          &\\vdots  &          &        &          &        &\n",
    "\\end{pmatrix}\n",
    "\n",
    "\\begin{pmatrix}\n",
    "\\vdots       & \\vdots       & \\cdots & \\vdots      \\\\\n",
    "y_0^{filter} & y_1^{filter} & \\cdots & y_9^{filter}\\\\\n",
    "\\vdots       & \\vdots       & \\cdots & \\vdots\n",
    "\\end{pmatrix}\n",
    "\n",
    "=\n",
    "\n",
    "\\begin{pmatrix}\n",
    "y_0^1 & y_1^1 & \\cdots& y_9^1 \\\\\n",
    "y_0^2 & y_1^2 & \\cdots& y_9^2 \\\\\n",
    "      &       & \\vdots&\n",
    "\\end{pmatrix}\n",
    "\n",
    "\\end{aligned}\n",
    "$$"
   ],
   "metadata": {
    "collapsed": false,
    "pycharm": {
     "name": "#%% md\n"
    }
   }
  }
 ],
 "metadata": {
  "kernelspec": {
   "display_name": "Python 3",
   "language": "python",
   "name": "python3"
  },
  "language_info": {
   "codemirror_mode": {
    "name": "ipython",
    "version": 2
   },
   "file_extension": ".py",
   "mimetype": "text/x-python",
   "name": "python",
   "nbconvert_exporter": "python",
   "pygments_lexer": "ipython2",
   "version": "2.7.6"
  }
 },
 "nbformat": 4,
 "nbformat_minor": 0
}