{
 "cells": [
  {
   "cell_type": "code",
   "execution_count": 4,
   "outputs": [
    {
     "name": "stdout",
     "output_type": "stream",
     "text": [
      "Cloning into 'MOD2NN'...\r\n",
      "warning: redirecting to https://github.com/konnitiha3/MOD2NN.git/\r\n",
      "remote: Enumerating objects: 1466, done.\u001B[K\r\n",
      "remote: Counting objects: 100% (231/231), done.\u001B[K\r\n",
      "remote: Compressing objects: 100% (133/133), done.\u001B[K\r\n",
      "remote: Total 1466 (delta 129), reused 160 (delta 80), pack-reused 1235\u001B[K\r\n",
      "Receiving objects: 100% (1466/1466), 41.33 MiB | 22.21 MiB/s, done.\r\n",
      "Resolving deltas: 100% (834/834), done.\r\n",
      "Updating files: 100% (123/123), done.\r\n"
     ]
    }
   ],
   "source": [
    "# paperspace gradient用\n",
    "! git clone https://$$TOKEN@github.com/konnitiha3/MOD2NN.git\n",
    "\n",
    "import sys\n",
    "sys.path.append('/notebooks/MOD2NN')"
   ],
   "metadata": {
    "collapsed": false
   }
  },
  {
   "cell_type": "code",
   "execution_count": 7,
   "outputs": [
    {
     "name": "stdout",
     "output_type": "stream",
     "text": [
      "2.9.1\n"
     ]
    }
   ],
   "source": [
    "import matplotlib.pyplot as plt\n",
    "import numpy as np\n",
    "import tensorflow as tf\n",
    "from Faraday.two_dim.module.lib.layers import *\n",
    "from Faraday.two_dim.module.lib import regularizer"
   ],
   "metadata": {
    "collapsed": false
   }
  },
  {
   "cell_type": "code",
   "execution_count": 133,
   "outputs": [
    {
     "name": "stdout",
     "output_type": "stream",
     "text": [
      "Collecting PyDrive\r\n",
      "  Downloading PyDrive-1.3.1.tar.gz (987 kB)\r\n",
      "\u001B[2K     \u001B[90m━━━━━━━━━━━━━━━━━━━━━━━━━━━━━━━━━━━━━━\u001B[0m \u001B[32m987.4/987.4 kB\u001B[0m \u001B[31m67.9 MB/s\u001B[0m eta \u001B[36m0:00:00\u001B[0m\r\n",
      "\u001B[?25h  Preparing metadata (setup.py) ... \u001B[?25ldone\r\n",
      "\u001B[?25hRequirement already satisfied: google-api-python-client>=1.2 in /usr/local/lib/python3.9/dist-packages (from PyDrive) (2.65.0)\r\n",
      "Requirement already satisfied: oauth2client>=4.0.0 in /usr/local/lib/python3.9/dist-packages (from PyDrive) (4.1.3)\r\n",
      "Requirement already satisfied: PyYAML>=3.0 in /usr/local/lib/python3.9/dist-packages (from PyDrive) (5.4.1)\r\n",
      "Requirement already satisfied: google-auth-httplib2>=0.1.0 in /usr/local/lib/python3.9/dist-packages (from google-api-python-client>=1.2->PyDrive) (0.1.0)\r\n",
      "Requirement already satisfied: google-auth<3.0.0dev,>=1.19.0 in /usr/local/lib/python3.9/dist-packages (from google-api-python-client>=1.2->PyDrive) (2.9.0)\r\n",
      "Requirement already satisfied: httplib2<1dev,>=0.15.0 in /usr/local/lib/python3.9/dist-packages (from google-api-python-client>=1.2->PyDrive) (0.20.4)\r\n",
      "Requirement already satisfied: uritemplate<5,>=3.0.1 in /usr/local/lib/python3.9/dist-packages (from google-api-python-client>=1.2->PyDrive) (4.1.1)\r\n",
      "Requirement already satisfied: google-api-core!=2.0.*,!=2.1.*,!=2.2.*,!=2.3.0,<3.0.0dev,>=1.31.5 in /usr/local/lib/python3.9/dist-packages (from google-api-python-client>=1.2->PyDrive) (2.10.2)\r\n",
      "Requirement already satisfied: pyasn1-modules>=0.0.5 in /usr/local/lib/python3.9/dist-packages (from oauth2client>=4.0.0->PyDrive) (0.2.8)\r\n",
      "Requirement already satisfied: pyasn1>=0.1.7 in /usr/local/lib/python3.9/dist-packages (from oauth2client>=4.0.0->PyDrive) (0.4.8)\r\n",
      "Requirement already satisfied: rsa>=3.1.4 in /usr/lib/python3/dist-packages (from oauth2client>=4.0.0->PyDrive) (4.0)\r\n",
      "Requirement already satisfied: six>=1.6.1 in /usr/lib/python3/dist-packages (from oauth2client>=4.0.0->PyDrive) (1.14.0)\r\n",
      "Requirement already satisfied: protobuf!=3.20.0,!=3.20.1,!=4.21.0,!=4.21.1,!=4.21.2,!=4.21.3,!=4.21.4,!=4.21.5,<5.0.0dev,>=3.19.5 in /usr/local/lib/python3.9/dist-packages (from google-api-core!=2.0.*,!=2.1.*,!=2.2.*,!=2.3.0,<3.0.0dev,>=1.31.5->google-api-python-client>=1.2->PyDrive) (4.21.8)\r\n",
      "Requirement already satisfied: googleapis-common-protos<2.0dev,>=1.56.2 in /usr/local/lib/python3.9/dist-packages (from google-api-core!=2.0.*,!=2.1.*,!=2.2.*,!=2.3.0,<3.0.0dev,>=1.31.5->google-api-python-client>=1.2->PyDrive) (1.56.4)\r\n",
      "Requirement already satisfied: requests<3.0.0dev,>=2.18.0 in /usr/local/lib/python3.9/dist-packages (from google-api-core!=2.0.*,!=2.1.*,!=2.2.*,!=2.3.0,<3.0.0dev,>=1.31.5->google-api-python-client>=1.2->PyDrive) (2.28.1)\r\n",
      "Requirement already satisfied: cachetools<6.0,>=2.0.0 in /usr/local/lib/python3.9/dist-packages (from google-auth<3.0.0dev,>=1.19.0->google-api-python-client>=1.2->PyDrive) (5.2.0)\r\n",
      "Requirement already satisfied: pyparsing!=3.0.0,!=3.0.1,!=3.0.2,!=3.0.3,<4,>=2.4.2 in /usr/local/lib/python3.9/dist-packages (from httplib2<1dev,>=0.15.0->google-api-python-client>=1.2->PyDrive) (3.0.9)\r\n",
      "Requirement already satisfied: certifi>=2017.4.17 in /usr/lib/python3/dist-packages (from requests<3.0.0dev,>=2.18.0->google-api-core!=2.0.*,!=2.1.*,!=2.2.*,!=2.3.0,<3.0.0dev,>=1.31.5->google-api-python-client>=1.2->PyDrive) (2019.11.28)\r\n",
      "Requirement already satisfied: urllib3<1.27,>=1.21.1 in /usr/local/lib/python3.9/dist-packages (from requests<3.0.0dev,>=2.18.0->google-api-core!=2.0.*,!=2.1.*,!=2.2.*,!=2.3.0,<3.0.0dev,>=1.31.5->google-api-python-client>=1.2->PyDrive) (1.26.10)\r\n",
      "Requirement already satisfied: idna<4,>=2.5 in /usr/lib/python3/dist-packages (from requests<3.0.0dev,>=2.18.0->google-api-core!=2.0.*,!=2.1.*,!=2.2.*,!=2.3.0,<3.0.0dev,>=1.31.5->google-api-python-client>=1.2->PyDrive) (2.8)\r\n",
      "Requirement already satisfied: charset-normalizer<3,>=2 in /usr/local/lib/python3.9/dist-packages (from requests<3.0.0dev,>=2.18.0->google-api-core!=2.0.*,!=2.1.*,!=2.2.*,!=2.3.0,<3.0.0dev,>=1.31.5->google-api-python-client>=1.2->PyDrive) (2.1.0)\r\n",
      "Building wheels for collected packages: PyDrive\r\n",
      "  Building wheel for PyDrive (setup.py) ... \u001B[?25ldone\r\n",
      "\u001B[?25h  Created wheel for PyDrive: filename=PyDrive-1.3.1-py3-none-any.whl size=27437 sha256=858e006cef6bb5b3e1f1c871df5ca83e2b2474dda252c353a03f020ec74ac8dc\r\n",
      "  Stored in directory: /root/.cache/pip/wheels/6e/98/e3/c91ae530a0508f87f1f24fe2b9df9d8e3952de1224d495e9e2\r\n",
      "Successfully built PyDrive\r\n",
      "Installing collected packages: PyDrive\r\n",
      "Successfully installed PyDrive-1.3.1\r\n",
      "\u001B[33mWARNING: Running pip as the 'root' user can result in broken permissions and conflicting behaviour with the system package manager. It is recommended to use a virtual environment instead: https://pip.pypa.io/warnings/venv\u001B[0m\u001B[33m\r\n",
      "\u001B[0m"
     ]
    }
   ],
   "source": [
    "! pip install PyDrive"
   ],
   "metadata": {
    "collapsed": false
   }
  },
  {
   "cell_type": "code",
   "execution_count": 134,
   "outputs": [
    {
     "ename": "InvalidConfigError",
     "evalue": "Invalid client secrets file ('Error opening file', 'client_secrets.json', 'No such file or directory', 2)",
     "output_type": "error",
     "traceback": [
      "\u001B[0;31m---------------------------------------------------------------------------\u001B[0m",
      "\u001B[0;31mFileNotFoundError\u001B[0m                         Traceback (most recent call last)",
      "File \u001B[0;32m/usr/local/lib/python3.9/dist-packages/oauth2client/clientsecrets.py:121\u001B[0m, in \u001B[0;36m_loadfile\u001B[0;34m(filename)\u001B[0m\n\u001B[1;32m    120\u001B[0m \u001B[38;5;28;01mtry\u001B[39;00m:\n\u001B[0;32m--> 121\u001B[0m     \u001B[38;5;28;01mwith\u001B[39;00m \u001B[38;5;28;43mopen\u001B[39;49m\u001B[43m(\u001B[49m\u001B[43mfilename\u001B[49m\u001B[43m,\u001B[49m\u001B[43m \u001B[49m\u001B[38;5;124;43m'\u001B[39;49m\u001B[38;5;124;43mr\u001B[39;49m\u001B[38;5;124;43m'\u001B[39;49m\u001B[43m)\u001B[49m \u001B[38;5;28;01mas\u001B[39;00m fp:\n\u001B[1;32m    122\u001B[0m         obj \u001B[38;5;241m=\u001B[39m json\u001B[38;5;241m.\u001B[39mload(fp)\n",
      "\u001B[0;31mFileNotFoundError\u001B[0m: [Errno 2] No such file or directory: 'client_secrets.json'",
      "\nDuring handling of the above exception, another exception occurred:\n",
      "\u001B[0;31mInvalidClientSecretsError\u001B[0m                 Traceback (most recent call last)",
      "File \u001B[0;32m/usr/local/lib/python3.9/dist-packages/pydrive/auth.py:386\u001B[0m, in \u001B[0;36mGoogleAuth.LoadClientConfigFile\u001B[0;34m(self, client_config_file)\u001B[0m\n\u001B[1;32m    385\u001B[0m \u001B[38;5;28;01mtry\u001B[39;00m:\n\u001B[0;32m--> 386\u001B[0m   client_type, client_info \u001B[38;5;241m=\u001B[39m \u001B[43mclientsecrets\u001B[49m\u001B[38;5;241;43m.\u001B[39;49m\u001B[43mloadfile\u001B[49m\u001B[43m(\u001B[49m\u001B[43mclient_config_file\u001B[49m\u001B[43m)\u001B[49m\n\u001B[1;32m    387\u001B[0m \u001B[38;5;28;01mexcept\u001B[39;00m clientsecrets\u001B[38;5;241m.\u001B[39mInvalidClientSecretsError \u001B[38;5;28;01mas\u001B[39;00m error:\n",
      "File \u001B[0;32m/usr/local/lib/python3.9/dist-packages/oauth2client/clientsecrets.py:165\u001B[0m, in \u001B[0;36mloadfile\u001B[0;34m(filename, cache)\u001B[0m\n\u001B[1;32m    164\u001B[0m \u001B[38;5;28;01mif\u001B[39;00m \u001B[38;5;129;01mnot\u001B[39;00m cache:\n\u001B[0;32m--> 165\u001B[0m     \u001B[38;5;28;01mreturn\u001B[39;00m \u001B[43m_loadfile\u001B[49m\u001B[43m(\u001B[49m\u001B[43mfilename\u001B[49m\u001B[43m)\u001B[49m\n\u001B[1;32m    167\u001B[0m obj \u001B[38;5;241m=\u001B[39m cache\u001B[38;5;241m.\u001B[39mget(filename, namespace\u001B[38;5;241m=\u001B[39m_SECRET_NAMESPACE)\n",
      "File \u001B[0;32m/usr/local/lib/python3.9/dist-packages/oauth2client/clientsecrets.py:124\u001B[0m, in \u001B[0;36m_loadfile\u001B[0;34m(filename)\u001B[0m\n\u001B[1;32m    123\u001B[0m \u001B[38;5;28;01mexcept\u001B[39;00m \u001B[38;5;167;01mIOError\u001B[39;00m \u001B[38;5;28;01mas\u001B[39;00m exc:\n\u001B[0;32m--> 124\u001B[0m     \u001B[38;5;28;01mraise\u001B[39;00m InvalidClientSecretsError(\u001B[38;5;124m'\u001B[39m\u001B[38;5;124mError opening file\u001B[39m\u001B[38;5;124m'\u001B[39m, exc\u001B[38;5;241m.\u001B[39mfilename,\n\u001B[1;32m    125\u001B[0m                                     exc\u001B[38;5;241m.\u001B[39mstrerror, exc\u001B[38;5;241m.\u001B[39merrno)\n\u001B[1;32m    126\u001B[0m \u001B[38;5;28;01mreturn\u001B[39;00m _validate_clientsecrets(obj)\n",
      "\u001B[0;31mInvalidClientSecretsError\u001B[0m: ('Error opening file', 'client_secrets.json', 'No such file or directory', 2)",
      "\nDuring handling of the above exception, another exception occurred:\n",
      "\u001B[0;31mInvalidConfigError\u001B[0m                        Traceback (most recent call last)",
      "Input \u001B[0;32mIn [134]\u001B[0m, in \u001B[0;36m<cell line: 4>\u001B[0;34m()\u001B[0m\n\u001B[1;32m      1\u001B[0m \u001B[38;5;28;01mfrom\u001B[39;00m \u001B[38;5;21;01mpydrive\u001B[39;00m\u001B[38;5;21;01m.\u001B[39;00m\u001B[38;5;21;01mauth\u001B[39;00m \u001B[38;5;28;01mimport\u001B[39;00m GoogleAuth\n\u001B[1;32m      3\u001B[0m gauth \u001B[38;5;241m=\u001B[39m GoogleAuth()\n\u001B[0;32m----> 4\u001B[0m \u001B[43mgauth\u001B[49m\u001B[38;5;241;43m.\u001B[39;49m\u001B[43mLocalWebserverAuth\u001B[49m\u001B[43m(\u001B[49m\u001B[43m)\u001B[49m\n",
      "File \u001B[0;32m/usr/local/lib/python3.9/dist-packages/pydrive/auth.py:113\u001B[0m, in \u001B[0;36mCheckAuth.<locals>._decorated\u001B[0;34m(self, *args, **kwargs)\u001B[0m\n\u001B[1;32m    111\u001B[0m   \u001B[38;5;28mself\u001B[39m\u001B[38;5;241m.\u001B[39mLoadCredentials()\n\u001B[1;32m    112\u001B[0m \u001B[38;5;28;01mif\u001B[39;00m \u001B[38;5;28mself\u001B[39m\u001B[38;5;241m.\u001B[39mflow \u001B[38;5;129;01mis\u001B[39;00m \u001B[38;5;28;01mNone\u001B[39;00m:\n\u001B[0;32m--> 113\u001B[0m   \u001B[38;5;28;43mself\u001B[39;49m\u001B[38;5;241;43m.\u001B[39;49m\u001B[43mGetFlow\u001B[49m\u001B[43m(\u001B[49m\u001B[43m)\u001B[49m\n\u001B[1;32m    114\u001B[0m \u001B[38;5;28;01mif\u001B[39;00m \u001B[38;5;28mself\u001B[39m\u001B[38;5;241m.\u001B[39mcredentials \u001B[38;5;129;01mis\u001B[39;00m \u001B[38;5;28;01mNone\u001B[39;00m:\n\u001B[1;32m    115\u001B[0m   code \u001B[38;5;241m=\u001B[39m decoratee(\u001B[38;5;28mself\u001B[39m, \u001B[38;5;241m*\u001B[39margs, \u001B[38;5;241m*\u001B[39m\u001B[38;5;241m*\u001B[39mkwargs)\n",
      "File \u001B[0;32m/usr/local/lib/python3.9/dist-packages/pydrive/auth.py:443\u001B[0m, in \u001B[0;36mGoogleAuth.GetFlow\u001B[0;34m(self)\u001B[0m\n\u001B[1;32m    437\u001B[0m \u001B[38;5;124;03m\"\"\"Gets Flow object from client configuration.\u001B[39;00m\n\u001B[1;32m    438\u001B[0m \n\u001B[1;32m    439\u001B[0m \u001B[38;5;124;03m:raises: InvalidConfigError\u001B[39;00m\n\u001B[1;32m    440\u001B[0m \u001B[38;5;124;03m\"\"\"\u001B[39;00m\n\u001B[1;32m    441\u001B[0m \u001B[38;5;28;01mif\u001B[39;00m \u001B[38;5;129;01mnot\u001B[39;00m \u001B[38;5;28mall\u001B[39m(config \u001B[38;5;129;01min\u001B[39;00m \u001B[38;5;28mself\u001B[39m\u001B[38;5;241m.\u001B[39mclient_config \\\n\u001B[1;32m    442\u001B[0m            \u001B[38;5;28;01mfor\u001B[39;00m config \u001B[38;5;129;01min\u001B[39;00m \u001B[38;5;28mself\u001B[39m\u001B[38;5;241m.\u001B[39mCLIENT_CONFIGS_LIST):\n\u001B[0;32m--> 443\u001B[0m   \u001B[38;5;28;43mself\u001B[39;49m\u001B[38;5;241;43m.\u001B[39;49m\u001B[43mLoadClientConfig\u001B[49m\u001B[43m(\u001B[49m\u001B[43m)\u001B[49m\n\u001B[1;32m    444\u001B[0m constructor_kwargs \u001B[38;5;241m=\u001B[39m {\n\u001B[1;32m    445\u001B[0m     \u001B[38;5;124m'\u001B[39m\u001B[38;5;124mredirect_uri\u001B[39m\u001B[38;5;124m'\u001B[39m: \u001B[38;5;28mself\u001B[39m\u001B[38;5;241m.\u001B[39mclient_config[\u001B[38;5;124m'\u001B[39m\u001B[38;5;124mredirect_uri\u001B[39m\u001B[38;5;124m'\u001B[39m],\n\u001B[1;32m    446\u001B[0m     \u001B[38;5;124m'\u001B[39m\u001B[38;5;124mauth_uri\u001B[39m\u001B[38;5;124m'\u001B[39m: \u001B[38;5;28mself\u001B[39m\u001B[38;5;241m.\u001B[39mclient_config[\u001B[38;5;124m'\u001B[39m\u001B[38;5;124mauth_uri\u001B[39m\u001B[38;5;124m'\u001B[39m],\n\u001B[1;32m    447\u001B[0m     \u001B[38;5;124m'\u001B[39m\u001B[38;5;124mtoken_uri\u001B[39m\u001B[38;5;124m'\u001B[39m: \u001B[38;5;28mself\u001B[39m\u001B[38;5;241m.\u001B[39mclient_config[\u001B[38;5;124m'\u001B[39m\u001B[38;5;124mtoken_uri\u001B[39m\u001B[38;5;124m'\u001B[39m],\n\u001B[1;32m    448\u001B[0m }\n\u001B[1;32m    449\u001B[0m \u001B[38;5;28;01mif\u001B[39;00m \u001B[38;5;28mself\u001B[39m\u001B[38;5;241m.\u001B[39mclient_config[\u001B[38;5;124m'\u001B[39m\u001B[38;5;124mrevoke_uri\u001B[39m\u001B[38;5;124m'\u001B[39m] \u001B[38;5;129;01mis\u001B[39;00m \u001B[38;5;129;01mnot\u001B[39;00m \u001B[38;5;28;01mNone\u001B[39;00m:\n",
      "File \u001B[0;32m/usr/local/lib/python3.9/dist-packages/pydrive/auth.py:366\u001B[0m, in \u001B[0;36mGoogleAuth.LoadClientConfig\u001B[0;34m(self, backend)\u001B[0m\n\u001B[1;32m    364\u001B[0m     \u001B[38;5;28;01mraise\u001B[39;00m InvalidConfigError(\u001B[38;5;124m'\u001B[39m\u001B[38;5;124mPlease specify client config backend\u001B[39m\u001B[38;5;124m'\u001B[39m)\n\u001B[1;32m    365\u001B[0m \u001B[38;5;28;01mif\u001B[39;00m backend \u001B[38;5;241m==\u001B[39m \u001B[38;5;124m'\u001B[39m\u001B[38;5;124mfile\u001B[39m\u001B[38;5;124m'\u001B[39m:\n\u001B[0;32m--> 366\u001B[0m   \u001B[38;5;28;43mself\u001B[39;49m\u001B[38;5;241;43m.\u001B[39;49m\u001B[43mLoadClientConfigFile\u001B[49m\u001B[43m(\u001B[49m\u001B[43m)\u001B[49m\n\u001B[1;32m    367\u001B[0m \u001B[38;5;28;01melif\u001B[39;00m backend \u001B[38;5;241m==\u001B[39m \u001B[38;5;124m'\u001B[39m\u001B[38;5;124msettings\u001B[39m\u001B[38;5;124m'\u001B[39m:\n\u001B[1;32m    368\u001B[0m   \u001B[38;5;28mself\u001B[39m\u001B[38;5;241m.\u001B[39mLoadClientConfigSettings()\n",
      "File \u001B[0;32m/usr/local/lib/python3.9/dist-packages/pydrive/auth.py:388\u001B[0m, in \u001B[0;36mGoogleAuth.LoadClientConfigFile\u001B[0;34m(self, client_config_file)\u001B[0m\n\u001B[1;32m    386\u001B[0m   client_type, client_info \u001B[38;5;241m=\u001B[39m clientsecrets\u001B[38;5;241m.\u001B[39mloadfile(client_config_file)\n\u001B[1;32m    387\u001B[0m \u001B[38;5;28;01mexcept\u001B[39;00m clientsecrets\u001B[38;5;241m.\u001B[39mInvalidClientSecretsError \u001B[38;5;28;01mas\u001B[39;00m error:\n\u001B[0;32m--> 388\u001B[0m   \u001B[38;5;28;01mraise\u001B[39;00m InvalidConfigError(\u001B[38;5;124m'\u001B[39m\u001B[38;5;124mInvalid client secrets file \u001B[39m\u001B[38;5;132;01m%s\u001B[39;00m\u001B[38;5;124m'\u001B[39m \u001B[38;5;241m%\u001B[39m error)\n\u001B[1;32m    389\u001B[0m \u001B[38;5;28;01mif\u001B[39;00m \u001B[38;5;129;01mnot\u001B[39;00m client_type \u001B[38;5;129;01min\u001B[39;00m (clientsecrets\u001B[38;5;241m.\u001B[39mTYPE_WEB,\n\u001B[1;32m    390\u001B[0m                        clientsecrets\u001B[38;5;241m.\u001B[39mTYPE_INSTALLED):\n\u001B[1;32m    391\u001B[0m   \u001B[38;5;28;01mraise\u001B[39;00m InvalidConfigError(\u001B[38;5;124m'\u001B[39m\u001B[38;5;124mUnknown client_type of client config file\u001B[39m\u001B[38;5;124m'\u001B[39m)\n",
      "\u001B[0;31mInvalidConfigError\u001B[0m: Invalid client secrets file ('Error opening file', 'client_secrets.json', 'No such file or directory', 2)"
     ]
    }
   ],
   "source": [
    "!pip install -U -q PyDrive\n",
    "from pydrive.auth import GoogleAuth\n",
    "from pydrive.drive import GoogleDrive\n",
    "from oauth2client.client import GoogleCredentials\n",
    "\n",
    "# Authenticate and create the PyDrive client.\n",
    "# This only needs to be done once per notebook.\n",
    "gauth = GoogleAuth()\n",
    "gauth.credentials = GoogleCredentials.get_application_default()\n",
    "drive = GoogleDrive(gauth)"
   ],
   "metadata": {
    "collapsed": false
   }
  },
  {
   "cell_type": "code",
   "execution_count": 138,
   "outputs": [
    {
     "name": "stdout",
     "output_type": "stream",
     "text": [
      "Requirement already satisfied: pip in /usr/local/lib/python3.9/dist-packages (22.3)\r\n",
      "\u001B[33mWARNING: Running pip as the 'root' user can result in broken permissions and conflicting behaviour with the system package manager. It is recommended to use a virtual environment instead: https://pip.pypa.io/warnings/venv\u001B[0m\u001B[33m\r\n",
      "\u001B[0mCollecting PyDrive2\r\n",
      "  Cloning https://github.com/iterative/PyDrive2.git to /tmp/pip-install-nnkwnvta/pydrive2_8415bf69eea741fda0fbdfe71df4549c\r\n",
      "  Running command git clone --filter=blob:none --quiet https://github.com/iterative/PyDrive2.git /tmp/pip-install-nnkwnvta/pydrive2_8415bf69eea741fda0fbdfe71df4549c\r\n",
      "  Resolved https://github.com/iterative/PyDrive2.git to commit b700387d05b4ef853607bc54ce0561d571456fc6\r\n",
      "  Installing build dependencies ... \u001B[?25ldone\r\n",
      "\u001B[33m  WARNING: Missing build requirements in pyproject.toml for PyDrive2 from git+https://github.com/iterative/PyDrive2.git#egg=PyDrive2.\u001B[0m\u001B[33m\r\n",
      "\u001B[0m\u001B[33m  WARNING: The project does not specify a build backend, and pip cannot fall back to setuptools without 'wheel'.\u001B[0m\u001B[33m\r\n",
      "\u001B[0m\u001B[?25h  Getting requirements to build wheel ... \u001B[?25ldone\r\n",
      "\u001B[?25h  Installing backend dependencies ... \u001B[?25ldone\r\n",
      "\u001B[?25h  Preparing metadata (pyproject.toml) ... \u001B[?25ldone\r\n",
      "\u001B[?25hRequirement already satisfied: google-api-python-client>=1.12.5 in /usr/local/lib/python3.9/dist-packages (from PyDrive2) (2.65.0)\r\n",
      "Requirement already satisfied: pyOpenSSL>=19.1.0 in /usr/local/lib/python3.9/dist-packages (from PyDrive2) (22.1.0)\r\n",
      "Requirement already satisfied: PyYAML>=3.0 in /usr/local/lib/python3.9/dist-packages (from PyDrive2) (5.4.1)\r\n",
      "Requirement already satisfied: oauth2client>=4.0.0 in /usr/local/lib/python3.9/dist-packages (from PyDrive2) (4.1.3)\r\n",
      "Requirement already satisfied: httplib2<1dev,>=0.15.0 in /usr/local/lib/python3.9/dist-packages (from google-api-python-client>=1.12.5->PyDrive2) (0.20.4)\r\n",
      "Requirement already satisfied: google-auth<3.0.0dev,>=1.19.0 in /usr/local/lib/python3.9/dist-packages (from google-api-python-client>=1.12.5->PyDrive2) (2.9.0)\r\n",
      "Requirement already satisfied: uritemplate<5,>=3.0.1 in /usr/local/lib/python3.9/dist-packages (from google-api-python-client>=1.12.5->PyDrive2) (4.1.1)\r\n",
      "Requirement already satisfied: google-auth-httplib2>=0.1.0 in /usr/local/lib/python3.9/dist-packages (from google-api-python-client>=1.12.5->PyDrive2) (0.1.0)\r\n",
      "Requirement already satisfied: google-api-core!=2.0.*,!=2.1.*,!=2.2.*,!=2.3.0,<3.0.0dev,>=1.31.5 in /usr/local/lib/python3.9/dist-packages (from google-api-python-client>=1.12.5->PyDrive2) (2.10.2)\r\n",
      "Requirement already satisfied: pyasn1-modules>=0.0.5 in /usr/local/lib/python3.9/dist-packages (from oauth2client>=4.0.0->PyDrive2) (0.2.8)\r\n",
      "Requirement already satisfied: six>=1.6.1 in /usr/lib/python3/dist-packages (from oauth2client>=4.0.0->PyDrive2) (1.14.0)\r\n",
      "Requirement already satisfied: pyasn1>=0.1.7 in /usr/local/lib/python3.9/dist-packages (from oauth2client>=4.0.0->PyDrive2) (0.4.8)\r\n",
      "Requirement already satisfied: rsa>=3.1.4 in /usr/lib/python3/dist-packages (from oauth2client>=4.0.0->PyDrive2) (4.0)\r\n",
      "Requirement already satisfied: cryptography<39,>=38.0.0 in /usr/local/lib/python3.9/dist-packages (from pyOpenSSL>=19.1.0->PyDrive2) (38.0.1)\r\n",
      "Requirement already satisfied: cffi>=1.12 in /usr/local/lib/python3.9/dist-packages (from cryptography<39,>=38.0.0->pyOpenSSL>=19.1.0->PyDrive2) (1.15.1)\r\n",
      "Requirement already satisfied: requests<3.0.0dev,>=2.18.0 in /usr/local/lib/python3.9/dist-packages (from google-api-core!=2.0.*,!=2.1.*,!=2.2.*,!=2.3.0,<3.0.0dev,>=1.31.5->google-api-python-client>=1.12.5->PyDrive2) (2.28.1)\r\n",
      "Requirement already satisfied: googleapis-common-protos<2.0dev,>=1.56.2 in /usr/local/lib/python3.9/dist-packages (from google-api-core!=2.0.*,!=2.1.*,!=2.2.*,!=2.3.0,<3.0.0dev,>=1.31.5->google-api-python-client>=1.12.5->PyDrive2) (1.56.4)\r\n",
      "Requirement already satisfied: protobuf!=3.20.0,!=3.20.1,!=4.21.0,!=4.21.1,!=4.21.2,!=4.21.3,!=4.21.4,!=4.21.5,<5.0.0dev,>=3.19.5 in /usr/local/lib/python3.9/dist-packages (from google-api-core!=2.0.*,!=2.1.*,!=2.2.*,!=2.3.0,<3.0.0dev,>=1.31.5->google-api-python-client>=1.12.5->PyDrive2) (4.21.8)\r\n",
      "Requirement already satisfied: cachetools<6.0,>=2.0.0 in /usr/local/lib/python3.9/dist-packages (from google-auth<3.0.0dev,>=1.19.0->google-api-python-client>=1.12.5->PyDrive2) (5.2.0)\r\n",
      "Requirement already satisfied: pyparsing!=3.0.0,!=3.0.1,!=3.0.2,!=3.0.3,<4,>=2.4.2 in /usr/local/lib/python3.9/dist-packages (from httplib2<1dev,>=0.15.0->google-api-python-client>=1.12.5->PyDrive2) (3.0.9)\r\n",
      "Requirement already satisfied: pycparser in /usr/local/lib/python3.9/dist-packages (from cffi>=1.12->cryptography<39,>=38.0.0->pyOpenSSL>=19.1.0->PyDrive2) (2.21)\r\n",
      "Requirement already satisfied: urllib3<1.27,>=1.21.1 in /usr/local/lib/python3.9/dist-packages (from requests<3.0.0dev,>=2.18.0->google-api-core!=2.0.*,!=2.1.*,!=2.2.*,!=2.3.0,<3.0.0dev,>=1.31.5->google-api-python-client>=1.12.5->PyDrive2) (1.26.10)\r\n",
      "Requirement already satisfied: idna<4,>=2.5 in /usr/lib/python3/dist-packages (from requests<3.0.0dev,>=2.18.0->google-api-core!=2.0.*,!=2.1.*,!=2.2.*,!=2.3.0,<3.0.0dev,>=1.31.5->google-api-python-client>=1.12.5->PyDrive2) (2.8)\r\n",
      "Requirement already satisfied: charset-normalizer<3,>=2 in /usr/local/lib/python3.9/dist-packages (from requests<3.0.0dev,>=2.18.0->google-api-core!=2.0.*,!=2.1.*,!=2.2.*,!=2.3.0,<3.0.0dev,>=1.31.5->google-api-python-client>=1.12.5->PyDrive2) (2.1.0)\r\n",
      "Requirement already satisfied: certifi>=2017.4.17 in /usr/lib/python3/dist-packages (from requests<3.0.0dev,>=2.18.0->google-api-core!=2.0.*,!=2.1.*,!=2.2.*,!=2.3.0,<3.0.0dev,>=1.31.5->google-api-python-client>=1.12.5->PyDrive2) (2019.11.28)\r\n",
      "Building wheels for collected packages: PyDrive2\r\n",
      "  Building wheel for PyDrive2 (pyproject.toml) ... \u001B[?25ldone\r\n",
      "\u001B[?25h  Created wheel for PyDrive2: filename=PyDrive2-1.14.1.dev13+gb700387-py3-none-any.whl size=43050 sha256=7b516679b4d2593008d1e3325237a64347179664e080ad21635932790ef7070f\r\n",
      "  Stored in directory: /tmp/pip-ephem-wheel-cache-4ugqsw1p/wheels/41/6f/44/c04de0d5ef2b17c80ca47282ce0312c88f7f523b3d418c37fe\r\n",
      "Successfully built PyDrive2\r\n",
      "Installing collected packages: PyDrive2\r\n",
      "  Attempting uninstall: PyDrive2\r\n",
      "    Found existing installation: PyDrive2 1.14.0\r\n",
      "    Uninstalling PyDrive2-1.14.0:\r\n",
      "      Successfully uninstalled PyDrive2-1.14.0\r\n",
      "Successfully installed PyDrive2-1.14.1.dev13+gb700387\r\n",
      "\u001B[33mWARNING: Running pip as the 'root' user can result in broken permissions and conflicting behaviour with the system package manager. It is recommended to use a virtual environment instead: https://pip.pypa.io/warnings/venv\u001B[0m\u001B[33m\r\n",
      "\u001B[0m"
     ]
    }
   ],
   "source": [
    "!pip install --upgrade pip\n",
    "!pip install git+https://github.com/iterative/PyDrive2.git#egg=PyDrive2"
   ],
   "metadata": {
    "collapsed": false
   }
  }
 ],
 "metadata": {
  "kernelspec": {
   "display_name": "Python 3 (ipykernel)",
   "language": "python",
   "name": "python3"
  },
  "language_info": {
   "codemirror_mode": {
    "name": "ipython",
    "version": 3
   },
   "file_extension": ".py",
   "mimetype": "text/x-python",
   "name": "python",
   "nbconvert_exporter": "python",
   "pygments_lexer": "ipython3",
   "version": "3.8.11"
  }
 },
 "nbformat": 4,
 "nbformat_minor": 1
}
